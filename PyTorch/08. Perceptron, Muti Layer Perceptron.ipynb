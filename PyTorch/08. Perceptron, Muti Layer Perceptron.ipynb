{
 "cells": [
  {
   "cell_type": "markdown",
   "metadata": {},
   "source": [
    "### Perceptron - XOR"
   ]
  },
  {
   "cell_type": "code",
   "execution_count": 7,
   "metadata": {},
   "outputs": [
    {
     "name": "stdout",
     "output_type": "stream",
     "text": [
      "0 0.7143567800521851\n",
      "100 0.6931473016738892\n",
      "200 0.6931471824645996\n",
      "300 0.6931471824645996\n",
      "400 0.6931471824645996\n",
      "500 0.6931471824645996\n",
      "600 0.6931471824645996\n",
      "700 0.6931471824645996\n",
      "800 0.6931471824645996\n",
      "900 0.6931471824645996\n"
     ]
    }
   ],
   "source": [
    "import torch\n",
    "\n",
    "device = torch.device('cpu')\n",
    "x = torch.FloatTensor([[0,0],[0,1],[1,0],[1,1]]).to(device)\n",
    "y = torch.FloatTensor([[0],[1],[1],[0]]).to(device)\n",
    "\n",
    "# nn Layers\n",
    "linear = torch.nn.Linear(2,1, bias =True)\n",
    "sigmoid = torch.nn.Sigmoid()\n",
    "model = torch.nn.Sequential(linear,sigmoid).to(device)\n",
    "\n",
    "# cost, loss , optimizer \n",
    "criterion = torch.nn.BCELoss().to(device)  # 0,1  분류모델이므로 binary cross_entropy loss 사용\n",
    "optimizer= torch.optim.SGD(model.parameters(), lr=1)\n",
    "\n",
    "# train\n",
    "for step in range(1000):\n",
    "    optimizer.zero_grad()\n",
    "    hypothesis = model(x)\n",
    "    \n",
    "    # cost, loss function\n",
    "    cost = criterion(hypothesis, y)\n",
    "    cost.backward()\n",
    "    optimizer.step()\n",
    "    if step % 100 == 0:\n",
    "        print(step, cost.item())"
   ]
  },
  {
   "cell_type": "code",
   "execution_count": 9,
   "metadata": {},
   "outputs": [
    {
     "name": "stdout",
     "output_type": "stream",
     "text": [
      "tensor([[0.5000],\n",
      "        [0.5000],\n",
      "        [0.5000],\n",
      "        [0.5000]], grad_fn=<SigmoidBackward>)\n",
      "tensor([[0.],\n",
      "        [1.],\n",
      "        [1.],\n",
      "        [0.]])\n"
     ]
    }
   ],
   "source": [
    "print(hypothesis)\n",
    "print(y)"
   ]
  },
  {
   "cell_type": "markdown",
   "metadata": {},
   "source": [
    "### Muti Layer Perceptron\n",
    "\n",
    "- 여러개의 층을 가지는 perceptron\n",
    "- 과거에는 Muti Layer Perceptron 를 학습할 수 있는 방법이 없었으나, Backpropagation 알고리즘이 개발되면서, Muti Layer model 에 대해서도 학습할 수 있게 되었다.  \n",
    "\n",
    "- Backpropagation 이란, 어떤 입력 X 가 들어왔을 때 neural network을 통해서 output y를 구하게 되는데, 이 output과 원래 정답인 G(t)간의 차이인 cost(loss)에 대해서 neural network에 있는 weight 들에 대한 미분값을 계산하는 것이다. gradient를 가지고 뒷단에 있는 weight부터 loss를 최소화할 수 있도록 weight를 업데이트하는 방식\n"
   ]
  },
  {
   "cell_type": "code",
   "execution_count": 21,
   "metadata": {},
   "outputs": [],
   "source": [
    "# 역전파를 직접 구현하는 코드\n",
    "\n",
    "device = torch.device('cpu')\n",
    "x = torch.FloatTensor([[0,0],[0,1],[1,0],[1,1]]).to(device)\n",
    "y = torch.FloatTensor([[0],[1],[1],[0]]).to(device)\n",
    "\n",
    "# nn Layers\n",
    "# torch.nn.Linear를 안쓰고, weight, bias를 직접선언 해준다.\n",
    "# 직접하는 이유는, 역전파를 직접 확인해 보기위해서\n",
    "w1 = torch.Tensor(2,2).to(device)\n",
    "b1 = torch.Tensor(2).to(device)\n",
    "w2 = torch.Tensor(2,1).to(device)\n",
    "b2 = torch.Tensor(1).to(device)\n",
    "\n",
    "\n",
    "def sigmoid(x):\n",
    "    return 1.0 / (1.0 + torch.exp(-x))\n",
    "#     teturn torch.div(torch.tensor(1), torch.add(torch.tensor(1.0), torch.exp(-x)))\n",
    "\n",
    "# sigmoid 를 미분했을 때 아래와 같은 형태를 가짐\n",
    "def sigmoid_prime(x):\n",
    "    return sigmoid(x) * (1- sigmoid(x))\n",
    "\n",
    "# 학습\n",
    "for step in range(10001):\n",
    "    # forward\n",
    "    l1 = torch.add(torch.matmul(x, w1),b1)\n",
    "    a1 = sigmoid(l1)\n",
    "    l2 = torch.add(torch.matmul(a1, w2), b2)\n",
    "    y_pred = sigmoid(l2)\n",
    "    \n",
    "    # 아래의 cost 는 binary_cross_entropy loss \n",
    "    cost= -torch.mean(y * torch.log(y_pred) + (1-y) * torch.log(1-y_pred))\n",
    "    \n",
    "    \n",
    "    # backprop (chain rule)  -> nn.backward로 한줄로 해결가능해짐! \n",
    "    \n",
    "    #loss derivative\n",
    "    \n",
    "    # 아래의 식은 binary_cross entropy 를 미분한 식 \n",
    "    # 1e-7은 0으로 나누어지는 것을 막기위한 것 \n",
    "    d_y_pred = (y_pred - y) / (y_pred* (1.0- y_pred) + 1e-7)\n",
    "    \n",
    "    # layer 2\n",
    "    d_l2 = d_y_pred * sigmoid_prime(l2)\n",
    "    d_b2 = d_l2\n",
    "    d_w2 = torch.matmul(torch.transpose(a1, 0, 1), d_b2)\n",
    "    \n",
    "    # layer1\n",
    "    # 역전파를 위와 같은 방식으로 구해줌\n",
    "    # transpose : 축을 지정해서, 두개의 값을 swap시켜라 라는 의미\n",
    "    # matmul : 행렬 곱 \n",
    "    d_a1 = torch.matmul(d_b2, torch.transpose(w2, 0, 1))\n",
    "    d_l1 = d_a1 * sigmoid_prime(l1)\n",
    "    d_b1 = d_l1\n",
    "    d_w1 = torch.matmul(torch.transpose(x, 0, 1), d_b1)\n",
    "    \n",
    "    learning_rate = 1e-1\n",
    "    \n",
    "    # ------------------------------------------------------\n",
    "    # weight, bias update 하는 코드  -> step 으로 한방에 해결 가능 \n",
    "    \n",
    "    # 기존의 weight에 역전파 weight * lr 을 곱해서 빼준다.\n",
    "    # 아래는 gradient descent minimize를 시키는 경우고\n",
    "    # 만약에 gradient ascent를 시키려면 + 로 바꿔준다.\n",
    "    # 하지만, 보통은 minimize시키는 task이기 때문에 일반적으로 -라고 생각하면 된다.\n",
    "    w1 = w1 - learning_rate * d_w1\n",
    "    b1 = b1 - learning_rate * torch.mean(d_b1, 0)\n",
    "    w2 = w2 - learning_rate * d_w2\n",
    "    b2 = b2 - learning_rate * torch.mean(d_b2, 0)\n",
    "    \n",
    "    if step % 1000 == 0:\n",
    "        print(step, cost.item())"
   ]
  },
  {
   "cell_type": "code",
   "execution_count": 30,
   "metadata": {},
   "outputs": [
    {
     "name": "stdout",
     "output_type": "stream",
     "text": [
      "0 0.7253798842430115\n",
      "1000 0.019564880058169365\n",
      "2000 0.006432583089917898\n",
      "3000 0.003814517520368099\n",
      "4000 0.0027047311887145042\n",
      "5000 0.0020930441096425056\n",
      "6000 0.0017060471000149846\n",
      "7000 0.0014393834862858057\n",
      "8000 0.0012445244938135147\n",
      "9000 0.0010959478095173836\n",
      "10000 0.0009789550676941872\n"
     ]
    }
   ],
   "source": [
    "# 기존의 torch.nn 으로 역전파 구하는 코드\n",
    "\n",
    "device = torch.device('cpu')\n",
    "x = torch.FloatTensor([[0,0],[0,1],[1,0],[1,1]]).to(device)\n",
    "y = torch.FloatTensor([[0],[1],[1],[0]]).to(device)\n",
    "\n",
    "# nn Layers\n",
    "linear1 = torch.nn.Linear(2,2, bias=True)\n",
    "linear2 = torch.nn.Linear(2,1, bias=True)\n",
    "sigmoid = torch.nn.Sigmoid()\n",
    "model = torch.nn.Sequential(linear1, sigmoid, linear2, sigmoid).to(device)\n",
    "\n",
    "criterion = torch.nn.BCELoss().to(device)\n",
    "optimizer = torch.optim.SGD(model.parameters(), lr=1)\n",
    "\n",
    "for step in range(10001):\n",
    "    optimizer.zero_grad()  #  gradients를 clear해서 새로운 최적화 값을 찾기 위해 준비\n",
    "    hypothesis = model(x)   # 준비한 데이터를 model 에 input 으로 넣어 output을 얻음\n",
    "                            # # 이후, model에 넣어줌 keras는 보통 perdict , torch는 output이라 보통 씀\n",
    "    cost = criterion(hypothesis, y)  # Model 에서 예측한 결과를 Loss Functoon 에 넣음\n",
    "    cost.backward()             # Back Propagation을 통해 Gradients를 계산\n",
    "    optimizer.step()            # 계산된 Gradients는 계산한 것으로 마무리 되는 것이 아니라 , Parameter 에 Update\n",
    "    if step % 1000 == 0:\n",
    "        print(step, cost.item())"
   ]
  },
  {
   "cell_type": "code",
   "execution_count": 31,
   "metadata": {},
   "outputs": [
    {
     "name": "stdout",
     "output_type": "stream",
     "text": [
      "tensor([[0.0011],\n",
      "        [0.9991],\n",
      "        [0.9991],\n",
      "        [0.0010]], grad_fn=<SigmoidBackward>)\n",
      "tensor([[0.],\n",
      "        [1.],\n",
      "        [1.],\n",
      "        [0.]])\n"
     ]
    }
   ],
   "source": [
    "print(hypothesis)\n",
    "print(y)"
   ]
  }
 ],
 "metadata": {
  "kernelspec": {
   "display_name": "Python 3",
   "language": "python",
   "name": "python3"
  },
  "language_info": {
   "codemirror_mode": {
    "name": "ipython",
    "version": 3
   },
   "file_extension": ".py",
   "mimetype": "text/x-python",
   "name": "python",
   "nbconvert_exporter": "python",
   "pygments_lexer": "ipython3",
   "version": "3.7.6"
  }
 },
 "nbformat": 4,
 "nbformat_minor": 4
}

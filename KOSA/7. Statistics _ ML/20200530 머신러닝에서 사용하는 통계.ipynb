{
 "cells": [
  {
   "cell_type": "markdown",
   "metadata": {},
   "source": [
    "- https://numpy.org/doc/stable/reference/random/generator.html"
   ]
  },
  {
   "cell_type": "code",
   "execution_count": 1,
   "metadata": {},
   "outputs": [],
   "source": [
    "import numpy as np\n",
    "import matplotlib.pyplot as plt\n",
    "%matplotlib inline"
   ]
  },
  {
   "cell_type": "markdown",
   "metadata": {},
   "source": [
    "### 이산형 확률 변수"
   ]
  },
  {
   "cell_type": "markdown",
   "metadata": {},
   "source": [
    "####  이항 분포 np.random.binomial(n,p[,size]) n번의 시도에 p 번의 가능성\n",
    "\n",
    "- n = 10, p = 0.5 , size = 500 \n",
    "- n : 독립적 시행 횟수 \n",
    "- p : 각 시행이 가질 확률\n",
    "- size : 갯수(난수 발생) n 을 몇번 발생하냐. \n",
    "- 0.5의 확률로 10번을 던지는데 , 그 행위를 500 해라"
   ]
  },
  {
   "cell_type": "code",
   "execution_count": 2,
   "metadata": {},
   "outputs": [
    {
     "data": {
      "text/plain": [
       "array([6, 6, 3, 2, 3, 7, 2, 3, 6, 4, 5, 5, 6, 6, 5, 2, 2, 4, 4, 7, 4, 6,\n",
       "       6, 5, 2, 6, 7, 5, 6, 4, 5, 6, 6, 7, 5, 6, 8, 1, 7, 5, 6, 6, 6, 8,\n",
       "       6, 5, 3, 3, 7, 5, 4, 3, 4, 5, 4, 4, 4, 3, 4, 6, 3, 5, 7, 8, 5, 4,\n",
       "       5, 3, 4, 5, 7, 4, 5, 5, 4, 7, 3, 3, 4, 5, 4, 5, 4, 4, 6, 2, 4, 6,\n",
       "       1, 5, 6, 3, 5, 5, 5, 5, 6, 3, 7, 3])"
      ]
     },
     "execution_count": 2,
     "metadata": {},
     "output_type": "execute_result"
    }
   ],
   "source": [
    "binomial_x =  np.random.binomial(10, 0.5, 100)\n",
    "binomial_x"
   ]
  },
  {
   "cell_type": "code",
   "execution_count": 3,
   "metadata": {},
   "outputs": [
    {
     "data": {
      "image/png": "[encoded data removed]",
      "text/plain": [
       "<Figure size 432x288 with 1 Axes>"
      ]
     },
     "metadata": {
      "needs_background": "light"
     },
     "output_type": "display_data"
    }
   ],
   "source": [
    "plt.hist(binomial_x, bins=20 ) # bins 띄어주기\n",
    "plt.show()\n",
    "\n",
    "# 앞면이 10번했더니 한번나오는 경우, 2번 나온경우, 3번나오는 경우의 총 500번 수!"
   ]
  },
  {
   "cell_type": "markdown",
   "metadata": {},
   "source": [
    "#### 베르누이 분포\n",
    "- np.random.binomial(n=1, p[,size] )\n",
    "- 이항분포에서 n = 1 이면 베르누이 결과가 나옴. \n",
    "- 이항분포의 결과중 하나라고 생각하면 됨. "
   ]
  },
  {
   "cell_type": "code",
   "execution_count": 4,
   "metadata": {},
   "outputs": [
    {
     "name": "stdout",
     "output_type": "stream",
     "text": [
      "[1 0 0 1 1 1 1 1 0 0 1 1 1 0 0 1 1 1 0 0 0 0 1 1 1 1 0 0 1 1 1 1 1 1 1 0 0\n",
      " 1 0 0 1 0 0 0 1 0 1 0 1 0 0 1 0 0 1 1 1 0 1 0 0 0 0 1 0 0 0 0 0 0 0 1 1 1\n",
      " 1 0 0 1 1 0 0 1 1 1 0 0 1 0 1 0 0 1 0 0 1 0 1 0 0 1 0 0 1 1 0 1 0 0 1 0 0\n",
      " 0 1 1 0 1 1 0 1 0 0 0 0 0 0 0 1 1 1 1 0 0 0 1 0 0 1 0 0 0 0 0 0 1 1 0 1 0\n",
      " 1 1 0 0 1 0 0 1 1 1 0 0 0 0 1 1 0 0 1 0 0 1 0 1 0 1 0 1 1 1 0 0 1 1 0 1 0\n",
      " 0 0 0 1 0 0 0 1 1 1 0 1 1 0 1 1 0 0 0 0 1 1 0 1 0 0 1 1 0 1 1 1 1 0 0 1 1\n",
      " 1 1 1 0 1 1 0 0 1 1 0 1 0 1 0 1 1 0 1 0 1 1 1 0 1 1 0 1 0 1 1 1 0 1 1 1 0\n",
      " 1 0 1 0 1 1 0 1 0 0 0 0 0 0 0 0 0 0 1 1 1 1 0 1 0 0 1 1 1 1 1 1 1 0 0 1 1\n",
      " 0 1 1 1 1 0 0 0 0 1 1 0 1 1 1 0 1 1 1 0 0 1 1 1 1 1 1 0 0 0 0 1 1 1 1 0 0\n",
      " 1 0 0 1 0 1 1 1 0 0 1 0 0 0 0 0 0 1 0 1 0 0 0 1 1 0 0 1 0 0 0 0 0 0 0 1 1\n",
      " 1 1 1 1 0 0 0 0 1 0 1 0 0 0 1 0 1 0 1 0 0 1 1 1 0 0 0 0 1 1 0 1 0 0 1 0 0\n",
      " 1 0 0 1 0 0 0 1 1 0 0 0 1 1 1 0 1 0 1 1 1 0 0 0 0 1 0 0 0 1 0 1 1 1 1 0 1\n",
      " 1 1 0 1 0 1 1 1 0 0 1 0 1 0 1 0 1 1 0 1 0 0 1 1 1 0 1 0 1 1 0 0 1 1 0 1 1\n",
      " 0 0 1 1 1 1 0 1 1 0 1 0 0 1 1 1 1 1 1]\n"
     ]
    },
    {
     "data": {
      "image/png": "[encoded data removed]",
      "text/plain": [
       "<Figure size 432x288 with 1 Axes>"
      ]
     },
     "metadata": {
      "needs_background": "light"
     },
     "output_type": "display_data"
    }
   ],
   "source": [
    "bern_x =  np.random.binomial(1, 0.5, 500)\n",
    "print(bern_x)\n",
    "plt.hist(bern_x, bins= 50 ) \n",
    "plt.show()"
   ]
  },
  {
   "cell_type": "markdown",
   "metadata": {},
   "source": [
    "#### 기하분포\n",
    "- geometric(p[,size])\n",
    "- 베르누이 분포에서 처음 성공했을 때의 성공한 횟수\n",
    "   ex,  처음 앞면이 나오는 횟수. "
   ]
  },
  {
   "cell_type": "code",
   "execution_count": 5,
   "metadata": {},
   "outputs": [
    {
     "name": "stdout",
     "output_type": "stream",
     "text": [
      "[1 1 1 3 2 4 1 1 4 1 3 1 3 1 2 4 2 4 1 1 1 1 2 2 6 2 2 5 1 1 2 1 2 1 1 1 1\n",
      " 1 2 1 3 3 1 1 3 1 1 3 1 1 5 2 1 2 4 2 3 2 1 1 3 2 2 2 2 2 2 1 2 1 2 1 7 1\n",
      " 2 2 1 1 1 1 2 2 3 2 6 1 1 1 3 2 1 3 3 1 3 1 1 1 1 1 3 1 2 1 2 1 1 1 2 1 2\n",
      " 4 3 2 1 2 1 1 1 1 1 2 1 1 2 1 1 1 1 4 2 5 1 5 3 1 3 1 1 1 1 2 1 2 1 1 2 2\n",
      " 1 2 3 2 1 2 1 2 1 1 2 3 4 3 1 5 1 2 3 2 3 1 2 2 1 1 2 1 3 1 1 1 1 1 1 4 1\n",
      " 2 1 4 3 2 2 1 2 1 4 2 3 1 1 1 2 1 1 1 2 1 7 7 1 1 1 1 2 3 4 5 1 1 2 1 2 1\n",
      " 1 2 5 1 1 2 3 4 1 1 2 2 1 1 6 2 1 1 1 3 4 1 1 8 1 2 2 1 2 1 7 1 1 2 3 1 3\n",
      " 2 1 4 2 2 1 1 2 2 1 1 2 4 1 1 1 2 1 1 3 1 2 3 2 1 1 1 1 4 1 6 1 3 1 1 1 1\n",
      " 2 2 1 1 1 1 2 5 1 2 1 4 1 8 3 1 1 1 2 1 2 1 2 1 2 2 5 2 3 2 1 5 1 2 1 1 1\n",
      " 4 2 1 2 1 1 1 1 3 1 3 8 3 5 1 3 1 2 1 1 4 1 4 2 1 1 2 3 2 2 1 4 1 1 3 1 1\n",
      " 2 1 4 3 6 5 1 1 1 1 2 2 2 1 1 4 1 2 3 1 2 2 2 1 1 5 3 1 1 1 1 1 2 2 1 2 3\n",
      " 1 1 2 1 3 2 2 7 2 3 3 3 3 1 2 3 1 1 1 2 1 5 5 1 1 1 1 1 1 1 4 2 1 2 1 2 1\n",
      " 1 1 2 2 1 3 1 2 2 2 1 2 1 1 1 1 2 2 1 6 2 1 1 1 1 3 4 1 5 1 1 1 1 2 1 1 2\n",
      " 1 1 1 1 6 1 4 1 1 1 1 4 1 1 2 2 1 1 2]\n"
     ]
    },
    {
     "data": {
      "image/png": "[encoded data removed]",
      "text/plain": [
       "<Figure size 432x288 with 1 Axes>"
      ]
     },
     "metadata": {
      "needs_background": "light"
     },
     "output_type": "display_data"
    },
    {
     "data": {
      "text/plain": [
       "((array([255.,   0.,   0.,   0.,   0.,   0.,   0., 132.,   0.,   0.,   0.,\n",
       "           0.,   0.,   0.,  54.,   0.,   0.,   0.,   0.,   0.,   0.,  28.,\n",
       "           0.,   0.,   0.,   0.,   0.,   0.,  16.,   0.,   0.,   0.,   0.,\n",
       "           0.,   0.,   7.,   0.,   0.,   0.,   0.,   0.,   0.,   5.,   0.,\n",
       "           0.,   0.,   0.,   0.,   0.,   3.]),\n",
       "  array([1.  , 1.14, 1.28, 1.42, 1.56, 1.7 , 1.84, 1.98, 2.12, 2.26, 2.4 ,\n",
       "         2.54, 2.68, 2.82, 2.96, 3.1 , 3.24, 3.38, 3.52, 3.66, 3.8 , 3.94,\n",
       "         4.08, 4.22, 4.36, 4.5 , 4.64, 4.78, 4.92, 5.06, 5.2 , 5.34, 5.48,\n",
       "         5.62, 5.76, 5.9 , 6.04, 6.18, 6.32, 6.46, 6.6 , 6.74, 6.88, 7.02,\n",
       "         7.16, 7.3 , 7.44, 7.58, 7.72, 7.86, 8.  ]),\n",
       "  <a list of 50 Patch objects>),\n",
       " None)"
      ]
     },
     "execution_count": 5,
     "metadata": {},
     "output_type": "execute_result"
    }
   ],
   "source": [
    "geom_x = np.random.geometric(p=0.5 , size = 500)\n",
    "print(geom_x)\n",
    "plt.hist(geom_x, bins =50),plt.show()\n",
    "\n",
    "# ex, [ 2,  5,  4, 10,  1,  5,  1,  1,  1,  4,  1,  1,  1,  6,  2,  3,  2] \n",
    "# 두번만에 앞면이 나옴, 5번만에 앞면이 나옴을 의미. "
   ]
  },
  {
   "cell_type": "code",
   "execution_count": 6,
   "metadata": {},
   "outputs": [
    {
     "name": "stdout",
     "output_type": "stream",
     "text": [
      "(array([255., 132.,  54.,   0.,  28.,  16.,   0.,   7.,   5.,   3.]), array([1. , 1.7, 2.4, 3.1, 3.8, 4.5, 5.2, 5.9, 6.6, 7.3, 8. ]), <a list of 10 Patch objects>)\n"
     ]
    },
    {
     "data": {
      "image/png": "[encoded data removed]",
      "text/plain": [
       "<Figure size 432x288 with 1 Axes>"
      ]
     },
     "metadata": {
      "needs_background": "light"
     },
     "output_type": "display_data"
    },
    {
     "name": "stdout",
     "output_type": "stream",
     "text": [
      "[255. 387. 441. 441. 469. 485. 485. 492. 497. 500.]\n"
     ]
    },
    {
     "data": {
      "image/png": "[encoded data removed]",
      "text/plain": [
       "<Figure size 432x288 with 1 Axes>"
      ]
     },
     "metadata": {
      "needs_background": "light"
     },
     "output_type": "display_data"
    }
   ],
   "source": [
    "hist_ = plt.hist(geom_x, bins =10)\n",
    "print(hist_)\n",
    "plt.show()\n",
    "hist_cumsum = np.cumsum(hist_[0])\n",
    "print(hist_cumsum)\n",
    "plt.bar(range(1,11), hist_cumsum)\n",
    "plt.show()"
   ]
  },
  {
   "cell_type": "markdown",
   "metadata": {},
   "source": [
    "#### 다항분포\n",
    "- multinomia(n,pvals[, size])\n",
    "- 통계에서는 pvals 쓸 때는 마지막 항은 안적어도 되지만, 코드에서는 꼭! 적어줘야 한다. "
   ]
  },
  {
   "cell_type": "code",
   "execution_count": 7,
   "metadata": {},
   "outputs": [
    {
     "data": {
      "text/plain": [
       "array([[0, 0, 1, 2, 4, 3],\n",
       "       [1, 1, 3, 2, 1, 2],\n",
       "       [1, 3, 2, 3, 1, 0],\n",
       "       ...,\n",
       "       [2, 1, 0, 4, 1, 2],\n",
       "       [0, 2, 3, 1, 1, 3],\n",
       "       [3, 3, 0, 2, 1, 1]])"
      ]
     },
     "execution_count": 7,
     "metadata": {},
     "output_type": "execute_result"
    }
   ],
   "source": [
    "multinorm_x = np.random.multinomial(10, [1/6, 1/6, 1/6, 1/6, 1/6, 1/6], 500)  \n",
    "multinorm_x"
   ]
  },
  {
   "cell_type": "code",
   "execution_count": 31,
   "metadata": {},
   "outputs": [
    {
     "data": {
      "image/png": "[encoded data removed]",
      "text/plain": [
       "<Figure size 432x288 with 1 Axes>"
      ]
     },
     "metadata": {
      "needs_background": "light"
     },
     "output_type": "display_data"
    }
   ],
   "source": [
    "plt.hist(multinorm_x, bins=10)\n",
    "plt.show()"
   ]
  },
  {
   "cell_type": "code",
   "execution_count": 8,
   "metadata": {},
   "outputs": [
    {
     "data": {
      "text/plain": [
       "array([1, 0, 2, 1, 2, 2, 0, 3, 3, 2, 1, 0, 3, 1, 0, 2, 0, 0, 1, 2, 3, 2,\n",
       "       0, 2, 0, 2, 2, 3, 2, 3, 0, 0, 2, 2, 1, 2, 1, 0, 4, 3, 1, 0, 0, 1,\n",
       "       1, 1, 2, 1, 1, 2, 0, 3, 1, 1, 1, 1, 0, 1, 2, 3, 2, 2, 4, 4, 1, 2,\n",
       "       2, 1, 1, 0, 0, 0, 3, 2, 2, 3, 2, 1, 1, 0, 4, 3, 1, 1, 3, 2, 3, 1,\n",
       "       3, 1, 0, 1, 0, 3, 2, 3, 0, 0, 3, 1, 2, 2, 2, 0, 4, 2, 2, 1, 0, 2,\n",
       "       1, 2, 2, 1, 1, 3, 4, 2, 0, 2, 1, 1, 0, 0, 1, 2, 1, 0, 2, 1, 2, 3,\n",
       "       1, 3, 1, 2, 0, 3, 2, 1, 1, 1, 0, 1, 3, 3, 3, 3, 0, 2, 1, 2, 1, 2,\n",
       "       1, 2, 2, 2, 3, 2, 3, 2, 0, 3, 0, 1, 2, 2, 0, 2, 1, 0, 4, 3, 1, 0,\n",
       "       2, 2, 1, 0, 1, 2, 2, 2, 1, 1, 1, 1, 0, 2, 0, 2, 3, 2, 4, 3, 0, 2,\n",
       "       2, 2, 2, 2, 1, 2, 1, 2, 2, 2, 2, 4, 4, 4, 5, 1, 4, 1, 3, 3, 3, 1,\n",
       "       1, 3, 2, 1, 3, 3, 1, 2, 1, 2, 2, 1, 1, 0, 0, 2, 2, 4, 0, 2, 0, 1,\n",
       "       2, 1, 3, 2, 0, 0, 2, 2, 3, 3, 0, 2, 1, 1, 2, 1, 1, 1, 3, 2, 2, 2,\n",
       "       0, 1, 0, 4, 2, 3, 0, 3, 3, 2, 0, 1, 1, 1, 1, 1, 1, 1, 1, 0, 1, 0,\n",
       "       1, 3, 2, 2, 3, 3, 2, 2, 0, 2, 2, 5, 2, 1, 1, 2, 2, 3, 2, 1, 3, 2,\n",
       "       1, 0, 2, 0, 1, 1, 1, 3, 1, 1, 3, 2, 2, 3, 2, 1, 2, 2, 1, 2, 0, 2,\n",
       "       0, 1, 0, 1, 1, 1, 3, 2, 1, 1, 1, 1, 1, 1, 1, 4, 5, 0, 0, 2, 2, 1,\n",
       "       3, 1, 2, 5, 0, 0, 1, 3, 3, 0, 0, 3, 2, 1, 2, 3, 1, 1, 2, 2, 4, 4,\n",
       "       0, 2, 1, 1, 5, 1, 0, 2, 1, 1, 1, 3, 0, 2, 0, 1, 2, 4, 3, 2, 2, 1,\n",
       "       1, 1, 2, 2, 1, 0, 2, 0, 3, 2, 0, 2, 6, 4, 3, 2, 3, 1, 3, 2, 3, 1,\n",
       "       1, 1, 1, 1, 2, 3, 1, 4, 1, 1, 2, 2, 1, 4, 3, 3, 2, 2, 2, 3, 2, 1,\n",
       "       1, 2, 0, 6, 3, 1, 5, 2, 0, 4, 1, 1, 2, 2, 2, 2, 2, 1, 1, 4, 1, 1,\n",
       "       1, 1, 0, 3, 3, 1, 1, 2, 3, 1, 3, 2, 0, 1, 2, 4, 3, 1, 3, 2, 1, 2,\n",
       "       2, 3, 3, 1, 3, 1, 2, 2, 2, 4, 2, 1, 2, 3, 2, 1])"
      ]
     },
     "execution_count": 8,
     "metadata": {},
     "output_type": "execute_result"
    }
   ],
   "source": [
    "np.random.binomial(10, 1/6, 500)\n",
    "\n",
    "# 이항분포 : 주사위 1이나오고 나머지가 나오냐! 라는 의미\n",
    "# 다항분포 : 각각의 확률이 나오는 것\n",
    "# 두개의 차이를 확인! "
   ]
  },
  {
   "cell_type": "markdown",
   "metadata": {},
   "source": [
    "#### 포아송이 분포\n",
    "- poisson([lam, size])\n",
    "- lam  : 람다값이 필요로 함 : 정해진 시간안에 어떤 사건이 일어날 횟수에 대한 기댓값 \n",
    "         ex, 상담원이 어떤 시간안에 전화를 받는 기댓값 \n"
   ]
  },
  {
   "cell_type": "code",
   "execution_count": 41,
   "metadata": {},
   "outputs": [
    {
     "data": {
      "text/plain": [
       "array([ 2,  6,  3,  1,  5,  2,  1,  5,  3,  0,  3,  3,  5,  6,  3,  3,  6,\n",
       "        3,  4,  5,  3,  9,  2,  0,  1,  7,  2,  2,  4,  6,  5,  7,  5,  3,\n",
       "        2,  4,  5,  5,  9,  5, 10,  3,  4,  3,  7,  1,  7,  3,  3,  5,  5,\n",
       "        4,  5,  3,  5,  6,  3,  2,  1,  4,  4,  6,  5,  3,  4,  3,  3,  5,\n",
       "        4,  2,  5,  5,  2,  1,  3,  6,  4,  6,  6,  2,  0,  4,  4,  4,  3,\n",
       "        5,  1,  4,  4,  5,  4,  4,  3,  2,  5,  8,  2,  6,  1,  4])"
      ]
     },
     "execution_count": 41,
     "metadata": {},
     "output_type": "execute_result"
    }
   ],
   "source": [
    "pois_x = np.random.poisson(lam = 4, size = 100)\n",
    "pois_x"
   ]
  },
  {
   "cell_type": "code",
   "execution_count": 49,
   "metadata": {},
   "outputs": [
    {
     "data": {
      "image/png": "[encoded data removed]",
      "text/plain": [
       "<Figure size 432x288 with 1 Axes>"
      ]
     },
     "metadata": {
      "needs_background": "light"
     },
     "output_type": "display_data"
    }
   ],
   "source": [
    "plt.hist(pois_x, bins=50)\n",
    "plt.show()"
   ]
  },
  {
   "cell_type": "code",
   "execution_count": 50,
   "metadata": {
    "scrolled": true
   },
   "outputs": [
    {
     "data": {
      "text/plain": [
       "array([1, 1, 0, 1, 2, 0, 2, 3, 3, 2, 1, 1, 1, 2, 0, 0, 1, 2, 2, 1, 1, 2,\n",
       "       2, 2, 2, 1, 2, 0, 1, 2, 2, 3, 1, 2, 2, 2, 1, 2, 1, 2, 1, 1, 3, 2,\n",
       "       2, 2, 3, 1, 1, 1, 2, 2, 2, 1, 1, 3, 2, 0, 1, 2, 0, 1, 1, 2, 1, 1,\n",
       "       2, 2, 1, 2, 7, 2, 1, 0, 1, 8, 0, 1, 1, 2, 1, 2, 0, 2, 0, 2, 1, 2,\n",
       "       1, 1, 0, 2, 0, 1, 2, 0, 1, 1, 1, 2])"
      ]
     },
     "execution_count": 50,
     "metadata": {},
     "output_type": "execute_result"
    }
   ],
   "source": [
    "pois_x2 = np.random.poisson(lam = 10*1/6, size = 100)\n",
    "pois_x2\n",
    "\n",
    "\n",
    "# lam은 기댓값이다 그이유는 이항분포의 n* p = 평균이기때문에 .\n",
    "# 주사위를 10번 던졌을 경우 주사위 눈이 1이 나올기댓값은1.67\n",
    "# 이것을 이용해서 포아송이 분포를 따르는 난수 100개 생성 \n",
    "# 그결과 데이터는 1.67 앞뒤로 더 많은 난수가 발생하는 것을 알 수 있음. \n",
    "# 람다 = 이항분포의 n*p\n",
    "# size는 어떻게 분포가 형성될까를 알기위해서! "
   ]
  },
  {
   "cell_type": "code",
   "execution_count": 51,
   "metadata": {},
   "outputs": [
    {
     "data": {
      "image/png": "[encoded data removed]",
      "text/plain": [
       "<Figure size 432x288 with 1 Axes>"
      ]
     },
     "metadata": {
      "needs_background": "light"
     },
     "output_type": "display_data"
    }
   ],
   "source": [
    "plt.hist(pois_x2, bins=50)\n",
    "plt.show()"
   ]
  },
  {
   "cell_type": "markdown",
   "metadata": {},
   "source": [
    "### 연속형 확률 변수"
   ]
  },
  {
   "cell_type": "markdown",
   "metadata": {},
   "source": [
    "####   데이터 예시\n",
    "\n",
    "- 고객의 연봉 데이터가 결측치 일 경우\n",
    "    - 0으로 채우기\n",
    "    - 결측치가 아닌 데이터의 평균으로\n",
    "    - 결측치가 아닌 데이터의 중위수로\n",
    "    - 연령 , 직업별 평균(또는 중위수)으로 \n",
    "    \n",
    "- 결측치가 전체의 20%일 경우\n",
    "    - 변수를 삭제한다\n",
    "    - 위의 방법을 사용한다\n",
    "    - 분포를 확인하고 해당 분포를 따르는 난수를 채운다. \n",
    "    \n",
    "- 각 분포를 난수를 발생하는 함수를 이용해서 분포가 어떻게 되는지 확인함. \n",
    "\n",
    "- 검정 혹은 신뢰구간을 찾을 때 사용. \n",
    "- 내가 사용한 가설이 옳다 틀리다를 사용. \n",
    "- 추정(예측) : 과거에 알려진 값을 추정 / 계산된 결과의 근삿값\n",
    "                모형이 만들어져 있어야 함. 가설 검정\n",
    "- 가설 : 내가 세운 가설을 옳은지 맞는지\n",
    "    - 대립가설 : 연자가 세우는 가설\n",
    "    - 귀무 가설(영가설) : 버릴 목적으로 세우는 가설 \n",
    "   \n",
    "- 연구자가 세운 가설이 옳다는 것을 증명하기 위해, 귀무가설의 기각 영역을 알아본다.\n",
    "- 유의 확률(p-value) 0.05 보다 작으면 귀무가설을 기각\n",
    "- 대립가설을 채택하게 됨. \n",
    "\n",
    "- 유의 확률 : 1종의 오류를 발생할 확률\n",
    "- 1종의 오류 : 귀무가설이 옳은데도 불구하고 기각하는 오류\n",
    "- 2종의 오류 : 귀무가설이 틀린데 채택하는 오류\n",
    "\n",
    "- 이 분포가 어떻게 데이터가 형성되는지 머리속으로 이해해야한다. "
   ]
  },
  {
   "cell_type": "markdown",
   "metadata": {},
   "source": [
    "#### 균일분포\n",
    "- np.random.uniform(low, high, size)\n",
    "- a 부터 b까지 데이터가 균일하게 나와야 해요 라는 의미. "
   ]
  },
  {
   "cell_type": "code",
   "execution_count": 13,
   "metadata": {},
   "outputs": [
    {
     "data": {
      "image/png": "[encoded data removed]",
      "text/plain": [
       "<Figure size 432x288 with 1 Axes>"
      ]
     },
     "metadata": {
      "needs_background": "light"
     },
     "output_type": "display_data"
    }
   ],
   "source": [
    "unif_x = np.random.uniform(low = 0, high=10, size =1000)\n",
    "plt.hist(unif_x, bins = 50)\n",
    "plt.show()"
   ]
  },
  {
   "cell_type": "markdown",
   "metadata": {},
   "source": [
    "#### 정규분포\n",
    "- np.random.normal(loc,scale , size)"
   ]
  },
  {
   "cell_type": "code",
   "execution_count": 14,
   "metadata": {},
   "outputs": [
    {
     "data": {
      "image/png": "[encoded data removed]",
      "text/plain": [
       "<Figure size 432x288 with 1 Axes>"
      ]
     },
     "metadata": {
      "needs_background": "light"
     },
     "output_type": "display_data"
    },
    {
     "data": {
      "text/plain": [
       "((array([ 1.,  0.,  1.,  1.,  0.,  0.,  0.,  0.,  2.,  0.,  5.,  7., 11.,\n",
       "          7., 19., 21., 19., 27., 38., 32., 37., 58., 60., 66., 61., 53.,\n",
       "         68., 59., 61., 42., 52., 35., 36., 22., 11., 24., 13., 12., 12.,\n",
       "         10.,  5.,  4.,  3.,  1.,  1.,  1.,  0.,  0.,  0.,  2.]),\n",
       "  array([-1.92236247, -1.84760775, -1.77285304, -1.69809832, -1.6233436 ,\n",
       "         -1.54858888, -1.47383416, -1.39907944, -1.32432472, -1.24957   ,\n",
       "         -1.17481529, -1.10006057, -1.02530585, -0.95055113, -0.87579641,\n",
       "         -0.80104169, -0.72628697, -0.65153225, -0.57677753, -0.50202282,\n",
       "         -0.4272681 , -0.35251338, -0.27775866, -0.20300394, -0.12824922,\n",
       "         -0.0534945 ,  0.02126022,  0.09601493,  0.17076965,  0.24552437,\n",
       "          0.32027909,  0.39503381,  0.46978853,  0.54454325,  0.61929797,\n",
       "          0.69405268,  0.7688074 ,  0.84356212,  0.91831684,  0.99307156,\n",
       "          1.06782628,  1.142581  ,  1.21733572,  1.29209043,  1.36684515,\n",
       "          1.44159987,  1.51635459,  1.59110931,  1.66586403,  1.74061875,\n",
       "          1.81537347]),\n",
       "  <a list of 50 Patch objects>),\n",
       " None)"
      ]
     },
     "execution_count": 14,
     "metadata": {},
     "output_type": "execute_result"
    }
   ],
   "source": [
    "norm_x = np.random.normal(loc=0,scale=0.5 , size =1000)\n",
    "plt.hist(norm_x, bins=50),plt.show()"
   ]
  },
  {
   "cell_type": "markdown",
   "metadata": {},
   "source": [
    "#### 지수분포"
   ]
  },
  {
   "cell_type": "code",
   "execution_count": 15,
   "metadata": {},
   "outputs": [
    {
     "data": {
      "image/png": "[encoded data removed]",
      "text/plain": [
       "<Figure size 432x288 with 1 Axes>"
      ]
     },
     "metadata": {
      "needs_background": "light"
     },
     "output_type": "display_data"
    },
    {
     "data": {
      "text/plain": [
       "((array([ 99., 114.,  89.,  88.,  68.,  70.,  49.,  45.,  54.,  32.,  34.,\n",
       "          20.,  21.,  24.,  29.,  19.,  17.,   9.,   7.,  10.,  10.,   9.,\n",
       "          11.,   9.,   5.,   6.,   8.,   8.,   7.,   4.,   3.,   1.,   1.,\n",
       "           2.,   1.,   1.,   4.,   2.,   1.,   1.,   3.,   0.,   0.,   1.,\n",
       "           1.,   0.,   1.,   0.,   1.,   1.]),\n",
       "  array([6.78756215e-04, 5.80598600e-02, 1.15440964e-01, 1.72822068e-01,\n",
       "         2.30203171e-01, 2.87584275e-01, 3.44965379e-01, 4.02346483e-01,\n",
       "         4.59727586e-01, 5.17108690e-01, 5.74489794e-01, 6.31870898e-01,\n",
       "         6.89252002e-01, 7.46633105e-01, 8.04014209e-01, 8.61395313e-01,\n",
       "         9.18776417e-01, 9.76157520e-01, 1.03353862e+00, 1.09091973e+00,\n",
       "         1.14830083e+00, 1.20568194e+00, 1.26306304e+00, 1.32044414e+00,\n",
       "         1.37782525e+00, 1.43520635e+00, 1.49258745e+00, 1.54996856e+00,\n",
       "         1.60734966e+00, 1.66473077e+00, 1.72211187e+00, 1.77949297e+00,\n",
       "         1.83687408e+00, 1.89425518e+00, 1.95163628e+00, 2.00901739e+00,\n",
       "         2.06639849e+00, 2.12377960e+00, 2.18116070e+00, 2.23854180e+00,\n",
       "         2.29592291e+00, 2.35330401e+00, 2.41068511e+00, 2.46806622e+00,\n",
       "         2.52544732e+00, 2.58282843e+00, 2.64020953e+00, 2.69759063e+00,\n",
       "         2.75497174e+00, 2.81235284e+00, 2.86973395e+00]),\n",
       "  <a list of 50 Patch objects>),\n",
       " None)"
      ]
     },
     "execution_count": 15,
     "metadata": {},
     "output_type": "execute_result"
    }
   ],
   "source": [
    "exp_x = np.random.exponential(scale=0.5, size =1000)\n",
    "plt.hist(exp_x, bins=50),plt.show()"
   ]
  },
  {
   "cell_type": "markdown",
   "metadata": {},
   "source": [
    "#### t - 분포"
   ]
  },
  {
   "cell_type": "code",
   "execution_count": 16,
   "metadata": {},
   "outputs": [
    {
     "data": {
      "image/png": "[encoded data removed]",
      "text/plain": [
       "<Figure size 432x288 with 1 Axes>"
      ]
     },
     "metadata": {
      "needs_background": "light"
     },
     "output_type": "display_data"
    },
    {
     "data": {
      "text/plain": [
       "((array([  3.,   2.,   3.,  11.,  59., 863.,  41.,   6.,   2.,   2.,   2.,\n",
       "           1.,   0.,   1.,   0.,   0.,   0.,   0.,   0.,   0.,   1.,   1.,\n",
       "           0.,   0.,   0.,   0.,   0.,   0.,   0.,   0.,   0.,   0.,   0.,\n",
       "           0.,   1.,   0.,   0.,   0.,   0.,   0.,   0.,   0.,   0.,   0.,\n",
       "           0.,   0.,   0.,   0.,   0.,   1.]),\n",
       "  array([-50.88081938, -41.53293551, -32.18505165, -22.83716779,\n",
       "         -13.48928393,  -4.14140006,   5.2064838 ,  14.55436766,\n",
       "          23.90225152,  33.25013539,  42.59801925,  51.94590311,\n",
       "          61.29378697,  70.64167084,  79.9895547 ,  89.33743856,\n",
       "          98.68532242, 108.03320629, 117.38109015, 126.72897401,\n",
       "         136.07685787, 145.42474174, 154.7726256 , 164.12050946,\n",
       "         173.46839332, 182.81627719, 192.16416105, 201.51204491,\n",
       "         210.85992877, 220.20781264, 229.5556965 , 238.90358036,\n",
       "         248.25146422, 257.59934809, 266.94723195, 276.29511581,\n",
       "         285.64299967, 294.99088354, 304.3387674 , 313.68665126,\n",
       "         323.03453512, 332.38241899, 341.73030285, 351.07818671,\n",
       "         360.42607057, 369.77395444, 379.1218383 , 388.46972216,\n",
       "         397.81760602, 407.16548989, 416.51337375]),\n",
       "  <a list of 50 Patch objects>),\n",
       " None)"
      ]
     },
     "execution_count": 16,
     "metadata": {},
     "output_type": "execute_result"
    }
   ],
   "source": [
    "t_x = np.random.standard_t(df=1, size =1000)\n",
    "plt.hist(t_x, bins=50),plt.show()\n",
    "\n",
    "# 모분산을 모를 때 사용\n",
    "# t 분포를 제곱하면 카이제곱분포를 따름 "
   ]
  },
  {
   "cell_type": "markdown",
   "metadata": {},
   "source": [
    "#### 카이제곱분포"
   ]
  },
  {
   "cell_type": "code",
   "execution_count": 17,
   "metadata": {},
   "outputs": [
    {
     "data": {
      "image/png": "[encoded data removed]",
      "text/plain": [
       "<Figure size 432x288 with 1 Axes>"
      ]
     },
     "metadata": {
      "needs_background": "light"
     },
     "output_type": "display_data"
    },
    {
     "data": {
      "text/plain": [
       "((array([119., 102.,  98.,  93.,  81.,  72.,  65.,  41.,  37.,  37.,  35.,\n",
       "          28.,  30.,  17.,  16.,  16.,  11.,  10.,  11.,  11.,   7.,   8.,\n",
       "           9.,   7.,   6.,   6.,   4.,   3.,   6.,   1.,   3.,   2.,   1.,\n",
       "           2.,   0.,   0.,   0.,   0.,   0.,   1.,   0.,   0.,   0.,   0.,\n",
       "           0.,   0.,   0.,   1.,   1.,   2.]),\n",
       "  array([3.12537863e-04, 2.78919388e-01, 5.57526238e-01, 8.36133088e-01,\n",
       "         1.11473994e+00, 1.39334679e+00, 1.67195364e+00, 1.95056049e+00,\n",
       "         2.22916734e+00, 2.50777419e+00, 2.78638104e+00, 3.06498789e+00,\n",
       "         3.34359474e+00, 3.62220159e+00, 3.90080844e+00, 4.17941529e+00,\n",
       "         4.45802214e+00, 4.73662899e+00, 5.01523584e+00, 5.29384269e+00,\n",
       "         5.57244954e+00, 5.85105639e+00, 6.12966324e+00, 6.40827009e+00,\n",
       "         6.68687694e+00, 6.96548379e+00, 7.24409064e+00, 7.52269749e+00,\n",
       "         7.80130434e+00, 8.07991119e+00, 8.35851804e+00, 8.63712489e+00,\n",
       "         8.91573174e+00, 9.19433859e+00, 9.47294544e+00, 9.75155229e+00,\n",
       "         1.00301591e+01, 1.03087660e+01, 1.05873728e+01, 1.08659797e+01,\n",
       "         1.11445865e+01, 1.14231934e+01, 1.17018002e+01, 1.19804071e+01,\n",
       "         1.22590139e+01, 1.25376208e+01, 1.28162276e+01, 1.30948345e+01,\n",
       "         1.33734413e+01, 1.36520482e+01, 1.39306550e+01]),\n",
       "  <a list of 50 Patch objects>),\n",
       " None)"
      ]
     },
     "execution_count": 17,
     "metadata": {},
     "output_type": "execute_result"
    }
   ],
   "source": [
    "chi_x  = np.random.chisquare(df=2, size = 1000)\n",
    "plt.hist(chi_x, bins=50),plt.show()\n",
    "\n",
    "# 표준 정규분포(평균 0, 표준편차 1 )을 따르는 데이터 2개(df, 자유도)를 제곱해서\n",
    "# 합한 다음 얻어지는 분포 , 신뢰구간 또는 가설검정(특히 적합도 검정)에 사용 "
   ]
  },
  {
   "cell_type": "code",
   "execution_count": 18,
   "metadata": {},
   "outputs": [
    {
     "data": {
      "image/png": "[encoded data removed]",
      "text/plain": [
       "<Figure size 432x288 with 1 Axes>"
      ]
     },
     "metadata": {
      "needs_background": "light"
     },
     "output_type": "display_data"
    },
    {
     "data": {
      "text/plain": [
       "((array([ 2.,  0.,  2.,  0.,  4.,  2.,  2.,  3.,  7.,  5.,  9., 15., 12.,\n",
       "         14., 19., 23., 25., 33., 40., 37., 32., 52., 43., 48., 57., 54.,\n",
       "         56., 55., 57., 36., 46., 33., 25., 30., 22., 18., 18., 10., 14.,\n",
       "          8.,  7.,  4.,  5.,  6.,  1.,  2.,  6.,  0.,  0.,  1.]),\n",
       "  array([ 856.83152737,  862.49670656,  868.16188575,  873.82706493,\n",
       "          879.49224412,  885.15742331,  890.8226025 ,  896.48778168,\n",
       "          902.15296087,  907.81814006,  913.48331925,  919.14849843,\n",
       "          924.81367762,  930.47885681,  936.144036  ,  941.80921518,\n",
       "          947.47439437,  953.13957356,  958.80475275,  964.46993193,\n",
       "          970.13511112,  975.80029031,  981.4654695 ,  987.13064868,\n",
       "          992.79582787,  998.46100706, 1004.12618625, 1009.79136543,\n",
       "         1015.45654462, 1021.12172381, 1026.78690299, 1032.45208218,\n",
       "         1038.11726137, 1043.78244056, 1049.44761974, 1055.11279893,\n",
       "         1060.77797812, 1066.44315731, 1072.10833649, 1077.77351568,\n",
       "         1083.43869487, 1089.10387406, 1094.76905324, 1100.43423243,\n",
       "         1106.09941162, 1111.76459081, 1117.42976999, 1123.09494918,\n",
       "         1128.76012837, 1134.42530756, 1140.09048674]),\n",
       "  <a list of 50 Patch objects>),\n",
       " None)"
      ]
     },
     "execution_count": 18,
     "metadata": {},
     "output_type": "execute_result"
    }
   ],
   "source": [
    "chi_x  = np.random.chisquare(df=1000, size = 1000)\n",
    "plt.hist(chi_x, bins=50),plt.show()\n",
    "\n",
    "# 자유도가 커지면 정규분포에 가까워짐 "
   ]
  },
  {
   "cell_type": "markdown",
   "metadata": {},
   "source": [
    "#### F-분포"
   ]
  },
  {
   "cell_type": "code",
   "execution_count": 19,
   "metadata": {},
   "outputs": [
    {
     "data": {
      "image/png": "[encoded data removed]",
      "text/plain": [
       "<Figure size 432x288 with 1 Axes>"
      ]
     },
     "metadata": {
      "needs_background": "light"
     },
     "output_type": "display_data"
    },
    {
     "data": {
      "text/plain": [
       "((array([0., 0., 0., 0., 0., 0., 0., 0., 0., 0., 0., 0., 0., 0., 0., 0., 0.,\n",
       "         0., 0., 0., 0., 0., 0., 0., 0., 1., 0., 0., 0., 0., 0., 0., 0., 0.,\n",
       "         0., 0., 0., 0., 0., 0., 0., 0., 0., 0., 0., 0., 0., 0., 0., 0.]),\n",
       "  array([1.09710736, 1.11710736, 1.13710736, 1.15710736, 1.17710736,\n",
       "         1.19710736, 1.21710736, 1.23710736, 1.25710736, 1.27710736,\n",
       "         1.29710736, 1.31710736, 1.33710736, 1.35710736, 1.37710736,\n",
       "         1.39710736, 1.41710736, 1.43710736, 1.45710736, 1.47710736,\n",
       "         1.49710736, 1.51710736, 1.53710736, 1.55710736, 1.57710736,\n",
       "         1.59710736, 1.61710736, 1.63710736, 1.65710736, 1.67710736,\n",
       "         1.69710736, 1.71710736, 1.73710736, 1.75710736, 1.77710736,\n",
       "         1.79710736, 1.81710736, 1.83710736, 1.85710736, 1.87710736,\n",
       "         1.89710736, 1.91710736, 1.93710736, 1.95710736, 1.97710736,\n",
       "         1.99710736, 2.01710736, 2.03710736, 2.05710736, 2.07710736,\n",
       "         2.09710736]),\n",
       "  <a list of 50 Patch objects>),\n",
       " None)"
      ]
     },
     "execution_count": 19,
     "metadata": {},
     "output_type": "execute_result"
    }
   ],
   "source": [
    "f_x = np.random.f(dfnum=10, dfden=10)\n",
    "plt.hist(f_x, bins=50),plt.show()"
   ]
  },
  {
   "cell_type": "code",
   "execution_count": 20,
   "metadata": {},
   "outputs": [],
   "source": [
    "import seaborn as sns"
   ]
  },
  {
   "cell_type": "code",
   "execution_count": 21,
   "metadata": {},
   "outputs": [
    {
     "data": {
      "text/html": [
       "<div>\n",
       "<style scoped>\n",
       "    .dataframe tbody tr th:only-of-type {\n",
       "        vertical-align: middle;\n",
       "    }\n",
       "\n",
       "    .dataframe tbody tr th {\n",
       "        vertical-align: top;\n",
       "    }\n",
       "\n",
       "    .dataframe thead th {\n",
       "        text-align: right;\n",
       "    }\n",
       "</style>\n",
       "<table border=\"1\" class=\"dataframe\">\n",
       "  <thead>\n",
       "    <tr style=\"text-align: right;\">\n",
       "      <th></th>\n",
       "      <th>sepal_length</th>\n",
       "      <th>sepal_width</th>\n",
       "      <th>petal_length</th>\n",
       "      <th>petal_width</th>\n",
       "      <th>species</th>\n",
       "    </tr>\n",
       "  </thead>\n",
       "  <tbody>\n",
       "    <tr>\n",
       "      <th>0</th>\n",
       "      <td>5.1</td>\n",
       "      <td>3.5</td>\n",
       "      <td>1.4</td>\n",
       "      <td>0.2</td>\n",
       "      <td>setosa</td>\n",
       "    </tr>\n",
       "    <tr>\n",
       "      <th>1</th>\n",
       "      <td>4.9</td>\n",
       "      <td>3.0</td>\n",
       "      <td>1.4</td>\n",
       "      <td>0.2</td>\n",
       "      <td>setosa</td>\n",
       "    </tr>\n",
       "    <tr>\n",
       "      <th>2</th>\n",
       "      <td>4.7</td>\n",
       "      <td>3.2</td>\n",
       "      <td>1.3</td>\n",
       "      <td>0.2</td>\n",
       "      <td>setosa</td>\n",
       "    </tr>\n",
       "    <tr>\n",
       "      <th>3</th>\n",
       "      <td>4.6</td>\n",
       "      <td>3.1</td>\n",
       "      <td>1.5</td>\n",
       "      <td>0.2</td>\n",
       "      <td>setosa</td>\n",
       "    </tr>\n",
       "    <tr>\n",
       "      <th>4</th>\n",
       "      <td>5.0</td>\n",
       "      <td>3.6</td>\n",
       "      <td>1.4</td>\n",
       "      <td>0.2</td>\n",
       "      <td>setosa</td>\n",
       "    </tr>\n",
       "  </tbody>\n",
       "</table>\n",
       "</div>"
      ],
      "text/plain": [
       "   sepal_length  sepal_width  petal_length  petal_width species\n",
       "0           5.1          3.5           1.4          0.2  setosa\n",
       "1           4.9          3.0           1.4          0.2  setosa\n",
       "2           4.7          3.2           1.3          0.2  setosa\n",
       "3           4.6          3.1           1.5          0.2  setosa\n",
       "4           5.0          3.6           1.4          0.2  setosa"
      ]
     },
     "execution_count": 21,
     "metadata": {},
     "output_type": "execute_result"
    }
   ],
   "source": [
    "iris = sns.load_dataset(\"iris\")\n",
    "iris.head()"
   ]
  },
  {
   "cell_type": "markdown",
   "metadata": {},
   "source": [
    "- p value 가 높이 끼때문에.. 가치가 있다. "
   ]
  },
  {
   "cell_type": "code",
   "execution_count": 26,
   "metadata": {},
   "outputs": [
    {
     "data": {
      "text/plain": [
       "LinregressResult(slope=0.41575541635241114, intercept=-0.36307552131902776, rvalue=0.9628654314027963, pvalue=4.6750039073255014e-86, stderr=0.009582435790766206)"
      ]
     },
     "execution_count": 26,
     "metadata": {},
     "output_type": "execute_result"
    }
   ],
   "source": [
    "from scipy import stats  # 통계적 목적으로 만들어진 함수. 그래서 pvalue 볼수 있음\n",
    "# 아니면 stats models 를 알 수 있음. \n",
    "r = stats.linregress(iris.petal_length,iris.petal_width)\n",
    "r"
   ]
  },
  {
   "cell_type": "markdown",
   "metadata": {},
   "source": [
    "- p value 가 0.15 이므로 가치가 없다."
   ]
  },
  {
   "cell_type": "code",
   "execution_count": 24,
   "metadata": {},
   "outputs": [
    {
     "data": {
      "text/plain": [
       "LinregressResult(slope=-0.061884797964144145, intercept=3.418946836103816, rvalue=-0.11756978413300208, pvalue=0.15189826071144782, stderr=0.04296698792989742)"
      ]
     },
     "execution_count": 24,
     "metadata": {},
     "output_type": "execute_result"
    }
   ],
   "source": [
    "r2= stats.linregress(iris.sepal_length,iris.sepal_width)\n",
    "r2"
   ]
  },
  {
   "cell_type": "code",
   "execution_count": 25,
   "metadata": {},
   "outputs": [
    {
     "data": {
      "text/html": [
       "<div>\n",
       "<style scoped>\n",
       "    .dataframe tbody tr th:only-of-type {\n",
       "        vertical-align: middle;\n",
       "    }\n",
       "\n",
       "    .dataframe tbody tr th {\n",
       "        vertical-align: top;\n",
       "    }\n",
       "\n",
       "    .dataframe thead th {\n",
       "        text-align: right;\n",
       "    }\n",
       "</style>\n",
       "<table border=\"1\" class=\"dataframe\">\n",
       "  <thead>\n",
       "    <tr style=\"text-align: right;\">\n",
       "      <th></th>\n",
       "      <th>sepal_length</th>\n",
       "      <th>sepal_width</th>\n",
       "      <th>petal_length</th>\n",
       "      <th>petal_width</th>\n",
       "    </tr>\n",
       "  </thead>\n",
       "  <tbody>\n",
       "    <tr>\n",
       "      <th>sepal_length</th>\n",
       "      <td>1.000000</td>\n",
       "      <td>-0.117570</td>\n",
       "      <td>0.871754</td>\n",
       "      <td>0.817941</td>\n",
       "    </tr>\n",
       "    <tr>\n",
       "      <th>sepal_width</th>\n",
       "      <td>-0.117570</td>\n",
       "      <td>1.000000</td>\n",
       "      <td>-0.428440</td>\n",
       "      <td>-0.366126</td>\n",
       "    </tr>\n",
       "    <tr>\n",
       "      <th>petal_length</th>\n",
       "      <td>0.871754</td>\n",
       "      <td>-0.428440</td>\n",
       "      <td>1.000000</td>\n",
       "      <td>0.962865</td>\n",
       "    </tr>\n",
       "    <tr>\n",
       "      <th>petal_width</th>\n",
       "      <td>0.817941</td>\n",
       "      <td>-0.366126</td>\n",
       "      <td>0.962865</td>\n",
       "      <td>1.000000</td>\n",
       "    </tr>\n",
       "  </tbody>\n",
       "</table>\n",
       "</div>"
      ],
      "text/plain": [
       "              sepal_length  sepal_width  petal_length  petal_width\n",
       "sepal_length      1.000000    -0.117570      0.871754     0.817941\n",
       "sepal_width      -0.117570     1.000000     -0.428440    -0.366126\n",
       "petal_length      0.871754    -0.428440      1.000000     0.962865\n",
       "petal_width       0.817941    -0.366126      0.962865     1.000000"
      ]
     },
     "execution_count": 25,
     "metadata": {},
     "output_type": "execute_result"
    }
   ],
   "source": [
    "iris.corr()"
   ]
  },
  {
   "cell_type": "markdown",
   "metadata": {},
   "source": [
    "- r : s 언어를 발전시켜서 만든 얺어\n",
    "- R-studio : r 개발 도구, 반드시 r을 설치해야함 "
   ]
  },
  {
   "cell_type": "code",
   "execution_count": null,
   "metadata": {},
   "outputs": [],
   "source": []
  },
  {
   "cell_type": "code",
   "execution_count": null,
   "metadata": {},
   "outputs": [],
   "source": []
  },
  {
   "cell_type": "code",
   "execution_count": null,
   "metadata": {},
   "outputs": [],
   "source": []
  }
 ],
 "metadata": {
  "kernelspec": {
   "display_name": "Python 3",
   "language": "python",
   "name": "python3"
  },
  "language_info": {
   "codemirror_mode": {
    "name": "ipython",
    "version": 3
   },
   "file_extension": ".py",
   "mimetype": "text/x-python",
   "name": "python",
   "nbconvert_exporter": "python",
   "pygments_lexer": "ipython3",
   "version": "3.7.6"
  }
 },
 "nbformat": 4,
 "nbformat_minor": 4
}

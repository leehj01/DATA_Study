{
 "cells": [
  {
   "cell_type": "markdown",
   "metadata": {},
   "source": [
    "# 4장. 회귀분석\n",
    "## 1절. 회귀분석 개요\n",
    "### 1.1 회귀분석 정의 "
   ]
  },
  {
   "cell_type": "markdown",
   "metadata": {},
   "source": [
    "- 통계학에서 회귀분석은 관찰된 연속형 변수들에 대해 두변수 사이의 모형을 구한 뒤 적합도를 측정해 내는 분석방법\n",
    "    - 상관분석 : 두변수의 선형적인 연관성을 비교하는 것. \n",
    "    - 회귀분석 : 선형적인 상관성을 가진 변수들 사이의 인과관계를 증명하는 것. \n",
    "\n",
    "- 회귀분석 : 시간에 따라 변화하는 데이터나 어떤 영향, 가설적 실험, 인과관계의 모델링등의 통계적 예측에 이용될수 있습니다. \n",
    "- 회귀분석은 어떤 연관성을 가지고 있는 종속변수의 변동이나 분산을 설명하기 위하여 종속 변수와 관계가 있는 독립변수들 중 각각의 독립변수가 설명력을 얼마나 가지고 있는가를 결정할 때 사용합니다.  "
   ]
  },
  {
   "cell_type": "markdown",
   "metadata": {},
   "source": [
    "### 1.2. 회귀분석을 위한 전제사항\n",
    "\n",
    "- 회귀분석을 위해서 몇가지 전제 사항이 있음 \n",
    "\n",
    "    - 선형성 : 독립변수의 변화에 따라 종속변수도 일정 크기로 변화해야함\n",
    "    - 독립성 : 오차와 독립 변수의 값이 관련이 없음 \n",
    "    - 등분산성 : 독립 변수의 모든 값에 대해 오차들의 분산이 일정\n",
    "    - 비상관성 : 관측치의 오차들 사이에 상관관계가 없음\n",
    "    - 정상성 : 오차가 정규분포를 따름 "
   ]
  },
  {
   "cell_type": "markdown",
   "metadata": {},
   "source": [
    "### 1.3. 상관분석, 단순회귀 분석, 다중 회귀 분석\n",
    "\n",
    "- 상관분석 :  두 변수 사이의 원인과 결과가 아닌 서로 상관적 영향이 있는지를 분석하는 것\n",
    "- 회귀분석 : 인과관계로서 독립변수가 종속변수에 얼마만큼 영향을 주는 지 분석\n",
    "    - 단순 회귀분석 : 독립변수가 1개 종속변수가 1개\n",
    "    - 다중 회귀분석 : 독립분수가 2개이상인경우 "
   ]
  },
  {
   "cell_type": "markdown",
   "metadata": {},
   "source": [
    "### 1.4. 통계적 추론\n",
    "\n",
    "- 통계적 추론 : 수집된 자료를 이용해 대상 집단(모딥단)에 대해 의사결정을 하는 것을 의미함. \n",
    "    - 추정 \n",
    "    - 가설검증"
   ]
  },
  {
   "cell_type": "markdown",
   "metadata": {},
   "source": [
    "#### 1) 추정\n",
    "\n",
    "- 추정은 점추정과 구간추정이 있음\n",
    "- 점추정 : '모수가 특정한 값일 것' 이라고 추정하는 것.\n",
    "- 구간추정 : '확률로 표현된 신뢰도하에서 모수가 특정한 구간에 있을 것' 이라고 선언하는 것. 항상 분포에 대한 전제가 주어져야 하고 구해진 구간안에 모수가 있을 가능성이 주어져야 함. \n",
    "\n",
    "\n",
    "- 신뢰수준 : 구해진 구간 안에 모수가 있을 가능성의 크기를 의마하며 주로, 90% 95%, 99% 등이 사용됨. \n",
    "- 신뢰구간 : 각각의 신뢰수준 하에서 구한 구간을 의미하며 신뢰수준 90%, 95%, 99% 의 각 값들에 대응 해서 1.645, 1.96, 2.575 가 사용됨. \n",
    "\n",
    "\n",
    "#### 2) 가설검정\n",
    "- 가설 검정은 모집단의 모수에 대한 어떤 가설을 설정한 뒤에 표본 관찰을 통해 그 가설의 채택 여부를 결정하는 분석 방법이다.\n",
    "    - 귀무가설 (H0) : 검정하고자 하는 모수에 대한 가설, 버릴 것을 예상하는 가설\n",
    "    - 대립가설 (H1) : 귀무가설에 대립되는 가설. 연구자가 연구를 통해 입증되기를 기대하는 에상이나 주장을 대립가설로 내세움 \n",
    "    - 검정 통계량 : 검정에 사용되는 통계량, 귀무가설이 옳다는 전제 하에서 검정 통계량 값을 구한 후에 이값이 나타날 가능성의 크기에 의해 귀무가설 채택여부를 결정함. \n",
    "    \n",
    "\n",
    "#### 3) 유의수준과 유의확률\n",
    "- 유의수준 : 검정 통계량의 값이 나타날 가능성이 '크다' 또는 '작다'의 판단기준. 귀무가설을 기각하게 되는 확률의 크기로 \" 귀무가설이 옳은데도 이를 기각하는 확률의 크기\"로 정의\n",
    "\n",
    "- 기각역(기각영역) : 귀무가설이 옳다는 전제하에서 구한 검정통계량의 분포에서 확률이 유이 수준 𝜶 인 부분을 의미함\n",
    "- 가설검정의 오류\n",
    "    - 제 1종의 오류 : 옳은 귀무가설을 기각하는 오류\n",
    "    - 제 2종의 오류 : 옳지 않은 귀무가설을 채택하는 오류\n",
    "- 유의 확률 : 제 1종 오류를 발생할 확률을 의미. \n",
    "    - 신뢰수준이 95% 일경우 유의확률(P-value)이 유의수준 (0.05)보다 작으면 귀무가설을 기각함.\n",
    "    - 즉 대립가설을 채택하는 것을 의미 \n",
    "    \n",
    "#### 4) 모수적 방법과 비모수적 방법 \n",
    "\n",
    "- 모수적 방법 : 검정하고자하는 모집단의 분포에 대한 가정\n",
    "- 비모수적 방법 : 모집단 분포에 대한 가정을 하지 않고 검정을 실시함.  "
   ]
  },
  {
   "cell_type": "markdown",
   "metadata": {},
   "source": [
    "## 2절. 상관분석\n",
    "- 상관분석은 두 변수간에 선형적 관계가 있는지 분석하는 것. 피어슨 상관계수와 스피어만 상관계수가 있음. \n",
    "\n",
    "### 2.1. 피어슨 상관계수\n",
    " - 피어슨 상관계수 \n",
    "\n",
    "   1) 수치로 표시된 데이터간의 선형 상관관계를 확인하기 위해서 사용. 두 변수가 모든 연속형 자료일 때 두 변수간 선형적인 상관관계 크기를 모수적인 방법으로 나타낸 값.\n",
    "\n",
    "   2) 코시-슈바르츠 부등식에 의해 +1과 -1 사이의 값을 가지며, +1은 완벽한 양의 선형 상관 관계, 0은 선형 상관 관계 없음, -1은 완벽한 음의 선형 상관 관계를 의미한다. 일반적으로 상관관계는 피어슨 상관관계를 의미한다.\n",
    "\n",
    "      -> 일반적으로, 0.7 이상이면 양의 상관관계, -0.7이하이면 음의 상관관계 갖습니다. "
   ]
  },
  {
   "cell_type": "code",
   "execution_count": 2,
   "metadata": {},
   "outputs": [
    {
     "data": {
      "text/html": [
       "<div>\n",
       "<style scoped>\n",
       "    .dataframe tbody tr th:only-of-type {\n",
       "        vertical-align: middle;\n",
       "    }\n",
       "\n",
       "    .dataframe tbody tr th {\n",
       "        vertical-align: top;\n",
       "    }\n",
       "\n",
       "    .dataframe thead th {\n",
       "        text-align: right;\n",
       "    }\n",
       "</style>\n",
       "<table border=\"1\" class=\"dataframe\">\n",
       "  <thead>\n",
       "    <tr style=\"text-align: right;\">\n",
       "      <th></th>\n",
       "      <th>sepal_length</th>\n",
       "      <th>sepal_width</th>\n",
       "      <th>petal_length</th>\n",
       "      <th>petal_width</th>\n",
       "    </tr>\n",
       "  </thead>\n",
       "  <tbody>\n",
       "    <tr>\n",
       "      <th>sepal_length</th>\n",
       "      <td>1.000000</td>\n",
       "      <td>-0.117570</td>\n",
       "      <td>0.871754</td>\n",
       "      <td>0.817941</td>\n",
       "    </tr>\n",
       "    <tr>\n",
       "      <th>sepal_width</th>\n",
       "      <td>-0.117570</td>\n",
       "      <td>1.000000</td>\n",
       "      <td>-0.428440</td>\n",
       "      <td>-0.366126</td>\n",
       "    </tr>\n",
       "    <tr>\n",
       "      <th>petal_length</th>\n",
       "      <td>0.871754</td>\n",
       "      <td>-0.428440</td>\n",
       "      <td>1.000000</td>\n",
       "      <td>0.962865</td>\n",
       "    </tr>\n",
       "    <tr>\n",
       "      <th>petal_width</th>\n",
       "      <td>0.817941</td>\n",
       "      <td>-0.366126</td>\n",
       "      <td>0.962865</td>\n",
       "      <td>1.000000</td>\n",
       "    </tr>\n",
       "  </tbody>\n",
       "</table>\n",
       "</div>"
      ],
      "text/plain": [
       "              sepal_length  sepal_width  petal_length  petal_width\n",
       "sepal_length      1.000000    -0.117570      0.871754     0.817941\n",
       "sepal_width      -0.117570     1.000000     -0.428440    -0.366126\n",
       "petal_length      0.871754    -0.428440      1.000000     0.962865\n",
       "petal_width       0.817941    -0.366126      0.962865     1.000000"
      ]
     },
     "execution_count": 2,
     "metadata": {},
     "output_type": "execute_result"
    }
   ],
   "source": [
    "# iris 데이터에서 상관계수를 확인하는 것 \n",
    "import seaborn as sns\n",
    "iris = sns.load_dataset(\"iris\")\n",
    "iris.corr(method = \"pearson\")"
   ]
  },
  {
   "cell_type": "code",
   "execution_count": 3,
   "metadata": {},
   "outputs": [
    {
     "data": {
      "image/png": "[encoded data removed]",
      "text/plain": [
       "<Figure size 432x288 with 2 Axes>"
      ]
     },
     "metadata": {
      "needs_background": "light"
     },
     "output_type": "display_data"
    }
   ],
   "source": [
    "import matplotlib.pyplot as plt\n",
    "%matplotlib inline\n",
    "sns.heatmap(iris.corr(method = \"pearson\"), vmin = -1 , vmax = 1, annot= True)\n",
    "plt.show()"
   ]
  },
  {
   "cell_type": "markdown",
   "metadata": {},
   "source": [
    "- p-value 를 이용하여 상관계수의 유의성을 검증할 수 있음. \n",
    "\n",
    "  - 귀무가설 (H0) : 상관계수가 0 ( 상관계수가 없음)\n",
    "\n",
    "  - 대립가설 (H1) : 상관계수가 0이 아님 (상관계수가 있음)\n",
    "\n",
    "  -> 유의확률(p-value)이 유의수준(0.05) 보다 작은 경우 귀무가설을 기각함. "
   ]
  },
  {
   "cell_type": "code",
   "execution_count": 4,
   "metadata": {},
   "outputs": [
    {
     "data": {
      "text/plain": [
       "(0.962865431402796, 4.6750039073285846e-86)"
      ]
     },
     "execution_count": 4,
     "metadata": {},
     "output_type": "execute_result"
    }
   ],
   "source": [
    "from scipy.stats.stats import pearsonr\n",
    "pearsonr(iris.petal_length, iris.petal_width)\n",
    "\n",
    "# - pearsonr 의 리턴값은 ( 상관계수, p-value) 임 -> 변수 2개로 하는 것. \n",
    "# - 유의 확률이 0.5 보다 작으므로 귀무가설을 기각하게 됨. \n",
    "# 즉, 대립가설(꽃의 길이와 넓이는 관계있음)이 성립됨 "
   ]
  },
  {
   "cell_type": "code",
   "execution_count": 5,
   "metadata": {},
   "outputs": [
    {
     "data": {
      "text/plain": [
       "<matplotlib.axes._subplots.AxesSubplot at 0xc453448>"
      ]
     },
     "execution_count": 5,
     "metadata": {},
     "output_type": "execute_result"
    },
    {
     "data": {
      "image/png": "[encoded data removed]",
      "text/plain": [
       "<Figure size 432x288 with 1 Axes>"
      ]
     },
     "metadata": {
      "needs_background": "light"
     },
     "output_type": "display_data"
    }
   ],
   "source": [
    "sns.scatterplot(iris.petal_length, iris.petal_width)"
   ]
  },
  {
   "cell_type": "code",
   "execution_count": 6,
   "metadata": {},
   "outputs": [
    {
     "data": {
      "image/png": "[encoded data removed]",
      "text/plain": [
       "<Figure size 432x288 with 2 Axes>"
      ]
     },
     "metadata": {
      "needs_background": "light"
     },
     "output_type": "display_data"
    }
   ],
   "source": [
    "sns.heatmap(iris.corr(method = \"spearman\"), vmin = -1, vmax= 1, annot = True )\n",
    "plt.show()"
   ]
  },
  {
   "cell_type": "markdown",
   "metadata": {},
   "source": [
    "### 2.2. 스피어만 상관계수\n",
    "- 스피어만 상관계수는 상관관계를 분석하고자 하는 두 연속형 변수의 분포가 심각하게 정규분포를 벗어난다거나 또는 두 변수가 순위 척도 자료일때 사용하는 값 . 데이터가 서열 척도인 경우 값대신 순위를 사용하여 계산한 상관계수 "
   ]
  },
  {
   "cell_type": "code",
   "execution_count": 7,
   "metadata": {},
   "outputs": [
    {
     "data": {
      "text/html": [
       "<div>\n",
       "<style scoped>\n",
       "    .dataframe tbody tr th:only-of-type {\n",
       "        vertical-align: middle;\n",
       "    }\n",
       "\n",
       "    .dataframe tbody tr th {\n",
       "        vertical-align: top;\n",
       "    }\n",
       "\n",
       "    .dataframe thead th {\n",
       "        text-align: right;\n",
       "    }\n",
       "</style>\n",
       "<table border=\"1\" class=\"dataframe\">\n",
       "  <thead>\n",
       "    <tr style=\"text-align: right;\">\n",
       "      <th></th>\n",
       "      <th>sepal_length</th>\n",
       "      <th>sepal_width</th>\n",
       "      <th>petal_length</th>\n",
       "      <th>petal_width</th>\n",
       "    </tr>\n",
       "  </thead>\n",
       "  <tbody>\n",
       "    <tr>\n",
       "      <th>sepal_length</th>\n",
       "      <td>1.000000</td>\n",
       "      <td>-0.166778</td>\n",
       "      <td>0.881898</td>\n",
       "      <td>0.834289</td>\n",
       "    </tr>\n",
       "    <tr>\n",
       "      <th>sepal_width</th>\n",
       "      <td>-0.166778</td>\n",
       "      <td>1.000000</td>\n",
       "      <td>-0.309635</td>\n",
       "      <td>-0.289032</td>\n",
       "    </tr>\n",
       "    <tr>\n",
       "      <th>petal_length</th>\n",
       "      <td>0.881898</td>\n",
       "      <td>-0.309635</td>\n",
       "      <td>1.000000</td>\n",
       "      <td>0.937667</td>\n",
       "    </tr>\n",
       "    <tr>\n",
       "      <th>petal_width</th>\n",
       "      <td>0.834289</td>\n",
       "      <td>-0.289032</td>\n",
       "      <td>0.937667</td>\n",
       "      <td>1.000000</td>\n",
       "    </tr>\n",
       "  </tbody>\n",
       "</table>\n",
       "</div>"
      ],
      "text/plain": [
       "              sepal_length  sepal_width  petal_length  petal_width\n",
       "sepal_length      1.000000    -0.166778      0.881898     0.834289\n",
       "sepal_width      -0.166778     1.000000     -0.309635    -0.289032\n",
       "petal_length      0.881898    -0.309635      1.000000     0.937667\n",
       "petal_width       0.834289    -0.289032      0.937667     1.000000"
      ]
     },
     "execution_count": 7,
     "metadata": {},
     "output_type": "execute_result"
    }
   ],
   "source": [
    "import seaborn as sns\n",
    "iris = sns.load_dataset(\"iris\")\n",
    "iris.corr(method = \"spearman\")"
   ]
  },
  {
   "cell_type": "code",
   "execution_count": 8,
   "metadata": {},
   "outputs": [
    {
     "data": {
      "text/plain": [
       "SpearmanrResult(correlation=0.9376668235763412, pvalue=8.156596854126675e-70)"
      ]
     },
     "execution_count": 8,
     "metadata": {},
     "output_type": "execute_result"
    }
   ],
   "source": [
    "from scipy.stats.stats import spearmanr\n",
    "spearmanr(iris.petal_length, iris.petal_width)"
   ]
  },
  {
   "cell_type": "markdown",
   "metadata": {},
   "source": [
    "### 2.3. 상관계수 시각화"
   ]
  },
  {
   "cell_type": "code",
   "execution_count": 9,
   "metadata": {},
   "outputs": [
    {
     "data": {
      "text/html": [
       "<div>\n",
       "<style scoped>\n",
       "    .dataframe tbody tr th:only-of-type {\n",
       "        vertical-align: middle;\n",
       "    }\n",
       "\n",
       "    .dataframe tbody tr th {\n",
       "        vertical-align: top;\n",
       "    }\n",
       "\n",
       "    .dataframe thead th {\n",
       "        text-align: right;\n",
       "    }\n",
       "</style>\n",
       "<table border=\"1\" class=\"dataframe\">\n",
       "  <thead>\n",
       "    <tr style=\"text-align: right;\">\n",
       "      <th></th>\n",
       "      <th>sepal_length</th>\n",
       "      <th>sepal_width</th>\n",
       "      <th>petal_length</th>\n",
       "      <th>petal_width</th>\n",
       "    </tr>\n",
       "  </thead>\n",
       "  <tbody>\n",
       "    <tr>\n",
       "      <th>sepal_length</th>\n",
       "      <td>1.000000</td>\n",
       "      <td>-0.117570</td>\n",
       "      <td>0.871754</td>\n",
       "      <td>0.817941</td>\n",
       "    </tr>\n",
       "    <tr>\n",
       "      <th>sepal_width</th>\n",
       "      <td>-0.117570</td>\n",
       "      <td>1.000000</td>\n",
       "      <td>-0.428440</td>\n",
       "      <td>-0.366126</td>\n",
       "    </tr>\n",
       "    <tr>\n",
       "      <th>petal_length</th>\n",
       "      <td>0.871754</td>\n",
       "      <td>-0.428440</td>\n",
       "      <td>1.000000</td>\n",
       "      <td>0.962865</td>\n",
       "    </tr>\n",
       "    <tr>\n",
       "      <th>petal_width</th>\n",
       "      <td>0.817941</td>\n",
       "      <td>-0.366126</td>\n",
       "      <td>0.962865</td>\n",
       "      <td>1.000000</td>\n",
       "    </tr>\n",
       "  </tbody>\n",
       "</table>\n",
       "</div>"
      ],
      "text/plain": [
       "              sepal_length  sepal_width  petal_length  petal_width\n",
       "sepal_length      1.000000    -0.117570      0.871754     0.817941\n",
       "sepal_width      -0.117570     1.000000     -0.428440    -0.366126\n",
       "petal_length      0.871754    -0.428440      1.000000     0.962865\n",
       "petal_width       0.817941    -0.366126      0.962865     1.000000"
      ]
     },
     "execution_count": 9,
     "metadata": {},
     "output_type": "execute_result"
    }
   ],
   "source": [
    "iris.corr()"
   ]
  },
  {
   "cell_type": "code",
   "execution_count": 10,
   "metadata": {},
   "outputs": [
    {
     "data": {
      "image/png": "[encoded data removed]",
      "text/plain": [
       "<Figure size 720x576 with 2 Axes>"
      ]
     },
     "metadata": {
      "needs_background": "light"
     },
     "output_type": "display_data"
    }
   ],
   "source": [
    "plt.figure(figsize= (10,8))\n",
    "sns.heatmap(iris.corr(), vmin = -1 , vmax = 1 , annot = True , cmap =\"cubehelix_r\")\n",
    "plt.show()  #\"cubehelix_r\" 프린터를 명암에 의해서 하는것"
   ]
  },
  {
   "cell_type": "markdown",
   "metadata": {},
   "source": [
    "## 3절. 단순회귀분석 \n",
    "- 단순 회귀 분석 : 독립변수가 하나일 경우의 회귀 분석  \n",
    "\n",
    "\n",
    "- 아래 구문은 주어진 데이터에서 행렬식을 이용하여 연립방정식의 해를 구하는 예\n",
    "- y= wx + b에서 x와 y 를 가지고 w와 b를 구해야함. "
   ]
  },
  {
   "cell_type": "markdown",
   "metadata": {},
   "source": [
    "### 3.1. 선형방정식으로 회귀모형 구하기"
   ]
  },
  {
   "cell_type": "code",
   "execution_count": 11,
   "metadata": {},
   "outputs": [
    {
     "name": "stdout",
     "output_type": "stream",
     "text": [
      "[  0.87962664 -27.35846347]\n"
     ]
    }
   ],
   "source": [
    "import numpy as np\n",
    "\n",
    "x = [32,64,96,118,126,144,152,158]\n",
    "y = [17,24,62,49,52,105,130,125]\n",
    "\n",
    "\n",
    "a = np.c_[x, np.ones(8)] #열단위로 데이터 쌓음\n",
    "# a = np.column_stack((X, np.ones(8))) #  위와 같음1차원 배열을 열로 쌓아서 단일 2차원 배열을 만듭니다. \n",
    "\n",
    "\n",
    "b = np.array(y)\n",
    "\n",
    "model = np.linalg.inv(a.T@a)@a.T@b  # 역행력을 구하는 것 \n",
    "print(model)\n",
    "\n",
    "\"\"\"\n",
    "결과를 보았을 때, [  0.87962664 -27.35846347 ] \n",
    "wieht :  0.87962664\n",
    "bias : -27.35846347 를 알 수 있음\n",
    "\n",
    "그러나,이렇게 행렬을 이용해서 회귀식을 구하는 일이 없음. 그냥 이런용도로 쓰인다는 것만 확인. \"\"\"\n",
    "\n",
    "\n",
    "slope , intercept= model\n"
   ]
  },
  {
   "cell_type": "markdown",
   "metadata": {},
   "source": [
    "### 3.2. 회귀 모형과 예측\n",
    "\n",
    "- 역행렬을 이용해서 회귀식을 구할 수 있지만, 싸이 파이 패키지의 linregress(),함수와 넘파이 패키지의 polyfit()함수들을 이용하면 더 쉽게 회귀식을 구할 수 있음. \n",
    "\n",
    "#### 1) linregress() : scipy 패키지의  linregress() 함수는 선형 최소제곱 회귀를 계산함. \n",
    "\n",
    "- scipy.stats.linregress(x,y) : x, y의 데이터의 길이가 같아야 함.\n",
    "- 이 함수가 반환하는값은 slope, intercept, r_value , p_value , std_err 임. \n",
    "- r_value (= R-squared, 결정계수 ) : 실제 weigh 값과 선형회귀 직선을 통해 예측된 weight값이 얼마나 일치하는지, 회귀식이 얼마나 정확한지를 나타내는 값이이다. 여기서는 0.89%로 회기식이 데이터를 설명한다.  "
   ]
  },
  {
   "cell_type": "code",
   "execution_count": 12,
   "metadata": {},
   "outputs": [
    {
     "data": {
      "text/plain": [
       "(0.8796266379465087,\n",
       " -27.3584634715491,\n",
       " 0.89008928103186,\n",
       " 0.003051790677096642,\n",
       " 0.18388671751663876)"
      ]
     },
     "execution_count": 12,
     "metadata": {},
     "output_type": "execute_result"
    }
   ],
   "source": [
    "x = [32,64,96,118,126,144,152,158]\n",
    "y = [17,24,62,49,52,105,130,125]\n",
    "\n",
    "from scipy import stats\n",
    "slope, intercept, r_value , p_value , std_err = stats.linregress(x,y)\n",
    "slope, intercept, r_value , p_value , std_err"
   ]
  },
  {
   "cell_type": "markdown",
   "metadata": {},
   "source": [
    "- 구해진 회귀식을 이용해 그래프를 그림."
   ]
  },
  {
   "cell_type": "code",
   "execution_count": 13,
   "metadata": {},
   "outputs": [
    {
     "data": {
      "image/png": "[encoded data removed]",
      "text/plain": [
       "<Figure size 432x288 with 1 Axes>"
      ]
     },
     "metadata": {
      "needs_background": "light"
     },
     "output_type": "display_data"
    }
   ],
   "source": [
    "import numpy as np\n",
    "import matplotlib.pyplot as plt\n",
    "%matplotlib inline\n",
    "\n",
    "plt.scatter(x,y)\n",
    "plt.plot(x, slope*np.array(x) + intercept, \"-\")\n",
    "plt.show()"
   ]
  },
  {
   "cell_type": "markdown",
   "metadata": {},
   "source": [
    "#### 2) ployfit() : 넘파이의 polyfit()함수는 최소제곱 다항 회귀식을 계산함. \n",
    "\n",
    "- np.polyfit(x,y,deg): deg 는 int 다항식의 차수임. "
   ]
  },
  {
   "cell_type": "markdown",
   "metadata": {},
   "source": [
    "- polyfit() 함수를 이용해서 1차 회귀식을 구하기 \n",
    "- polyfit() 함수는 회귀식을 계산해줌. 즉, 회귀선을 만들어줄 구성요소를 주는것"
   ]
  },
  {
   "cell_type": "code",
   "execution_count": 14,
   "metadata": {},
   "outputs": [
    {
     "data": {
      "text/plain": [
       "array([  0.87962664, -27.35846347])"
      ]
     },
     "execution_count": 14,
     "metadata": {},
     "output_type": "execute_result"
    }
   ],
   "source": [
    "X = [32,64,96,118,126,144,152,158]\n",
    "Y = [17,24,62,49,52,105,130,125]\n",
    "\n",
    "import numpy as np\n",
    "\n",
    "fit = np.polyfit(X,Y, 1)\n",
    "fit"
   ]
  },
  {
   "cell_type": "markdown",
   "metadata": {},
   "source": [
    "- poly1d() : 다항식 함수를 만들때 사용 \n",
    "- ploy1d의 함수를 이용해서 polynomial class를 만들어줘야, 계산을 할수 있나봄.. "
   ]
  },
  {
   "cell_type": "code",
   "execution_count": 15,
   "metadata": {},
   "outputs": [
    {
     "data": {
      "text/plain": [
       "poly1d([  0.87962664, -27.35846347])"
      ]
     },
     "execution_count": 15,
     "metadata": {},
     "output_type": "execute_result"
    }
   ],
   "source": [
    "fit_fn = np.poly1d(fit)  # fit_fn(x) 는 X값을 이용해서 Y 값을 계산함 \n",
    "fit_fn \n",
    "\n",
    "# poly1d([  0.87962664, -27.35846347])  << ploy1d 라는 객체임 "
   ]
  },
  {
   "cell_type": "code",
   "execution_count": 16,
   "metadata": {},
   "outputs": [
    {
     "data": {
      "text/plain": [
       "[<matplotlib.lines.Line2D at 0xd600c08>]"
      ]
     },
     "execution_count": 16,
     "metadata": {},
     "output_type": "execute_result"
    },
    {
     "data": {
      "image/png": "[encoded data removed]",
      "text/plain": [
       "<Figure size 432x288 with 1 Axes>"
      ]
     },
     "metadata": {
      "needs_background": "light"
     },
     "output_type": "display_data"
    }
   ],
   "source": [
    "plt.scatter(X,Y)\n",
    "plt.plot(np.linspace(30,160,100), fit_fn(np.linspace(30,160,100)))"
   ]
  },
  {
   "cell_type": "markdown",
   "metadata": {},
   "source": [
    "- 2차식 만들기"
   ]
  },
  {
   "cell_type": "code",
   "execution_count": 17,
   "metadata": {},
   "outputs": [
    {
     "data": {
      "image/png": "[encoded data removed]",
      "text/plain": [
       "<Figure size 432x288 with 1 Axes>"
      ]
     },
     "metadata": {
      "needs_background": "light"
     },
     "output_type": "display_data"
    }
   ],
   "source": [
    "fit = np.polyfit(x,y, 2)\n",
    "fit_fn = np.poly1d(fit)\n",
    "plt.scatter(x,y)\n",
    "plt.plot(np.linspace(30,160,100), fit_fn(np.linspace(30,160,100)))\n",
    "plt.show()"
   ]
  },
  {
   "cell_type": "code",
   "execution_count": 18,
   "metadata": {},
   "outputs": [
    {
     "data": {
      "image/png": "[encoded data removed]",
      "text/plain": [
       "<Figure size 432x288 with 1 Axes>"
      ]
     },
     "metadata": {
      "needs_background": "light"
     },
     "output_type": "display_data"
    }
   ],
   "source": [
    "# 3차식 \n",
    "fit = np.polyfit(x,y, 3)\n",
    "fit_fn = np.poly1d(fit)\n",
    "plt.scatter(x,y)\n",
    "plt.plot(np.linspace(30,160,100), fit_fn(np.linspace(30,160,100)))\n",
    "plt.show()"
   ]
  },
  {
   "cell_type": "markdown",
   "metadata": {},
   "source": [
    "- 위에 나온 것을 아래의 함수로 만들어 주기. \n",
    "\n",
    "### ployfit을 이용한, 회귀그래프 만들기 ."
   ]
  },
  {
   "cell_type": "code",
   "execution_count": 19,
   "metadata": {},
   "outputs": [
    {
     "name": "stdout",
     "output_type": "stream",
     "text": [
      "[ 1.36900759e-04 -3.06581641e-02  2.52476185e+00 -3.87896220e+01]\n"
     ]
    },
    {
     "data": {
      "image/png": "[encoded data removed]",
      "text/plain": [
       "<Figure size 432x288 with 1 Axes>"
      ]
     },
     "metadata": {
      "needs_background": "light"
     },
     "output_type": "display_data"
    }
   ],
   "source": [
    "def polyfit(X,Y,deg=1):\n",
    "    import numpy as np\n",
    "    fit = np.polyfit(X,Y, deg)\n",
    "    print(fit)\n",
    "    fit_fn = np.poly1d(fit) # 함수 \n",
    "    \n",
    "    sample_x = np.linspace(min(X), max(X), 100) # 함수가 만들어질때, 그래프의 범위를 나타내는것. \n",
    "    plt.scatter(X,Y)\n",
    "    plt.plot(sample_x, fit_fn(sample_x))\n",
    "    plt.show()\n",
    "    \n",
    "X = [32,64,96,118,126,144,152,158]\n",
    "Y = [17,24,62,49,52,105,130,125]\n",
    "\n",
    "polyfit(X,Y,deg=3)"
   ]
  },
  {
   "cell_type": "markdown",
   "metadata": {},
   "source": [
    "## 4절. OLS 클래스와 포뮬러를 이용한 회귀식\n",
    "\n",
    "- 선형 회귀식을 구하기 위해 포뮬러 구문을 사용하여 통계 모형의 형식을 지정할 수 있음.\n",
    "- OLS 클래스의 from_formula() 매서드를 사용하면 포뮬러를 이용하여 다항 회귀식을 구할 수 있음\n",
    "\n",
    "- 회귀분석을 위한 함수들만 아니라 많은 함수들이 포뮬러를 인수로 가질 수 있기 대문에 포뮬러 형식을 잘알아두어야함. "
   ]
  },
  {
   "cell_type": "markdown",
   "metadata": {},
   "source": [
    "- 포뮬러의 기본형식 : 응답변수 ~ 예측 변수  => Y ~ X \n",
    "- sm.OLS.from_formula(\"y~x\", data =df)  # 함수의 인수로 포뮬러 식을 사용할 수 있음. \n",
    "- 추가 설명 변수 + 기호를 사용하여 포함 할 수 있음. 다른 예측 변수 Z를 추가하려면 수식 - Y~X +Z\n",
    "- sm.OLS.from_formula(\"y~x + Z, data =df)"
   ]
  },
  {
   "cell_type": "markdown",
   "metadata": {},
   "source": [
    "#### 포뮬러를 이용해서 회귀식을 구할 수 있습니다. "
   ]
  },
  {
   "cell_type": "code",
   "execution_count": 20,
   "metadata": {},
   "outputs": [],
   "source": [
    "x = [32,64,96,118,126,144,152,158]\n",
    "y = [17,24,62,49,52,105,130,125]"
   ]
  },
  {
   "cell_type": "code",
   "execution_count": 21,
   "metadata": {},
   "outputs": [],
   "source": [
    "import numpy as np\n",
    "import pandas as pd\n",
    "\n",
    "df = pd.DataFrame(np.c_[x,y], columns = [\"x\",\"y\"])"
   ]
  },
  {
   "cell_type": "markdown",
   "metadata": {},
   "source": [
    "- 포뮬러를 이용하여 방정식 이용하여 방정식 이용해서 선형회귀식을 구함.\n",
    "- 구하는 회귀식은 1차방정식(직선)"
   ]
  },
  {
   "cell_type": "code",
   "execution_count": 22,
   "metadata": {},
   "outputs": [
    {
     "data": {
      "text/plain": [
       "Intercept   -27.358463\n",
       "x             0.879627\n",
       "dtype: float64"
      ]
     },
     "execution_count": 22,
     "metadata": {},
     "output_type": "execute_result"
    }
   ],
   "source": [
    "import statsmodels.api as sm\n",
    "\n",
    "model = sm.OLS.from_formula(\"y~x\", data =df)\n",
    "result = model.fit()\n",
    "result.params"
   ]
  },
  {
   "cell_type": "markdown",
   "metadata": {},
   "source": [
    "#### 상수항을 포함하지 않는 4차 방벙식으로 선형회귀식을 구함 \n",
    "- I() 함수는 포뮬러가 수식이 포함할 경우에 사용함. "
   ]
  },
  {
   "cell_type": "code",
   "execution_count": 27,
   "metadata": {},
   "outputs": [
    {
     "data": {
      "text/plain": [
       "Intercept    53.045089\n",
       "x            -2.843527\n",
       "I(x ** 2)     0.070708\n",
       "I(x ** 3)    -0.000627\n",
       "I(x ** 4)     0.000002\n",
       "dtype: float64"
      ]
     },
     "execution_count": 27,
     "metadata": {},
     "output_type": "execute_result"
    }
   ],
   "source": [
    "import statsmodels.api as sm\n",
    "\n",
    "model2 = sm.OLS.from_formula(\"y~x+I(x**2)+I(x**3)+I(x**4)\", data=df)\n",
    "result2 = model2.fit()\n",
    "result2.params"
   ]
  },
  {
   "cell_type": "raw",
   "metadata": {},
   "source": [
    "sample_x = np.linspace(30,160,100)  \n",
    "\n",
    "# 이렇게는 실행이 되지 않음. 따라서 데이터 프레임으로 바꿔줘야 함"
   ]
  },
  {
   "cell_type": "code",
   "execution_count": 30,
   "metadata": {},
   "outputs": [
    {
     "data": {
      "image/png": "[encoded data removed]",
      "text/plain": [
       "<Figure size 432x288 with 1 Axes>"
      ]
     },
     "metadata": {
      "needs_background": "light"
     },
     "output_type": "display_data"
    }
   ],
   "source": [
    "x_df = pd.DataFrame(x, columns = [\"x\"])\n",
    "y_ = result2.predict(x_df)\n",
    "\n",
    "plt.scatter(x,y)\n",
    "plt.plot(x, y_)\n",
    "plt.show()"
   ]
  },
  {
   "cell_type": "markdown",
   "metadata": {},
   "source": [
    "## 코로나와 선형회귀"
   ]
  },
  {
   "cell_type": "code",
   "execution_count": 77,
   "metadata": {},
   "outputs": [],
   "source": [
    "y = [12,18,34,35,27,26,29,27,19,13,15,13,32,12,20,23,25,16,19,40,79,58,39,27,35,38,49,39,39,51,57,38]\n",
    "x = [12,18,34,35,27,26,29,27,19,13,15,13,32,12,20,23,25,16,19,40,79,58,39,27,35,38,49,39,39,51,57,38]"
   ]
  },
  {
   "cell_type": "code",
   "execution_count": 78,
   "metadata": {},
   "outputs": [],
   "source": [
    "x = np.arange(len(x))"
   ]
  },
  {
   "cell_type": "code",
   "execution_count": 79,
   "metadata": {},
   "outputs": [],
   "source": [
    "df= pd.DataFrame(np.c_[x,y], columns = [\"x\",\"y\"])"
   ]
  },
  {
   "cell_type": "code",
   "execution_count": 95,
   "metadata": {},
   "outputs": [],
   "source": [
    "model = sm.OLS.from_formula(\"y~x+I(x**2)+I(x**3)+I(x**4)+I(x**5)\",data =df)\n",
    "result = model.fit()\n",
    "#result.params\n"
   ]
  },
  {
   "cell_type": "code",
   "execution_count": 96,
   "metadata": {},
   "outputs": [],
   "source": [
    "sample_x = np.linspace(min(x), max(x), 100) \n",
    "x_df = pd.DataFrame(sample_x, columns = [\"x\"])"
   ]
  },
  {
   "cell_type": "code",
   "execution_count": 97,
   "metadata": {},
   "outputs": [
    {
     "data": {
      "image/png": "[encoded data removed]",
      "text/plain": [
       "<Figure size 432x288 with 1 Axes>"
      ]
     },
     "metadata": {
      "needs_background": "light"
     },
     "output_type": "display_data"
    }
   ],
   "source": [
    "plt.scatter(x,y)\n",
    "plt.plot(sample_x, result.predict(x_df))\n",
    "plt.show()"
   ]
  },
  {
   "cell_type": "code",
   "execution_count": null,
   "metadata": {},
   "outputs": [],
   "source": []
  },
  {
   "cell_type": "code",
   "execution_count": null,
   "metadata": {},
   "outputs": [],
   "source": []
  },
  {
   "cell_type": "code",
   "execution_count": null,
   "metadata": {},
   "outputs": [],
   "source": []
  },
  {
   "cell_type": "code",
   "execution_count": null,
   "metadata": {},
   "outputs": [],
   "source": []
  },
  {
   "cell_type": "code",
   "execution_count": 116,
   "metadata": {},
   "outputs": [
    {
     "data": {
      "image/png": "[encoded data removed]",
      "text/plain": [
       "<Figure size 432x288 with 1 Axes>"
      ]
     },
     "metadata": {
      "needs_background": "light"
     },
     "output_type": "display_data"
    }
   ],
   "source": [
    "y = [12,18,34,35,27,26,29,27,19,13,15,13,32,12,20,23,25,16,19,40,79,58,39,27,35,38,49,39,39,51,57,38]\n",
    "x = np.arange(len(y))\n",
    "df= pd.DataFrame(np.c_[x,y], columns = [\"x\",\"y\"])\n",
    "\n",
    "model = sm.OLS.from_formula(\"y~x+I(x**2)+I(x**3)+I(x**4)+I(x**5)\",data =df)\n",
    "result= model.fit_regularized(L1_wt=1, alpha =0.01) # 정규화를 한다는 의미 \n",
    "sample_x = np.linspace(min(x), max(x), 100) \n",
    "x_df = pd.DataFrame(sample_x, columns = [\"x\"])\n",
    "plt.scatter(x,y)\n",
    "plt.plot(sample_x, result.predict(x_df))\n",
    "plt.show()\n"
   ]
  },
  {
   "cell_type": "code",
   "execution_count": 117,
   "metadata": {},
   "outputs": [],
   "source": [
    "def make_nonlinear_data(seed  =0 ):\n",
    "    np.random.seed(seed)\n",
    "    n_samples = 30\n",
    "    x = np.sort(np.random.rand(n_samples))\n",
    "    y = np.sin(2*np.pi*x) + np.random.randn(n_samples)*0.1\n",
    "    X = x[:,np.newaxis] # 대문자 x 는 원본 데이타\n",
    "    return X,y"
   ]
  },
  {
   "cell_type": "code",
   "execution_count": 135,
   "metadata": {},
   "outputs": [],
   "source": [
    "X,y = make_nonlinear_data()\n",
    "df = pd.DataFrame(np.c_[x,y], columns = [\"x\",\"y\"])"
   ]
  },
  {
   "cell_type": "code",
   "execution_count": 141,
   "metadata": {},
   "outputs": [],
   "source": [
    "def plot_statsmodels(result):\n",
    "    plt.scatter(X,y)\n",
    "    x = np.linspace(0,1,1000)  #  x그래프가 매끄럽게 하려고, 샘플링한것 \n",
    "    x_df = pd.DataFrame(x, columns = [\"x\"])\n",
    "    x_df = sm.add_constant(x_df)\n",
    "    plt.plot(x, result.predict(x_df).values)\n",
    "    plt.show()"
   ]
  },
  {
   "cell_type": "code",
   "execution_count": 142,
   "metadata": {},
   "outputs": [],
   "source": [
    "model = sm.OLS.from_formula(\"y~x+I(x**2)+I(x**3)+I(x**4)+I(x**5)\",data =df)\n",
    "result= model.fit_regularized(L1_wt=0.5, alpha =0.01) # 정규화를 한다는 의미\n"
   ]
  },
  {
   "cell_type": "code",
   "execution_count": 143,
   "metadata": {},
   "outputs": [
    {
     "data": {
      "text/plain": [
       "<statsmodels.base.elastic_net.RegularizedResultsWrapper at 0x16135b88>"
      ]
     },
     "execution_count": 143,
     "metadata": {},
     "output_type": "execute_result"
    }
   ],
   "source": [
    "result"
   ]
  },
  {
   "cell_type": "code",
   "execution_count": 144,
   "metadata": {},
   "outputs": [
    {
     "data": {
      "image/png": "[encoded data removed]",
      "text/plain": [
       "<Figure size 432x288 with 1 Axes>"
      ]
     },
     "metadata": {
      "needs_background": "light"
     },
     "output_type": "display_data"
    }
   ],
   "source": [
    "plot_statsmodels(result)"
   ]
  },
  {
   "cell_type": "markdown",
   "metadata": {},
   "source": [
    "## 5절. 정규화 선형회귀\n",
    "- 정규화를 사용하면, 차수가 커져도 모양이 크게 달라지지 않는다"
   ]
  },
  {
   "cell_type": "code",
   "execution_count": null,
   "metadata": {},
   "outputs": [],
   "source": [
    "def plot_statsmodels(result):\n",
    "    plt.scatter(X,y)\n",
    "    x = np.linspace(0,1,1000)  #  x그래프가 매끄럽게 하려고, 샘플링한것 \n",
    "    x_df = pd.DataFrame(x, columns = [\"x\"])\n",
    "    x_df = sm.add_constant(x_df)\n",
    "    plt.plot(x, result.predict(x_df).values)\n",
    "    plt.show()"
   ]
  },
  {
   "cell_type": "code",
   "execution_count": 148,
   "metadata": {},
   "outputs": [],
   "source": [
    "model = sm.OLS.from_formula(\"y~x+I(x**2)+I(x**3)+I(x**4)+I(x**5)\",data =df)\n",
    "result= model.fit_regularized(L1_wt=1.0, alpha =0.01) # 정규화를 한다는 의미"
   ]
  },
  {
   "cell_type": "code",
   "execution_count": 149,
   "metadata": {},
   "outputs": [
    {
     "data": {
      "text/plain": [
       "<statsmodels.base.elastic_net.RegularizedResultsWrapper at 0x162b8c88>"
      ]
     },
     "execution_count": 149,
     "metadata": {},
     "output_type": "execute_result"
    }
   ],
   "source": [
    "result"
   ]
  },
  {
   "cell_type": "code",
   "execution_count": 150,
   "metadata": {},
   "outputs": [
    {
     "data": {
      "image/png": "[encoded data removed]",
      "text/plain": [
       "<Figure size 432x288 with 1 Axes>"
      ]
     },
     "metadata": {
      "needs_background": "light"
     },
     "output_type": "display_data"
    }
   ],
   "source": [
    "plot_statsmodels(result)"
   ]
  },
  {
   "cell_type": "code",
   "execution_count": 151,
   "metadata": {},
   "outputs": [],
   "source": [
    "from sklearn.preprocessing import PolynomialFeatures\n",
    "from sklearn.pipeline import make_pipeline\n",
    "from sklearn.linear_model import LinearRegression"
   ]
  },
  {
   "cell_type": "code",
   "execution_count": 152,
   "metadata": {},
   "outputs": [
    {
     "data": {
      "text/plain": [
       "PolynomialFeatures(degree=9, include_bias=True, interaction_only=False,\n",
       "                   order='C')"
      ]
     },
     "execution_count": 152,
     "metadata": {},
     "output_type": "execute_result"
    }
   ],
   "source": [
    "poly = PolynomialFeatures(9)\n",
    "poly"
   ]
  },
  {
   "cell_type": "code",
   "execution_count": 154,
   "metadata": {},
   "outputs": [
    {
     "data": {
      "text/plain": [
       "Pipeline(memory=None,\n",
       "         steps=[('polynomialfeatures',\n",
       "                 PolynomialFeatures(degree=9, include_bias=True,\n",
       "                                    interaction_only=False, order='C')),\n",
       "                ('linearregression',\n",
       "                 LinearRegression(copy_X=True, fit_intercept=True, n_jobs=None,\n",
       "                                  normalize=False))],\n",
       "         verbose=False)"
      ]
     },
     "execution_count": 154,
     "metadata": {},
     "output_type": "execute_result"
    }
   ],
   "source": [
    "model = make_pipeline(poly, LinearRegression())\n",
    "model.fit(X,y)"
   ]
  },
  {
   "cell_type": "code",
   "execution_count": 155,
   "metadata": {},
   "outputs": [],
   "source": [
    "def plot_model(model):\n",
    "    plt.scatter(X,y)\n",
    "    x = np.linspace(0,1,1000)\n",
    "    plt.plot(x, model.predict(x[:,np.newaxis]))\n",
    "    plt.show()"
   ]
  },
  {
   "cell_type": "code",
   "execution_count": 156,
   "metadata": {},
   "outputs": [
    {
     "data": {
      "image/png": "[encoded data removed]",
      "text/plain": [
       "<Figure size 432x288 with 1 Axes>"
      ]
     },
     "metadata": {
      "needs_background": "light"
     },
     "output_type": "display_data"
    }
   ],
   "source": [
    "plot_model(model)"
   ]
  },
  {
   "cell_type": "code",
   "execution_count": null,
   "metadata": {},
   "outputs": [],
   "source": [
    "# 위에 것 정리 \n",
    "\n",
    "from sklearn.preprocessing import PolynomialFeatures\n",
    "from sklearn.pipeline import make_pipeline\n",
    "from sklearn.linear_model import LinearRegression\n",
    "\n",
    "poly = PolynomialFeatures(9)\n",
    "poly\n",
    "\n",
    "model = make_pipeline(poly, LinearRegression())\n",
    "model.fit(X,y)\n",
    "\n",
    "def plot_model(model):\n",
    "    plt.scatter(X,y)\n",
    "    x = np.linspace(0,1,1000)\n",
    "    plt.plot(x, model.predict(x[:,np.newaxis]))\n",
    "    plt.show()\n",
    "    \n",
    "plot_model(model)"
   ]
  },
  {
   "cell_type": "code",
   "execution_count": null,
   "metadata": {},
   "outputs": [],
   "source": []
  },
  {
   "cell_type": "code",
   "execution_count": null,
   "metadata": {},
   "outputs": [],
   "source": [
    "l1_wt  = 0  \n",
    "\n",
    "# 1 이면 lasoo\n",
    " 0 이면 ridge 모형을 만들어줌 "
   ]
  },
  {
   "cell_type": "markdown",
   "metadata": {},
   "source": [
    "### 5.2. statsmodels 의 정규화 회귀 모형"
   ]
  },
  {
   "cell_type": "markdown",
   "metadata": {},
   "source": [
    "#### 1) 회귀 모형 "
   ]
  },
  {
   "cell_type": "code",
   "execution_count": null,
   "metadata": {},
   "outputs": [],
   "source": []
  },
  {
   "cell_type": "code",
   "execution_count": null,
   "metadata": {},
   "outputs": [],
   "source": []
  },
  {
   "cell_type": "code",
   "execution_count": null,
   "metadata": {},
   "outputs": [],
   "source": []
  },
  {
   "cell_type": "code",
   "execution_count": null,
   "metadata": {},
   "outputs": [],
   "source": []
  },
  {
   "cell_type": "code",
   "execution_count": null,
   "metadata": {},
   "outputs": [],
   "source": []
  },
  {
   "cell_type": "markdown",
   "metadata": {},
   "source": [
    "#### 2) 잔차의 정규성\n",
    "\n",
    "- 잔차의 정규성은 데이터 탐색 기능을 이용하는 것이아니고 그래프를 보고 판단하는 것. \n",
    "- 위의 summary로 알수가 없다. 눈으로 보고 확인해야한다. "
   ]
  },
  {
   "cell_type": "code",
   "execution_count": null,
   "metadata": {},
   "outputs": [],
   "source": [
    "feature_cols = list(boston_df.columns[:-1])\n",
    "while True :\n",
    "    formula = \"medv~\" + \"+\".join(feature_cols)+\"-1\"\n",
    "    vif = get_vif(formula, boston_df)\n",
    "    if vif.iloc[0,0] > 10:\n",
    "        feature_cols.remove(vif.iloc[0,1])\n",
    "    else :\n",
    "        break\n",
    "        \n",
    "pd.DataFrame(vif)\n",
    "\n",
    "VIF Factor 값이 10 이하인 아이들만 남도록 while 반복문 돌리는 코드입니당~"
   ]
  }
 ],
 "metadata": {
  "kernelspec": {
   "display_name": "Python 3",
   "language": "python",
   "name": "python3"
  },
  "language_info": {
   "codemirror_mode": {
    "name": "ipython",
    "version": 3
   },
   "file_extension": ".py",
   "mimetype": "text/x-python",
   "name": "python",
   "nbconvert_exporter": "python",
   "pygments_lexer": "ipython3",
   "version": "3.7.6"
  }
 },
 "nbformat": 4,
 "nbformat_minor": 4
}

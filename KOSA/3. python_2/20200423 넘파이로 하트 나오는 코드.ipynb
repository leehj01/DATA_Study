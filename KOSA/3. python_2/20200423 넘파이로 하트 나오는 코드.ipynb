{
 "cells": [
  {
   "cell_type": "code",
   "execution_count": null,
   "metadata": {},
   "outputs": [],
   "source": []
  },
  {
   "cell_type": "code",
   "execution_count": null,
   "metadata": {},
   "outputs": [],
   "source": []
  },
  {
   "cell_type": "code",
   "execution_count": 14,
   "metadata": {},
   "outputs": [],
   "source": []
  },
  {
   "cell_type": "code",
   "execution_count": 16,
   "metadata": {},
   "outputs": [
    {
     "data": {
      "image/png": "[encoded data removed]",
      "text/plain": [
       "<Figure size 432x288 with 1 Axes>"
      ]
     },
     "metadata": {
      "needs_background": "light"
     },
     "output_type": "display_data"
    }
   ],
   "source": [
    "import numpy as np\n",
    "palette = np.array([[0,0,0],   # 검정\n",
    "                   [255,0,0], # 빨강\n",
    "                   [0,255,0], # 초록\n",
    "                   [0,0,255], # 파랑\n",
    "                   [255,255,255]], #흰색\n",
    "                  dtype=np.uint8) # unsigend int 형으로 타입을 지정\n",
    "\n",
    "image_index = np.array([[4,4,4,4,4,4,4,4,4,4,4,4,4,4,4,4,4,4,4,4,4,4],\n",
    "                        [4,4,4,4,4,4,4,4,4,4,4,4,4,4,4,4,4,4,4,4,4,4],\n",
    "                        [4,4,4,4,4,4,1,1,1,4,4,4,4,4,1,1,1,4,4,4,4,4],\n",
    "                        [4,4,4,4,4,1,1,1,1,1,4,4,4,1,1,1,1,1,4,4,4,4],\n",
    "                        [4,4,4,4,1,1,1,1,1,1,1,4,1,1,1,1,1,1,1,4,4,4],\n",
    "                        [4,4,4,1,1,1,1,1,1,1,1,1,1,1,1,1,1,1,1,1,4,4],\n",
    "                        [4,4,1,1,1,1,1,1,1,1,1,1,1,1,1,1,1,1,1,1,1,4],\n",
    "                        [4,4,1,1,1,1,1,1,1,1,1,1,1,1,1,1,4,4,1,1,1,4],\n",
    "                        [4,4,4,1,1,1,1,1,1,1,1,1,1,1,1,1,4,1,1,1,4,4],\n",
    "                        [4,4,4,4,1,1,1,1,1,1,1,1,1,1,1,4,1,1,1,4,4,4],\n",
    "                        [4,4,4,4,4,1,1,1,1,1,1,1,1,1,4,4,1,1,4,4,4,4],\n",
    "                        [4,4,4,4,4,4,1,1,1,1,1,1,1,4,4,1,1,4,4,4,4,4],\n",
    "                        [4,4,4,4,4,4,4,1,1,1,1,1,4,1,1,1,4,4,4,4,4,4],\n",
    "                        [4,4,4,4,4,4,4,4,1,1,1,1,1,1,1,4,4,4,4,4,4,4],\n",
    "                        [4,4,4,4,4,4,4,4,4,1,1,1,1,1,4,4,4,4,4,4,4,4],\n",
    "                        [4,4,4,4,4,4,4,4,4,4,4,1,4,4,4,4,4,4,4,4,4,4],\n",
    "                        [4,4,4,4,4,4,4,4,4,4,4,0,4,4,4,4,4,4,4,4,4,4],\n",
    "                       ])\n",
    "image_data =palette[image_index]\n",
    "import matplotlib.pyplot as plt\n",
    "%matplotlib inline\n",
    "plt.imshow(image_data, interpolation = 'nearest')\n",
    "plt.show()"
   ]
  },
  {
   "cell_type": "code",
   "execution_count": 11,
   "metadata": {},
   "outputs": [],
   "source": []
  },
  {
   "cell_type": "code",
   "execution_count": null,
   "metadata": {},
   "outputs": [],
   "source": []
  }
 ],
 "metadata": {
  "kernelspec": {
   "display_name": "Python 3",
   "language": "python",
   "name": "python3"
  },
  "language_info": {
   "codemirror_mode": {
    "name": "ipython",
    "version": 3
   },
   "file_extension": ".py",
   "mimetype": "text/x-python",
   "name": "python",
   "nbconvert_exporter": "python",
   "pygments_lexer": "ipython3",
   "version": "3.7.6"
  }
 },
 "nbformat": 4,
 "nbformat_minor": 4
}

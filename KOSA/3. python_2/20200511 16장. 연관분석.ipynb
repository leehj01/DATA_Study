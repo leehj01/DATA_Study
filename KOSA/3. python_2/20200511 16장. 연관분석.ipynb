{
 "cells": [
  {
   "cell_type": "markdown",
   "metadata": {},
   "source": [
    "## 1절. 연관분석 개요\n",
    "### 1.1. 연관분석\n",
    "### 1.2. 연관분석 평가\n",
    "\n",
    "- pip install apyori \n",
    "- 데이터 수가 많으면 메모리를 많이 잡아먹는 경우가 있음. \n",
    "- 지지도 : 전체 트랜젝션에서 항목 집합 (x,y)를 포함하는 트랜잭션의 비율 \n",
    "- 신뢰도 : x 를 포함하는 트랜잭션 중 y도 포함하는 트랜잭션의 비율 \n",
    "- 향상도 : lift = p(y|x)/p(y) = 신뢰도 / p(y) - 관계파악 \n",
    "- 파이계수\n",
    "- IS 측도 "
   ]
  },
  {
   "cell_type": "markdown",
   "metadata": {},
   "source": [
    "## 2절. 트랜잭션 데이터\n",
    "- 트랜잭션 : 서로 관련있는 데이터의 모음임. \n",
    "- 연관분석시 트랜잭션으로 부터 연관규칙을 도출함. \n",
    "\n",
    "### 2.1. CSV파일로부터 트랜잭션 데이터 생성"
   ]
  },
  {
   "cell_type": "code",
   "execution_count": 2,
   "metadata": {},
   "outputs": [],
   "source": [
    "import csv\n",
    "with open(\"basket.csv\",'r',encoding=\"UTF8\") as cf:\n",
    "    transactions = []\n",
    "    r = csv.reader(cf) # pd로 읽으면 df이 되기때문에 csv로 불러와야함\n",
    "    for row in r:\n",
    "        transactions.append(row)"
   ]
  },
  {
   "cell_type": "code",
   "execution_count": 3,
   "metadata": {},
   "outputs": [
    {
     "data": {
      "text/plain": [
       "[['소주', '콜라', '와인'],\n",
       " ['소주', '오렌지주스', '콜라'],\n",
       " ['콜라', '맥주', '와인'],\n",
       " ['소주', '콜라', '맥주'],\n",
       " ['오렌지주스', '와인']]"
      ]
     },
     "execution_count": 3,
     "metadata": {},
     "output_type": "execute_result"
    }
   ],
   "source": [
    "transactions"
   ]
  },
  {
   "cell_type": "markdown",
   "metadata": {},
   "source": [
    "## 연관분석\n",
    "### 3.1. 연관규칙 생성\n",
    "- apriori(transactions(리스트의 리스트), **kwargs)"
   ]
  },
  {
   "cell_type": "code",
   "execution_count": 4,
   "metadata": {},
   "outputs": [
    {
     "name": "stdout",
     "output_type": "stream",
     "text": [
      "<generator object apriori at 0x00000000051412C8>\n"
     ]
    },
    {
     "data": {
      "text/plain": [
       "list"
      ]
     },
     "execution_count": 4,
     "metadata": {},
     "output_type": "execute_result"
    }
   ],
   "source": [
    "from apyori import apriori \n",
    "rules = apriori(transactions,min_support = 0.1, min_confidence=0.1)\n",
    "print(rules)\n",
    "results = list(rules)\n",
    "type(results)"
   ]
  },
  {
   "cell_type": "code",
   "execution_count": 6,
   "metadata": {},
   "outputs": [
    {
     "data": {
      "text/plain": [
       "RelationRecord(items=frozenset({'맥주'}), support=0.4, ordered_statistics=[OrderedStatistic(items_base=frozenset(), items_add=frozenset({'맥주'}), confidence=0.4, lift=1.0)])"
      ]
     },
     "execution_count": 6,
     "metadata": {},
     "output_type": "execute_result"
    }
   ],
   "source": [
    "results[0]\n",
    "\n",
    "# frozenset "
   ]
  },
  {
   "cell_type": "code",
   "execution_count": 7,
   "metadata": {},
   "outputs": [
    {
     "data": {
      "text/plain": [
       "RelationRecord(items=frozenset({'소주', '콜라'}), support=0.6, ordered_statistics=[OrderedStatistic(items_base=frozenset(), items_add=frozenset({'소주', '콜라'}), confidence=0.6, lift=1.0), OrderedStatistic(items_base=frozenset({'소주'}), items_add=frozenset({'콜라'}), confidence=1.0, lift=1.25), OrderedStatistic(items_base=frozenset({'콜라'}), items_add=frozenset({'소주'}), confidence=0.7499999999999999, lift=1.2499999999999998)])"
      ]
     },
     "execution_count": 7,
     "metadata": {},
     "output_type": "execute_result"
    }
   ],
   "source": [
    "results[10]"
   ]
  },
  {
   "cell_type": "markdown",
   "metadata": {},
   "source": [
    "### 3.2. 연관 규칙 조회"
   ]
  },
  {
   "cell_type": "raw",
   "metadata": {},
   "source": [
    "SupportRecord = namedtuple(\"SupportRecord\",(\"items\",\"support\"))\n",
    "RelationRecord = namedtuple(\"RelationRecord\",\n",
    "                            SupportRecord._fields + (\"ordered_statistics\",))\n",
    "OrderedStatistic = namedtuple(\"OrderedStatistic\",\n",
    "                             (\"items_base\",\"items_add\",\"confidence\",\"lift\",))\n"
   ]
  },
  {
   "cell_type": "code",
   "execution_count": 19,
   "metadata": {},
   "outputs": [
    {
     "name": "stdout",
     "output_type": "stream",
     "text": [
      "lhs => rhs \\ tsupport \\ tconfidence \\ tlift\n",
      "[] => ['맥주'] \t0.4000\t0.4000\t1.0000\n",
      "[] => ['소주'] \t0.6000\t0.6000\t1.0000\n",
      "[] => ['오렌지주스'] \t0.4000\t0.4000\t1.0000\n",
      "[] => ['와인'] \t0.6000\t0.6000\t1.0000\n",
      "[] => ['콜라'] \t0.8000\t0.8000\t1.0000\n",
      "[] => ['맥주', '소주'] \t0.2000\t0.2000\t1.0000\n",
      "['맥주'] => ['소주'] \t0.2000\t0.5000\t0.8333\n",
      "['소주'] => ['맥주'] \t0.2000\t0.3333\t0.8333\n",
      "[] => ['맥주', '와인'] \t0.2000\t0.2000\t1.0000\n",
      "['맥주'] => ['와인'] \t0.2000\t0.5000\t0.8333\n",
      "['와인'] => ['맥주'] \t0.2000\t0.3333\t0.8333\n",
      "[] => ['맥주', '콜라'] \t0.4000\t0.4000\t1.0000\n",
      "['맥주'] => ['콜라'] \t0.4000\t1.0000\t1.2500\n",
      "['콜라'] => ['맥주'] \t0.4000\t0.5000\t1.2500\n",
      "[] => ['소주', '오렌지주스'] \t0.2000\t0.2000\t1.0000\n",
      "['소주'] => ['오렌지주스'] \t0.2000\t0.3333\t0.8333\n",
      "['오렌지주스'] => ['소주'] \t0.2000\t0.5000\t0.8333\n",
      "[] => ['와인', '소주'] \t0.2000\t0.2000\t1.0000\n",
      "['소주'] => ['와인'] \t0.2000\t0.3333\t0.5556\n",
      "['와인'] => ['소주'] \t0.2000\t0.3333\t0.5556\n",
      "[] => ['소주', '콜라'] \t0.6000\t0.6000\t1.0000\n",
      "['소주'] => ['콜라'] \t0.6000\t1.0000\t1.2500\n",
      "['콜라'] => ['소주'] \t0.6000\t0.7500\t1.2500\n",
      "[] => ['와인', '오렌지주스'] \t0.2000\t0.2000\t1.0000\n",
      "['오렌지주스'] => ['와인'] \t0.2000\t0.5000\t0.8333\n",
      "['와인'] => ['오렌지주스'] \t0.2000\t0.3333\t0.8333\n",
      "[] => ['오렌지주스', '콜라'] \t0.2000\t0.2000\t1.0000\n",
      "['오렌지주스'] => ['콜라'] \t0.2000\t0.5000\t0.6250\n",
      "['콜라'] => ['오렌지주스'] \t0.2000\t0.2500\t0.6250\n",
      "[] => ['와인', '콜라'] \t0.4000\t0.4000\t1.0000\n",
      "['와인'] => ['콜라'] \t0.4000\t0.6667\t0.8333\n",
      "['콜라'] => ['와인'] \t0.4000\t0.5000\t0.8333\n",
      "[] => ['맥주', '소주', '콜라'] \t0.2000\t0.2000\t1.0000\n",
      "['맥주'] => ['소주', '콜라'] \t0.2000\t0.5000\t0.8333\n",
      "['소주'] => ['맥주', '콜라'] \t0.2000\t0.3333\t0.8333\n",
      "['콜라'] => ['맥주', '소주'] \t0.2000\t0.2500\t1.2500\n",
      "['맥주', '소주'] => ['콜라'] \t0.2000\t1.0000\t1.2500\n",
      "['맥주', '콜라'] => ['소주'] \t0.2000\t0.5000\t0.8333\n",
      "['소주', '콜라'] => ['맥주'] \t0.2000\t0.3333\t0.8333\n",
      "[] => ['맥주', '와인', '콜라'] \t0.2000\t0.2000\t1.0000\n",
      "['맥주'] => ['와인', '콜라'] \t0.2000\t0.5000\t1.2500\n",
      "['와인'] => ['맥주', '콜라'] \t0.2000\t0.3333\t0.8333\n",
      "['콜라'] => ['맥주', '와인'] \t0.2000\t0.2500\t1.2500\n",
      "['맥주', '와인'] => ['콜라'] \t0.2000\t1.0000\t1.2500\n",
      "['맥주', '콜라'] => ['와인'] \t0.2000\t0.5000\t0.8333\n",
      "['와인', '콜라'] => ['맥주'] \t0.2000\t0.5000\t1.2500\n",
      "[] => ['오렌지주스', '소주', '콜라'] \t0.2000\t0.2000\t1.0000\n",
      "['소주'] => ['오렌지주스', '콜라'] \t0.2000\t0.3333\t1.6667\n",
      "['오렌지주스'] => ['소주', '콜라'] \t0.2000\t0.5000\t0.8333\n",
      "['콜라'] => ['소주', '오렌지주스'] \t0.2000\t0.2500\t1.2500\n",
      "['소주', '오렌지주스'] => ['콜라'] \t0.2000\t1.0000\t1.2500\n",
      "['소주', '콜라'] => ['오렌지주스'] \t0.2000\t0.3333\t0.8333\n",
      "['콜라', '오렌지주스'] => ['소주'] \t0.2000\t1.0000\t1.6667\n",
      "[] => ['와인', '소주', '콜라'] \t0.2000\t0.2000\t1.0000\n",
      "['소주'] => ['와인', '콜라'] \t0.2000\t0.3333\t0.8333\n",
      "['와인'] => ['소주', '콜라'] \t0.2000\t0.3333\t0.5556\n",
      "['콜라'] => ['와인', '소주'] \t0.2000\t0.2500\t1.2500\n",
      "['와인', '소주'] => ['콜라'] \t0.2000\t1.0000\t1.2500\n",
      "['소주', '콜라'] => ['와인'] \t0.2000\t0.3333\t0.5556\n",
      "['와인', '콜라'] => ['소주'] \t0.2000\t0.5000\t0.8333\n"
     ]
    }
   ],
   "source": [
    "print(\"lhs => rhs \\ tsupport \\ tconfidence \\ tlift\")\n",
    "for row in results :\n",
    "    support = row[1]\n",
    "    ordered_stat = row[2]\n",
    "    for ordered_item in ordered_stat:\n",
    "        lhs = [x for x in ordered_item[0]]\n",
    "        rhs = [x for x in ordered_item[1]]\n",
    "        confidence = ordered_item[2]\n",
    "        lift = ordered_item[3]\n",
    "        print(lhs, \"=>\", rhs, \"\\t{:>5.4f}\\t{:>5.4f}\\t{:>5.4f}\".\\\n",
    "             format(support,confidence,lift))"
   ]
  },
  {
   "cell_type": "markdown",
   "metadata": {},
   "source": [
    "## 4절"
   ]
  },
  {
   "cell_type": "markdown",
   "metadata": {},
   "source": [
    "### 4.3. 기사 수집 및 형태소 분석 "
   ]
  },
  {
   "cell_type": "code",
   "execution_count": null,
   "metadata": {},
   "outputs": [],
   "source": [
    "from konlpy.tag import Kkma\n",
    "kkma = Kkma()\n",
    "\n",
    "import requests \n",
    "from bs4 import BeautifulSoup\n",
    "url = 'http://fs.jtbc.joins.com/RSS/economy.xml'\n",
    "response = requests.get(url)\n",
    "soup = BeautifulSoup(response.content,\"xml\")\n",
    "link_list = soup.select('item link')\n",
    "\n",
    "news = []\n",
    "for link in link_list:\n",
    "    news_url = link.text\n",
    "    news_response = requests.get(news_url)    \n",
    "    news_soup = BeautifulSoup(news_response.content,\"html.parser\")\n",
    "    news_content = news_soup.select_one(\".article_content\")\n",
    "    news_n = kkma.nouns(news_content.text)\n",
    "    news_nouns = filter(lambda word : len(word)>1 , news_n)\n",
    "    news.append(list(news_nouns))\n",
    "    \n",
    "result = []\n",
    "for i in range(len(news)):\n",
    "    result.extend(news[i])\n",
    "result= \" \".join(result)"
   ]
  },
  {
   "cell_type": "code",
   "execution_count": 5,
   "metadata": {},
   "outputs": [
    {
     "data": {
      "text/plain": [
       "'인용 인용보도 보도 프로그램 프로그램명 아침 저작권 방송 07 00 08 30 진행 황남희 남희 앵커 현재 상황 코로나 여파 일자리 문제 지금 심상 심상치가 치가 위기 국민 고용 고용보험 보험 필요 필요하다 하다 얘기 재인 대통령 전국민 안전망 계획 오늘 12 12일 전문가 정철 경제 경제평론가 평론가 시대 기초 급물살일용직 물살 일용직 프리랜서 고용보험국민취업 취업 지원 고용보험법 보험법 개정안 환노위 통과 통과예술인 예술인 실업 실업급여 급여 첫발 첫발보험설계사 설계사 특수 특수고용노동자 노동자 제외 제외보험료 보험료 부담 소상공인 상공인 자영업자 우려 우려전 대상 확대 해외 사례 공식화 과제 재원 마련 방안 자세한 세한 내용 영상 확인 정유 정유업계 업계 적자 4조 쇼크 현실화 현실화1분기 분기 영업 영업손실 손실 사상 최악 정유사 4곳 코로나 사태 국제 유가 폭락 영향 1위 업체 노베이션 베이 1조 7000 7000억 원대 칼텍스 텍스 에쓰 에쓰오일 오일 초반 초반대의 대의 충격 5월 수출 46 10 10일 수출금액 금액 지난해 기간 50 관세청 조사 결과 지난달 이후 정도 승용 승용차가 차가 80 석유 석유제품 제품 75 감소 수도권 광역시 분양권 전매 금지 금지서울 서울 경기 일부 지역 시행 금지가 지가 전역 지방 적용 8월 최근 인천 시흥 등에 투기 정부 규제 조치 확대 앵커 긴급 재난 재난지원금 지원금 신청 어제 11 11일 시작 신용 신용카드 카드 체크 충전 사람 우선 대상 하루 동안 171 171만 가구 1조 1500 1500억 가량 이재 이재승 기자 보도 긴급재난지원금 어디 시민 김세진 세진 인천 청라국제도시 국제 도시 학원비 번째 마트 그다음 미용실 임영대 영대 경기 고양 고양시 가정 생활 생활용품 용품 반찬 학원 음식 음식재료 재료 동네 슈퍼 주유 주유소 편의점 병원 약국 사용 대형 대형마트 원칙적 지역 지역경제 경제 골목 골목상권 상권 취지 안의 안경점 임대 임대매장 매장 프랜차이즈 이즈 라도 본사 카드사 9곳 홈페이지 애플리케이션 접속자 일부 시간 대부분 신청자 5분안 절차 5부제로 제로 때문 오늘 생년 끝자리 세대주 행정 행정안전부 안전 어젯밤 9시 171만가구 1500억여 이틀 이틀안 포인트 문자 문자메시지 메시지 그때 8월말 월말 앵커 요즘 삼겹살 시장 3만 금겹살이 살이 외식 대신 사람 코로나 코로나19 19 돼지고기 수입량 여기 아프리카 아프리카돼지열병 돼지 열병 후유증 국내 농가 상황 이주찬 주찬 기자 김승희 승희 서울 영천 영천동 정육점 주인 기본 600 1만8000원 8000 도매 자체 이유 소미 소미연 오인 오인열 후암 후암동 때문 아기 어제 부위별 가격 목살 목살값 돼지갈비 갈비 유럽 북미 북미지역 지역 45 공급 일부 경기 경기도 강원 북부 지난해 10 10월 45만 마리 회복 영상 영상디자인 디자인 정수임 수임 앵커 가족 모두 생계 생계급여 급여 사정 가정 재난 재난지원금 지원금 현금 283 283만 가구 1조2천 취재 결과 사각지대 기초 기초연금 연금 혼합 지원 대상 이호진 호진 기자 대학생 학생 경기 경기도 외할머니 단둘 60 60만 긴급 긴급재난지원금 지자체 명단 씨도 할머니 이름 혼합가구 중앙 정부 경우 지급 지급대상 식구 종류 해당 불합리 불합리하다 하다 생각 저희 개인 지급대상자 대상자 취약 취약계층 계층 실제 조금 관계자 추측 이유 전산 조회 구성 민원인 행정 행정안전부 안전 시스템 방법 당사자 신청 확인 별도 검토 인턴 인턴기자 이혜 활주 선명 천리안 호가 촬영 사진 우리 개발 2월 발사 환경 해양 관측용 천리안 위성 비호 한반도 모습 처음 1호 공간 해상도 동서 바다 색깔 차이 전국 저수지 인천 인천공항 공항 활주로 모레 마스크 혼잡 지하철 13 13일 서울 서울시 정원 1.5 1.5배 승객 상황 발생 착용 방송 개찰구 역사 편의점 비치 8월 수도권 광역시 분양권 전매 금지 조치 조치8월 지방 대부분 지역 등기 아파트 정부 최근 시흥 투기 기승 규제 적용 확대 대조영 해역 건함 교대 교대소말리 소말리 인근 등에 임무 수행 청해 청해부대 부대 32 오늘 부산 해군 해군작전기지 작전 기지 왕건 예정 6개월 개월 동안 해적 퇴치 선박 보호 1월 호르무즈 해협 반경 4개월 호송 요청 경우 앵커 최근 치과 치과용 마스크 마스크값 13 13만 상인 공적 판매 청와대 청원 등장 날씨 필터 사람 정재 정재우 기자 방예인 예인 서울 상암 상암동 이것 학부모 애가 바깥 한국 한국스포츠정책과학원 스포츠 정책 과학원 도움 비교 실험 최훈 참여자 94 94로 호흡량 호흡 횟수 느낌 폐활량 평소 90 70 백승 약사 50 50매 기준 9천원 1만원 50장 3만원 여유 부족 온라인 온라인몰 경우 장당 2천 고성능 대부분 3만 4만 주문 배송 대상 국민 영상 영상디자인 디자인 배장근 영상그래픽 그래픽 인턴 인턴기자 이혜 앵커 긴급 긴급재난지원금 재난 지원금 신청 오늘 11 11일 시작 신용 신용카드 카드 체크 체크카드 충전 사람 대상 백민 백민경 기자 어디 설명 시민 김세진 세진 인천 청라국제도시 국제 도시 학원비 번째 마트 그다음 미용실 임영대 영대 경기 고양 고양시 가정 생활 생활용품 용품 반찬 학원 음식 음식재료 재료 동네 슈퍼 주유 주유소 편의 편의점 병원 약국 등에 대형 대형마트 원칙적 지역 지역경제 경제 골목 골목상권 상권 취지 안의 안경점 임대 임대매장 매장 프랜차이즈 이즈 라도 본사 카드사 9곳 오전 7시 홈페이지 애플리케이션 5부제로 제로 때문 생년 끝자리 6인 세대주 접속자 일부 시간 대부분 신청자 5분안 절차 행정 행정안전부 안전 오후 6시 154 154만 가구 1조3700억 3700 이틀 이틀안 포인트 충천 문자 문자메시지 메시지 그때 8월 재난 재난지원금 지원금 첫날 신청 원활 일부 접속 지연 지연오늘 오늘 11 11일 오전 7시 긴급 긴급재난지원금 시작 대상 신용 신용카드 카드 체크 체크카드 충전 국민 9개 카드사 홈페이지 애플리케이션 통해 이틀 포인트 주민 주민등록표상 등록 표상 세대주 본인 명의 공적 마스크 5부제 요일 적용 출생 출생연도 연도 끝자리 6인 세대 세대주가 주가 날인 신청자 처리 대체 입주민 폭행 경비원 극단적 선택 추모 추모행렬어제 행렬 어제 새벽 2시쯤 서울 강북 강북구 우이 우이동 아파트 근무 60 60대 발견 경찰 수사 21 21일 단지 안의 주차 문제 50 50대 시비 혐의 고소 경비 경비초소 초소 임시 분향 분향소 언론 인터뷰 실랑이 주장 사실 정의 정의연 기부금 41 피해자 지원 지원사업 사업 위안부 안부 피해 할머니 후원금 불투명 논란 기억 기억연대 연대 기자 기자회견 회견 해명 3년간 일반 22 22억 1960 1960만 가운데 해당 금액 2015 2015년 한일 한일협정 협정 당시 일본 10 10억 지급 사전 일본군 이용수 정의연의 연의 사용 불투명하다 하다 이상 수요 시위 참여 금감원 직원 가족 일부 폐쇄 3월 외주 외주인력 인력 코로나 판정 일부건물 건물 공간 금융 금융감독원 감독원 가족중 진자 서울 여의도 본원 해당 근무 공용 공용공간 지하 층등 네이버 카카오 정상 출근 연기 연기재택 재택 원격 원격근무 오늘 11 11일 체제 이번 2명 티맥스 맥스 소프트 근무지 계획 현대 현대차 차세대 전기차 기차 내년 출시 출시현대자동차 현대자동차 자동차 전기 전기자동차 완성 지난해 개발 플랫폼 활용 울산 공장 라인 전용 노조 화면 화면출처 출처 앵커 오늘 국민 긴급 재난 지원금 신청 조금 조금전 7시 온라인 시작 이번 이번주 1주일 주일 동안 마스크 5부제가 제가 실시 정재 정재우 기자 긴급재난지원금 신용 신용카드 카드 체크 체크카드 세대주 오전 카드사 홈페이지 2일 사용 적용 윤종인 종인 행정 행정안전부 안전 차관 청의 혼잡 시행 5부 동일 요일 요일제가 다음 토요 토요일인 일인 5월 16 16일 언제 끝자리 월요일 자신 연계 은행 창구 방문 삼성 현대 롯데 전업 경우 가능 지역 지역사랑상품권 사랑 상품권 선불 선불카드 일주일 18 18일 지자체 주민 주민센터 센터 직접 노인 장애인 방법 준비 지급 8월 31 31일 영상 영상디자인 디자인 정회 오은솔 앵커 긴급 긴급재난지원금 재난 지원금 어디 언제 사용 방법 소비자 소비자생활팀 생활 이새 이새누리 누리 기자 정리 대형 대형마트 마트 백화점 전자 전자마트 대기업 유통사 온라인 온라인쇼핑 쇼핑 술집 복권 복권방 보험 세금 마찬가지 프랜차이즈 이즈 업체 본사 위치 서울 스타벅스 서울시민 시민 경기 경기도 인천 제외 대부분 상점 일부 지자체 매출 10 10억 이상 이번 기준 때문 전통 전통시장 시장 동네 동네마트 주유소 음식점 병원 학원 카드 얼마 문자 카드사 확인 기한 시기 소비 목적 8월 31 31일 우리 우리나라 나라 일반 지금 신용 신용카드 선불 선불카드 지역 지역상품권 상품권 선택지 3개 고민 하나 상황 신청 일주일 가량 세대주 본인 명의 직접 반면 대리인 위임장 점도 차이 마지막 기부 설명 가지 전액 근로 근로복지공단 복지 공단 3개월 개월 경우 자동 연말 연말정산 정산 15 지방 지방소득세 소득세 1.5 기부금 16.5 앵커 긴급 긴급재난지원금 재난 지원금 관심 11 11일 아침 국민 신청 일단 온라인 시작 일주일 동안 마스크 5부제로 제로 진행 정재 정재우 기자 방법 드리고 어디 내용 하나하나 내일 신용 신용카드 카드 체크 체크카드 세대주 오전 7시 카드사 홈페이지 2일 사용 5부제가 제가 적용 윤종인 종인 행정 행정안전부 안전 차관 청의 혼잡 시행 5부 동일 요일 요일제가 다음 토요 토요일인 일인 5월 16 16일 언제 끝자리 월요일 자신 연계 은행 창구 방문 삼성 현대 롯데 전업 경우 가능 지역 지역사랑상품권 사랑 상품권 선불 선불카드 18 18일 지자체 주민 주민센터 센터 직접 노인 장애인 준비 지급 8월 31 31일 영상 영상디자인 디자인 정회 오은솔 앵커 월요일 11 11일 카드 카드사 홈페이지 긴급 긴급재난지원금 재난 지원금 신청 신용 신용카드 체크 체크카드 포인트 충전 방식 이것 고객 유치 기회 생각 100 100퍼센트 퍼센트 캐시백 대대적 마케팅 정부 제동 백민 백민경 기자 우리 일부 사용자 커피 쿠폰 4장 지급 문자 문자메시지 메시지 전용 추첨 사용 금액 전부 캐시 행사 농협 농협카드 1만 상당 상품권 약속 가구 최대 100만 14 14조 투입 대상자 카드사가 사가 경쟁 결국 성수 금융 금융위원장 위원장 어제 제때 우선 과열 자제 공적 공적자금 자금 회사 시장 시장점유율 점유율 혜택 입장 여신 여신금융협회 협회 관계자 백화점 마트 업종 제외 가능 때문 시스템 개발 서버 증설 과당 현재 이벤트 모두 상태 카카오 카카오뱅크 뱅크 고객 상담 업무 업체 이태원 클럽 관련 코로나 환자 폐쇄 서비스 중단 건물 모두 4곳 상담사 270 270여 명이 근무 판정 직원 통보 질병 질병관리본부 관리 본부 앵커 화학 계열 인도 폴리머스 리머스 공장 가스 유출 사고 피해자 최소 11 11명이 명이 가운데 치료 중인 주민 20 20여 명의 상태도 위중한 중한 일부 외신이 신이 2차 누출 보도 측은 사실 현지 경찰 독성 독성물질 물질 관리 소홀 혐의 입건 박영우 영우 기자 곳곳 사람 남부 라프 라프라데시주 데시 유독 유독가스 모습 현재 파악 사망자 11명 병원 1000 1000여 위독 현장 공포 발표 시간 반경 대피 외신 해명 탱크 온도 경우 만약 사태 정부 영구적 폐쇄 방안 검토 중이 지금 공식 요청 오늘 8일 대표 대표이사인 이사 신학 신학철 부회장 직접 위원장 비상 비상대책위원회 대책 위원회 부회 외국인 입국 금지 조치 때문 설명 법인 사고원인 원인 피해 현황 동시 치료비 포함 보상 보상대책 마련 앵커 1조 초대형 현미경 4세대 세대 방사광 가속기 충북 청주 청주시 최종 후보 대결 전남 점수 신약 신약개발 개발 반도체 생산 산업 첨단 장비 장비여 지역 경제 효과 누리 기자 긴장 결과 관계자 환호 청주가 주가 선정 상대 나주 나주시 3.21 3.21점 판도 가지 이명 이명철 부지 부지선정평가위원장 평가 위원장 지리적 여건 발전 가능성 분야 한반도 가운데 전국 어디 오창과 창과 주변 오송 대덕 등에 산업시설 시설 결정적 태양 100 100경배 천분 1초 단위 물질 나노 구조 분석 기초 기초과학 과학 연구 공정 필수 미플 비아그라 현재 경북 포항 3세대 대가 수요 감당 정부 3월 추가 승희 주민 제대 건설 활성화 오창 청주 협조 예산 내년 2028 2028년 가동 한국 한국기초과학지원 지원 연구원 6조 생산유발 유발 2조 부가 부가가치 가치 일자리 13 13만 추산 화면 화면제공 제공 포항가속기연구소 연구소 앵커 삼성 삼성전자 전자 이재 부회장 회장 사과 논란 재판부 권고 권유 준법 준법감시위원회 감시 위원회 입장 비판 경영권 승계 문제 제대 성화 성화선 기자 정기 정기회의 회의 의미 평가 가치 실현 의지 이유 준법감시위 구체적 실행 방안 필요 필요하다 하다 가지 주문 의무 위반 발생 지속 가능 경영 체계 노동 3권 실효성 보장 마지막 시민 사회 실질적 신뢰 회복 실천 측은 개선 마련 7개 관계사 요청 시민단체 단체 부회 사과문 삼성물산 물산 합병 해명 책임 언급 때문 유감 의견 입장문 당초 오후 4시 직접 발표 실제 시간 단락 요약 서면 보도 보도자료 자료 배포 시위 물리적 충돌 위험 판단 설명 영상 영상디자인 디자인 김충현 경기 지역 지역화폐 화폐 차별 업소 적발 사람 불법 불법행위 행위 15 15곳 경기 경기도 카드 사용 부가 부가세나 세나 수수료 명목 웃돈 요구 동일 물건 가격 고발 조치 세무 세무조사 조사 진행 예정 주택 건설 건설업계 업계 규제 완화 코로나 사태 대응 정부 목소리 소리 각종 주고 건설투자 투자 한국 한국주택협회 협회 1가구 가구 1주택자 주택자 종부세 부세 고가 고가주택 기준 제안 건설협회 추진 한국형 뉴딜 사업 필수 여기 포함 관련 정책 건의 카카오 1분기 분기 역대 최고 실적 실적코로나 여파 기업 타격 기록 지난해 매출 23 영업 200 콘텐츠 수요 대면 견인 앵커 코로나 코로나19 19 어려움 시민 소상공인 상공인 지방 지방자치단체 자치 단체 지원금 취지 취지이기 이기 한데 지자체 혼선 호진 기자 서울 은평 은평구 마트 보름 재난 재난긴급생활비 긴급 생활비 생필품 소비자 관계자 휴지 양념 구매 카트 어디 이용 가맹점 보고 기준 때문 경기 경기도 대형 대형마트 선불 선불카드 카드 홈플러스 플러스 만큼 사용 롯데 롯데마트 정책상 제외 서울시 설명 원칙 적용 신세계 신세계그룹 그룹 계열 계열사인 사인 스타 스타벅스 벅스 편의점 매출 10 10억 사용처 경우 온라인 결제 가능 인턴 인턴기자 이혜'"
      ]
     },
     "execution_count": 5,
     "metadata": {},
     "output_type": "execute_result"
    }
   ],
   "source": [
    "result"
   ]
  },
  {
   "cell_type": "markdown",
   "metadata": {},
   "source": [
    "### 4.4. 연관분석 "
   ]
  },
  {
   "cell_type": "code",
   "execution_count": 17,
   "metadata": {
    "collapsed": true
   },
   "outputs": [
    {
     "ename": "KeyboardInterrupt",
     "evalue": "",
     "output_type": "error",
     "traceback": [
      "\u001b[1;31m---------------------------------------------------------------------------\u001b[0m",
      "\u001b[1;31mKeyboardInterrupt\u001b[0m                         Traceback (most recent call last)",
      "\u001b[1;32m~\\anaconda3\\lib\\site-packages\\IPython\\core\\interactiveshell.py\u001b[0m in \u001b[0;36mrun_code\u001b[1;34m(self, code_obj, result, async_)\u001b[0m\n\u001b[0;32m   3330\u001b[0m                 \u001b[1;32melse\u001b[0m\u001b[1;33m:\u001b[0m\u001b[1;33m\u001b[0m\u001b[1;33m\u001b[0m\u001b[0m\n\u001b[1;32m-> 3331\u001b[1;33m                     \u001b[0mexec\u001b[0m\u001b[1;33m(\u001b[0m\u001b[0mcode_obj\u001b[0m\u001b[1;33m,\u001b[0m \u001b[0mself\u001b[0m\u001b[1;33m.\u001b[0m\u001b[0muser_global_ns\u001b[0m\u001b[1;33m,\u001b[0m \u001b[0mself\u001b[0m\u001b[1;33m.\u001b[0m\u001b[0muser_ns\u001b[0m\u001b[1;33m)\u001b[0m\u001b[1;33m\u001b[0m\u001b[1;33m\u001b[0m\u001b[0m\n\u001b[0m\u001b[0;32m   3332\u001b[0m             \u001b[1;32mfinally\u001b[0m\u001b[1;33m:\u001b[0m\u001b[1;33m\u001b[0m\u001b[1;33m\u001b[0m\u001b[0m\n",
      "\u001b[1;32m<ipython-input-17-5c5671ab8ee7>\u001b[0m in \u001b[0;36m<module>\u001b[1;34m\u001b[0m\n\u001b[0;32m      2\u001b[0m \u001b[0mrules\u001b[0m \u001b[1;33m=\u001b[0m \u001b[0mapriori\u001b[0m\u001b[1;33m(\u001b[0m\u001b[0mnews\u001b[0m\u001b[1;33m,\u001b[0m \u001b[0mmin_support\u001b[0m \u001b[1;33m=\u001b[0m \u001b[1;36m0.5\u001b[0m\u001b[1;33m,\u001b[0m \u001b[0mmin_confidence\u001b[0m \u001b[1;33m=\u001b[0m \u001b[1;36m0.5\u001b[0m\u001b[1;33m)\u001b[0m\u001b[1;33m\u001b[0m\u001b[1;33m\u001b[0m\u001b[0m\n\u001b[1;32m----> 3\u001b[1;33m \u001b[0mresults\u001b[0m \u001b[1;33m=\u001b[0m \u001b[0mlist\u001b[0m\u001b[1;33m(\u001b[0m\u001b[0mrules\u001b[0m\u001b[1;33m)\u001b[0m\u001b[1;33m\u001b[0m\u001b[1;33m\u001b[0m\u001b[0m\n\u001b[0m",
      "\u001b[1;32m~\\anaconda3\\lib\\site-packages\\apyori.py\u001b[0m in \u001b[0;36mapriori\u001b[1;34m(transactions, **kwargs)\u001b[0m\n\u001b[0;32m    290\u001b[0m                 \u001b[0mmin_confidence\u001b[0m\u001b[1;33m=\u001b[0m\u001b[0mmin_confidence\u001b[0m\u001b[1;33m,\u001b[0m\u001b[1;33m\u001b[0m\u001b[1;33m\u001b[0m\u001b[0m\n\u001b[1;32m--> 291\u001b[1;33m                 \u001b[0mmin_lift\u001b[0m\u001b[1;33m=\u001b[0m\u001b[0mmin_lift\u001b[0m\u001b[1;33m,\u001b[0m\u001b[1;33m\u001b[0m\u001b[1;33m\u001b[0m\u001b[0m\n\u001b[0m\u001b[0;32m    292\u001b[0m             )\n",
      "\u001b[1;32m~\\anaconda3\\lib\\site-packages\\apyori.py\u001b[0m in \u001b[0;36mfilter_ordered_statistics\u001b[1;34m(ordered_statistics, **kwargs)\u001b[0m\n\u001b[0;32m    236\u001b[0m \u001b[1;33m\u001b[0m\u001b[0m\n\u001b[1;32m--> 237\u001b[1;33m     \u001b[1;32mfor\u001b[0m \u001b[0mordered_statistic\u001b[0m \u001b[1;32min\u001b[0m \u001b[0mordered_statistics\u001b[0m\u001b[1;33m:\u001b[0m\u001b[1;33m\u001b[0m\u001b[1;33m\u001b[0m\u001b[0m\n\u001b[0m\u001b[0;32m    238\u001b[0m         \u001b[1;32mif\u001b[0m \u001b[0mordered_statistic\u001b[0m\u001b[1;33m.\u001b[0m\u001b[0mconfidence\u001b[0m \u001b[1;33m<\u001b[0m \u001b[0mmin_confidence\u001b[0m\u001b[1;33m:\u001b[0m\u001b[1;33m\u001b[0m\u001b[1;33m\u001b[0m\u001b[0m\n",
      "\u001b[1;32m~\\anaconda3\\lib\\site-packages\\apyori.py\u001b[0m in \u001b[0;36mgen_ordered_statistics\u001b[1;34m(transaction_manager, record)\u001b[0m\n\u001b[0;32m    214\u001b[0m             \u001b[0mitems_base\u001b[0m \u001b[1;33m=\u001b[0m \u001b[0mfrozenset\u001b[0m\u001b[1;33m(\u001b[0m\u001b[0mcombination_set\u001b[0m\u001b[1;33m)\u001b[0m\u001b[1;33m\u001b[0m\u001b[1;33m\u001b[0m\u001b[0m\n\u001b[1;32m--> 215\u001b[1;33m             \u001b[0mitems_add\u001b[0m \u001b[1;33m=\u001b[0m \u001b[0mfrozenset\u001b[0m\u001b[1;33m(\u001b[0m\u001b[0mitems\u001b[0m\u001b[1;33m.\u001b[0m\u001b[0mdifference\u001b[0m\u001b[1;33m(\u001b[0m\u001b[0mitems_base\u001b[0m\u001b[1;33m)\u001b[0m\u001b[1;33m)\u001b[0m\u001b[1;33m\u001b[0m\u001b[1;33m\u001b[0m\u001b[0m\n\u001b[0m\u001b[0;32m    216\u001b[0m             confidence = (\n",
      "\u001b[1;31mKeyboardInterrupt\u001b[0m: ",
      "\nDuring handling of the above exception, another exception occurred:\n",
      "\u001b[1;31mKeyboardInterrupt\u001b[0m                         Traceback (most recent call last)",
      "\u001b[1;31mKeyboardInterrupt\u001b[0m: "
     ]
    }
   ],
   "source": [
    "from apyori import apriori\n",
    "rules = apriori(news, min_support = 0.5, min_confidence = 0.5)\n",
    "results = list(rules)"
   ]
  },
  {
   "cell_type": "code",
   "execution_count": null,
   "metadata": {},
   "outputs": [],
   "source": [
    "import pandas as pd\n",
    "result_df = pd.DataFrame(None, columns = [\"lhs\",\"rhs\",\"support\",\"confidence\",\"lift\"])\n",
    "index = 0\n",
    "for row in results:\n",
    "    support  = row[1]\n",
    "    ordered_stat = row[2]\n",
    "    for ordered_item in ordered_stat:\n",
    "        lhs = \" \".join(x.strip() for x in ordered_item[0])\n",
    "        rhs = \" \".join(x.strip() for x in ordered_item[1])\n",
    "        confidence = ordered_item[2]\n",
    "        lift = ordered_item[3]\n",
    "        result_df.loc[index] = [lhs,rhs,support,confidence,lift]\n",
    "        index = index +1 "
   ]
  },
  {
   "cell_type": "markdown",
   "metadata": {},
   "source": [
    "### 4.5. 연관분석 탐색"
   ]
  },
  {
   "cell_type": "code",
   "execution_count": null,
   "metadata": {},
   "outputs": [],
   "source": [
    "result_df.loc[result_df.lhs==\"\"].sort_values(by=[\"support\"],  asending=False)\n"
   ]
  },
  {
   "cell_type": "code",
   "execution_count": null,
   "metadata": {},
   "outputs": [],
   "source": [
    "result_df.loc[(result_df.lhs.str.contains(\"택시\"))&\n",
    "             (result_df.rhs == \"공유\")].sort_values(by=[\"lift\"], ascending= False )"
   ]
  },
  {
   "cell_type": "code",
   "execution_count": null,
   "metadata": {},
   "outputs": [],
   "source": [
    "result_df.loc[(result_df.lhs.str.contains(\"택시\"))&\n",
    "             (result_df.rhs == \"공유\")].sort_values(by=[\"support\"], ascending= False)"
   ]
  },
  {
   "cell_type": "code",
   "execution_count": null,
   "metadata": {},
   "outputs": [],
   "source": []
  },
  {
   "cell_type": "code",
   "execution_count": null,
   "metadata": {},
   "outputs": [],
   "source": []
  },
  {
   "cell_type": "code",
   "execution_count": null,
   "metadata": {},
   "outputs": [],
   "source": []
  },
  {
   "cell_type": "code",
   "execution_count": null,
   "metadata": {},
   "outputs": [],
   "source": []
  }
 ],
 "metadata": {
  "kernelspec": {
   "display_name": "Python 3",
   "language": "python",
   "name": "python3"
  },
  "language_info": {
   "codemirror_mode": {
    "name": "ipython",
    "version": 3
   },
   "file_extension": ".py",
   "mimetype": "text/x-python",
   "name": "python",
   "nbconvert_exporter": "python",
   "pygments_lexer": "ipython3",
   "version": "3.7.6"
  }
 },
 "nbformat": 4,
 "nbformat_minor": 4
}

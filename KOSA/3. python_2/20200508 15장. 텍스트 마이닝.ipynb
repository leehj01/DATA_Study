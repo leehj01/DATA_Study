{
 "cells": [
  {
   "cell_type": "markdown",
   "metadata": {},
   "source": [
    "## 15장. 텍스트 마이닝\n",
    "\n",
    "- 문서(비정형 데이터) - > corpus (저장된 문서) -> termDocument Matrix (구조화된 문서) -> 분석( 분류, 군집분석, 연관,감성분석)\n",
    "- 코퍼스 : 말뭉치\n",
    "- 감성 분석 : 1,2 점을 주어서 감정을 분석하는 것.\n",
    "- 분류 분석 : 스팸메일에 주로 사용 군을 형성하여 레이블을 달아놓은것. \n",
    "- 군집 분석 : 군을 형성하는것"
   ]
  },
  {
   "cell_type": "markdown",
   "metadata": {},
   "source": [
    "## 1절. 텍스트 마이닝\n",
    "### 1.1. 텍스트 마이닝\n",
    "### 1.2. 자연어 처리와 텍스트 마이닝\n",
    "#### 자연어 처리 학습 주제\n",
    "- 텍스트 전처리\n",
    "    - 토큰화 : 문장을 문자 단위로 나누는 것.\n",
    "    - 정제\n",
    "    - 형태소 분석: 형태소 단위로 문장을 분석하는 것.\n",
    "    - 불용어 처리 : 잘못뽑힌 단어 혹은 원하지 않은 데이터를 지우는 것. \n",
    "    - 레이블 인코딩 : 머신러닝은 한글이 안됨.  / 원핫인코딩 : 문자를 다른것으로 바꾸는것.\n",
    "- 개수 기반 단어 표현 : 단어들의 빈도수 \n",
    "- 토픽 모델링 : 텍스트의 숨겨진 의미를 파악 \n",
    "- 연관 분석 : 단어간의 연관성\n",
    "- 딥러닝을 이용한 자연어 처리 : RNN(이전에 한것을 학습한것을 이후에도 학습됨), LSTM(롱숏텀메모리) 등의 인공신경망 알고리즘\n",
    "    - RNN을 개선시킨 알고리즘을 LSTM을 함.\n",
    "- 워드 임베딩 : 단어를 벡터로 표현하는 것. 단어와 단어사이의 거리를 계산\n",
    "- 텍스트 분류 : 태깅값이 부여된 것을 분류\n",
    "- 태깅 : 어떤 유형에 속해 있는지 알아내는것\n",
    "- 번역 : 챗봇 또는 기계 번역 "
   ]
  },
  {
   "cell_type": "markdown",
   "metadata": {},
   "source": [
    "## 2절. NLTK 자연어 처리 패키지\n",
    "### 2.1. 말뭉치"
   ]
  },
  {
   "cell_type": "code",
   "execution_count": 197,
   "metadata": {
    "collapsed": true
   },
   "outputs": [
    {
     "name": "stdout",
     "output_type": "stream",
     "text": [
      "showing info https://raw.githubusercontent.com/nltk/nltk_data/gh-pages/index.xml\n"
     ]
    },
    {
     "ename": "KeyboardInterrupt",
     "evalue": "",
     "output_type": "error",
     "traceback": [
      "\u001b[1;31m---------------------------------------------------------------------------\u001b[0m",
      "\u001b[1;31mKeyboardInterrupt\u001b[0m                         Traceback (most recent call last)",
      "\u001b[1;32m<ipython-input-197-3b02390c7677>\u001b[0m in \u001b[0;36m<module>\u001b[1;34m\u001b[0m\n\u001b[0;32m      1\u001b[0m \u001b[1;32mimport\u001b[0m \u001b[0mnltk\u001b[0m\u001b[1;33m\u001b[0m\u001b[1;33m\u001b[0m\u001b[0m\n\u001b[1;32m----> 2\u001b[1;33m \u001b[0mnltk\u001b[0m\u001b[1;33m.\u001b[0m\u001b[0mdownload\u001b[0m\u001b[1;33m(\u001b[0m\u001b[1;33m)\u001b[0m\u001b[1;33m\u001b[0m\u001b[1;33m\u001b[0m\u001b[0m\n\u001b[0m",
      "\u001b[1;32m~\\anaconda3\\lib\\site-packages\\nltk\\downloader.py\u001b[0m in \u001b[0;36mdownload\u001b[1;34m(self, info_or_id, download_dir, quiet, force, prefix, halt_on_error, raise_on_error, print_error_to)\u001b[0m\n\u001b[0;32m    771\u001b[0m             \u001b[1;32mif\u001b[0m \u001b[0mdownload_dir\u001b[0m \u001b[1;32mis\u001b[0m \u001b[1;32mnot\u001b[0m \u001b[1;32mNone\u001b[0m\u001b[1;33m:\u001b[0m\u001b[1;33m\u001b[0m\u001b[1;33m\u001b[0m\u001b[0m\n\u001b[0;32m    772\u001b[0m                 \u001b[0mself\u001b[0m\u001b[1;33m.\u001b[0m\u001b[0m_download_dir\u001b[0m \u001b[1;33m=\u001b[0m \u001b[0mdownload_dir\u001b[0m\u001b[1;33m\u001b[0m\u001b[1;33m\u001b[0m\u001b[0m\n\u001b[1;32m--> 773\u001b[1;33m             \u001b[0mself\u001b[0m\u001b[1;33m.\u001b[0m\u001b[0m_interactive_download\u001b[0m\u001b[1;33m(\u001b[0m\u001b[1;33m)\u001b[0m\u001b[1;33m\u001b[0m\u001b[1;33m\u001b[0m\u001b[0m\n\u001b[0m\u001b[0;32m    774\u001b[0m             \u001b[1;32mreturn\u001b[0m \u001b[1;32mTrue\u001b[0m\u001b[1;33m\u001b[0m\u001b[1;33m\u001b[0m\u001b[0m\n\u001b[0;32m    775\u001b[0m \u001b[1;33m\u001b[0m\u001b[0m\n",
      "\u001b[1;32m~\\anaconda3\\lib\\site-packages\\nltk\\downloader.py\u001b[0m in \u001b[0;36m_interactive_download\u001b[1;34m(self)\u001b[0m\n\u001b[0;32m   1121\u001b[0m         \u001b[1;32mif\u001b[0m \u001b[0mTKINTER\u001b[0m\u001b[1;33m:\u001b[0m\u001b[1;33m\u001b[0m\u001b[1;33m\u001b[0m\u001b[0m\n\u001b[0;32m   1122\u001b[0m             \u001b[1;32mtry\u001b[0m\u001b[1;33m:\u001b[0m\u001b[1;33m\u001b[0m\u001b[1;33m\u001b[0m\u001b[0m\n\u001b[1;32m-> 1123\u001b[1;33m                 \u001b[0mDownloaderGUI\u001b[0m\u001b[1;33m(\u001b[0m\u001b[0mself\u001b[0m\u001b[1;33m)\u001b[0m\u001b[1;33m.\u001b[0m\u001b[0mmainloop\u001b[0m\u001b[1;33m(\u001b[0m\u001b[1;33m)\u001b[0m\u001b[1;33m\u001b[0m\u001b[1;33m\u001b[0m\u001b[0m\n\u001b[0m\u001b[0;32m   1124\u001b[0m             \u001b[1;32mexcept\u001b[0m \u001b[0mTclError\u001b[0m\u001b[1;33m:\u001b[0m\u001b[1;33m\u001b[0m\u001b[1;33m\u001b[0m\u001b[0m\n\u001b[0;32m   1125\u001b[0m                 \u001b[0mDownloaderShell\u001b[0m\u001b[1;33m(\u001b[0m\u001b[0mself\u001b[0m\u001b[1;33m)\u001b[0m\u001b[1;33m.\u001b[0m\u001b[0mrun\u001b[0m\u001b[1;33m(\u001b[0m\u001b[1;33m)\u001b[0m\u001b[1;33m\u001b[0m\u001b[1;33m\u001b[0m\u001b[0m\n",
      "\u001b[1;32m~\\anaconda3\\lib\\site-packages\\nltk\\downloader.py\u001b[0m in \u001b[0;36mmainloop\u001b[1;34m(self, *args, **kwargs)\u001b[0m\n\u001b[0;32m   1943\u001b[0m \u001b[1;33m\u001b[0m\u001b[0m\n\u001b[0;32m   1944\u001b[0m     \u001b[1;32mdef\u001b[0m \u001b[0mmainloop\u001b[0m\u001b[1;33m(\u001b[0m\u001b[0mself\u001b[0m\u001b[1;33m,\u001b[0m \u001b[1;33m*\u001b[0m\u001b[0margs\u001b[0m\u001b[1;33m,\u001b[0m \u001b[1;33m**\u001b[0m\u001b[0mkwargs\u001b[0m\u001b[1;33m)\u001b[0m\u001b[1;33m:\u001b[0m\u001b[1;33m\u001b[0m\u001b[1;33m\u001b[0m\u001b[0m\n\u001b[1;32m-> 1945\u001b[1;33m         \u001b[0mself\u001b[0m\u001b[1;33m.\u001b[0m\u001b[0mtop\u001b[0m\u001b[1;33m.\u001b[0m\u001b[0mmainloop\u001b[0m\u001b[1;33m(\u001b[0m\u001b[1;33m*\u001b[0m\u001b[0margs\u001b[0m\u001b[1;33m,\u001b[0m \u001b[1;33m**\u001b[0m\u001b[0mkwargs\u001b[0m\u001b[1;33m)\u001b[0m\u001b[1;33m\u001b[0m\u001b[1;33m\u001b[0m\u001b[0m\n\u001b[0m\u001b[0;32m   1946\u001b[0m \u001b[1;33m\u001b[0m\u001b[0m\n\u001b[0;32m   1947\u001b[0m     \u001b[1;31m# /////////////////////////////////////////////////////////////////\u001b[0m\u001b[1;33m\u001b[0m\u001b[1;33m\u001b[0m\u001b[1;33m\u001b[0m\u001b[0m\n",
      "\u001b[1;32m~\\anaconda3\\lib\\tkinter\\__init__.py\u001b[0m in \u001b[0;36mmainloop\u001b[1;34m(self, n)\u001b[0m\n\u001b[0;32m   1281\u001b[0m     \u001b[1;32mdef\u001b[0m \u001b[0mmainloop\u001b[0m\u001b[1;33m(\u001b[0m\u001b[0mself\u001b[0m\u001b[1;33m,\u001b[0m \u001b[0mn\u001b[0m\u001b[1;33m=\u001b[0m\u001b[1;36m0\u001b[0m\u001b[1;33m)\u001b[0m\u001b[1;33m:\u001b[0m\u001b[1;33m\u001b[0m\u001b[1;33m\u001b[0m\u001b[0m\n\u001b[0;32m   1282\u001b[0m         \u001b[1;34m\"\"\"Call the mainloop of Tk.\"\"\"\u001b[0m\u001b[1;33m\u001b[0m\u001b[1;33m\u001b[0m\u001b[0m\n\u001b[1;32m-> 1283\u001b[1;33m         \u001b[0mself\u001b[0m\u001b[1;33m.\u001b[0m\u001b[0mtk\u001b[0m\u001b[1;33m.\u001b[0m\u001b[0mmainloop\u001b[0m\u001b[1;33m(\u001b[0m\u001b[0mn\u001b[0m\u001b[1;33m)\u001b[0m\u001b[1;33m\u001b[0m\u001b[1;33m\u001b[0m\u001b[0m\n\u001b[0m\u001b[0;32m   1284\u001b[0m     \u001b[1;32mdef\u001b[0m \u001b[0mquit\u001b[0m\u001b[1;33m(\u001b[0m\u001b[0mself\u001b[0m\u001b[1;33m)\u001b[0m\u001b[1;33m:\u001b[0m\u001b[1;33m\u001b[0m\u001b[1;33m\u001b[0m\u001b[0m\n\u001b[0;32m   1285\u001b[0m         \u001b[1;34m\"\"\"Quit the Tcl interpreter. All widgets will be destroyed.\"\"\"\u001b[0m\u001b[1;33m\u001b[0m\u001b[1;33m\u001b[0m\u001b[0m\n",
      "\u001b[1;31mKeyboardInterrupt\u001b[0m: "
     ]
    }
   ],
   "source": [
    "import nltk\n",
    "nltk.download()\n",
    "# NLTK 다운로더 실행 후, 연습을 위해서 BOOK다운"
   ]
  },
  {
   "cell_type": "code",
   "execution_count": 7,
   "metadata": {},
   "outputs": [],
   "source": [
    "from nltk.corpus import treebank"
   ]
  },
  {
   "cell_type": "code",
   "execution_count": 8,
   "metadata": {},
   "outputs": [
    {
     "data": {
      "text/plain": [
       "['wsj_0001.mrg',\n",
       " 'wsj_0002.mrg',\n",
       " 'wsj_0003.mrg',\n",
       " 'wsj_0004.mrg',\n",
       " 'wsj_0005.mrg',\n",
       " 'wsj_0006.mrg',\n",
       " 'wsj_0007.mrg',\n",
       " 'wsj_0008.mrg',\n",
       " 'wsj_0009.mrg',\n",
       " 'wsj_0010.mrg',\n",
       " 'wsj_0011.mrg',\n",
       " 'wsj_0012.mrg',\n",
       " 'wsj_0013.mrg',\n",
       " 'wsj_0014.mrg',\n",
       " 'wsj_0015.mrg',\n",
       " 'wsj_0016.mrg',\n",
       " 'wsj_0017.mrg',\n",
       " 'wsj_0018.mrg',\n",
       " 'wsj_0019.mrg',\n",
       " 'wsj_0020.mrg',\n",
       " 'wsj_0021.mrg',\n",
       " 'wsj_0022.mrg',\n",
       " 'wsj_0023.mrg',\n",
       " 'wsj_0024.mrg',\n",
       " 'wsj_0025.mrg',\n",
       " 'wsj_0026.mrg',\n",
       " 'wsj_0027.mrg',\n",
       " 'wsj_0028.mrg',\n",
       " 'wsj_0029.mrg',\n",
       " 'wsj_0030.mrg',\n",
       " 'wsj_0031.mrg',\n",
       " 'wsj_0032.mrg',\n",
       " 'wsj_0033.mrg',\n",
       " 'wsj_0034.mrg',\n",
       " 'wsj_0035.mrg',\n",
       " 'wsj_0036.mrg',\n",
       " 'wsj_0037.mrg',\n",
       " 'wsj_0038.mrg',\n",
       " 'wsj_0039.mrg',\n",
       " 'wsj_0040.mrg',\n",
       " 'wsj_0041.mrg',\n",
       " 'wsj_0042.mrg',\n",
       " 'wsj_0043.mrg',\n",
       " 'wsj_0044.mrg',\n",
       " 'wsj_0045.mrg',\n",
       " 'wsj_0046.mrg',\n",
       " 'wsj_0047.mrg',\n",
       " 'wsj_0048.mrg',\n",
       " 'wsj_0049.mrg',\n",
       " 'wsj_0050.mrg',\n",
       " 'wsj_0051.mrg',\n",
       " 'wsj_0052.mrg',\n",
       " 'wsj_0053.mrg',\n",
       " 'wsj_0054.mrg',\n",
       " 'wsj_0055.mrg',\n",
       " 'wsj_0056.mrg',\n",
       " 'wsj_0057.mrg',\n",
       " 'wsj_0058.mrg',\n",
       " 'wsj_0059.mrg',\n",
       " 'wsj_0060.mrg',\n",
       " 'wsj_0061.mrg',\n",
       " 'wsj_0062.mrg',\n",
       " 'wsj_0063.mrg',\n",
       " 'wsj_0064.mrg',\n",
       " 'wsj_0065.mrg',\n",
       " 'wsj_0066.mrg',\n",
       " 'wsj_0067.mrg',\n",
       " 'wsj_0068.mrg',\n",
       " 'wsj_0069.mrg',\n",
       " 'wsj_0070.mrg',\n",
       " 'wsj_0071.mrg',\n",
       " 'wsj_0072.mrg',\n",
       " 'wsj_0073.mrg',\n",
       " 'wsj_0074.mrg',\n",
       " 'wsj_0075.mrg',\n",
       " 'wsj_0076.mrg',\n",
       " 'wsj_0077.mrg',\n",
       " 'wsj_0078.mrg',\n",
       " 'wsj_0079.mrg',\n",
       " 'wsj_0080.mrg',\n",
       " 'wsj_0081.mrg',\n",
       " 'wsj_0082.mrg',\n",
       " 'wsj_0083.mrg',\n",
       " 'wsj_0084.mrg',\n",
       " 'wsj_0085.mrg',\n",
       " 'wsj_0086.mrg',\n",
       " 'wsj_0087.mrg',\n",
       " 'wsj_0088.mrg',\n",
       " 'wsj_0089.mrg',\n",
       " 'wsj_0090.mrg',\n",
       " 'wsj_0091.mrg',\n",
       " 'wsj_0092.mrg',\n",
       " 'wsj_0093.mrg',\n",
       " 'wsj_0094.mrg',\n",
       " 'wsj_0095.mrg',\n",
       " 'wsj_0096.mrg',\n",
       " 'wsj_0097.mrg',\n",
       " 'wsj_0098.mrg',\n",
       " 'wsj_0099.mrg',\n",
       " 'wsj_0100.mrg',\n",
       " 'wsj_0101.mrg',\n",
       " 'wsj_0102.mrg',\n",
       " 'wsj_0103.mrg',\n",
       " 'wsj_0104.mrg',\n",
       " 'wsj_0105.mrg',\n",
       " 'wsj_0106.mrg',\n",
       " 'wsj_0107.mrg',\n",
       " 'wsj_0108.mrg',\n",
       " 'wsj_0109.mrg',\n",
       " 'wsj_0110.mrg',\n",
       " 'wsj_0111.mrg',\n",
       " 'wsj_0112.mrg',\n",
       " 'wsj_0113.mrg',\n",
       " 'wsj_0114.mrg',\n",
       " 'wsj_0115.mrg',\n",
       " 'wsj_0116.mrg',\n",
       " 'wsj_0117.mrg',\n",
       " 'wsj_0118.mrg',\n",
       " 'wsj_0119.mrg',\n",
       " 'wsj_0120.mrg',\n",
       " 'wsj_0121.mrg',\n",
       " 'wsj_0122.mrg',\n",
       " 'wsj_0123.mrg',\n",
       " 'wsj_0124.mrg',\n",
       " 'wsj_0125.mrg',\n",
       " 'wsj_0126.mrg',\n",
       " 'wsj_0127.mrg',\n",
       " 'wsj_0128.mrg',\n",
       " 'wsj_0129.mrg',\n",
       " 'wsj_0130.mrg',\n",
       " 'wsj_0131.mrg',\n",
       " 'wsj_0132.mrg',\n",
       " 'wsj_0133.mrg',\n",
       " 'wsj_0134.mrg',\n",
       " 'wsj_0135.mrg',\n",
       " 'wsj_0136.mrg',\n",
       " 'wsj_0137.mrg',\n",
       " 'wsj_0138.mrg',\n",
       " 'wsj_0139.mrg',\n",
       " 'wsj_0140.mrg',\n",
       " 'wsj_0141.mrg',\n",
       " 'wsj_0142.mrg',\n",
       " 'wsj_0143.mrg',\n",
       " 'wsj_0144.mrg',\n",
       " 'wsj_0145.mrg',\n",
       " 'wsj_0146.mrg',\n",
       " 'wsj_0147.mrg',\n",
       " 'wsj_0148.mrg',\n",
       " 'wsj_0149.mrg',\n",
       " 'wsj_0150.mrg',\n",
       " 'wsj_0151.mrg',\n",
       " 'wsj_0152.mrg',\n",
       " 'wsj_0153.mrg',\n",
       " 'wsj_0154.mrg',\n",
       " 'wsj_0155.mrg',\n",
       " 'wsj_0156.mrg',\n",
       " 'wsj_0157.mrg',\n",
       " 'wsj_0158.mrg',\n",
       " 'wsj_0159.mrg',\n",
       " 'wsj_0160.mrg',\n",
       " 'wsj_0161.mrg',\n",
       " 'wsj_0162.mrg',\n",
       " 'wsj_0163.mrg',\n",
       " 'wsj_0164.mrg',\n",
       " 'wsj_0165.mrg',\n",
       " 'wsj_0166.mrg',\n",
       " 'wsj_0167.mrg',\n",
       " 'wsj_0168.mrg',\n",
       " 'wsj_0169.mrg',\n",
       " 'wsj_0170.mrg',\n",
       " 'wsj_0171.mrg',\n",
       " 'wsj_0172.mrg',\n",
       " 'wsj_0173.mrg',\n",
       " 'wsj_0174.mrg',\n",
       " 'wsj_0175.mrg',\n",
       " 'wsj_0176.mrg',\n",
       " 'wsj_0177.mrg',\n",
       " 'wsj_0178.mrg',\n",
       " 'wsj_0179.mrg',\n",
       " 'wsj_0180.mrg',\n",
       " 'wsj_0181.mrg',\n",
       " 'wsj_0182.mrg',\n",
       " 'wsj_0183.mrg',\n",
       " 'wsj_0184.mrg',\n",
       " 'wsj_0185.mrg',\n",
       " 'wsj_0186.mrg',\n",
       " 'wsj_0187.mrg',\n",
       " 'wsj_0188.mrg',\n",
       " 'wsj_0189.mrg',\n",
       " 'wsj_0190.mrg',\n",
       " 'wsj_0191.mrg',\n",
       " 'wsj_0192.mrg',\n",
       " 'wsj_0193.mrg',\n",
       " 'wsj_0194.mrg',\n",
       " 'wsj_0195.mrg',\n",
       " 'wsj_0196.mrg',\n",
       " 'wsj_0197.mrg',\n",
       " 'wsj_0198.mrg',\n",
       " 'wsj_0199.mrg']"
      ]
     },
     "execution_count": 8,
     "metadata": {},
     "output_type": "execute_result"
    }
   ],
   "source": [
    "treebank.fileids() # NLTK 안에는 TREEBANK가 있음. "
   ]
  },
  {
   "cell_type": "code",
   "execution_count": 9,
   "metadata": {},
   "outputs": [
    {
     "data": {
      "text/plain": [
       "[['Pierre', 'Vinken', ',', '61', 'years', 'old', ',', 'will', 'join', 'the', 'board', 'as', 'a', 'nonexecutive', 'director', 'Nov.', '29', '.'], ['Mr.', 'Vinken', 'is', 'chairman', 'of', 'Elsevier', 'N.V.', ',', 'the', 'Dutch', 'publishing', 'group', '.']]"
      ]
     },
     "execution_count": 9,
     "metadata": {},
     "output_type": "execute_result"
    }
   ],
   "source": [
    "treebank.sents(\"wsj_0001.mrg\") # 문서 안에 있는 글을 토큰화 해줌. "
   ]
  },
  {
   "cell_type": "code",
   "execution_count": 10,
   "metadata": {},
   "outputs": [
    {
     "data": {
      "text/plain": [
       "'1,2,3,4,5'"
      ]
     },
     "execution_count": 10,
     "metadata": {},
     "output_type": "execute_result"
    }
   ],
   "source": [
    "','.join(['1','2','3','4','5']) # 텍스트를 특정한 문자로 연결하고 싶을때, 사용"
   ]
  },
  {
   "cell_type": "code",
   "execution_count": 11,
   "metadata": {},
   "outputs": [],
   "source": [
    "wsj_0001 = treebank.sents(\"wsj_0001.mrg\")"
   ]
  },
  {
   "cell_type": "code",
   "execution_count": 12,
   "metadata": {},
   "outputs": [
    {
     "name": "stdout",
     "output_type": "stream",
     "text": [
      "Pierre Vinken , 61 years old , will join the board as a nonexecutive director Nov. 29 .\n",
      "Mr. Vinken is chairman of Elsevier N.V. , the Dutch publishing group .\n"
     ]
    }
   ],
   "source": [
    "for line in wsj_0001:\n",
    "    print(\" \".join(line))"
   ]
  },
  {
   "cell_type": "code",
   "execution_count": 13,
   "metadata": {},
   "outputs": [
    {
     "data": {
      "text/plain": [
       "[('Pierre', 'NNP'), ('Vinken', 'NNP'), (',', ','), ...]"
      ]
     },
     "execution_count": 13,
     "metadata": {},
     "output_type": "execute_result"
    }
   ],
   "source": [
    "treebank.tagged_words(\"wsj_0001.mrg\") # 형태소를 알고싶음.\n",
    "\n",
    "# NNP : 고유명사 "
   ]
  },
  {
   "cell_type": "markdown",
   "metadata": {},
   "source": [
    "https://konlpy-ko.readthedocs.io/ko/v0.4.3/api/konlpy.tag/ \n",
    "\n",
    "-  형태소 분석기 ( TAG PACKAGE ) \n",
    "\n",
    "\n",
    "https://docs.google.com/spreadsheets/d/1OGAjUvalBuX-oZvZ_-9tEfYD2gQe7hTGsgUpiiBSXI8/edit#gid=0\n",
    "\n",
    "- 형태소 분석기에 따른 차이점 및 TAG 확인 "
   ]
  },
  {
   "cell_type": "markdown",
   "metadata": {},
   "source": [
    "#### 2) 북 데이터 "
   ]
  },
  {
   "cell_type": "code",
   "execution_count": 22,
   "metadata": {},
   "outputs": [],
   "source": [
    "import nltk\n",
    "from nltk.book import *"
   ]
  },
  {
   "cell_type": "code",
   "execution_count": 23,
   "metadata": {},
   "outputs": [
    {
     "data": {
      "text/plain": [
       "nltk.text.Text"
      ]
     },
     "execution_count": 23,
     "metadata": {},
     "output_type": "execute_result"
    }
   ],
   "source": [
    "type(text1)"
   ]
  },
  {
   "cell_type": "code",
   "execution_count": 24,
   "metadata": {},
   "outputs": [
    {
     "data": {
      "text/plain": [
       "<Text: Moby Dick by Herman Melville 1851>"
      ]
     },
     "execution_count": 24,
     "metadata": {},
     "output_type": "execute_result"
    }
   ],
   "source": [
    "text1"
   ]
  },
  {
   "cell_type": "markdown",
   "metadata": {},
   "source": [
    "#### 3) gutenberg 데이터\n",
    "- nltk의 corpus 모듈에는 파싱이 되어있지 않은 원문 데이터도 포함되어있음\n",
    "- corpus 모듈의 gutenberg 말뭉치에는 아래와 같은 작품들이 있음. "
   ]
  },
  {
   "cell_type": "code",
   "execution_count": 25,
   "metadata": {},
   "outputs": [
    {
     "data": {
      "text/plain": [
       "['austen-emma.txt',\n",
       " 'austen-persuasion.txt',\n",
       " 'austen-sense.txt',\n",
       " 'bible-kjv.txt',\n",
       " 'blake-poems.txt',\n",
       " 'bryant-stories.txt',\n",
       " 'burgess-busterbrown.txt',\n",
       " 'carroll-alice.txt',\n",
       " 'chesterton-ball.txt',\n",
       " 'chesterton-brown.txt',\n",
       " 'chesterton-thursday.txt',\n",
       " 'edgeworth-parents.txt',\n",
       " 'melville-moby_dick.txt',\n",
       " 'milton-paradise.txt',\n",
       " 'shakespeare-caesar.txt',\n",
       " 'shakespeare-hamlet.txt',\n",
       " 'shakespeare-macbeth.txt',\n",
       " 'whitman-leaves.txt']"
      ]
     },
     "execution_count": 25,
     "metadata": {},
     "output_type": "execute_result"
    }
   ],
   "source": [
    "nltk.corpus.gutenberg.fileids()"
   ]
  },
  {
   "cell_type": "markdown",
   "metadata": {},
   "source": [
    "- 이중에서 제인오스틴의 엠마 문서를 살펴보면 원문 형태 그대로를 포함하고있음. \n",
    "- 아래는 그중  500자만 추출한것. "
   ]
  },
  {
   "cell_type": "code",
   "execution_count": 26,
   "metadata": {},
   "outputs": [
    {
     "name": "stdout",
     "output_type": "stream",
     "text": [
      "[Emma by Jane Austen 1816]\n",
      "\n",
      "VOLUME I\n",
      "\n",
      "CHAPTER I\n",
      "\n",
      "\n",
      "Emma Woodhouse, handsome, clever, and rich, with a comfortable home\n",
      "and happy disposition, seemed to unite some of the best blessings\n",
      "of existence; and had lived nearly twenty-one years in the world\n",
      "with very little to distress or vex her.\n",
      "\n",
      "She was the youngest of the two daughters of a most affectionate,\n",
      "indulgent father; and had, in consequence of her sister's marriage,\n",
      "been mistress of his house from a very early period.  Her mother\n",
      "had died t\n"
     ]
    }
   ],
   "source": [
    "emma = nltk.corpus.gutenberg.raw(\"austen-emma.txt\")\n",
    "print(emma[:500])"
   ]
  },
  {
   "cell_type": "markdown",
   "metadata": {},
   "source": [
    "### 2.2. 토큰 생성\n",
    "- 자연어 문서를 분석하려면 문자열을 분석을 위한 작은단위로 나누기.\n",
    "- 나눈 작은 문자열 단위를 토큰 이라고 함.\n",
    "- 문자열을 토큰으로 나누는 작업을 토큰 생성 또는 토큰화 라고 함\n",
    "- 문자열을 토큰으로 분리하는 함수를 '토큰 생성함수'라고 함. \n",
    "- sent_tokenize()함수는 문자열을 입력받아 문장 단위의 토큰 리스트를 출력 "
   ]
  },
  {
   "cell_type": "code",
   "execution_count": 27,
   "metadata": {},
   "outputs": [
    {
     "data": {
      "text/plain": [
       "['[Emma by Jane Austen 1816]\\n\\nVOLUME I\\n\\nCHAPTER I\\n\\n\\nEmma Woodhouse, handsome, clever, and rich, with a comfortable home\\nand happy disposition, seemed to unite some of the best blessings\\nof existence; and had lived nearly twenty-one years in the world\\nwith very little to distress or vex her.',\n",
       " \"She was the youngest of the two daughters of a most affectionate,\\nindulgent father; and had, in consequence of her sister's marriage,\\nbeen mistress of his house from a very early period.\",\n",
       " 'Her mother\\nhad died too long ago for her to have more than an indistinct\\nremembrance of her caresses; and her place had been supplied\\nby an excellent woman as governess, who had fallen little short\\nof a mother in affection.',\n",
       " \"Sixteen years had Miss Taylor been in Mr. Woodhouse's family,\\nless as a governess than a friend, very fond of both daughters,\\nbut particularly of Emma.\",\n",
       " 'Between _them_ it was more the intimacy\\nof sisters.',\n",
       " 'Even before Miss Taylor had ceased to hold the nominal\\noffice of governess, the mildness o']"
      ]
     },
     "execution_count": 27,
     "metadata": {},
     "output_type": "execute_result"
    }
   ],
   "source": [
    "from nltk.tokenize import sent_tokenize\n",
    "sent_tokenize(emma[:1000]) # 토크나이즈 해달라는 함수 / 문장단위로 자르는것 "
   ]
  },
  {
   "cell_type": "code",
   "execution_count": 28,
   "metadata": {},
   "outputs": [
    {
     "name": "stdout",
     "output_type": "stream",
     "text": [
      "['[', 'Emma', 'by', 'Jane', 'Austen', '1816', ']', 'VOLUME', 'I', 'CHAPTER', 'I', 'Emma', 'Woodhouse', ',', 'handsome', ',', 'clever', ',', 'and', 'rich', ',', 'with', 'a']\n"
     ]
    }
   ],
   "source": [
    "from nltk.tokenize import word_tokenize # 단어를 기준으로 토크나이즈 \n",
    "print(word_tokenize(emma[:100]))"
   ]
  },
  {
   "cell_type": "code",
   "execution_count": 30,
   "metadata": {},
   "outputs": [
    {
     "data": {
      "text/plain": [
       "['Emma',\n",
       " 'by',\n",
       " 'Jane',\n",
       " 'Austen',\n",
       " '1816',\n",
       " 'VOLUME',\n",
       " 'I',\n",
       " 'CHAPTER',\n",
       " 'I',\n",
       " 'Emma',\n",
       " 'Woodhouse',\n",
       " 'handsome',\n",
       " 'clever',\n",
       " 'and',\n",
       " 'rich',\n",
       " 'with',\n",
       " 'a']"
      ]
     },
     "execution_count": 30,
     "metadata": {},
     "output_type": "execute_result"
    }
   ],
   "source": [
    "from nltk.tokenize import RegexpTokenizer # 내가 원하는 것으로 토크나이즈 할수있음\n",
    "\n",
    "ret = RegexpTokenizer(\"[\\w]+\") # \\w 는 단어를 의미함. (알파벳, 숫자 등 )\n",
    "ret2 = RegexpTokenizer(\"[\\w]{2,}\") # 이렇게 하면 글자 2개부터만 표시됨.\n",
    "# 즉 , 기호를 제외한 알파벳 등을 이용해서 토크나이즈를 하자 라는 의미. \n",
    "\n",
    "ret.tokenize(emma[:100]) # 정규표현식을 이용해서 토크나이즈 한것. \n",
    "\n",
    "# , 이런 기호들이 보이지 않음. "
   ]
  },
  {
   "cell_type": "code",
   "execution_count": 109,
   "metadata": {
    "scrolled": true
   },
   "outputs": [
    {
     "data": {
      "text/plain": [
       "['Emma',\n",
       " 'by',\n",
       " 'Jane',\n",
       " 'Austen',\n",
       " '1816',\n",
       " 'VOLUME',\n",
       " 'CHAPTER',\n",
       " 'Emma',\n",
       " 'Woodhouse',\n",
       " 'handsome',\n",
       " 'clever',\n",
       " 'and',\n",
       " 'rich',\n",
       " 'with']"
      ]
     },
     "execution_count": 109,
     "metadata": {},
     "output_type": "execute_result"
    }
   ],
   "source": [
    "ret2.tokenize(emma[:100]) # 이런식으로 글자 한글자짜리는 보이지 않음"
   ]
  },
  {
   "cell_type": "code",
   "execution_count": 31,
   "metadata": {
    "scrolled": false
   },
   "outputs": [
    {
     "data": {
      "text/plain": [
       "['Emma',\n",
       " 'Woodhouse',\n",
       " 'handsome',\n",
       " 'clever',\n",
       " 'and',\n",
       " 'rich',\n",
       " 'with',\n",
       " 'a',\n",
       " 'comfortable',\n",
       " 'home',\n",
       " 'and',\n",
       " 'happy',\n",
       " 'disposition',\n",
       " 'seemed',\n",
       " 'to']"
      ]
     },
     "execution_count": 31,
     "metadata": {},
     "output_type": "execute_result"
    }
   ],
   "source": [
    "emma_tokens = ret.tokenize(emma[50:150])\n",
    "emma_tokens"
   ]
  },
  {
   "cell_type": "markdown",
   "metadata": {},
   "source": [
    "### 2.3. 형태소 분석\n",
    "#### 1) 어간 추출(stemming)\n",
    "- 접사를 제거하여 같은 의미를 가지는 형태소의 기본형을 찾는 것.\n",
    "- 4가지 방법이 있음."
   ]
  },
  {
   "cell_type": "code",
   "execution_count": 53,
   "metadata": {},
   "outputs": [],
   "source": [
    "words = [\"sending\",\"cooking\",\"flies\",\"lives\",\"crying\",\"dying\"]"
   ]
  },
  {
   "cell_type": "code",
   "execution_count": 54,
   "metadata": {},
   "outputs": [
    {
     "name": "stdout",
     "output_type": "stream",
     "text": [
      "send\n"
     ]
    },
    {
     "data": {
      "text/plain": [
       "['send', 'cook', 'fli', 'live', 'cri', 'die']"
      ]
     },
     "execution_count": 54,
     "metadata": {},
     "output_type": "execute_result"
    }
   ],
   "source": [
    "# PorterStemmer : 접미사 추출 \n",
    "from nltk.stem import PorterStemmer\n",
    "pst = PorterStemmer()\n",
    "print(pst.stem(\"sending\"))\n",
    "result = []\n",
    "for word in words:\n",
    "    result.append(pst.stem(word))\n",
    "result"
   ]
  },
  {
   "cell_type": "code",
   "execution_count": 55,
   "metadata": {},
   "outputs": [
    {
     "data": {
      "text/plain": [
       "['send', 'cook', 'fli', 'live', 'cri', 'die']"
      ]
     },
     "execution_count": 55,
     "metadata": {},
     "output_type": "execute_result"
    }
   ],
   "source": [
    "[pst.stem(word) for word in words] # 위에랑 같음. list comprehension"
   ]
  },
  {
   "cell_type": "code",
   "execution_count": 56,
   "metadata": {},
   "outputs": [
    {
     "data": {
      "text/plain": [
       "['send', 'cook', 'fli', 'liv', 'cry', 'dying']"
      ]
     },
     "execution_count": 56,
     "metadata": {},
     "output_type": "execute_result"
    }
   ],
   "source": [
    "# LancasterStemmer\n",
    "from nltk.stem import LancasterStemmer\n",
    "lst = LancasterStemmer()\n",
    "[lst.stem(word) for word in words]"
   ]
  },
  {
   "cell_type": "code",
   "execution_count": 57,
   "metadata": {},
   "outputs": [
    {
     "data": {
      "text/plain": [
       "['send', 'cook', 'flies', 'lives', 'cry', 'dy']"
      ]
     },
     "execution_count": 57,
     "metadata": {},
     "output_type": "execute_result"
    }
   ],
   "source": [
    "# RegexpStemmer : 정규 표현식으로 어간 추출\n",
    "from nltk.stem.regexp import RegexpStemmer\n",
    "rest = RegexpStemmer(\"ing\")\n",
    "[rest.stem(word) for word in words]"
   ]
  },
  {
   "cell_type": "code",
   "execution_count": 58,
   "metadata": {},
   "outputs": [
    {
     "data": {
      "text/plain": [
       "['envi', 'cocin', 'mosc', 'vid', 'llor', 'mor']"
      ]
     },
     "execution_count": 58,
     "metadata": {},
     "output_type": "execute_result"
    }
   ],
   "source": [
    "# SnowballStemmer : 다른 언어에 대한 어간 추출 지원 \n",
    "words3 = [\"enviar\",\"cocina\",\"moscas\",\"vidas\",\"llorar\",\"morir\"] # 스페인어\n",
    "from nltk.stem.snowball import SnowballStemmer\n",
    "sbst = SnowballStemmer(\"spanish\")\n",
    "[sbst.stem(word3) for word3 in words3]"
   ]
  },
  {
   "cell_type": "markdown",
   "metadata": {},
   "source": [
    "#### 2) 원형 복원 \n",
    "- 어간 추출과 비슷하지만 동의어 대체와 더유사\n",
    "- 원형 복원 후에도 단어의 같은 의미를 가짐. "
   ]
  },
  {
   "cell_type": "code",
   "execution_count": 59,
   "metadata": {},
   "outputs": [
    {
     "data": {
      "text/plain": [
       "['cooking', 'belief']"
      ]
     },
     "execution_count": 59,
     "metadata": {},
     "output_type": "execute_result"
    }
   ],
   "source": [
    "from nltk.stem.wordnet import WordNetLemmatizer\n",
    "words2 = [\"cooking\",\"believes\"]\n",
    "w1 = WordNetLemmatizer()\n",
    "[w1.lemmatize(word) for word in words2] \n",
    "# 매개변수 pos 디포트가 n 으로 되어있음 "
   ]
  },
  {
   "cell_type": "code",
   "execution_count": 60,
   "metadata": {},
   "outputs": [
    {
     "data": {
      "text/plain": [
       "['cook', 'believe']"
      ]
     },
     "execution_count": 60,
     "metadata": {},
     "output_type": "execute_result"
    }
   ],
   "source": [
    "[w1.lemmatize(word,pos='v') for word in words2]\n",
    "\n",
    "# pos = v 라는 의미는 동사라는 의미로 동사로 만들어준다는 것이다."
   ]
  },
  {
   "cell_type": "markdown",
   "metadata": {},
   "source": [
    "#### 3) 품사태킹\n",
    "- 품사의 구분은 언어, 학자, 말뭉치, 형태소 분석기 마다 다름. \n",
    "- NLTK 는 펜 트리뱅크 태그셋을 이용 "
   ]
  },
  {
   "cell_type": "code",
   "execution_count": 61,
   "metadata": {},
   "outputs": [
    {
     "name": "stdout",
     "output_type": "stream",
     "text": [
      "NNP: noun, proper, singular\n",
      "    Motown Venneboerger Czestochwa Ranzer Conchita Trumplane Christos\n",
      "    Oceanside Escobar Kreisler Sawyer Cougar Yvette Ervin ODI Darryl CTCA\n",
      "    Shannon A.K.C. Meltex Liverpool ...\n"
     ]
    }
   ],
   "source": [
    "# nltk.help.upenn_tagset() 을 이용하면 품사에 대한 자세한 설명을 들을 수있음\n",
    "nltk.help.upenn_tagset('NNP')"
   ]
  },
  {
   "cell_type": "code",
   "execution_count": 62,
   "metadata": {},
   "outputs": [],
   "source": [
    "sentence = \"\"\"Emma had lived nearly twenty-one years in the world\n",
    "with very little to distress or vex her\"\"\""
   ]
  },
  {
   "cell_type": "code",
   "execution_count": 63,
   "metadata": {
    "scrolled": true
   },
   "outputs": [
    {
     "data": {
      "text/plain": [
       "[('Emma', 'NNP'),\n",
       " ('had', 'VBD'),\n",
       " ('lived', 'VBN'),\n",
       " ('nearly', 'RB'),\n",
       " ('twenty-one', 'CD'),\n",
       " ('years', 'NNS'),\n",
       " ('in', 'IN'),\n",
       " ('the', 'DT'),\n",
       " ('world', 'NN'),\n",
       " ('with', 'IN'),\n",
       " ('very', 'RB'),\n",
       " ('little', 'JJ'),\n",
       " ('to', 'TO'),\n",
       " ('distress', 'VB'),\n",
       " ('or', 'CC'),\n",
       " ('vex', 'VB'),\n",
       " ('her', 'PRP$')]"
      ]
     },
     "execution_count": 63,
     "metadata": {},
     "output_type": "execute_result"
    }
   ],
   "source": [
    "from nltk.tag import pos_tag # pos_tag()를 이용하면 단어에 훔사를 포함한 튜플을 리스트로 반환함\n",
    "tagged_list = pos_tag(word_tokenize(sentence))\n",
    "tagged_list"
   ]
  },
  {
   "cell_type": "code",
   "execution_count": 64,
   "metadata": {},
   "outputs": [
    {
     "data": {
      "text/plain": [
       "['world']"
      ]
     },
     "execution_count": 64,
     "metadata": {},
     "output_type": "execute_result"
    }
   ],
   "source": [
    "[t[0] for t in tagged_list if t[1] == 'NN']\n",
    "\n",
    "## 'NN' 의 품사에 해당하는 것을 뽑아주기"
   ]
  },
  {
   "cell_type": "code",
   "execution_count": 65,
   "metadata": {},
   "outputs": [
    {
     "data": {
      "text/plain": [
       "['Emma', 'years', 'world']"
      ]
     },
     "execution_count": 65,
     "metadata": {},
     "output_type": "execute_result"
    }
   ],
   "source": [
    "import re  # 정규표현식을 이용한 원하는 품사만 다 뽑아 내기\n",
    "pattern = re.compile(\"NN?\")\n",
    "[t[0] for t in tagged_list if pattern.match(t[1])]"
   ]
  },
  {
   "cell_type": "markdown",
   "metadata": {},
   "source": [
    "### 2.4. Text 클래스\n",
    "- 문서 분석에 유용한 메소드를 제공함\n",
    "- 정규표현식을 사용해 토큰화 한 후 text객체로 만듭니다. "
   ]
  },
  {
   "cell_type": "code",
   "execution_count": 66,
   "metadata": {},
   "outputs": [],
   "source": [
    "from nltk import Text\n",
    "emma[50:100]\n",
    "emma_text = Text(emma_tokens , name= \"Emma\")"
   ]
  },
  {
   "cell_type": "code",
   "execution_count": 67,
   "metadata": {},
   "outputs": [],
   "source": [
    "emma_text2 = Text(ret.tokenize(emma),name = \"Emma\")"
   ]
  },
  {
   "cell_type": "code",
   "execution_count": 68,
   "metadata": {},
   "outputs": [
    {
     "data": {
      "image/png": "[encoded data removed]",
      "text/plain": [
       "<Figure size 432x288 with 1 Axes>"
      ]
     },
     "metadata": {
      "needs_background": "light"
     },
     "output_type": "display_data"
    }
   ],
   "source": [
    "emma_text2.plot(29)  # 토큰 사용의 빈도를 그래프로 그림"
   ]
  },
  {
   "cell_type": "code",
   "execution_count": 69,
   "metadata": {},
   "outputs": [],
   "source": [
    "emma_tag = pos_tag(ret.tokenize(emma))"
   ]
  },
  {
   "cell_type": "code",
   "execution_count": 70,
   "metadata": {},
   "outputs": [],
   "source": [
    "emma_tag2 = pos_tag(ret2.tokenize(emma))"
   ]
  },
  {
   "cell_type": "code",
   "execution_count": 97,
   "metadata": {
    "collapsed": true
   },
   "outputs": [
    {
     "data": {
      "text/plain": [
       "[('Emma', 'NN'),\n",
       " ('by', 'IN'),\n",
       " ('Jane', 'NNP'),\n",
       " ('Austen', 'NNP'),\n",
       " ('1816', 'CD'),\n",
       " ('VOLUME', 'NNP'),\n",
       " ('I', 'PRP'),\n",
       " ('CHAPTER', 'VBP'),\n",
       " ('I', 'PRP'),\n",
       " ('Emma', 'NNP'),\n",
       " ('Woodhouse', 'NNP'),\n",
       " ('handsome', 'VBD'),\n",
       " ('clever', 'NN'),\n",
       " ('and', 'CC'),\n",
       " ('rich', 'JJ'),\n",
       " ('with', 'IN'),\n",
       " ('a', 'DT'),\n",
       " ('comfortable', 'JJ'),\n",
       " ('home', 'NN'),\n",
       " ('and', 'CC'),\n",
       " ('happy', 'JJ'),\n",
       " ('disposition', 'NN'),\n",
       " ('seemed', 'VBD'),\n",
       " ('to', 'TO'),\n",
       " ('unite', 'VB'),\n",
       " ('some', 'DT'),\n",
       " ('of', 'IN'),\n",
       " ('the', 'DT'),\n",
       " ('best', 'JJS'),\n",
       " ('blessings', 'NNS'),\n",
       " ('of', 'IN'),\n",
       " ('existence', 'NN'),\n",
       " ('and', 'CC'),\n",
       " ('had', 'VBD'),\n",
       " ('lived', 'VBN'),\n",
       " ('nearly', 'RB'),\n",
       " ('twenty', 'JJ'),\n",
       " ('one', 'CD'),\n",
       " ('years', 'NNS'),\n",
       " ('in', 'IN'),\n",
       " ('the', 'DT'),\n",
       " ('world', 'NN'),\n",
       " ('with', 'IN'),\n",
       " ('very', 'RB'),\n",
       " ('little', 'JJ'),\n",
       " ('to', 'TO'),\n",
       " ('distress', 'VB'),\n",
       " ('or', 'CC'),\n",
       " ('vex', 'VB'),\n",
       " ('her', 'PRP$'),\n",
       " ('She', 'PRP'),\n",
       " ('was', 'VBD'),\n",
       " ('the', 'DT'),\n",
       " ('youngest', 'JJS'),\n",
       " ('of', 'IN'),\n",
       " ('the', 'DT'),\n",
       " ('two', 'CD'),\n",
       " ('daughters', 'NNS'),\n",
       " ('of', 'IN'),\n",
       " ('a', 'DT'),\n",
       " ('most', 'RBS'),\n",
       " ('affectionate', 'JJ'),\n",
       " ('indulgent', 'NN'),\n",
       " ('father', 'NN'),\n",
       " ('and', 'CC'),\n",
       " ('had', 'VBD'),\n",
       " ('in', 'IN'),\n",
       " ('consequence', 'NN'),\n",
       " ('of', 'IN'),\n",
       " ('her', 'PRP$'),\n",
       " ('sister', 'NN'),\n",
       " ('s', 'NN'),\n",
       " ('marriage', 'NN'),\n",
       " ('been', 'VBN'),\n",
       " ('mistress', 'NN'),\n",
       " ('of', 'IN'),\n",
       " ('his', 'PRP$'),\n",
       " ('house', 'NN'),\n",
       " ('from', 'IN'),\n",
       " ('a', 'DT'),\n",
       " ('very', 'RB'),\n",
       " ('early', 'JJ'),\n",
       " ('period', 'NN'),\n",
       " ('Her', 'PRP$'),\n",
       " ('mother', 'NN'),\n",
       " ('had', 'VBD'),\n",
       " ('died', 'VBN'),\n",
       " ('too', 'RB'),\n",
       " ('long', 'RB'),\n",
       " ('ago', 'RB'),\n",
       " ('for', 'IN'),\n",
       " ('her', 'PRP$'),\n",
       " ('to', 'TO'),\n",
       " ('have', 'VB'),\n",
       " ('more', 'JJR'),\n",
       " ('than', 'IN'),\n",
       " ('an', 'DT'),\n",
       " ('indistinct', 'JJ'),\n",
       " ('remembrance', 'NN'),\n",
       " ('of', 'IN')]"
      ]
     },
     "execution_count": 97,
     "metadata": {},
     "output_type": "execute_result"
    }
   ],
   "source": [
    "emma_tag[:100]"
   ]
  },
  {
   "cell_type": "code",
   "execution_count": 74,
   "metadata": {
    "collapsed": true
   },
   "outputs": [
    {
     "data": {
      "text/plain": [
       "['Emma',\n",
       " 'clever',\n",
       " 'home',\n",
       " 'disposition',\n",
       " 'existence',\n",
       " 'world',\n",
       " 'indulgent',\n",
       " 'father',\n",
       " 'consequence',\n",
       " 'sister',\n",
       " 's',\n",
       " 'marriage',\n",
       " 'mistress',\n",
       " 'house',\n",
       " 'period',\n",
       " 'mother',\n",
       " 'remembrance',\n",
       " 'place',\n",
       " 'woman',\n",
       " 'governess',\n",
       " 'mother',\n",
       " 'affection',\n",
       " 'family',\n",
       " 'governess',\n",
       " 'fond',\n",
       " 'intimacy',\n",
       " 'office',\n",
       " 'governess',\n",
       " 'mildness',\n",
       " 'temper',\n",
       " 'restraint',\n",
       " 'shadow',\n",
       " 'authority',\n",
       " 'friend',\n",
       " 'judgment',\n",
       " 'chiefly',\n",
       " 'situation',\n",
       " 'power',\n",
       " 'way',\n",
       " 'disposition',\n",
       " 'alloy',\n",
       " 'danger',\n",
       " 'rank',\n",
       " 'sorrow',\n",
       " 'shape',\n",
       " 'consciousness',\n",
       " 's',\n",
       " 'loss',\n",
       " 'grief',\n",
       " 'wedding',\n",
       " 'day',\n",
       " 'friend',\n",
       " 'thought',\n",
       " 'continuance',\n",
       " 'wedding',\n",
       " 'father',\n",
       " 'prospect',\n",
       " 'evening',\n",
       " 'father',\n",
       " 'dinner',\n",
       " 'event',\n",
       " 'promise',\n",
       " 'happiness',\n",
       " 'friend',\n",
       " 'man',\n",
       " 'character',\n",
       " 'fortune',\n",
       " 'age',\n",
       " 'satisfaction',\n",
       " 'friendship',\n",
       " 'match',\n",
       " 'morning',\n",
       " 's',\n",
       " 'work',\n",
       " 'want',\n",
       " 'hour',\n",
       " 'day',\n",
       " 'kindness',\n",
       " 'kindness',\n",
       " 'affection',\n",
       " 'health',\n",
       " 'childhood',\n",
       " 'debt',\n",
       " 'gratitude',\n",
       " 'intercourse',\n",
       " 'footing',\n",
       " 'perfect',\n",
       " 'unreserve',\n",
       " 'marriage',\n",
       " 'dearer',\n",
       " 'tenderer',\n",
       " 'recollection',\n",
       " 'friend',\n",
       " 'companion',\n",
       " 'intelligent',\n",
       " 'family',\n",
       " 'pleasure',\n",
       " 'scheme',\n",
       " 'thought',\n",
       " 'affection',\n",
       " 'fault',\n",
       " 'change',\n",
       " 'friend',\n",
       " 'mile',\n",
       " 'difference',\n",
       " 'mile',\n",
       " 'house',\n",
       " 'danger',\n",
       " 'solitude',\n",
       " 'father',\n",
       " 'companion',\n",
       " 'conversation',\n",
       " 'rational',\n",
       " 'evil',\n",
       " 'disparity',\n",
       " 'constitution',\n",
       " 'life',\n",
       " 'activity',\n",
       " 'mind',\n",
       " 'body',\n",
       " 'man',\n",
       " 'friendliness',\n",
       " 'heart',\n",
       " 'time',\n",
       " 'sister',\n",
       " 'matrimony',\n",
       " 'reach',\n",
       " 'evening',\n",
       " 'visit',\n",
       " 'husband',\n",
       " 'house',\n",
       " 'society',\n",
       " 'village',\n",
       " 'town',\n",
       " 'spite',\n",
       " 'lawn',\n",
       " 'name',\n",
       " 'consequence',\n",
       " 'acquaintance',\n",
       " 'place',\n",
       " 'father',\n",
       " 'lieu',\n",
       " 'day',\n",
       " 'change',\n",
       " 'father',\n",
       " 'awoke',\n",
       " 'support',\n",
       " 'man',\n",
       " 'fond',\n",
       " 'body',\n",
       " 'part',\n",
       " 'change',\n",
       " 'kind',\n",
       " 'origin',\n",
       " 'change',\n",
       " 'means',\n",
       " 'daughter',\n",
       " 's',\n",
       " 'compassion',\n",
       " 'match',\n",
       " 'affection',\n",
       " 'part',\n",
       " 'selfishness',\n",
       " 'sad',\n",
       " 'thing',\n",
       " 'herself',\n",
       " 'deal',\n",
       " 'happier',\n",
       " 'rest',\n",
       " 'life',\n",
       " 'tea',\n",
       " 'dinner',\n",
       " 'pity',\n",
       " 'man',\n",
       " 'wife',\n",
       " 'odd',\n",
       " 'humours',\n",
       " 'house',\n",
       " 'house',\n",
       " 'advantage',\n",
       " 'house',\n",
       " 'visit',\n",
       " 'distance',\n",
       " 'half',\n",
       " 'papa',\n",
       " 'nobody',\n",
       " 'walking',\n",
       " 'carriage',\n",
       " 'carriage',\n",
       " 'way',\n",
       " 'visit',\n",
       " 'papa',\n",
       " 'night',\n",
       " 'daughter',\n",
       " 's',\n",
       " 'papa',\n",
       " 'place',\n",
       " 'thought',\n",
       " 'till',\n",
       " 'think',\n",
       " 'account',\n",
       " 'servant',\n",
       " 'pretty',\n",
       " 'girl',\n",
       " 'opinion',\n",
       " 'manner',\n",
       " 'needlework',\n",
       " 'lock',\n",
       " 'door',\n",
       " 'way',\n",
       " 'servant',\n",
       " 'comfort',\n",
       " 'somebody',\n",
       " 'daughter',\n",
       " 'hearing',\n",
       " 'flow',\n",
       " 'help',\n",
       " 'backgammon',\n",
       " 'father',\n",
       " 'evening',\n",
       " 'backgammon',\n",
       " 'table',\n",
       " 'visitor',\n",
       " 'man',\n",
       " 'thirty',\n",
       " 'friend',\n",
       " 'family',\n",
       " 'elder',\n",
       " 'brother',\n",
       " 's',\n",
       " 'husband',\n",
       " 'mile',\n",
       " 'visitor',\n",
       " 'time',\n",
       " 'dinner',\n",
       " 'absence',\n",
       " 'circumstance',\n",
       " 'time',\n",
       " 'manner',\n",
       " 'good',\n",
       " 'kind',\n",
       " 'hour',\n",
       " 'shocking',\n",
       " 'walk',\n",
       " 'sir',\n",
       " 'moonlight',\n",
       " 'night',\n",
       " 'fire',\n",
       " 'sir',\n",
       " 'speck',\n",
       " 'deal',\n",
       " 'rain',\n",
       " 'hour',\n",
       " 'breakfast',\n",
       " 'wedding',\n",
       " 'bye',\n",
       " 'sort',\n",
       " 'joy',\n",
       " 'hurry',\n",
       " 'business',\n",
       " 'regard',\n",
       " 'question',\n",
       " 'dependence',\n",
       " 'independence',\n",
       " 'rate',\n",
       " '_one_',\n",
       " 'creature',\n",
       " 'head',\n",
       " 'father',\n",
       " 'papa',\n",
       " 'idea',\n",
       " 'fault',\n",
       " 'joke',\n",
       " 'joke',\n",
       " 'fact',\n",
       " 'one',\n",
       " 'father',\n",
       " 'circumstance',\n",
       " 'perfect',\n",
       " 'body',\n",
       " 'reflection',\n",
       " 'body',\n",
       " 'gainer',\n",
       " 'wedding',\n",
       " 'body',\n",
       " 'body',\n",
       " 'tear',\n",
       " 'face',\n",
       " 'apart',\n",
       " 'meeting',\n",
       " 'day',\n",
       " 'thing',\n",
       " 'father',\n",
       " 'head',\n",
       " 'companion',\n",
       " 'marriage',\n",
       " 's',\n",
       " 'advantage',\n",
       " 'time',\n",
       " 'life',\n",
       " 'home',\n",
       " 'secure',\n",
       " 'provision',\n",
       " 'pain',\n",
       " 'pleasure',\n",
       " 'friend',\n",
       " 'matter',\n",
       " 'joy',\n",
       " 'one',\n",
       " 'match',\n",
       " 'myself',\n",
       " 'match',\n",
       " 'place',\n",
       " 'right',\n",
       " 'thing',\n",
       " 'head',\n",
       " 'father',\n",
       " 'dear',\n",
       " 'none',\n",
       " 'amusement',\n",
       " 'world',\n",
       " 'success',\n",
       " 'body',\n",
       " 'wife',\n",
       " 'business',\n",
       " 'town',\n",
       " 'wherever',\n",
       " 'evening',\n",
       " 'year',\n",
       " 'promise',\n",
       " 'wife',\n",
       " 'deathbed',\n",
       " 'son',\n",
       " 'uncle',\n",
       " 'manner',\n",
       " 'nonsense',\n",
       " 'subject',\n",
       " 'none',\n",
       " 'day',\n",
       " 'gallantry',\n",
       " 's',\n",
       " 'mind',\n",
       " 'subject',\n",
       " 'match',\n",
       " 'hour',\n",
       " 'success',\n",
       " 'instance',\n",
       " 'papa',\n",
       " 'match',\n",
       " 'making',\n",
       " 'success',\n",
       " 'time',\n",
       " 'marriage',\n",
       " 'employment',\n",
       " 'lady',\n",
       " 'mind',\n",
       " 'match',\n",
       " 'day',\n",
       " 'thing',\n",
       " 'success',\n",
       " 'merit',\n",
       " 'guess',\n",
       " '_that_',\n",
       " 'pleasure',\n",
       " 'triumph',\n",
       " 'guess',\n",
       " 'depend',\n",
       " 'guess',\n",
       " 'talent',\n",
       " 'word',\n",
       " 'success',\n",
       " 'claim',\n",
       " 'something',\n",
       " 'do',\n",
       " 'nothing',\n",
       " 'thing',\n",
       " 'straightforward',\n",
       " 'man',\n",
       " 'woman',\n",
       " 'harm',\n",
       " 'interference',\n",
       " 'herself',\n",
       " 'part',\n",
       " 'pray',\n",
       " 'family',\n",
       " 'circle',\n",
       " 'papa',\n",
       " 'papa',\n",
       " 'wife',\n",
       " 'nobody',\n",
       " 'year',\n",
       " 'house',\n",
       " 'shame',\n",
       " 'day',\n",
       " 'kind',\n",
       " 'office',\n",
       " 'way',\n",
       " 'service',\n",
       " 'man',\n",
       " 'man',\n",
       " 'regard',\n",
       " 'attention',\n",
       " 'ask',\n",
       " 'day',\n",
       " 'thing',\n",
       " 'kind',\n",
       " 'deal',\n",
       " 'pleasure',\n",
       " 'sir',\n",
       " 'time',\n",
       " 'laughing',\n",
       " 'thing',\n",
       " 'fish',\n",
       " 'chicken',\n",
       " 'wife',\n",
       " 'man',\n",
       " 'care',\n",
       " 'native',\n",
       " 'family',\n",
       " 'gentility',\n",
       " 'property',\n",
       " 'education',\n",
       " 'life',\n",
       " 'independence',\n",
       " 'cheerful',\n",
       " 'mind',\n",
       " 'temper',\n",
       " 'militia',\n",
       " 'county',\n",
       " 'favourite',\n",
       " 'life',\n",
       " 'family',\n",
       " 'love',\n",
       " 'nobody',\n",
       " 'brother',\n",
       " 'wife',\n",
       " 'pride',\n",
       " 'importance',\n",
       " 'connexion',\n",
       " 'age',\n",
       " 'command',\n",
       " 'fortune',\n",
       " 'fortune',\n",
       " 'proportion',\n",
       " 'family',\n",
       " 'estate',\n",
       " 'marriage',\n",
       " 'place',\n",
       " 'mortification',\n",
       " 'off',\n",
       " 'decorum',\n",
       " 'connexion',\n",
       " 'happiness',\n",
       " 'husband',\n",
       " 'heart',\n",
       " 'temper',\n",
       " 'thing',\n",
       " 'return',\n",
       " 'goodness',\n",
       " 'love',\n",
       " 'sort',\n",
       " 'spirit',\n",
       " 'resolution',\n",
       " 'spite',\n",
       " 'brother',\n",
       " 'brother',\n",
       " 'anger',\n",
       " 'home',\n",
       " 'income',\n",
       " 'nothing',\n",
       " 'comparison',\n",
       " 'husband',\n",
       " 'wife',\n",
       " 'match',\n",
       " 'bargain',\n",
       " 'wife',\n",
       " 'marriage',\n",
       " 'man',\n",
       " 'child',\n",
       " 'expense',\n",
       " 'child',\n",
       " 'boy',\n",
       " 'softening',\n",
       " 'claim',\n",
       " 'illness',\n",
       " 'mother',\n",
       " 'sort',\n",
       " 'reconciliation',\n",
       " 'creature',\n",
       " 'charge',\n",
       " 'decease',\n",
       " 'reluctance',\n",
       " 'father',\n",
       " 'child',\n",
       " 'care',\n",
       " 'wealth',\n",
       " 'comfort',\n",
       " 'situation',\n",
       " 'change',\n",
       " 'life',\n",
       " 'militia',\n",
       " 'trade',\n",
       " 'way',\n",
       " 'opening',\n",
       " 'concern',\n",
       " 'employment',\n",
       " 'house',\n",
       " 'leisure',\n",
       " 'occupation',\n",
       " 'society',\n",
       " 'eighteen',\n",
       " 'life',\n",
       " 'time',\n",
       " 'competence',\n",
       " 'purchase',\n",
       " 'estate',\n",
       " 'woman',\n",
       " 'portionless',\n",
       " 'disposition',\n",
       " 'time',\n",
       " 'influence',\n",
       " 'youth',\n",
       " 'youth',\n",
       " 'determination',\n",
       " 'till',\n",
       " 'sale',\n",
       " 'view',\n",
       " 'fortune',\n",
       " 'house',\n",
       " 'wife',\n",
       " 'period',\n",
       " 'existence',\n",
       " 'probability',\n",
       " 'happiness',\n",
       " 'man',\n",
       " 'temper',\n",
       " 'marriage',\n",
       " 'delightful',\n",
       " 'well',\n",
       " 'judging',\n",
       " 'woman',\n",
       " 'proof',\n",
       " 'deal',\n",
       " 'gratitude',\n",
       " 'choice',\n",
       " 'fortune',\n",
       " 'uncle',\n",
       " 'heir',\n",
       " 'adoption',\n",
       " 'name',\n",
       " 'age',\n",
       " 'therefore',\n",
       " 'father',\n",
       " 's',\n",
       " 'assistance',\n",
       " 'father',\n",
       " 'apprehension',\n",
       " 'aunt',\n",
       " 'woman',\n",
       " 'husband',\n",
       " 'nature',\n",
       " 'caprice',\n",
       " 'son',\n",
       " 'year',\n",
       " 'report',\n",
       " 'man',\n",
       " 'sort',\n",
       " 'pride',\n",
       " 'place',\n",
       " 'kind',\n",
       " 'concern',\n",
       " 'curiosity',\n",
       " 'compliment',\n",
       " 'life',\n",
       " 'father',\n",
       " 'father',\n",
       " 's',\n",
       " 'marriage',\n",
       " 'attention',\n",
       " 'visit',\n",
       " 'place',\n",
       " 'voice',\n",
       " 'subject',\n",
       " 'tea',\n",
       " 'visit',\n",
       " 'time',\n",
       " 'hope',\n",
       " 'mother',\n",
       " 'occasion',\n",
       " 'morning',\n",
       " 'visit',\n",
       " 'mention',\n",
       " 'letter',\n",
       " 'letter',\n",
       " 'letter',\n",
       " 'letter',\n",
       " 'letter',\n",
       " 'life',\n",
       " 'letter',\n",
       " 'course',\n",
       " 'idea',\n",
       " 'man',\n",
       " 'attention',\n",
       " 'proof',\n",
       " 'sense',\n",
       " 'addition',\n",
       " 'source',\n",
       " 'expression',\n",
       " 'congratulation',\n",
       " 'marriage',\n",
       " 'woman',\n",
       " 'regret',\n",
       " 'separation',\n",
       " 'friendship',\n",
       " 'part',\n",
       " 'pain',\n",
       " 's',\n",
       " 'pleasure',\n",
       " 'hour',\n",
       " 's',\n",
       " 'ennui',\n",
       " 'want',\n",
       " 'companionableness',\n",
       " 'character',\n",
       " 'situation',\n",
       " 'sense',\n",
       " 'energy',\n",
       " 'well',\n",
       " 'comfort',\n",
       " 'distance',\n",
       " 'convenient',\n",
       " 'female',\n",
       " 'walking',\n",
       " 'disposition',\n",
       " 'approaching',\n",
       " 'season',\n",
       " 'hindrance',\n",
       " 'spending',\n",
       " 'week',\n",
       " 'situation',\n",
       " 'subject',\n",
       " 'gratitude',\n",
       " 'regret',\n",
       " 'satisfaction',\n",
       " 'satisfaction',\n",
       " 'enjoyment',\n",
       " 'father',\n",
       " 'surprize',\n",
       " 'centre',\n",
       " 'comfort',\n",
       " 'evening',\n",
       " 'husband',\n",
       " 'carriage',\n",
       " 'sigh',\n",
       " 'likelihood',\n",
       " 'alleviation',\n",
       " 'joy',\n",
       " 'event',\n",
       " 'wedding',\n",
       " 'cake',\n",
       " 'distress',\n",
       " 'eat',\n",
       " 'stomach',\n",
       " 'nothing',\n",
       " 'unfit',\n",
       " 'body',\n",
       " 'cake',\n",
       " 'body',\n",
       " 'apothecary',\n",
       " 'subject',\n",
       " 'gentlemanlike',\n",
       " 'man',\n",
       " 'life',\n",
       " 'bias',\n",
       " 'inclination',\n",
       " 'cake',\n",
       " 'opinion',\n",
       " 'confirmation',\n",
       " 'visitor',\n",
       " 'pair',\n",
       " 'cake',\n",
       " 'rest',\n",
       " 'rumour',\n",
       " 'slice',\n",
       " 'cake',\n",
       " 'fond',\n",
       " 'society',\n",
       " 'way',\n",
       " 'residence',\n",
       " 'nature',\n",
       " 'fortune',\n",
       " 'house',\n",
       " 'daughter',\n",
       " 'circle',\n",
       " 'measure',\n",
       " 'intercourse',\n",
       " 'horror',\n",
       " 'dinner',\n",
       " 'acquaintance',\n",
       " 'parish',\n",
       " 'seat',\n",
       " 'persuasion',\n",
       " 'chosen',\n",
       " 'time',\n",
       " 'company',\n",
       " 'evening',\n",
       " 'week',\n",
       " 'card',\n",
       " 'table',\n",
       " 'regard',\n",
       " 'man',\n",
       " 'privilege',\n",
       " 'evening',\n",
       " 'solitude',\n",
       " 'society',\n",
       " 'room',\n",
       " 'daughter',\n",
       " 'danger',\n",
       " 'set',\n",
       " 'service',\n",
       " 'invitation',\n",
       " 'home',\n",
       " 'hardship',\n",
       " 'place',\n",
       " 'year',\n",
       " 'grievance',\n",
       " 'widow',\n",
       " 'vicar',\n",
       " 'lady',\n",
       " 'thing',\n",
       " 'tea',\n",
       " 'daughter',\n",
       " 'way',\n",
       " 'regard',\n",
       " 'respect',\n",
       " 'harmless',\n",
       " 'lady',\n",
       " 'daughter',\n",
       " 'degree',\n",
       " 'popularity',\n",
       " 'woman',\n",
       " 'handsome',\n",
       " 'predicament',\n",
       " 'world',\n",
       " 'favour',\n",
       " 'superiority',\n",
       " 'atonement',\n",
       " 'outward',\n",
       " 'respect',\n",
       " 'beauty',\n",
       " 'cleverness',\n",
       " 'youth',\n",
       " 'distinction',\n",
       " 'middle',\n",
       " 'life',\n",
       " 'care',\n",
       " 'mother',\n",
       " 'endeavour',\n",
       " 'income',\n",
       " 'woman',\n",
       " 'woman',\n",
       " 'one',\n",
       " 'good',\n",
       " 'temper',\n",
       " 'body',\n",
       " 'body',\n",
       " 'happiness',\n",
       " 'body',\n",
       " 'creature',\n",
       " 'mother',\n",
       " 'home',\n",
       " 'nothing',\n",
       " 'simplicity',\n",
       " 'cheerfulness',\n",
       " 'nature',\n",
       " 'spirit',\n",
       " 'recommendation',\n",
       " 'body',\n",
       " 'mine',\n",
       " 'felicity',\n",
       " 'talker',\n",
       " 'gossip',\n",
       " 'mistress',\n",
       " 'establishment',\n",
       " 'thing',\n",
       " 'nonsense',\n",
       " 'morality',\n",
       " 'pay',\n",
       " 'health',\n",
       " 'vanity',\n",
       " 'honest',\n",
       " 'school',\n",
       " 'quantity',\n",
       " 'price',\n",
       " 'way',\n",
       " 'education',\n",
       " 'danger',\n",
       " 'school',\n",
       " 'repute',\n",
       " 'spot',\n",
       " 'house',\n",
       " 'garden',\n",
       " 'plenty',\n",
       " 'food',\n",
       " 'deal',\n",
       " 'summer',\n",
       " 'winter',\n",
       " 'wonder',\n",
       " 'train',\n",
       " 'twenty',\n",
       " 'couple',\n",
       " 'plain',\n",
       " 'kind',\n",
       " 'woman',\n",
       " 'youth',\n",
       " 'holiday',\n",
       " 'visit',\n",
       " 'kindness',\n",
       " 'claim',\n",
       " 'parlour',\n",
       " 'hung',\n",
       " 'round',\n",
       " 'work',\n",
       " 'fireside',\n",
       " 'father',\n",
       " 's',\n",
       " 'sake',\n",
       " 'power',\n",
       " 'remedy',\n",
       " 'absence',\n",
       " 'father',\n",
       " 'look',\n",
       " 'feel',\n",
       " 'evening',\n",
       " 'morning',\n",
       " 'close',\n",
       " 'day',\n",
       " 'note',\n",
       " 'request',\n",
       " 'girl',\n",
       " 'sight',\n",
       " 'interest',\n",
       " 'account',\n",
       " 'beauty',\n",
       " 'invitation',\n",
       " 'evening',\n",
       " 'mistress',\n",
       " 'mansion',\n",
       " 'daughter',\n",
       " 'somebody',\n",
       " 'school',\n",
       " 'somebody',\n",
       " 'condition',\n",
       " 'scholar',\n",
       " 'parlour',\n",
       " 'boarder',\n",
       " 'history',\n",
       " 'visit',\n",
       " 'country',\n",
       " 'school',\n",
       " 'girl',\n",
       " 'beauty',\n",
       " 'sort',\n",
       " 'plump',\n",
       " 'fair',\n",
       " 'bloom',\n",
       " 'hair',\n",
       " 'look',\n",
       " 'sweetness',\n",
       " 'end',\n",
       " 'evening',\n",
       " 'person',\n",
       " 'acquaintance',\n",
       " 'thing',\n",
       " 'clever',\n",
       " 'conversation',\n",
       " 'deference',\n",
       " 'appearance',\n",
       " 'thing',\n",
       " 'style',\n",
       " 'sense',\n",
       " 'society',\n",
       " 'acquaintance',\n",
       " 'sort',\n",
       " 'harm',\n",
       " 'family',\n",
       " 'name',\n",
       " 'character',\n",
       " 'farm',\n",
       " 'parish',\n",
       " 'girl',\n",
       " 'knowledge',\n",
       " 'elegance',\n",
       " 'acquaintance',\n",
       " 'society',\n",
       " 'kind',\n",
       " 'undertaking',\n",
       " 'situation',\n",
       " 'life',\n",
       " 'leisure',\n",
       " 'evening',\n",
       " 'rate',\n",
       " 'supper',\n",
       " 'table',\n",
       " 'time',\n",
       " 'fire',\n",
       " 'alacrity',\n",
       " 'impulse',\n",
       " 'spirit',\n",
       " 'credit',\n",
       " 'thing',\n",
       " 'mind',\n",
       " 'honours',\n",
       " 'meal',\n",
       " 'help',\n",
       " 'chicken',\n",
       " 'urgency',\n",
       " 'warfare',\n",
       " 'cloth',\n",
       " 'laid',\n",
       " 'fashion',\n",
       " 'youth',\n",
       " 'conviction',\n",
       " 'sorry',\n",
       " 'thing',\n",
       " 'hospitality',\n",
       " 'thing',\n",
       " 'care',\n",
       " 'health',\n",
       " 'basin',\n",
       " 'gruel',\n",
       " 'self',\n",
       " 'approbation',\n",
       " 'egg',\n",
       " 'egg',\n",
       " 'body',\n",
       " 'egg',\n",
       " 'body',\n",
       " 'bit',\n",
       " 'tart',\n",
       " 'bit',\n",
       " 'apple',\n",
       " 'custard',\n",
       " 'glass',\n",
       " 'wine',\n",
       " 'half',\n",
       " 'glass',\n",
       " 'tumbler',\n",
       " 'water',\n",
       " 'father',\n",
       " 'style',\n",
       " 'evening',\n",
       " 'pleasure',\n",
       " 'happiness',\n",
       " 'personage',\n",
       " 'prospect',\n",
       " 'introduction',\n",
       " 'panic',\n",
       " 'pleasure',\n",
       " 'affability',\n",
       " 'evening',\n",
       " 's',\n",
       " 'intimacy',\n",
       " 'thing',\n",
       " 'time',\n",
       " 'acquaintance',\n",
       " 'satisfaction',\n",
       " 'companion',\n",
       " 'respect',\n",
       " 's',\n",
       " 'loss',\n",
       " 'father',\n",
       " 'shrubbery',\n",
       " 'ground',\n",
       " 'walk',\n",
       " 'year',\n",
       " 's',\n",
       " 'marriage',\n",
       " 'exercise',\n",
       " 'time',\n",
       " 'walk',\n",
       " 'addition',\n",
       " 'respect',\n",
       " 'kind',\n",
       " 'docile',\n",
       " 'disposition',\n",
       " 'conceit',\n",
       " 'attachment',\n",
       " 'inclination',\n",
       " 'company',\n",
       " 'power',\n",
       " 'clever',\n",
       " 'want',\n",
       " 'taste',\n",
       " 'strength',\n",
       " 's',\n",
       " 'friend',\n",
       " 'something',\n",
       " 'home',\n",
       " 'friend',\n",
       " ...]"
      ]
     },
     "execution_count": 74,
     "metadata": {},
     "output_type": "execute_result"
    }
   ],
   "source": [
    "emma_nouns = [t[0] for t in emma_tag if t[1] == \"NN\"]\n",
    "emma_nouns"
   ]
  },
  {
   "cell_type": "code",
   "execution_count": 73,
   "metadata": {},
   "outputs": [
    {
     "data": {
      "text/plain": [
       "<Text: Emma>"
      ]
     },
     "execution_count": 73,
     "metadata": {},
     "output_type": "execute_result"
    }
   ],
   "source": [
    "emma_text = Text(emma_nouns, name =\"Emma\")\n",
    "emma_text"
   ]
  },
  {
   "cell_type": "code",
   "execution_count": 75,
   "metadata": {
    "scrolled": true
   },
   "outputs": [
    {
     "data": {
      "image/png": "[encoded data removed]",
      "text/plain": [
       "<Figure size 432x288 with 1 Axes>"
      ]
     },
     "metadata": {
      "needs_background": "light"
     },
     "output_type": "display_data"
    }
   ],
   "source": [
    "emma_text.plot(20) # 상위 20개 \n",
    "\n",
    "# 이런식으로 s 가나오는 건 무의미하니깐, 정규표현식할때 애초에 2글자 이상뽑기."
   ]
  },
  {
   "cell_type": "code",
   "execution_count": 76,
   "metadata": {},
   "outputs": [
    {
     "name": "stdout",
     "output_type": "stream",
     "text": [
      "Displaying 5 of 9 matches:\n",
      " Emma clever home disposition existence wo\n",
      "spleasure indignation simpleton girl Emma man woman offer marriage man woman b\n",
      "tion friend purest visit career duty Emma look home lament man worthy independ\n",
      " thing message vain success proposal Emma niece account truth body body point \n",
      "our s conversation nothing animation Emma agitation moment dread dream feeling\n"
     ]
    }
   ],
   "source": [
    "# 해당 단어가 들어간 문장을 찾아줌 line 매개변수 지정하면 원하는 개수 볼수 있음\n",
    "\n",
    "emma_text.concordance(\"Emma\", lines = 5)"
   ]
  },
  {
   "cell_type": "code",
   "execution_count": 78,
   "metadata": {},
   "outputs": [
    {
     "name": "stdout",
     "output_type": "stream",
     "text": [
      "No matches\n"
     ]
    }
   ],
   "source": [
    "# 문맥에서 비슷한 단어를 찾아줌. \n",
    "emma_text.similar(\"general\")"
   ]
  },
  {
   "cell_type": "code",
   "execution_count": 83,
   "metadata": {},
   "outputs": [
    {
     "name": "stdout",
     "output_type": "stream",
     "text": [
      "('The following word(s) were not found:', 'general strong')\n"
     ]
    }
   ],
   "source": [
    "# 둘이상의 단어에 의해 공유되는 문맥을 조사\n",
    "\n",
    "emma_text.common_contexts([\"general\",\"strong\"])"
   ]
  },
  {
   "cell_type": "code",
   "execution_count": 84,
   "metadata": {
    "collapsed": true
   },
   "outputs": [
    {
     "ename": "ValueError",
     "evalue": "too many values to unpack (expected 2)",
     "output_type": "error",
     "traceback": [
      "\u001b[1;31m---------------------------------------------------------------------------\u001b[0m",
      "\u001b[1;31mValueError\u001b[0m                                Traceback (most recent call last)",
      "\u001b[1;32m<ipython-input-84-ab1cba421e76>\u001b[0m in \u001b[0;36m<module>\u001b[1;34m\u001b[0m\n\u001b[0;32m      1\u001b[0m \u001b[1;31m# 메솓드로는 같이 붙어서 쓰는 단어 즉 연어를 주어진 인수의 개수만큼 찾음\u001b[0m\u001b[1;33m\u001b[0m\u001b[1;33m\u001b[0m\u001b[1;33m\u001b[0m\u001b[0m\n\u001b[0;32m      2\u001b[0m \u001b[1;33m\u001b[0m\u001b[0m\n\u001b[1;32m----> 3\u001b[1;33m \u001b[0memma_text\u001b[0m\u001b[1;33m.\u001b[0m\u001b[0mcollocations\u001b[0m\u001b[1;33m(\u001b[0m\u001b[1;36m2\u001b[0m\u001b[1;33m)\u001b[0m\u001b[1;33m\u001b[0m\u001b[1;33m\u001b[0m\u001b[0m\n\u001b[0m",
      "\u001b[1;32m~\\anaconda3\\lib\\site-packages\\nltk\\text.py\u001b[0m in \u001b[0;36mcollocations\u001b[1;34m(self, num, window_size)\u001b[0m\n\u001b[0;32m    442\u001b[0m \u001b[1;33m\u001b[0m\u001b[0m\n\u001b[0;32m    443\u001b[0m         collocation_strings = [\n\u001b[1;32m--> 444\u001b[1;33m             \u001b[0mw1\u001b[0m \u001b[1;33m+\u001b[0m \u001b[1;34m\" \"\u001b[0m \u001b[1;33m+\u001b[0m \u001b[0mw2\u001b[0m \u001b[1;32mfor\u001b[0m \u001b[0mw1\u001b[0m\u001b[1;33m,\u001b[0m \u001b[0mw2\u001b[0m \u001b[1;32min\u001b[0m \u001b[0mself\u001b[0m\u001b[1;33m.\u001b[0m\u001b[0mcollocation_list\u001b[0m\u001b[1;33m(\u001b[0m\u001b[0mnum\u001b[0m\u001b[1;33m,\u001b[0m \u001b[0mwindow_size\u001b[0m\u001b[1;33m)\u001b[0m\u001b[1;33m\u001b[0m\u001b[1;33m\u001b[0m\u001b[0m\n\u001b[0m\u001b[0;32m    445\u001b[0m         ]\n\u001b[0;32m    446\u001b[0m         \u001b[0mprint\u001b[0m\u001b[1;33m(\u001b[0m\u001b[0mtokenwrap\u001b[0m\u001b[1;33m(\u001b[0m\u001b[0mcollocation_strings\u001b[0m\u001b[1;33m,\u001b[0m \u001b[0mseparator\u001b[0m\u001b[1;33m=\u001b[0m\u001b[1;34m\"; \"\u001b[0m\u001b[1;33m)\u001b[0m\u001b[1;33m)\u001b[0m\u001b[1;33m\u001b[0m\u001b[1;33m\u001b[0m\u001b[0m\n",
      "\u001b[1;32m~\\anaconda3\\lib\\site-packages\\nltk\\text.py\u001b[0m in \u001b[0;36m<listcomp>\u001b[1;34m(.0)\u001b[0m\n\u001b[0;32m    442\u001b[0m \u001b[1;33m\u001b[0m\u001b[0m\n\u001b[0;32m    443\u001b[0m         collocation_strings = [\n\u001b[1;32m--> 444\u001b[1;33m             \u001b[0mw1\u001b[0m \u001b[1;33m+\u001b[0m \u001b[1;34m\" \"\u001b[0m \u001b[1;33m+\u001b[0m \u001b[0mw2\u001b[0m \u001b[1;32mfor\u001b[0m \u001b[0mw1\u001b[0m\u001b[1;33m,\u001b[0m \u001b[0mw2\u001b[0m \u001b[1;32min\u001b[0m \u001b[0mself\u001b[0m\u001b[1;33m.\u001b[0m\u001b[0mcollocation_list\u001b[0m\u001b[1;33m(\u001b[0m\u001b[0mnum\u001b[0m\u001b[1;33m,\u001b[0m \u001b[0mwindow_size\u001b[0m\u001b[1;33m)\u001b[0m\u001b[1;33m\u001b[0m\u001b[1;33m\u001b[0m\u001b[0m\n\u001b[0m\u001b[0;32m    445\u001b[0m         ]\n\u001b[0;32m    446\u001b[0m         \u001b[0mprint\u001b[0m\u001b[1;33m(\u001b[0m\u001b[0mtokenwrap\u001b[0m\u001b[1;33m(\u001b[0m\u001b[0mcollocation_strings\u001b[0m\u001b[1;33m,\u001b[0m \u001b[0mseparator\u001b[0m\u001b[1;33m=\u001b[0m\u001b[1;34m\"; \"\u001b[0m\u001b[1;33m)\u001b[0m\u001b[1;33m)\u001b[0m\u001b[1;33m\u001b[0m\u001b[1;33m\u001b[0m\u001b[0m\n",
      "\u001b[1;31mValueError\u001b[0m: too many values to unpack (expected 2)"
     ]
    }
   ],
   "source": [
    "# 메솓드로는 같이 붙어서 쓰는 단어 즉 연어를 주어진 인수의 개수만큼 찾음\n",
    "\n",
    "emma_text.collocations(2)"
   ]
  },
  {
   "cell_type": "code",
   "execution_count": 86,
   "metadata": {},
   "outputs": [
    {
     "data": {
      "image/png": "[encoded data removed]",
      "text/plain": [
       "<Figure size 432x288 with 1 Axes>"
      ]
     },
     "metadata": {
      "needs_background": "light"
     },
     "output_type": "display_data"
    }
   ],
   "source": [
    "emma_text.dispersion_plot([\"Emma\",\"world\",\"Frank\",\"day\"])\n",
    "\n",
    "#  이 단어를 초반에 많이 말하는지, 후반에 말하는지 단어의 위치를 알수 있음. "
   ]
  },
  {
   "cell_type": "code",
   "execution_count": 87,
   "metadata": {},
   "outputs": [
    {
     "data": {
      "text/plain": [
       "19154"
      ]
     },
     "execution_count": 87,
     "metadata": {},
     "output_type": "execute_result"
    }
   ],
   "source": [
    "# 단어의 총수 계산\n",
    "len(emma_text)"
   ]
  },
  {
   "cell_type": "code",
   "execution_count": 88,
   "metadata": {},
   "outputs": [
    {
     "data": {
      "text/plain": [
       "2707"
      ]
     },
     "execution_count": 88,
     "metadata": {},
     "output_type": "execute_result"
    }
   ],
   "source": [
    "# text를 set으로 만들어지는데 set은 중복 허용이 안되므로, 중복이 안된 단어의 갯수를 뽑아줌.\n",
    "len(set(emma_text))"
   ]
  },
  {
   "cell_type": "code",
   "execution_count": 90,
   "metadata": {},
   "outputs": [
    {
     "data": {
      "text/plain": [
       "0.141328182102955"
      ]
     },
     "execution_count": 90,
     "metadata": {},
     "output_type": "execute_result"
    }
   ],
   "source": [
    "# 텍스트의 어휘 풍부성에 대한 척도\n",
    "len(set(emma_text))/len(emma_text)"
   ]
  },
  {
   "cell_type": "markdown",
   "metadata": {},
   "source": [
    "#### 2.5. FreqDist 클래스\n",
    "- 단어(토큰) 의 사용빈도 정보를 담는 클래스"
   ]
  },
  {
   "cell_type": "code",
   "execution_count": 92,
   "metadata": {},
   "outputs": [
    {
     "data": {
      "text/plain": [
       "FreqDist({'thing': 398, 's': 376, 'time': 272, 'nothing': 237, 'man': 233, 'father': 202, 'body': 192, 'day': 190, 'friend': 170, 'way': 155, ...})"
      ]
     },
     "execution_count": 92,
     "metadata": {},
     "output_type": "execute_result"
    }
   ],
   "source": [
    "# 단어(토큰)의 사용빈도 정보를 담는 클래스\n",
    "emma_fd = emma_text.vocab()\n",
    "emma_fd"
   ]
  },
  {
   "cell_type": "code",
   "execution_count": 95,
   "metadata": {},
   "outputs": [
    {
     "data": {
      "text/plain": [
       "FreqDist({'Emma': 9, 'Nobody': 9, 'Nothing': 7, '_him_': 4, 'Isabella': 4, 'CHAPTER': 4, '_she_': 3, '_her_': 3, 'Yes': 3, '_me_': 3, ...})"
      ]
     },
     "execution_count": 95,
     "metadata": {},
     "output_type": "execute_result"
    }
   ],
   "source": [
    "# vocab사용 하지않을시 하는 코드\n",
    "\n",
    "from nltk.tag import pos_tag\n",
    "from nltk import FreqDist\n",
    "\n",
    "stopwords = [\"Mr\",\"Mrs\",\"Miss\",\"Mr\",\"Dear\"]\n",
    "emma_tokens = pos_tag(emma_text)\n",
    "names_list = [t[0] for t in emma_tokens if t[1] == \"NNP\"  # 고유명사만\n",
    "              and t[0] not in stopwords] # 불용어 사전 \n",
    "emma_fd_names = FreqDist(names_list) # 토큰 갯수 \n",
    "emma_fd_names"
   ]
  },
  {
   "cell_type": "code",
   "execution_count": 97,
   "metadata": {},
   "outputs": [
    {
     "name": "stdout",
     "output_type": "stream",
     "text": [
      "119\n",
      "9\n"
     ]
    },
    {
     "data": {
      "text/plain": [
       "0.07563025210084033"
      ]
     },
     "execution_count": 97,
     "metadata": {},
     "output_type": "execute_result"
    }
   ],
   "source": [
    "# FreqDist 는 딕셔너리 형태와 유사함\n",
    "\n",
    "print(emma_fd_names.N()) # 전체 단어의 수\n",
    "print(emma_fd_names[\"Emma\"])  # 출현 횟수\n",
    "emma_fd_names.freq(\"Emma\") # 출현 확률\n"
   ]
  },
  {
   "cell_type": "code",
   "execution_count": 99,
   "metadata": {},
   "outputs": [
    {
     "data": {
      "text/plain": [
       "[('Emma', 9), ('Nobody', 9), ('Nothing', 7), ('_him_', 4), ('Isabella', 4)]"
      ]
     },
     "execution_count": 99,
     "metadata": {},
     "output_type": "execute_result"
    }
   ],
   "source": [
    "# 가장 출현횟수가 높은 단어부터 찾음 \n",
    "emma_fd_names.most_common(5)"
   ]
  },
  {
   "cell_type": "markdown",
   "metadata": {},
   "source": [
    "### 연습문제 SPEECH"
   ]
  },
  {
   "cell_type": "code",
   "execution_count": 196,
   "metadata": {},
   "outputs": [
    {
     "data": {
      "text/html": [
       "<div>\n",
       "<style scoped>\n",
       "    .dataframe tbody tr th:only-of-type {\n",
       "        vertical-align: middle;\n",
       "    }\n",
       "\n",
       "    .dataframe tbody tr th {\n",
       "        vertical-align: top;\n",
       "    }\n",
       "\n",
       "    .dataframe thead th {\n",
       "        text-align: right;\n",
       "    }\n",
       "</style>\n",
       "<table border=\"1\" class=\"dataframe\">\n",
       "  <thead>\n",
       "    <tr style=\"text-align: right;\">\n",
       "      <th></th>\n",
       "      <th>0</th>\n",
       "    </tr>\n",
       "  </thead>\n",
       "  <tbody>\n",
       "    <tr>\n",
       "      <th>0</th>\n",
       "      <td>My fellow citizens:</td>\n",
       "    </tr>\n",
       "    <tr>\n",
       "      <th>1</th>\n",
       "      <td>I stand here today humbled by the task before ...</td>\n",
       "    </tr>\n",
       "    <tr>\n",
       "      <th>2</th>\n",
       "      <td>Forty-four Americans have now taken the presid...</td>\n",
       "    </tr>\n",
       "    <tr>\n",
       "      <th>3</th>\n",
       "      <td>So it has been. So it must be with this genera...</td>\n",
       "    </tr>\n",
       "    <tr>\n",
       "      <th>4</th>\n",
       "      <td>That we are in the midst of crisis is now well...</td>\n",
       "    </tr>\n",
       "  </tbody>\n",
       "</table>\n",
       "</div>"
      ],
      "text/plain": [
       "                                                   0\n",
       "0                                My fellow citizens:\n",
       "1  I stand here today humbled by the task before ...\n",
       "2  Forty-four Americans have now taken the presid...\n",
       "3  So it has been. So it must be with this genera...\n",
       "4  That we are in the midst of crisis is now well..."
      ]
     },
     "execution_count": 196,
     "metadata": {},
     "output_type": "execute_result"
    }
   ],
   "source": [
    "import pandas as pd\n",
    "speech_txt = pd.read_csv(\"./speech/Obama Speech.txt\",sep=\"#\",header = None)\n",
    "speech_txt.head()"
   ]
  },
  {
   "cell_type": "code",
   "execution_count": 139,
   "metadata": {},
   "outputs": [],
   "source": [
    "line = str(speech_txt.loc[0])  # 그냥 한행을 뽑으면 시리즈이기 때문에 str로 바꿔줘야함"
   ]
  },
  {
   "cell_type": "code",
   "execution_count": 140,
   "metadata": {},
   "outputs": [],
   "source": [
    "from nltk.tokenize import RegexpTokenizer \n",
    "ret = RegexpTokenizer(\"[\\w]{2,}\") \n",
    "# 두문자 이상의 문자를 정규화를 기준으로 토크나이즈 화 시킴."
   ]
  },
  {
   "cell_type": "code",
   "execution_count": 141,
   "metadata": {},
   "outputs": [],
   "source": [
    "tokens = ret.tokenize(line)"
   ]
  },
  {
   "cell_type": "code",
   "execution_count": 142,
   "metadata": {},
   "outputs": [],
   "source": [
    "from nltk.tag import pos_tag\n",
    "tagged_list =pos_tag(tokens) # 형용사를 알기위해서 tag를 시킴. "
   ]
  },
  {
   "cell_type": "code",
   "execution_count": 184,
   "metadata": {},
   "outputs": [
    {
     "name": "stdout",
     "output_type": "stream",
     "text": [
      "('My', 'PRP$')\n",
      "('fellow', 'JJ')\n",
      "('citizens', 'NNS')\n",
      "('Name', 'NNP')\n",
      "('dtype', 'NN')\n",
      "('object', 'NN')\n"
     ]
    }
   ],
   "source": [
    "for i  in tagged_list:\n",
    "    print(i)"
   ]
  },
  {
   "cell_type": "code",
   "execution_count": 143,
   "metadata": {},
   "outputs": [],
   "source": [
    "nouns_list = [t[0] for t in tagged_list if t[1] == 'NN' ] "
   ]
  },
  {
   "cell_type": "code",
   "execution_count": 144,
   "metadata": {},
   "outputs": [
    {
     "data": {
      "text/plain": [
       "['dtype', 'object']"
      ]
     },
     "execution_count": 144,
     "metadata": {},
     "output_type": "execute_result"
    }
   ],
   "source": [
    "nouns_list"
   ]
  },
  {
   "cell_type": "code",
   "execution_count": 153,
   "metadata": {},
   "outputs": [],
   "source": [
    "# 위의 결과를 함수로 만들기 \n",
    "from nltk.tokenize import RegexpTokenizer\n",
    "from nltk.tag import pos_tag\n",
    "\n",
    "def get_nouns_list(line): # 데이터 프레임 요소 하나 한 행을 뽑음 - 시리즈 타입임\n",
    "    line = str(line) #요소하나를 문자로 바꾸줌\n",
    "    ret = RegexpTokenizer(\"[\\w]{2,}\") # 정규표현식으로 토크나이즈화 함. \n",
    "    tokens = ret.tokenize(line)\n",
    "    tagged_list =pos_tag(tokens) # 품사를 tagging 함. \n",
    "#     import re  # 정규표현식을 이용한 원하는 품사만 다 뽑아 내기\n",
    "#     pattern = re.compile(\"NN?\")\n",
    "#     [t[0] for t in tagged_list if pattern.match(t[1])]\n",
    "    nouns_list = [t[0] for t in tagged_list if t[1] == 'NN' ]\n",
    "    return nouns_list\n",
    "\n",
    "\n"
   ]
  },
  {
   "cell_type": "code",
   "execution_count": 156,
   "metadata": {},
   "outputs": [
    {
     "name": "stdout",
     "output_type": "stream",
     "text": [
      "['dtype', 'object']\n"
     ]
    }
   ],
   "source": [
    "print(nouns_list)"
   ]
  },
  {
   "cell_type": "code",
   "execution_count": 177,
   "metadata": {},
   "outputs": [
    {
     "name": "stdout",
     "output_type": "stream",
     "text": [
      "0\n"
     ]
    }
   ],
   "source": [
    "speech_df = speech_txt.applymap(get_nouns_list) \n",
    "# 데이타 프렘이 applymap으로 적용됨. \n",
    "\n",
    "for element in speech_txt: \n",
    "    print(element)\n",
    "# 데이터 프레임은 문자답지 못하기 때문에 결과가 0이나옴"
   ]
  },
  {
   "cell_type": "code",
   "execution_count": 179,
   "metadata": {
    "collapsed": true
   },
   "outputs": [
    {
     "data": {
      "text/plain": [
       "[[],\n",
       " ['stand',\n",
       "  'today',\n",
       "  'task',\n",
       "  'trust',\n",
       "  'mindful',\n",
       "  'service',\n",
       "  'nation',\n",
       "  'generosity',\n",
       "  'cooperation',\n",
       "  'transition'],\n",
       " ['oath',\n",
       "  'prosperity',\n",
       "  'peace',\n",
       "  'oath',\n",
       "  'skill',\n",
       "  'vision',\n",
       "  'office',\n",
       "  'founding'],\n",
       " ['generation'],\n",
       " ['midst',\n",
       "  'crisis',\n",
       "  'nation',\n",
       "  'war',\n",
       "  'network',\n",
       "  'violence',\n",
       "  'economy',\n",
       "  'consequence',\n",
       "  'greed',\n",
       "  'irresponsibility',\n",
       "  'part',\n",
       "  'failure',\n",
       "  'nation',\n",
       "  'age',\n",
       "  'health',\n",
       "  'care',\n",
       "  'day',\n",
       "  'evidence',\n",
       "  'energy',\n",
       "  'planet'],\n",
       " ['crisis',\n",
       "  'subject',\n",
       "  'profound',\n",
       "  'confidence',\n",
       "  'land',\n",
       "  'fear',\n",
       "  'decline',\n",
       "  'generation'],\n",
       " ['Today', 'span', 'time'],\n",
       " ['day', 'hope', 'unity', 'purpose', 'conflict', 'discord'],\n",
       " ['day', 'end', 'dogmas'],\n",
       " ['nation', 'time'],\n",
       " ['time',\n",
       "  'spirit',\n",
       "  'history',\n",
       "  'gift',\n",
       "  'idea',\n",
       "  'generation',\n",
       "  'generation',\n",
       "  'chance',\n",
       "  'measure',\n",
       "  'happiness'],\n",
       " ['greatness',\n",
       "  'nation',\n",
       "  'greatness',\n",
       "  'journey',\n",
       "  'path',\n",
       "  'faint',\n",
       "  'leisure',\n",
       "  'work',\n",
       "  'fame',\n",
       "  'path',\n",
       "  'risk',\n",
       "  'labor',\n",
       "  'path',\n",
       "  'prosperity',\n",
       "  'freedom'],\n",
       " ['search', 'life', 'lash', 'whip', 'earth'],\n",
       " ['life', 'sum', 'birth', 'wealth', 'faction'],\n",
       " ['journey',\n",
       "  'today',\n",
       "  'nation',\n",
       "  'crisis',\n",
       "  'week',\n",
       "  'month',\n",
       "  'year',\n",
       "  'capacity',\n",
       "  'time',\n",
       "  'pat',\n",
       "  'time',\n",
       "  'today',\n",
       "  'work'],\n",
       " ['work',\n",
       "  'state',\n",
       "  'economy',\n",
       "  'action',\n",
       "  'bold',\n",
       "  'swift',\n",
       "  'foundation',\n",
       "  'growth',\n",
       "  'commerce',\n",
       "  'science',\n",
       "  'place',\n",
       "  'wield',\n",
       "  'technology',\n",
       "  'health',\n",
       "  'care',\n",
       "  'quality',\n",
       "  'cost',\n",
       "  'sun',\n",
       "  'soil',\n",
       "  'age'],\n",
       " ['scale', 'system', 'country', 'imagination', 'purpose', 'necessity'],\n",
       " ['ground',\n",
       "  'question',\n",
       "  'today',\n",
       "  'government',\n",
       "  'decent',\n",
       "  'wage',\n",
       "  'care',\n",
       "  'retirement',\n",
       "  'answer',\n",
       "  'answer',\n",
       "  'reform',\n",
       "  'business',\n",
       "  'light',\n",
       "  'day',\n",
       "  'trust',\n",
       "  'government'],\n",
       " ['question',\n",
       "  'market',\n",
       "  'force',\n",
       "  'power',\n",
       "  'wealth',\n",
       "  'expand',\n",
       "  'freedom',\n",
       "  'crisis',\n",
       "  'eye',\n",
       "  'market',\n",
       "  'control',\n",
       "  'nation'],\n",
       " ['success',\n",
       "  'economy',\n",
       "  'size',\n",
       "  'reach',\n",
       "  'prosperity',\n",
       "  'ability',\n",
       "  'opportunity',\n",
       "  'heart'],\n",
       " ['charity', 'route'],\n",
       " ['defense',\n",
       "  'choice',\n",
       "  'safety',\n",
       "  'charter',\n",
       "  'rule',\n",
       "  'law',\n",
       "  'man',\n",
       "  'charter',\n",
       "  'blood',\n",
       "  'world',\n",
       "  'expedience',\n",
       "  'sake'],\n",
       " ['today',\n",
       "  'grandest',\n",
       "  'village',\n",
       "  'father',\n",
       "  'friend',\n",
       "  'nation',\n",
       "  'man',\n",
       "  'woman',\n",
       "  'child',\n",
       "  'future',\n",
       "  'peace',\n",
       "  'dignity',\n",
       "  'Recall',\n",
       "  'fascism',\n",
       "  'communism',\n",
       "  'power',\n",
       "  'cannot',\n",
       "  'power',\n",
       "  'prudent',\n",
       "  'security',\n",
       "  'justness',\n",
       "  'cause',\n",
       "  'force',\n",
       "  'example',\n",
       "  'humility',\n",
       "  'restraint'],\n",
       " ['legacy',\n",
       "  'demand',\n",
       "  'effort',\n",
       "  'cooperation',\n",
       "  'understanding',\n",
       "  'peace',\n",
       "  'threat',\n",
       "  'roll',\n",
       "  'specter',\n",
       "  'planet',\n",
       "  'way',\n",
       "  'life',\n",
       "  'defense',\n",
       "  'terror',\n",
       "  'spirit',\n",
       "  'cannot'],\n",
       " ['patchwork',\n",
       "  'heritage',\n",
       "  'strength',\n",
       "  'weakness',\n",
       "  'nation',\n",
       "  'language',\n",
       "  'culture',\n",
       "  'drawn',\n",
       "  'end',\n",
       "  'Earth',\n",
       "  'swill',\n",
       "  'war',\n",
       "  'segregation',\n",
       "  'chapter',\n",
       "  'tribe',\n",
       "  'world',\n",
       "  'humanity',\n",
       "  'role',\n",
       "  'era',\n",
       "  'peace'],\n",
       " ['world',\n",
       "  'way',\n",
       "  'interest',\n",
       "  'respect',\n",
       "  'globe',\n",
       "  'conflict',\n",
       "  'society',\n",
       "  'power',\n",
       "  'corruption',\n",
       "  'deceit',\n",
       "  'silencing',\n",
       "  'dissent',\n",
       "  'side',\n",
       "  'history',\n",
       "  'hand',\n",
       "  'fist'],\n",
       " ['plenty', 'indifference', 'world', 'regard', 'effect', 'world'],\n",
       " ['road',\n",
       "  'hour',\n",
       "  'patrol',\n",
       "  'something',\n",
       "  'today',\n",
       "  'fallen',\n",
       "  'liberty',\n",
       "  'spirit',\n",
       "  'service',\n",
       "  'willingness',\n",
       "  'meaning',\n",
       "  'something',\n",
       "  'moment',\n",
       "  'moment',\n",
       "  'generation',\n",
       "  'spirit'],\n",
       " ['government',\n",
       "  'faith',\n",
       "  'determination',\n",
       "  'nation',\n",
       "  'kindness',\n",
       "  'stranger',\n",
       "  'selflessness',\n",
       "  'job',\n",
       "  'courage',\n",
       "  'stairway',\n",
       "  'smoke',\n",
       "  'parent',\n",
       "  'willingness',\n",
       "  'child',\n",
       "  'fate'],\n",
       " ['success',\n",
       "  'work',\n",
       "  'courage',\n",
       "  'play',\n",
       "  'tolerance',\n",
       "  'curiosity',\n",
       "  'loyalty',\n",
       "  'patriotism',\n",
       "  'force',\n",
       "  'progress',\n",
       "  'history',\n",
       "  'return',\n",
       "  'era',\n",
       "  'responsibility',\n",
       "  'recognition',\n",
       "  'part',\n",
       "  'nation',\n",
       "  'world',\n",
       "  'firm',\n",
       "  'knowledge',\n",
       "  'nothing',\n",
       "  'spirit',\n",
       "  'character',\n",
       "  'task'],\n",
       " ['price', 'promise', 'citizenship'],\n",
       " ['source', 'confidence', 'knowledge', 'destiny'],\n",
       " ['meaning',\n",
       "  'liberty',\n",
       "  'creed',\n",
       "  'race',\n",
       "  'faith',\n",
       "  'celebration',\n",
       "  'magnificent',\n",
       "  'mall',\n",
       "  'man',\n",
       "  'father',\n",
       "  'restaurant',\n",
       "  'oath'],\n",
       " ['day',\n",
       "  'remembrance',\n",
       "  'year',\n",
       "  'birth',\n",
       "  'coldest',\n",
       "  'band',\n",
       "  'icy',\n",
       "  'river',\n",
       "  'capital',\n",
       "  'enemy',\n",
       "  'snow',\n",
       "  'blood',\n",
       "  'moment',\n",
       "  'outcome',\n",
       "  'revolution',\n",
       "  'doubt',\n",
       "  'father',\n",
       "  'nation'],\n",
       " ['world',\n",
       "  'depth',\n",
       "  'winter',\n",
       "  'nothing',\n",
       "  'hope',\n",
       "  'virtue',\n",
       "  'city',\n",
       "  'country',\n",
       "  'danger'],\n",
       " ['face',\n",
       "  'winter',\n",
       "  'hardship',\n",
       "  'hope',\n",
       "  'virtue',\n",
       "  'icy',\n",
       "  'end',\n",
       "  'horizon',\n",
       "  'grace',\n",
       "  'forth',\n",
       "  'gift',\n",
       "  'freedom'],\n",
       " []]"
      ]
     },
     "execution_count": 179,
     "metadata": {},
     "output_type": "execute_result"
    }
   ],
   "source": [
    "result = []\n",
    "for i in range(speech_df.shape[0]):\n",
    "#     print(speech_df.iloc[i])\n",
    "    result.extend(speech_df.iloc[i])\n",
    "\n",
    "result "
   ]
  },
  {
   "cell_type": "code",
   "execution_count": 170,
   "metadata": {},
   "outputs": [],
   "source": [
    "# 그래서 이걸 이렇게 풀어서 1차원으로 다시 만들어줌. \n",
    "from itertools import chain\n",
    "speech_pos_result = list(chain.from_iterable(result))"
   ]
  },
  {
   "cell_type": "code",
   "execution_count": 175,
   "metadata": {},
   "outputs": [
    {
     "data": {
      "image/png": "[encoded data removed]",
      "text/plain": [
       "<Figure size 432x288 with 1 Axes>"
      ]
     },
     "metadata": {
      "needs_background": "light"
     },
     "output_type": "display_data"
    }
   ],
   "source": [
    "from nltk import Text\n",
    "text = Text(speech_pos_result, name = \"speech\")\n",
    "text.plot(20)"
   ]
  },
  {
   "cell_type": "code",
   "execution_count": 190,
   "metadata": {},
   "outputs": [
    {
     "data": {
      "image/png": "[encoded data removed]",
      "text/plain": [
       "<Figure size 432x288 with 1 Axes>"
      ]
     },
     "metadata": {
      "needs_background": "light"
     },
     "output_type": "display_data"
    }
   ],
   "source": [
    "text.dispersion_plot([\"nation\",\"world\",\"generation\",\"day\"])\n",
    "\n",
    "#  이 단어를 초반에 많이 말하는지, 후반에 말하는지, 등등을 알수 있음."
   ]
  },
  {
   "cell_type": "code",
   "execution_count": 191,
   "metadata": {},
   "outputs": [
    {
     "data": {
      "text/plain": [
       "382"
      ]
     },
     "execution_count": 191,
     "metadata": {},
     "output_type": "execute_result"
    }
   ],
   "source": [
    "len(text)"
   ]
  },
  {
   "cell_type": "code",
   "execution_count": 192,
   "metadata": {},
   "outputs": [
    {
     "data": {
      "text/plain": [
       "261"
      ]
     },
     "execution_count": 192,
     "metadata": {},
     "output_type": "execute_result"
    }
   ],
   "source": [
    "# text를 set으로 만들어지는데 set은 중복 허용이 안되므로, 중복이 안된 단어의 갯수를 뽑아줌.\n",
    "len(set(text))"
   ]
  },
  {
   "cell_type": "markdown",
   "metadata": {},
   "source": [
    "##### 위의 코드를 통해 기사내용을 보면서, 기자를 평가 할수있음. "
   ]
  },
  {
   "cell_type": "code",
   "execution_count": 193,
   "metadata": {},
   "outputs": [
    {
     "data": {
      "text/plain": [
       "FreqDist({'nation': 12, 'world': 7, 'today': 6, 'generation': 5, 'day': 5, 'time': 5, 'spirit': 5, 'peace': 4, 'crisis': 4, 'work': 4, ...})"
      ]
     },
     "execution_count": 193,
     "metadata": {},
     "output_type": "execute_result"
    }
   ],
   "source": [
    "speech_fd = text.vocab()\n",
    "speech_fd"
   ]
  },
  {
   "cell_type": "code",
   "execution_count": 195,
   "metadata": {},
   "outputs": [
    {
     "data": {
      "text/plain": [
       "[('nation', 12),\n",
       " ('world', 7),\n",
       " ('today', 6),\n",
       " ('generation', 5),\n",
       " ('day', 5),\n",
       " ('time', 5),\n",
       " ('spirit', 5),\n",
       " ('peace', 4),\n",
       " ('crisis', 4),\n",
       " ('work', 4),\n",
       " ('power', 4),\n",
       " ('oath', 3),\n",
       " ('prosperity', 3),\n",
       " ('economy', 3),\n",
       " ('care', 3),\n",
       " ('hope', 3),\n",
       " ('end', 3),\n",
       " ('history', 3),\n",
       " ('path', 3),\n",
       " ('freedom', 3),\n",
       " ('life', 3),\n",
       " ('government', 3),\n",
       " ('force', 3),\n",
       " ('man', 3),\n",
       " ('father', 3),\n",
       " ('moment', 3),\n",
       " ('task', 2),\n",
       " ('trust', 2),\n",
       " ('service', 2),\n",
       " ('cooperation', 2),\n",
       " ('war', 2),\n",
       " ('part', 2),\n",
       " ('age', 2),\n",
       " ('health', 2),\n",
       " ('planet', 2),\n",
       " ('confidence', 2),\n",
       " ('purpose', 2),\n",
       " ('conflict', 2),\n",
       " ('gift', 2),\n",
       " ('greatness', 2),\n",
       " ('journey', 2),\n",
       " ('birth', 2),\n",
       " ('wealth', 2),\n",
       " ('year', 2),\n",
       " ('country', 2),\n",
       " ('question', 2),\n",
       " ('answer', 2),\n",
       " ('market', 2),\n",
       " ('success', 2),\n",
       " ('defense', 2),\n",
       " ('charter', 2),\n",
       " ('blood', 2),\n",
       " ('child', 2),\n",
       " ('cannot', 2),\n",
       " ('way', 2),\n",
       " ('era', 2),\n",
       " ('something', 2),\n",
       " ('liberty', 2),\n",
       " ('willingness', 2),\n",
       " ('meaning', 2),\n",
       " ('faith', 2),\n",
       " ('courage', 2),\n",
       " ('knowledge', 2),\n",
       " ('nothing', 2),\n",
       " ('icy', 2),\n",
       " ('winter', 2),\n",
       " ('virtue', 2),\n",
       " ('stand', 1),\n",
       " ('mindful', 1),\n",
       " ('generosity', 1),\n",
       " ('transition', 1),\n",
       " ('skill', 1),\n",
       " ('vision', 1),\n",
       " ('office', 1),\n",
       " ('founding', 1),\n",
       " ('midst', 1),\n",
       " ('network', 1),\n",
       " ('violence', 1),\n",
       " ('consequence', 1),\n",
       " ('greed', 1),\n",
       " ('irresponsibility', 1),\n",
       " ('failure', 1),\n",
       " ('evidence', 1),\n",
       " ('energy', 1),\n",
       " ('subject', 1),\n",
       " ('profound', 1),\n",
       " ('land', 1),\n",
       " ('fear', 1),\n",
       " ('decline', 1),\n",
       " ('Today', 1),\n",
       " ('span', 1),\n",
       " ('unity', 1),\n",
       " ('discord', 1),\n",
       " ('dogmas', 1),\n",
       " ('idea', 1),\n",
       " ('chance', 1),\n",
       " ('measure', 1),\n",
       " ('happiness', 1),\n",
       " ('faint', 1),\n",
       " ('leisure', 1),\n",
       " ('fame', 1),\n",
       " ('risk', 1),\n",
       " ('labor', 1),\n",
       " ('search', 1),\n",
       " ('lash', 1),\n",
       " ('whip', 1),\n",
       " ('earth', 1),\n",
       " ('sum', 1),\n",
       " ('faction', 1),\n",
       " ('week', 1),\n",
       " ('month', 1),\n",
       " ('capacity', 1),\n",
       " ('pat', 1),\n",
       " ('state', 1),\n",
       " ('action', 1),\n",
       " ('bold', 1),\n",
       " ('swift', 1),\n",
       " ('foundation', 1),\n",
       " ('growth', 1),\n",
       " ('commerce', 1),\n",
       " ('science', 1),\n",
       " ('place', 1),\n",
       " ('wield', 1),\n",
       " ('technology', 1),\n",
       " ('quality', 1),\n",
       " ('cost', 1),\n",
       " ('sun', 1),\n",
       " ('soil', 1),\n",
       " ('scale', 1),\n",
       " ('system', 1),\n",
       " ('imagination', 1),\n",
       " ('necessity', 1),\n",
       " ('ground', 1),\n",
       " ('decent', 1),\n",
       " ('wage', 1),\n",
       " ('retirement', 1),\n",
       " ('reform', 1),\n",
       " ('business', 1),\n",
       " ('light', 1),\n",
       " ('expand', 1),\n",
       " ('eye', 1),\n",
       " ('control', 1),\n",
       " ('size', 1),\n",
       " ('reach', 1),\n",
       " ('ability', 1),\n",
       " ('opportunity', 1),\n",
       " ('heart', 1),\n",
       " ('charity', 1),\n",
       " ('route', 1),\n",
       " ('choice', 1),\n",
       " ('safety', 1),\n",
       " ('rule', 1),\n",
       " ('law', 1),\n",
       " ('expedience', 1),\n",
       " ('sake', 1),\n",
       " ('grandest', 1),\n",
       " ('village', 1),\n",
       " ('friend', 1),\n",
       " ('woman', 1),\n",
       " ('future', 1),\n",
       " ('dignity', 1),\n",
       " ('Recall', 1),\n",
       " ('fascism', 1),\n",
       " ('communism', 1),\n",
       " ('prudent', 1),\n",
       " ('security', 1),\n",
       " ('justness', 1),\n",
       " ('cause', 1),\n",
       " ('example', 1),\n",
       " ('humility', 1),\n",
       " ('restraint', 1),\n",
       " ('legacy', 1),\n",
       " ('demand', 1),\n",
       " ('effort', 1),\n",
       " ('understanding', 1),\n",
       " ('threat', 1),\n",
       " ('roll', 1),\n",
       " ('specter', 1),\n",
       " ('terror', 1),\n",
       " ('patchwork', 1),\n",
       " ('heritage', 1),\n",
       " ('strength', 1),\n",
       " ('weakness', 1),\n",
       " ('language', 1),\n",
       " ('culture', 1),\n",
       " ('drawn', 1),\n",
       " ('Earth', 1),\n",
       " ('swill', 1),\n",
       " ('segregation', 1),\n",
       " ('chapter', 1),\n",
       " ('tribe', 1),\n",
       " ('humanity', 1),\n",
       " ('role', 1),\n",
       " ('interest', 1),\n",
       " ('respect', 1),\n",
       " ('globe', 1),\n",
       " ('society', 1),\n",
       " ('corruption', 1),\n",
       " ('deceit', 1),\n",
       " ('silencing', 1),\n",
       " ('dissent', 1),\n",
       " ('side', 1),\n",
       " ('hand', 1),\n",
       " ('fist', 1),\n",
       " ('plenty', 1),\n",
       " ('indifference', 1),\n",
       " ('regard', 1),\n",
       " ('effect', 1),\n",
       " ('road', 1),\n",
       " ('hour', 1),\n",
       " ('patrol', 1),\n",
       " ('fallen', 1),\n",
       " ('determination', 1),\n",
       " ('kindness', 1),\n",
       " ('stranger', 1),\n",
       " ('selflessness', 1),\n",
       " ('job', 1),\n",
       " ('stairway', 1),\n",
       " ('smoke', 1),\n",
       " ('parent', 1),\n",
       " ('fate', 1),\n",
       " ('play', 1),\n",
       " ('tolerance', 1),\n",
       " ('curiosity', 1),\n",
       " ('loyalty', 1),\n",
       " ('patriotism', 1),\n",
       " ('progress', 1),\n",
       " ('return', 1),\n",
       " ('responsibility', 1),\n",
       " ('recognition', 1),\n",
       " ('firm', 1),\n",
       " ('character', 1),\n",
       " ('price', 1),\n",
       " ('promise', 1),\n",
       " ('citizenship', 1),\n",
       " ('source', 1),\n",
       " ('destiny', 1),\n",
       " ('creed', 1),\n",
       " ('race', 1),\n",
       " ('celebration', 1),\n",
       " ('magnificent', 1),\n",
       " ('mall', 1),\n",
       " ('restaurant', 1),\n",
       " ('remembrance', 1),\n",
       " ('coldest', 1),\n",
       " ('band', 1),\n",
       " ('river', 1),\n",
       " ('capital', 1),\n",
       " ('enemy', 1),\n",
       " ('snow', 1),\n",
       " ('outcome', 1),\n",
       " ('revolution', 1),\n",
       " ('doubt', 1),\n",
       " ('depth', 1),\n",
       " ('city', 1),\n",
       " ('danger', 1),\n",
       " ('face', 1),\n",
       " ('hardship', 1),\n",
       " ('horizon', 1),\n",
       " ('grace', 1),\n",
       " ('forth', 1)]"
      ]
     },
     "execution_count": 195,
     "metadata": {},
     "output_type": "execute_result"
    }
   ],
   "source": [
    "speech_fd.most_common() # 단어별 빈도수로 출력해줌. () 안에는 출력갯수를 지정가능"
   ]
  },
  {
   "cell_type": "code",
   "execution_count": 194,
   "metadata": {},
   "outputs": [],
   "source": [
    "stopword = [\"nation\",\"day\"]"
   ]
  },
  {
   "cell_type": "code",
   "execution_count": null,
   "metadata": {},
   "outputs": [],
   "source": [
    "nouns_list = [t[0] for t in tagged_list if t[1] == 'NN' \n",
    "              and t[0] not in stopwords ] # 불용어 처리 "
   ]
  },
  {
   "cell_type": "raw",
   "metadata": {},
   "source": [
    "# 위의 결과를 함수로 만들기 \n",
    "from nltk.tokenize import RegexpTokenizer\n",
    "from nltk.tag import pos_tag\n",
    "\n",
    "def get_nouns_list(line): \n",
    "# 데이터 프레임 요소 하나 한 행을 뽑음 - 시리즈 타입임\n",
    "    stopwords = []\n",
    "    line = str(line) #요소하나를 문자로 바꾸줌\n",
    "    ret = RegexpTokenizer(\"[\\w]{2,}\") # 정규표현식으로 토크나이즈화 함. \n",
    "    tokens = ret.tokenize(line)\n",
    "    tagged_list =pos_tag(tokens) # 품사를 tagging 함. \n",
    "#     import re  # 정규표현식을 이용한 원하는 품사만 다 뽑아 내기\n",
    "#     pattern = re.compile(\"NN?\")\n",
    "#     [t[0] for t in tagged_list if pattern.match(t[1])]\n",
    "    nouns_list = [t[0] for t in tagged_list if t[1] == 'NN' \n",
    "                   and t[0] not in stopwords ] # 불용어 처리 ]\n",
    "    return nouns_list"
   ]
  },
  {
   "cell_type": "code",
   "execution_count": null,
   "metadata": {},
   "outputs": [],
   "source": []
  },
  {
   "cell_type": "code",
   "execution_count": null,
   "metadata": {},
   "outputs": [],
   "source": []
  },
  {
   "cell_type": "code",
   "execution_count": null,
   "metadata": {},
   "outputs": [],
   "source": []
  },
  {
   "cell_type": "code",
   "execution_count": null,
   "metadata": {},
   "outputs": [],
   "source": []
  },
  {
   "cell_type": "code",
   "execution_count": null,
   "metadata": {},
   "outputs": [],
   "source": []
  },
  {
   "cell_type": "code",
   "execution_count": null,
   "metadata": {},
   "outputs": [],
   "source": []
  },
  {
   "cell_type": "code",
   "execution_count": null,
   "metadata": {},
   "outputs": [],
   "source": []
  },
  {
   "cell_type": "code",
   "execution_count": null,
   "metadata": {},
   "outputs": [],
   "source": []
  },
  {
   "cell_type": "code",
   "execution_count": null,
   "metadata": {},
   "outputs": [],
   "source": []
  }
 ],
 "metadata": {
  "kernelspec": {
   "display_name": "Python 3",
   "language": "python",
   "name": "python3"
  },
  "language_info": {
   "codemirror_mode": {
    "name": "ipython",
    "version": 3
   },
   "file_extension": ".py",
   "mimetype": "text/x-python",
   "name": "python",
   "nbconvert_exporter": "python",
   "pygments_lexer": "ipython3",
   "version": "3.7.6"
  }
 },
 "nbformat": 4,
 "nbformat_minor": 4
}

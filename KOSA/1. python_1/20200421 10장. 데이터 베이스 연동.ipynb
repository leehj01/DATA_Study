{
 "cells": [
  {
   "cell_type": "markdown",
   "metadata": {},
   "source": [
    "## 10장 데이터베이스 연동\n",
    "### 1절 SQLite 데이터 베이스 연결\n",
    "\n",
    "#### 1.1 SQLite 와 파이썬 \n",
    "#### 1.2. 데이터베이스 연결"
   ]
  },
  {
   "cell_type": "code",
   "execution_count": null,
   "metadata": {},
   "outputs": [],
   "source": []
  },
  {
   "cell_type": "markdown",
   "metadata": {},
   "source": [
    "### 2절 오라클 데이터 베이스 연결\n",
    "#### 2.1. 오라클 데이터베이스 설치\n",
    "\n",
    "#### 2.2. cx_Oracle 패키지 \n",
    "- conda install cx_Oracle"
   ]
  },
  {
   "cell_type": "code",
   "execution_count": 5,
   "metadata": {},
   "outputs": [],
   "source": [
    "import cx_Oracle as ora\n",
    "\n",
    "oracle_dsn = ora.makedsn(host='localhost',port='1521',sid='xe') # 연결시키기\n",
    "conn = ora.connect(dsn=oracle_dsn, user =\"hr\",password='hr') # connect 시키기"
   ]
  },
  {
   "cell_type": "code",
   "execution_count": 35,
   "metadata": {},
   "outputs": [],
   "source": [
    "# sql 데이터 조회하기 \n",
    "cursor = conn.cursor()  # cursor 객체 생성 \n",
    "sql = \"\"\"Select first_name, salary \n",
    "        from employees\n",
    "        where employee_id = 103\n",
    "        \"\"\"\n",
    "cursor.execute(sql) # sql문을 이용하기.\n",
    "emp_list = cursor.fetchall() # 리스트안에 튜플이 나옴 \n",
    "# 실행 할 결과를 또 반환하려고하면 값이 안나옴. \n",
    "# 따라서 재사용 하기 위해서 변수에 값을 반환해줘야 함. \n"
   ]
  },
  {
   "cell_type": "code",
   "execution_count": null,
   "metadata": {},
   "outputs": [],
   "source": [
    "print(cursor.fetchall()) # 리스트안에 튜플이 나옴 "
   ]
  },
  {
   "cell_type": "code",
   "execution_count": 17,
   "metadata": {},
   "outputs": [
    {
     "data": {
      "text/plain": [
       "<cx_Oracle.Cursor on <cx_Oracle.Connection to hr@(DESCRIPTION=(ADDRESS=(PROTOCOL=TCP)(HOST=localhost)(PORT=1521))(CONNECT_DATA=(SID=xe)))>>"
      ]
     },
     "execution_count": 17,
     "metadata": {},
     "output_type": "execute_result"
    }
   ],
   "source": [
    "cursor.execute(\"select * from employees\")"
   ]
  },
  {
   "cell_type": "code",
   "execution_count": 19,
   "metadata": {},
   "outputs": [],
   "source": [
    "for row in cursor:\n",
    "    print(row)\n",
    "    \n",
    "# 실행 할 결과를 또 반환하려고하면 값이 안나옴. "
   ]
  },
  {
   "cell_type": "code",
   "execution_count": 20,
   "metadata": {},
   "outputs": [],
   "source": [
    "cursor.execute(\"select * from employees\")\n",
    "emp_list = cursor.fetchall()"
   ]
  },
  {
   "cell_type": "code",
   "execution_count": 21,
   "metadata": {},
   "outputs": [
    {
     "data": {
      "text/plain": [
       "107"
      ]
     },
     "execution_count": 21,
     "metadata": {},
     "output_type": "execute_result"
    }
   ],
   "source": [
    "len(emp_list)"
   ]
  },
  {
   "cell_type": "code",
   "execution_count": 24,
   "metadata": {},
   "outputs": [
    {
     "data": {
      "text/plain": [
       "'Steven'"
      ]
     },
     "execution_count": 24,
     "metadata": {},
     "output_type": "execute_result"
    }
   ],
   "source": [
    "emp_list[0][1]"
   ]
  },
  {
   "cell_type": "code",
   "execution_count": 39,
   "metadata": {},
   "outputs": [
    {
     "name": "stdout",
     "output_type": "stream",
     "text": [
      "이름 입력 : hong\n",
      "나이 입력  : 20\n",
      "이메일 입력  : hong@daum.net\n"
     ]
    }
   ],
   "source": [
    "# insert 구문 \n",
    "\n",
    "name = input(\"이름 입력 : \")\n",
    "age = int(input(\"나이 입력  : \"))\n",
    "email = input(\"이메일 입력  : \")\n",
    "\n",
    "# 방법 1 \n",
    "#sql = \"insert into contact values ('{}','{}','{}')\".format(name, age, email)\n",
    "\n",
    "# 방법 2\n",
    "sql = \"insert into contact values (:name,:age,:email)\"\n",
    "cursor.execute(sql,(name,age, email))\n",
    "conn.commit()"
   ]
  },
  {
   "cell_type": "code",
   "execution_count": 38,
   "metadata": {
    "collapsed": true
   },
   "outputs": [
    {
     "ename": "IntegrityError",
     "evalue": "ORA-00001: unique constraint (HR.CONTACT_EMAIL_PK) violated",
     "output_type": "error",
     "traceback": [
      "\u001b[1;31m---------------------------------------------------------------------------\u001b[0m",
      "\u001b[1;31mIntegrityError\u001b[0m                            Traceback (most recent call last)",
      "\u001b[1;32m<ipython-input-38-c09949f62056>\u001b[0m in \u001b[0;36m<module>\u001b[1;34m\u001b[0m\n\u001b[1;32m----> 1\u001b[1;33m \u001b[0mcursor\u001b[0m\u001b[1;33m.\u001b[0m\u001b[0mexecute\u001b[0m\u001b[1;33m(\u001b[0m\u001b[0msql\u001b[0m\u001b[1;33m)\u001b[0m\u001b[1;33m\u001b[0m\u001b[1;33m\u001b[0m\u001b[0m\n\u001b[0m",
      "\u001b[1;31mIntegrityError\u001b[0m: ORA-00001: unique constraint (HR.CONTACT_EMAIL_PK) violated"
     ]
    }
   ],
   "source": [
    "cursor.execute(sql)\n"
   ]
  },
  {
   "cell_type": "code",
   "execution_count": 33,
   "metadata": {},
   "outputs": [],
   "source": [
    "conn.commit()"
   ]
  },
  {
   "cell_type": "code",
   "execution_count": null,
   "metadata": {},
   "outputs": [],
   "source": []
  }
 ],
 "metadata": {
  "kernelspec": {
   "display_name": "Python 3",
   "language": "python",
   "name": "python3"
  },
  "language_info": {
   "codemirror_mode": {
    "name": "ipython",
    "version": 3
   },
   "file_extension": ".py",
   "mimetype": "text/x-python",
   "name": "python",
   "nbconvert_exporter": "python",
   "pygments_lexer": "ipython3",
   "version": "3.7.6"
  }
 },
 "nbformat": 4,
 "nbformat_minor": 4
}

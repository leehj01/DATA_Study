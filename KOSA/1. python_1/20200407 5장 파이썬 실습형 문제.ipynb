{
 "cells": [
  {
   "cell_type": "markdown",
   "metadata": {},
   "source": [
    "### 1. 문자열 인덱싱 또는 슬라이싱을 이용해서 'abcedf'를 'fdecba'로 출력하세요."
   ]
  },
  {
   "cell_type": "code",
   "execution_count": 2,
   "metadata": {},
   "outputs": [],
   "source": [
    "x = 'abcedf'"
   ]
  },
  {
   "cell_type": "code",
   "execution_count": 5,
   "metadata": {},
   "outputs": [
    {
     "data": {
      "text/plain": [
       "'fdecba'"
      ]
     },
     "execution_count": 5,
     "metadata": {},
     "output_type": "execute_result"
    }
   ],
   "source": [
    "# 여기에 코드를 작성하고 실행시키세요. 아래의 예시는 올바르게 코딩했을 경우 실행 결과입니다.\n",
    "\n",
    "x[::-1]"
   ]
  },
  {
   "cell_type": "markdown",
   "metadata": {},
   "source": [
    "### 2. 반복문을 이용해서 0부터 10까지(10 포함 안함) 숫자를 출력하는 코드를 작성하세요.\n",
    "* 출력 시 숫자는 공백으로 구분되어야 합니다."
   ]
  },
  {
   "cell_type": "code",
   "execution_count": 13,
   "metadata": {},
   "outputs": [
    {
     "name": "stdout",
     "output_type": "stream",
     "text": [
      "0 1 2 3 4 5 6 7 8 9 "
     ]
    }
   ],
   "source": [
    "# 여기에 코드를 작성하고 실행시키세요. 아래의 예시는 올바르게 코딩했을 경우 실행 결과입니다.\n",
    "n = 0\n",
    "while n < 10 :\n",
    "    print(n, end =\" \")\n",
    "    n = n+1"
   ]
  },
  {
   "cell_type": "markdown",
   "metadata": {},
   "source": [
    "### 3. 다음처럼 직각 삼각형 모양의 별 피라미드를 출력하는 코드를 작성하세요\n",
    "<pre>\n",
    "*\n",
    "**\n",
    "***\n",
    "****\n",
    "*****\n",
    "</pre>"
   ]
  },
  {
   "cell_type": "code",
   "execution_count": 21,
   "metadata": {},
   "outputs": [
    {
     "name": "stdout",
     "output_type": "stream",
     "text": [
      "*\n",
      "**\n",
      "***\n",
      "****\n",
      "*****\n"
     ]
    }
   ],
   "source": [
    "# 여기에 코드를 작성하고 실행시키세요. 아래의 예시는 올바르게 코딩했을 경우 실행 결과입니다.\n",
    "\n",
    "for i in range(5):\n",
    "    for j in range(i+1):\n",
    "        print('*', end = '')\n",
    "    print()"
   ]
  },
  {
   "cell_type": "markdown",
   "metadata": {},
   "source": [
    "### 4. 다음 리스트가 주어졌을 경우 요구사항대로 코드를 작성하세요.\n",
    "* numbers = [5,7,2,8,4,9,1,3,2]"
   ]
  },
  {
   "cell_type": "code",
   "execution_count": 40,
   "metadata": {},
   "outputs": [],
   "source": [
    "numbers = [5,7,2,8,4,9,1,3,2]"
   ]
  },
  {
   "cell_type": "code",
   "execution_count": 41,
   "metadata": {},
   "outputs": [
    {
     "data": {
      "text/plain": [
       "9"
      ]
     },
     "execution_count": 41,
     "metadata": {},
     "output_type": "execute_result"
    }
   ],
   "source": [
    "# 5.1. 데이터의 개수는 몇개 인지 확인하세요.\n",
    "# 여기에 코드를 작성하고 실행시키세요. 셀아래의 출력정보는 올바르게 코딩했을 경우 실행 결과입니다.\n",
    "len(numbers)"
   ]
  },
  {
   "cell_type": "code",
   "execution_count": 42,
   "metadata": {},
   "outputs": [],
   "source": [
    "# 5.2. 리스트의 맨 뒤에 숫자 10을 추가하세요.\n",
    "# 여기에 코드를 작성하고 실행시키세요. 셀아래의 출력정보는 올바르게 코딩했을 경우 실행 결과입니다.\n",
    "numbers.append(10)"
   ]
  },
  {
   "cell_type": "code",
   "execution_count": 43,
   "metadata": {},
   "outputs": [
    {
     "data": {
      "text/plain": [
       "[5, 7, 2, 8, 4, 9, 1, 3, 2, 10]"
      ]
     },
     "execution_count": 43,
     "metadata": {},
     "output_type": "execute_result"
    }
   ],
   "source": [
    "numbers"
   ]
  },
  {
   "cell_type": "code",
   "execution_count": 44,
   "metadata": {},
   "outputs": [
    {
     "data": {
      "text/plain": [
       "[5, 7, 2, 8, 4]"
      ]
     },
     "execution_count": 44,
     "metadata": {},
     "output_type": "execute_result"
    }
   ],
   "source": [
    "# 5.3. 처음 다섯 개 숫자만 출력하세요.\n",
    "# 여기에 코드를 작성하고 실행시키세요. 셀아래의 출력정보는 올바르게 코딩했을 경우 실행 결과입니다.\n",
    "numbers[0:5]"
   ]
  },
  {
   "cell_type": "code",
   "execution_count": 45,
   "metadata": {},
   "outputs": [
    {
     "data": {
      "text/plain": [
       "[7, 8, 9, 3, 10]"
      ]
     },
     "execution_count": 45,
     "metadata": {},
     "output_type": "execute_result"
    }
   ],
   "source": [
    "# 5.4. 리스트에서 짝수 번째 데이터 만 출력하세요.\n",
    "# 여기에 코드를 작성하고 실행시키세요. 셀아래의 출력정보는 올바르게 코딩했을 경우 실행 결과입니다.\n",
    "numbers[1::2]"
   ]
  },
  {
   "cell_type": "code",
   "execution_count": 46,
   "metadata": {},
   "outputs": [],
   "source": [
    "# 5.5. 짝수 번째 데이터를 모두 0으로 바꾸세요.\n",
    "# 여기에 코드를 작성하고 실행시키세요. 셀아래의 출력정보는 올바르게 코딩했을 경우 실행 결과입니다.\n",
    "numbers[1::2]=[0]*len(numbers[1::2])"
   ]
  },
  {
   "cell_type": "code",
   "execution_count": 47,
   "metadata": {},
   "outputs": [
    {
     "data": {
      "text/plain": [
       "[5, 0, 2, 0, 4, 0, 1, 0, 2, 0]"
      ]
     },
     "execution_count": 47,
     "metadata": {},
     "output_type": "execute_result"
    }
   ],
   "source": [
    "numbers # 이 코드는 짝수 번째 데이터를 모두 0으로 바꾼 결과를 확인하기 위한 것입니다. 삭제하지 마세요."
   ]
  },
  {
   "cell_type": "code",
   "execution_count": 48,
   "metadata": {},
   "outputs": [
    {
     "data": {
      "text/plain": [
       "[0, 2, 0, 1, 0, 4, 0, 2, 0, 5]"
      ]
     },
     "execution_count": 48,
     "metadata": {},
     "output_type": "execute_result"
    }
   ],
   "source": [
    "#5.6. 데이터를 역순으로 출력하세요.\n",
    "# 여기에 코드를 작성하고 실행시키세요. 셀아래의 출력정보는 올바르게 코딩했을 경우 실행 결과입니다.\n",
    "numbers[::-1]"
   ]
  },
  {
   "cell_type": "code",
   "execution_count": 49,
   "metadata": {},
   "outputs": [],
   "source": [
    "#5.7. 데이터를 내림차순으로 정렬하세요.\n",
    "# 여기에 코드를 작성하고 실행시키세요. 셀아래의 출력정보는 올바르게 코딩했을 경우 실행 결과입니다.\n",
    "numbers.sort(reverse=True)"
   ]
  },
  {
   "cell_type": "code",
   "execution_count": 50,
   "metadata": {},
   "outputs": [
    {
     "data": {
      "text/plain": [
       "[5, 4, 2, 2, 1, 0, 0, 0, 0, 0]"
      ]
     },
     "execution_count": 50,
     "metadata": {},
     "output_type": "execute_result"
    }
   ],
   "source": [
    "numbers"
   ]
  },
  {
   "cell_type": "markdown",
   "metadata": {},
   "source": [
    "### 5. 반복문을 이용해서 다음 데이터의 합과 평균을 출력하세요.\n",
    "* numbers = [5,7,2,8,4,9,1,3,2]"
   ]
  },
  {
   "cell_type": "code",
   "execution_count": 51,
   "metadata": {},
   "outputs": [],
   "source": [
    "numbers = [5,7,2,8,4,9,1,3,2]"
   ]
  },
  {
   "cell_type": "code",
   "execution_count": 56,
   "metadata": {},
   "outputs": [
    {
     "name": "stdout",
     "output_type": "stream",
     "text": [
      "합은 41입니다.\n",
      "평균은 4.555555555555555입니다.\n"
     ]
    }
   ],
   "source": [
    "sum = 0\n",
    "# 여기에 코드를 작성하고 실행시키세요. 셀아래의 출력정보는 올바르게 코딩했을 경우 실행 결과입니다.\n",
    "\n",
    "sum = 0\n",
    "\n",
    "for i in numbers:\n",
    "    sum = sum + i\n",
    "\n",
    "avg = sum / len(numbers)\n",
    "print(f\"합은 {sum}입니다.\")\n",
    "print(f\"평균은 {avg}입니다.\")"
   ]
  },
  {
   "cell_type": "markdown",
   "metadata": {},
   "source": [
    "### 6. 두 정수를 입력받아 합을 출력하고 싶습니다. 아래의 셀에 있는 코드를 완성하세요."
   ]
  },
  {
   "cell_type": "code",
   "execution_count": 57,
   "metadata": {},
   "outputs": [
    {
     "name": "stdout",
     "output_type": "stream",
     "text": [
      "정수 1 : 3\n",
      "정수 2 : 4\n"
     ]
    }
   ],
   "source": [
    "num1 = int(input(\"정수 1 : \"))\n",
    "num2 = int(input(\"정수 2 : \"))"
   ]
  },
  {
   "cell_type": "code",
   "execution_count": 58,
   "metadata": {},
   "outputs": [
    {
     "name": "stdout",
     "output_type": "stream",
     "text": [
      "7\n"
     ]
    }
   ],
   "source": [
    "print(num1 + num2)"
   ]
  }
 ],
 "metadata": {
  "kernelspec": {
   "display_name": "Python 3",
   "language": "python",
   "name": "python3"
  },
  "language_info": {
   "codemirror_mode": {
    "name": "ipython",
    "version": 3
   },
   "file_extension": ".py",
   "mimetype": "text/x-python",
   "name": "python",
   "nbconvert_exporter": "python",
   "pygments_lexer": "ipython3",
   "version": "3.7.6"
  }
 },
 "nbformat": 4,
 "nbformat_minor": 2
}

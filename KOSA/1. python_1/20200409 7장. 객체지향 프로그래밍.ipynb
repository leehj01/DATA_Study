{
 "cells": [
  {
   "cell_type": "markdown",
   "metadata": {},
   "source": [
    "## 7장. 객체지향 프로그래밍\n",
    "\n",
    "### 1절. 객체와 클래스\n",
    "#### 1.1. 객체와 클래스 개념"
   ]
  },
  {
   "cell_type": "code",
   "execution_count": 13,
   "metadata": {},
   "outputs": [],
   "source": [
    "class Pen:\n",
    "    pass"
   ]
  },
  {
   "cell_type": "code",
   "execution_count": 14,
   "metadata": {},
   "outputs": [
    {
     "data": {
      "text/plain": [
       "type"
      ]
     },
     "execution_count": 14,
     "metadata": {},
     "output_type": "execute_result"
    }
   ],
   "source": [
    "type(Pen)  # 타입은 타입"
   ]
  },
  {
   "cell_type": "code",
   "execution_count": 15,
   "metadata": {},
   "outputs": [],
   "source": [
    "re_pen = Pen() "
   ]
  },
  {
   "cell_type": "code",
   "execution_count": 16,
   "metadata": {},
   "outputs": [
    {
     "data": {
      "text/plain": [
       "__main__.Pen"
      ]
     },
     "execution_count": 16,
     "metadata": {},
     "output_type": "execute_result"
    }
   ],
   "source": [
    "type(re_pen)  #타입은 pen "
   ]
  },
  {
   "cell_type": "code",
   "execution_count": 17,
   "metadata": {},
   "outputs": [],
   "source": [
    "class Person:\n",
    "    pass"
   ]
  },
  {
   "cell_type": "code",
   "execution_count": 18,
   "metadata": {},
   "outputs": [
    {
     "data": {
      "text/plain": [
       "type"
      ]
     },
     "execution_count": 18,
     "metadata": {},
     "output_type": "execute_result"
    }
   ],
   "source": [
    "type(Person)"
   ]
  },
  {
   "cell_type": "code",
   "execution_count": 19,
   "metadata": {},
   "outputs": [],
   "source": [
    "p1 = Person()"
   ]
  },
  {
   "cell_type": "code",
   "execution_count": 20,
   "metadata": {},
   "outputs": [
    {
     "data": {
      "text/plain": [
       "<__main__.Person at 0x7eaa0c8>"
      ]
     },
     "execution_count": 20,
     "metadata": {},
     "output_type": "execute_result"
    }
   ],
   "source": [
    "p1"
   ]
  },
  {
   "cell_type": "code",
   "execution_count": 21,
   "metadata": {},
   "outputs": [],
   "source": [
    "class Person:\n",
    "    name = \"홍길동\"\n",
    "    gender = \"남자\"\n"
   ]
  },
  {
   "cell_type": "markdown",
   "metadata": {},
   "source": [
    "### 2절. 변수와 메소드"
   ]
  },
  {
   "cell_type": "markdown",
   "metadata": {},
   "source": [
    "#### 2.1 변수추가"
   ]
  },
  {
   "cell_type": "code",
   "execution_count": 22,
   "metadata": {},
   "outputs": [],
   "source": [
    "p1 = Person()"
   ]
  },
  {
   "cell_type": "code",
   "execution_count": 23,
   "metadata": {},
   "outputs": [
    {
     "data": {
      "text/plain": [
       "'홍길동'"
      ]
     },
     "execution_count": 23,
     "metadata": {},
     "output_type": "execute_result"
    }
   ],
   "source": [
    "p1.name  #객체 맴버. 부를려면 . 이 필요함 "
   ]
  },
  {
   "cell_type": "markdown",
   "metadata": {},
   "source": [
    "#### 2.2 .  메소드 추가\n",
    "\n",
    "* 클래스 안에 있는 함수를 메소드라고 부른다. \n",
    "- 클래스 안의 메소드는 객체를 이용해 실행시키기 위해서 만듬"
   ]
  },
  {
   "cell_type": "code",
   "execution_count": null,
   "metadata": {},
   "outputs": [],
   "source": [
    "class Person:\n",
    "    name = \"홍길동\"\n",
    "    gender = \"남자\"\n",
    "    \n",
    "    def print_info():  \n",
    "        print(\"Person 객체입니다.\")"
   ]
  },
  {
   "cell_type": "code",
   "execution_count": null,
   "metadata": {},
   "outputs": [],
   "source": [
    "p1 = Person()"
   ]
  },
  {
   "cell_type": "code",
   "execution_count": null,
   "metadata": {},
   "outputs": [],
   "source": [
    "p1.print_info()  # 얘는 오류가 나온다. "
   ]
  },
  {
   "cell_type": "code",
   "execution_count": null,
   "metadata": {
    "scrolled": true
   },
   "outputs": [],
   "source": [
    "Person.print_info()  # 하지만, 클래스 이름을 붙이고 싶지가 않음.그럼 어떻게 하나?"
   ]
  },
  {
   "cell_type": "code",
   "execution_count": null,
   "metadata": {},
   "outputs": [],
   "source": [
    "# 객체의 속성은 행위의 영향을 준다. "
   ]
  },
  {
   "cell_type": "code",
   "execution_count": null,
   "metadata": {},
   "outputs": [],
   "source": [
    "class Person:\n",
    "    name = \"홍길동\"\n",
    "    gender = \"남자\"\n",
    "    \n",
    "    def print_info(self):   # 자신 객체임을 명백히 알리기 위해 self를 사용할 것을 권장\n",
    "        print(\"Person 객체입니다.\")"
   ]
  },
  {
   "cell_type": "code",
   "execution_count": null,
   "metadata": {},
   "outputs": [],
   "source": [
    "p1 = Person()"
   ]
  },
  {
   "cell_type": "code",
   "execution_count": null,
   "metadata": {},
   "outputs": [],
   "source": [
    "p1.print_info() # self를 넣으면 오류가 나지 않는다. "
   ]
  },
  {
   "cell_type": "markdown",
   "metadata": {},
   "source": [
    "#### 2.4 인스턴트 메소드\n",
    "\n",
    "- def print_info(self):  인자를 넣어주기."
   ]
  },
  {
   "cell_type": "code",
   "execution_count": null,
   "metadata": {},
   "outputs": [],
   "source": [
    "class Person:\n",
    "    name = \"홍길동\"\n",
    "    gender = \"남자\"\n",
    "    \n",
    "    def print_info(self):  \n",
    "        print(\"{}님은 {}입니다.\".format(self.name,self.gender))\n",
    "        #print(name, gender)  - 이렇게 적으면 에러가 난다. 왜냐면 어디 정보를 가져다 쓸지 모르기 때문이다. "
   ]
  },
  {
   "cell_type": "code",
   "execution_count": null,
   "metadata": {},
   "outputs": [],
   "source": [
    "p1 = Person()"
   ]
  },
  {
   "cell_type": "code",
   "execution_count": null,
   "metadata": {},
   "outputs": [],
   "source": [
    "p1.print_info() # self를 넣으면 오류가 나지 않는다. "
   ]
  },
  {
   "cell_type": "code",
   "execution_count": null,
   "metadata": {},
   "outputs": [],
   "source": [
    "Person.print_info(p1)"
   ]
  },
  {
   "cell_type": "code",
   "execution_count": null,
   "metadata": {},
   "outputs": [],
   "source": [
    "p1.name"
   ]
  },
  {
   "cell_type": "code",
   "execution_count": null,
   "metadata": {},
   "outputs": [],
   "source": [
    "Person.name"
   ]
  },
  {
   "cell_type": "code",
   "execution_count": null,
   "metadata": {},
   "outputs": [],
   "source": [
    "p1.name = \"허진경\"\n",
    "p1.nickname = \"나자바바\""
   ]
  },
  {
   "cell_type": "code",
   "execution_count": null,
   "metadata": {},
   "outputs": [],
   "source": [
    "p1.print_info()"
   ]
  },
  {
   "cell_type": "code",
   "execution_count": null,
   "metadata": {},
   "outputs": [],
   "source": [
    "Person.name"
   ]
  },
  {
   "cell_type": "markdown",
   "metadata": {},
   "source": [
    "#### 2.5. 네임 스페이스\n",
    "\n",
    "- 클래스 객체와 인스턴트 객체의 이름공간이 분리되어있음\n",
    "- 클래스 객체와 인스턴트 객체의 이름공간이 다르다.\n",
    "- 인스턴트 객체를 통해 변수나 함수의 이름을 찾는 순서 : 인스턴스 영역 - > 클래스영역 -> 전역영역 -> not define"
   ]
  },
  {
   "cell_type": "markdown",
   "metadata": {},
   "source": [
    "#### 2.6. 클래스 메소드와 정적 메소드\n",
    "\n",
    "- 인스턴트 메서드, 클래스 메서드, 정적 메서드를 구분해서 사용할 수 있어야 함. "
   ]
  },
  {
   "cell_type": "code",
   "execution_count": null,
   "metadata": {},
   "outputs": [],
   "source": [
    "class Person:\n",
    "    name = \"홍길동\"\n",
    "    gender = \"남자\"\n",
    "    \n",
    "    def print_info(self):  \n",
    "        print(\"{}님은 {}입니다.\".format(self.name,self.gender))\n",
    "    \n",
    "    @classmethod #아노테이션을 선언함 (정적 메소드 )  - 추가되서 아래가 무엇이지 지시하는 함수\n",
    "    def do_(cla): # 클래스의 속성을 가져다 씀\n",
    "        print(f\"이름:{cla.name},성별:{cla.gender}\") # 그냥 name하면 어디것인지 모르므로, class 적어주기 "
   ]
  },
  {
   "cell_type": "code",
   "execution_count": null,
   "metadata": {},
   "outputs": [],
   "source": [
    "p1 = Person()"
   ]
  },
  {
   "cell_type": "code",
   "execution_count": null,
   "metadata": {},
   "outputs": [],
   "source": [
    "p1.name = \"홍길서\"\n",
    "p1.gender =\"여자\""
   ]
  },
  {
   "cell_type": "code",
   "execution_count": null,
   "metadata": {},
   "outputs": [],
   "source": [
    "p1.print_info()"
   ]
  },
  {
   "cell_type": "code",
   "execution_count": null,
   "metadata": {},
   "outputs": [],
   "source": [
    "Person.do_()"
   ]
  },
  {
   "cell_type": "code",
   "execution_count": null,
   "metadata": {},
   "outputs": [],
   "source": [
    "Person.print_info() # 이것은 오류가 남. "
   ]
  },
  {
   "cell_type": "code",
   "execution_count": null,
   "metadata": {},
   "outputs": [],
   "source": [
    "p1.do_()"
   ]
  },
  {
   "cell_type": "code",
   "execution_count": null,
   "metadata": {},
   "outputs": [],
   "source": [
    "class Person:\n",
    "    name = \"홍길동\"\n",
    "    gender = \"남자\"\n",
    "    \n",
    "    def print_info(self):  # 나중에 객체를 만들고, p = Person()\n",
    "        print(\"{}님은 {}입니다.\".format(self.name,self.gender))\n",
    "    \n",
    "    @classmethod #아노테이션을 선언함  - 추가되서 아래가 무엇이지 지시하는 함수\n",
    "    def do_(cla): # 클래스의 속성을 가져다 씀\n",
    "        print(f\"이름:{cla.name},성별:{cla.gender}\") # 그냥 name하면 어디것인지 모르므로, class 적어주기 \n",
    "        \n",
    "    @staticmethod\n",
    "    def that_(): \n",
    "        print(f\"{Person.name}님 반갑습니다.\")"
   ]
  },
  {
   "cell_type": "code",
   "execution_count": null,
   "metadata": {},
   "outputs": [],
   "source": [
    "p1 = Person()\n",
    "p1.name = \"홍길동\"\n",
    "p1.gender = \"여자\""
   ]
  },
  {
   "cell_type": "code",
   "execution_count": null,
   "metadata": {},
   "outputs": [],
   "source": [
    "p2 = Person()\n",
    "p2.name = \"홍길남\"\n",
    "p2.gender = \"남자\""
   ]
  },
  {
   "cell_type": "code",
   "execution_count": null,
   "metadata": {},
   "outputs": [],
   "source": [
    "p1.print_info()"
   ]
  },
  {
   "cell_type": "code",
   "execution_count": null,
   "metadata": {},
   "outputs": [],
   "source": [
    "p2.print_info()"
   ]
  },
  {
   "cell_type": "markdown",
   "metadata": {},
   "source": [
    "### 3절 . 생성자와 소멸자\n",
    "\n",
    "#### 3.1. 생성자와 소멸자\n",
    "- 객체가 만들어질 때, 자동으로 샐행됨.\n",
    "- 생성자 이름 : __int__()\n",
    "- 얘도 self를 가져야함.\n",
    "- 객체의 맴버(변수)를 객체 생성시 초기화 하고 싶을 때\n",
    "- 소멸자 : 객체가 소멸될때 자동으로 실행됨. \n",
    "- 소멸자의 이름으 : __del__()"
   ]
  },
  {
   "cell_type": "code",
   "execution_count": null,
   "metadata": {},
   "outputs": [],
   "source": [
    "class Person:\n",
    "#     name = \"홍길동\"\n",
    "#     gender = \"남자\"\n",
    "    def __init__(self,name,gender):  # 생성자 \n",
    "        self.name = name\n",
    "        self.gender = gender\n",
    "    \n",
    "    def print_info(self):  # 나중에 객체를 만들고, p = Person()\n",
    "        print(\"{}님은 {}입니다.\".format(self.name,self.gender))\n",
    "    "
   ]
  },
  {
   "cell_type": "code",
   "execution_count": null,
   "metadata": {},
   "outputs": [],
   "source": [
    "p1 = Person() #__init__ 안에 name, gender을 써어놔서 오류인것. "
   ]
  },
  {
   "cell_type": "code",
   "execution_count": null,
   "metadata": {},
   "outputs": [],
   "source": [
    "p1 = Person(\"홍길서\",\"여자\")"
   ]
  },
  {
   "cell_type": "code",
   "execution_count": null,
   "metadata": {},
   "outputs": [],
   "source": [
    "p1.print_info()"
   ]
  },
  {
   "cell_type": "code",
   "execution_count": null,
   "metadata": {},
   "outputs": [],
   "source": [
    "class Person:\n",
    "#     name = \"홍길동\"\n",
    "#     gender = \"남자\"\n",
    "    def __init__(self):  # 생성자 \n",
    "        print(\"Person 객체를 생성합니다.\")\n",
    "        self.name = \"홍길동\"\n",
    "        self.gender = \"남자\"\n",
    "    \n",
    "    def __del__(self): # 소멸자 \n",
    "        print(\"Person 객체를 소멸시킵니다.\")\n",
    "        \n",
    "    def print_info(self):  # 나중에 객체를 만들고, p = Person()\n",
    "        print(\"{}님은 {}입니다.\".format(self.name,self.gender))\n",
    "  "
   ]
  },
  {
   "cell_type": "code",
   "execution_count": null,
   "metadata": {
    "scrolled": true
   },
   "outputs": [],
   "source": [
    "p1 = Person()\n",
    "p1.print_info()"
   ]
  },
  {
   "cell_type": "code",
   "execution_count": null,
   "metadata": {},
   "outputs": [],
   "source": [
    "p1 = Person() # 객체 생성 소멸의 순서는 생성한 다음 소멸하게 된다. "
   ]
  },
  {
   "cell_type": "code",
   "execution_count": null,
   "metadata": {},
   "outputs": [],
   "source": [
    "p2 = Person()"
   ]
  },
  {
   "cell_type": "code",
   "execution_count": null,
   "metadata": {},
   "outputs": [],
   "source": [
    "p3 = Person()"
   ]
  },
  {
   "cell_type": "code",
   "execution_count": null,
   "metadata": {},
   "outputs": [],
   "source": [
    "p2 =  None  # 이렇게 해도 소멸됨"
   ]
  },
  {
   "cell_type": "code",
   "execution_count": null,
   "metadata": {},
   "outputs": [],
   "source": [
    "del p1"
   ]
  },
  {
   "cell_type": "code",
   "execution_count": null,
   "metadata": {},
   "outputs": [],
   "source": [
    "class Person:\n",
    "    def __init__(self,name,gender):  # 생성자 \n",
    "        print(\"Person 객체를 생성합니다.\")\n",
    "        self.name = name\n",
    "        self.gender =  gender\n",
    "        \n",
    "    def __del__(self): # 소멸자 \n",
    "        print(\"Person 객체를 소멸시킵니다.\")\n",
    "        \n",
    "    def print_info(self):  # 나중에 객체를 만들고, p = Person()\n",
    "        print(\"{}님은 {}입니다.\".format(self.name,self.gender))"
   ]
  },
  {
   "cell_type": "code",
   "execution_count": null,
   "metadata": {},
   "outputs": [],
   "source": [
    "p1 = Person(\"홍길서\",\"여자\")\n",
    "p1.print_info()"
   ]
  },
  {
   "cell_type": "markdown",
   "metadata": {},
   "source": [
    "### 연습 : 클래스를 정의하고 객체를 생성하세요.\n",
    "\n",
    "- 연필 객체를 클래스로 만들기\n",
    "- 연필은 색상정보와 가격정보를 가지고 있습니다.\n",
    "- 연필의 기능을 쓰다(그리다)입니다.\n",
    "- 연필을 만들때 색상과 가격정보를 입력해야 합니다.\n",
    "- 연필의 '쓰다'기능을 사용할 경우 \" ###색으로 글씨를 씁니다\" 가 출력되어야합니다.\n",
    "- 가격 정보를 조회하는 메서드를 추가하세요."
   ]
  },
  {
   "cell_type": "code",
   "execution_count": null,
   "metadata": {},
   "outputs": [],
   "source": [
    "class pencil:\n",
    "    def __init__(self,color,price):\n",
    "        print(\"Person 객체를 생성합니다.\")\n",
    "        self.color = color\n",
    "        self.price = price\n",
    "        \n",
    "    def write(self):\n",
    "        print(\"{}색으로 글씨를 씁니다.\".format(self.color))\n",
    "        \n",
    "    def info_price(self):\n",
    "        print(\"{}색의 가격은 {}입니다.\".format(self.color,self.price))"
   ]
  },
  {
   "cell_type": "code",
   "execution_count": null,
   "metadata": {},
   "outputs": [],
   "source": [
    "my_pencil = pencil(\"빨간\",12000)"
   ]
  },
  {
   "cell_type": "code",
   "execution_count": null,
   "metadata": {},
   "outputs": [],
   "source": [
    "my_pencil.write()"
   ]
  },
  {
   "cell_type": "code",
   "execution_count": null,
   "metadata": {},
   "outputs": [],
   "source": [
    "my_pencil.info_price()"
   ]
  },
  {
   "cell_type": "markdown",
   "metadata": {},
   "source": [
    "### 연습 : 클래스를 정의하고 객체를 생성하세요.\n",
    "\n",
    "- 삼각형 객체를 클래스로 만들기\n",
    "- 삼각형의 정보는 밑변정보와 높이를 가지고 있습니다.\n",
    "- 삼각형의 기능을 면적을 계산하다입니다.\n",
    "- 삼각형 객체를 생성할 때 밑변의 길이와 높이를 입력해야합니다.\n",
    "- 밑변의 길이와 높이가 4,5 인 삼각형을 만들고 면적을 계산하세요"
   ]
  },
  {
   "cell_type": "code",
   "execution_count": null,
   "metadata": {},
   "outputs": [],
   "source": [
    "class Triangle:\n",
    "    def __init__(self, bottom, height):\n",
    "        self.bottom = bottom\n",
    "        self.height = height\n",
    "        \n",
    "    def area(self):\n",
    "        print((self.bottom*self.height)/2)\n",
    "    "
   ]
  },
  {
   "cell_type": "code",
   "execution_count": null,
   "metadata": {},
   "outputs": [],
   "source": [
    "my_Triangle = Triangle(4,5)"
   ]
  },
  {
   "cell_type": "code",
   "execution_count": null,
   "metadata": {},
   "outputs": [],
   "source": [
    "my_Triangle.area()"
   ]
  },
  {
   "cell_type": "markdown",
   "metadata": {},
   "source": [
    "### 4절 상속과 재정의\n",
    "#### 4.1. 상속 \n",
    "\n",
    "- 상속 : 객체 재사용의 한방법\n",
    "- 상속을 이용하면 부모 클래스의 모든 속성들을 자식 클래스로 물려줄수 있음.\n"
   ]
  },
  {
   "cell_type": "code",
   "execution_count": null,
   "metadata": {},
   "outputs": [],
   "source": [
    "class Person:\n",
    "    def __init__(self,name,gender):  # 생성자 \n",
    "        print(\"Person 객체를 생성합니다.\")\n",
    "        self.name = name\n",
    "        self.gender = gender\n",
    "        \n",
    "    def __str__(self): # 객체가 가지고있는 것을 문자로 반환하는 것.\n",
    "        return \"name:{0},gender:{1}\".format(self.name,self.gender)    \n",
    "    \n",
    "    def print_info(self):\n",
    "        print(f\"{self.name}님은 {self.gender}입니다.\")\n",
    "        "
   ]
  },
  {
   "cell_type": "code",
   "execution_count": null,
   "metadata": {},
   "outputs": [],
   "source": [
    "p1 = Person(\"홍길동\",\"남자\")"
   ]
  },
  {
   "cell_type": "code",
   "execution_count": null,
   "metadata": {},
   "outputs": [],
   "source": [
    "print(p1)"
   ]
  },
  {
   "cell_type": "code",
   "execution_count": null,
   "metadata": {},
   "outputs": [],
   "source": [
    "print(p1.__str__())"
   ]
  },
  {
   "cell_type": "code",
   "execution_count": null,
   "metadata": {},
   "outputs": [],
   "source": [
    "class Student(Person):\n",
    "    def __init__(self,name,gender,major):\n",
    "        self.name = name\n",
    "        self.gender = gender  # 하지만 이부분이, 부모클래스와 중복이 됨 \n",
    "        self.major = major\n",
    "        \n",
    "    def __del__(self):\n",
    "        pass"
   ]
  },
  {
   "cell_type": "code",
   "execution_count": null,
   "metadata": {},
   "outputs": [],
   "source": [
    "s1 = Student(\"홍길북\",\"남자\",\"데이터분석\")\n",
    "print(type(s1),isinstance(s1,Student),isinstance(s1,Person))\n",
    "print(s1)\n",
    "s1.print_info()"
   ]
  },
  {
   "cell_type": "markdown",
   "metadata": {},
   "source": [
    "#### 4.2. 부모클래스 생성자 사용"
   ]
  },
  {
   "cell_type": "code",
   "execution_count": null,
   "metadata": {},
   "outputs": [],
   "source": [
    "class Person:\n",
    "    def __init__(self,name,gender):  # 생성자 \n",
    "        print(\"Person 객체를 생성합니다.\")\n",
    "        self.name = name\n",
    "        self.gender = gender\n",
    "        \n",
    "    def __str__(self): # 객체가 가지고있는 것을 문자로 반환하는 것.\n",
    "        return \"name:{0},gender:{1}\".format(self.name,self.gender)    \n",
    "    \n",
    "    def print_info(self):\n",
    "        print(f\"{self.name}님은 {self.gender}입니다.\")"
   ]
  },
  {
   "cell_type": "code",
   "execution_count": null,
   "metadata": {},
   "outputs": [],
   "source": [
    "class Student(Person):\n",
    "    def __init__(self,name,gender,major):# 여기서 self는 s1 것임 \n",
    "        Person.__init__(self,name,gender)  # 부모의 코드 재사용 \n",
    "#         self.name = name  ----- 중복을 안사용하기위해서, 위에 코드 추가\n",
    "#         self.gender = gender \n",
    "        self.major = major\n",
    "        \n",
    "    def __del__(self):\n",
    "        pass"
   ]
  },
  {
   "cell_type": "code",
   "execution_count": null,
   "metadata": {},
   "outputs": [],
   "source": [
    "s1 = Student(\"홍길북\",\"남자\",\"데이터분석\")\n",
    "print(type(s1),isinstance(s1,Student),isinstance(s1,Person))\n",
    "print(s1)\n",
    "s1.print_info()\n",
    "\n",
    "# 이렇게 해도 결과는 같음 "
   ]
  },
  {
   "cell_type": "markdown",
   "metadata": {},
   "source": [
    "#### 4.3. 재정의\n",
    "- 부모클래스에서 정의한 메소드를 자식 클래스에서 다시 정의하는 것을 재정의라고함\n",
    "- 메소드의 재정의는 상속을 전제로 함.\n",
    "- 상속관계가 없는 상태에서 메소드를 만드는 것은 재정의가 아님.\n",
    "- 재정의를 할 때, 자식 클래스의 메소드가 부모클래스의 매소드와 이름과 인스 목록이 같아야함.\n",
    "- 성능을 개선시키는 목적으로 씀"
   ]
  },
  {
   "cell_type": "code",
   "execution_count": null,
   "metadata": {},
   "outputs": [],
   "source": [
    "# 그런데 , major이 안나옴. 그래서 다시 만들어주기...?!\n",
    "\n",
    "class Student(Person):\n",
    "    def __init__(self,name,gender,major):# 여기서 self는 s1 것임 \n",
    "        Person.__init__(self,name,gender)  # 부모의 코드 재사용  \n",
    "        self.major = major\n",
    "        \n",
    "    def __del__(self):\n",
    "        pass\n",
    "    \n",
    "    def __str__(self):\n",
    "        return \"name:{0},gender:{1},major:{2}\".format(self.name,self.gender,self.major)    \n",
    "    \n",
    "    def print_info(self):\n",
    "        print(f\"{self.name}님은 {self.gender}이며,전공은 {self.major}입니다.\")"
   ]
  },
  {
   "cell_type": "code",
   "execution_count": null,
   "metadata": {},
   "outputs": [],
   "source": [
    "s1 = Student(\"홍길북\",\"남자\",\"데이터분석\")\n",
    "print(type(s1),isinstance(s1,Student),isinstance(s1,Person))\n",
    "print(s1)\n",
    "s1.print_info()\n",
    "\n",
    "# 이렇게 부모클래스에서 정의한 메소드를 자식 클래스에서 다시 정의하는 것을 재정의라고함. "
   ]
  },
  {
   "cell_type": "markdown",
   "metadata": {},
   "source": [
    "#### 4.4 super() \n",
    "\n",
    "- 위에 보면, 재정의 하면서 발생하는 중복된 코드를 없애주기 위해서 사용"
   ]
  },
  {
   "cell_type": "code",
   "execution_count": 2,
   "metadata": {},
   "outputs": [],
   "source": [
    "class Person:\n",
    "    def __init__(self,name,gender):  # 생성자 \n",
    "        print(\"Person 객체를 생성합니다.\")\n",
    "        self.name = name\n",
    "        self.gender = gender\n",
    "        \n",
    "    def __str__(self): # 객체가 가지고있는 것을 문자로 반환하는 것.\n",
    "        return \"name:{0},gender:{1}\".format(self.name,self.gender)    \n",
    "    \n",
    "    def print_info(self):\n",
    "        print(f\"{self.name}님은 {self.gender}입니다.\")"
   ]
  },
  {
   "cell_type": "code",
   "execution_count": 3,
   "metadata": {},
   "outputs": [],
   "source": [
    "\n",
    "class Student(Person):\n",
    "    def __init__(self,name,gender,major):# 여기서 self는 s1 것임 \n",
    "        Person.__init__(self,name,gender)  # 부모의 코드 재사용  \n",
    "        self.major = major\n",
    "        \n",
    "    def __del__(self):\n",
    "        pass\n",
    "    \n",
    "    def __str__(self):\n",
    "        return super().__str__() + \",major:{}\".format(self.major)   \n",
    "        \n",
    "    \n",
    "    def print_info(self):\n",
    "        print(f\"{self.name}님은 {self.gender}이며,전공은 {self.major}입니다.\")"
   ]
  },
  {
   "cell_type": "raw",
   "metadata": {},
   "source": [
    "# 마지막 것도 super을 쓸 수 있다. \n",
    " \n",
    "class Person:\n",
    "    def __init__(self,name,gender):  # 생성자 \n",
    "        print(\"Person 객체를 생성합니다.\")\n",
    "        self.name = name\n",
    "        self.gender = gender\n",
    "        \n",
    "    def __str__(self): # 객체가 가지고있는 것을 문자로 반환하는 것.\n",
    "        return \"name:{0},gender:{1}\".format(self.name,self.gender)    \n",
    "    \n",
    "    def print_info(self):\n",
    "        print(f\"{self.name}님은 {self.gender}, \", end='')    \n",
    "    \n",
    "-------------------------------------------    \n",
    "\n",
    "class Student(Person):\n",
    "    def __init__(self,name,gender,major):# 여기서 self는 s1 것임 \n",
    "        Person.__init__(self,name,gender)  # 부모의 코드 재사용  \n",
    "        self.major = major\n",
    "        \n",
    "    def __del__(self):\n",
    "        pass\n",
    "    \n",
    "    def __str__(self):\n",
    "        return super().__str__() + \",major:{}\".format(self.major) \n",
    "\n",
    "# 이렇게 쓰면 두줄이 나오게된다. 그렇기 때문에, \n",
    "  위의 부모 클래스에서 end = \"\" 해줘서 엔터를 없애줌.\n",
    "  그럼 부모 클래스에서 print할때 이상하기 때문에 \n",
    "  print 할때는 보통 쓰지 않는다.\n",
    "\n",
    "    def print_info(self):\n",
    "        super().print_info()\n",
    "        print(f\"전공은 {self.major}입니다.\")"
   ]
  },
  {
   "cell_type": "code",
   "execution_count": null,
   "metadata": {},
   "outputs": [],
   "source": [
    "s1 = Student(\"홍길북\",\"남자\",\"데이터분석\")\n",
    "print(type(s1),isinstance(s1,Student),isinstance(s1,Person))\n",
    "print(s1)\n",
    "s1.print_info()"
   ]
  },
  {
   "cell_type": "markdown",
   "metadata": {},
   "source": [
    "#### 4.5 . 정적 변수\n",
    "\n",
    "- 항상 같은 값을 가져요 라는 의미 .\n",
    "- 똑같은 변수를 참조하는 것.\n",
    "- 원래는 객체를 만들때마다, 변수가 따로 만들어지는데, 얘는 아님"
   ]
  },
  {
   "cell_type": "code",
   "execution_count": 4,
   "metadata": {},
   "outputs": [],
   "source": [
    "\n",
    "class Student(Person):\n",
    "    \n",
    "    __count = 0  # 정적 변수 / 객체가 만들어지는 개수를 저장하기 위해 만듦\n",
    "    \n",
    "    def __init__(self,name,gender,major):\n",
    "        Student._Student__count += 1 # 정적변수 값을 증가 시켜주세요. \n",
    "                                     # 정적변수를 참고하는 것은 이렇게 해야함.\n",
    "                                     # 객체가 만들어질때마다 count 증가 \n",
    "        Person.__init__(self,name,gender) \n",
    "        self.major = major\n",
    "        \n",
    "    def __del__(self):\n",
    "        Student._Student__count -= 1  # 객체가 소멸될따마다 count는 감소\n",
    "    \n",
    "    def __str__(self):\n",
    "        return super().__str__() + \",major:{}\".format(self.major)   \n",
    "    \n",
    "    def print_info(self):\n",
    "        print(f\"{self.name}님은 {self.gender}이며,전공은 {self.major}입니다.\")\n",
    "    \n",
    "    @classmethod\n",
    "    def get_count(cls):  # 클래스 메소드 니깐, 클래스를 변수로 받음. \n",
    "        return Student._Student__count"
   ]
  },
  {
   "cell_type": "code",
   "execution_count": 7,
   "metadata": {},
   "outputs": [
    {
     "name": "stdout",
     "output_type": "stream",
     "text": [
      "Person 객체를 생성합니다.\n"
     ]
    }
   ],
   "source": [
    "s10 = Student(\"홍길북\",\"남자\",\"데이터분석\")"
   ]
  },
  {
   "cell_type": "code",
   "execution_count": 8,
   "metadata": {},
   "outputs": [],
   "source": [
    "s10.nick = \"하하\""
   ]
  },
  {
   "cell_type": "code",
   "execution_count": 28,
   "metadata": {},
   "outputs": [
    {
     "data": {
      "text/plain": [
       "'홍길북'"
      ]
     },
     "execution_count": 28,
     "metadata": {},
     "output_type": "execute_result"
    }
   ],
   "source": [
    "s10.name"
   ]
  },
  {
   "cell_type": "code",
   "execution_count": 5,
   "metadata": {},
   "outputs": [
    {
     "name": "stdout",
     "output_type": "stream",
     "text": [
      "Person 객체를 생성합니다.\n",
      "name:홍길북,gender:남자,major:데이터분석\n",
      "홍길북님은 남자이며,전공은 데이터분석입니다.\n"
     ]
    },
    {
     "data": {
      "text/plain": [
       "1"
      ]
     },
     "execution_count": 5,
     "metadata": {},
     "output_type": "execute_result"
    }
   ],
   "source": [
    "s1 = Student(\"홍길북\",\"남자\",\"데이터분석\")\n",
    "print(s1)\n",
    "s1.print_info()\n",
    "Student.get_count()"
   ]
  },
  {
   "cell_type": "code",
   "execution_count": 6,
   "metadata": {},
   "outputs": [
    {
     "name": "stdout",
     "output_type": "stream",
     "text": [
      "Person 객체를 생성합니다.\n",
      "2\n"
     ]
    },
    {
     "data": {
      "text/plain": [
       "2"
      ]
     },
     "execution_count": 6,
     "metadata": {},
     "output_type": "execute_result"
    }
   ],
   "source": [
    "s2 =  Student(\"홍길서\",\"여자\",\"심리학\")\n",
    "print(Student._Student__count)\n",
    "Student.get_count()"
   ]
  },
  {
   "cell_type": "code",
   "execution_count": null,
   "metadata": {},
   "outputs": [],
   "source": [
    "Student._Student__count \n",
    "\n",
    "# \"\"\" 메소드를 이용해서 참조할 수 있는 것 아니고\n",
    "# 이렇게 어디서든 참조 할수 있으며,\n",
    "# 참조시 변수의 이름또한 동일한 방법으로 사용할 수 있다. \"\"\""
   ]
  },
  {
   "cell_type": "code",
   "execution_count": null,
   "metadata": {},
   "outputs": [],
   "source": [
    "s1 = None\n",
    "Student.get_count()"
   ]
  },
  {
   "cell_type": "code",
   "execution_count": null,
   "metadata": {},
   "outputs": [],
   "source": [
    "del s2\n",
    "Student.get_count()"
   ]
  },
  {
   "cell_type": "markdown",
   "metadata": {},
   "source": [
    "### 5절 . 연습문제"
   ]
  },
  {
   "cell_type": "code",
   "execution_count": null,
   "metadata": {},
   "outputs": [],
   "source": [
    "class Shape:\n",
    "    def __init__(self,x =0,y= 0): # 기본값으 0,0 이다.\n",
    "        self.x = x\n",
    "        self.y = y\n",
    "    \n",
    "    def move(self,mx,my): # 그냥 x, y 라도 써도 상관x 위랑 헷갈릴까봐..\n",
    "        self.x = self.x + mx\n",
    "        self.y = self.y + my        \n",
    "        \n",
    "    def __str__(self):\n",
    "        return \"x좌표:{0},y좌표:{1}\".format(self.x,self.y)\n",
    "    # f\"x:{self.x},y:{self.y}\" 도 같은 것. \n",
    "    \n",
    "    def cacl_area(self):\n",
    "        print(\"에러 : 현재 도형의 넓이를 구할 정보가 부족합니다.\")\n",
    "        raise Exception(\"이 메소드는 반드시 구현되어야 합니다.\")\n",
    "    \n",
    "    @staticmethod\n",
    "    def info(): # 정적 메소드\n",
    "        print(\"도형입니다.\")"
   ]
  },
  {
   "cell_type": "code",
   "execution_count": null,
   "metadata": {},
   "outputs": [],
   "source": [
    "class Triangle(Shape):\n",
    "    \n",
    "    __count  = 0 \n",
    "    \n",
    "    \n",
    "    def __init__(self,w,h,x =0 ,y=0):\n",
    "        Triangle._Triangle__count += 1 \n",
    "        Shape.__init__(self,x,y)\n",
    "        self.w = w\n",
    "        self.h = h    \n",
    "        \n",
    "    def __del__(self):  # 소멸자 \n",
    "        Triangle._Triangle__count -= 1\n",
    "        print(\"tri 객체를 소멸시킵니다.\")\n",
    "        \n",
    "    def calc_area(self):\n",
    "        return ((self.w + self.h)/2)\n",
    "        \n",
    "    def __str__(self):\n",
    "        #return Shape.__str__(self) + \", width:{},height:{}\".format(self.w,self.h)    \n",
    "        return super().__str__()+\",밑변의 길이:{0},높이:{1}\".format(self.w,self.h)      \n",
    "    \n",
    "    @classmethod\n",
    "    def get_count(cls):\n",
    "        return Triangle._Triangle__count"
   ]
  },
  {
   "cell_type": "code",
   "execution_count": null,
   "metadata": {},
   "outputs": [],
   "source": [
    "t1 = Triangle(10,20)\n",
    "print(t1.calc_area())\n",
    "print(t1)"
   ]
  },
  {
   "cell_type": "code",
   "execution_count": null,
   "metadata": {},
   "outputs": [],
   "source": [
    "t1.move(5,10)\n",
    "print(t1)"
   ]
  },
  {
   "cell_type": "code",
   "execution_count": null,
   "metadata": {},
   "outputs": [],
   "source": [
    "print(Triangle._Triangle__count)"
   ]
  },
  {
   "cell_type": "code",
   "execution_count": null,
   "metadata": {},
   "outputs": [],
   "source": [
    "t2 = Triangle(20,40)\n",
    "print(Triangle._Triangle__count)"
   ]
  },
  {
   "cell_type": "code",
   "execution_count": null,
   "metadata": {},
   "outputs": [],
   "source": [
    "print(Triangle.get_count())"
   ]
  },
  {
   "cell_type": "code",
   "execution_count": null,
   "metadata": {},
   "outputs": [],
   "source": [
    "t1 = None"
   ]
  },
  {
   "cell_type": "code",
   "execution_count": null,
   "metadata": {},
   "outputs": [],
   "source": [
    "print(Triangle._Triangle__count)"
   ]
  },
  {
   "cell_type": "markdown",
   "metadata": {},
   "source": [
    "## 기타 연습문제\n",
    "\n",
    "#### 고객관리 프로그램\n",
    "- 고객의 정보를 저장할 클래스를 만들어야 합니다.\n",
    "- 고객의 정보는 이름, 전화번호, 주소입니다.\n",
    "- 고객의 정보를 입력받아 고객 클래스에 저장한 후 리스트를 이용해 관리해야합니다."
   ]
  },
  {
   "cell_type": "code",
   "execution_count": null,
   "metadata": {},
   "outputs": [],
   "source": [
    "class Customer:\n",
    "    def __init__(self, name, phone, address):\n",
    "        self.name = name\n",
    "        self.phone = phone\n",
    "        self.address = address\n",
    "        \n",
    "        \n",
    "    def __str__(self):\n",
    "        return f\"name:{self.name} , phone : {self.phone} , address:{self.address}\"\n",
    "    \n",
    "    \n",
    "    def to_dict(self):\n",
    "        return {\"name\":self.name, \"phone\" : self.phone,\"address\":self.address}\n",
    "      # dict 를 입력해서 나중에 데이터를 json이나 csv파일로 만들때 유용함"
   ]
  },
  {
   "cell_type": "code",
   "execution_count": null,
   "metadata": {},
   "outputs": [],
   "source": [
    "cust = Customer(\"홍\",\"010\",\"서울\")\n",
    "print(cust)"
   ]
  },
  {
   "cell_type": "code",
   "execution_count": null,
   "metadata": {},
   "outputs": [],
   "source": [
    "cust.to_dict()"
   ]
  },
  {
   "cell_type": "code",
   "execution_count": null,
   "metadata": {},
   "outputs": [],
   "source": [
    "cust_list = []\n",
    "while True:\n",
    "    menu = int(input(\"메뉴를 입력하세요. 1:입력 , 2: 리스트 조회, 0:종료\"))\n",
    "    \n",
    "    if menu == 1 :\n",
    "        print(\"정보를 입력합니다. \")\n",
    "        name = input(\"이름 : \")\n",
    "        phone = input(\"전화번호 : \")\n",
    "        address = input(\"주소 : \")\n",
    "        cust = Customer(name, phone, address)  # 클래스 이용한 것.\n",
    "        cust_list.append(cust)\n",
    "        \n",
    "    elif menu == 2 :\n",
    "        print(\"정보를 조회합니다. \")\n",
    "        for cust in cust_list:\n",
    "            print(cust)        \n",
    "        \n",
    "    elif menu == 0 :\n",
    "        break\n",
    "    else :\n",
    "        print(\"메뉴를 잘못 입력했습니다. 다시 입력해주세요.\")"
   ]
  },
  {
   "cell_type": "code",
   "execution_count": null,
   "metadata": {},
   "outputs": [],
   "source": [
    "print(cust_list[0])"
   ]
  },
  {
   "cell_type": "code",
   "execution_count": null,
   "metadata": {
    "scrolled": true
   },
   "outputs": [],
   "source": [
    "for cust in cust_list:\n",
    "    print(cust)"
   ]
  },
  {
   "cell_type": "code",
   "execution_count": null,
   "metadata": {},
   "outputs": [],
   "source": []
  },
  {
   "cell_type": "code",
   "execution_count": null,
   "metadata": {},
   "outputs": [],
   "source": []
  },
  {
   "cell_type": "code",
   "execution_count": null,
   "metadata": {},
   "outputs": [],
   "source": []
  },
  {
   "cell_type": "code",
   "execution_count": null,
   "metadata": {},
   "outputs": [],
   "source": []
  },
  {
   "cell_type": "code",
   "execution_count": null,
   "metadata": {},
   "outputs": [],
   "source": []
  },
  {
   "cell_type": "code",
   "execution_count": null,
   "metadata": {},
   "outputs": [],
   "source": []
  },
  {
   "cell_type": "code",
   "execution_count": null,
   "metadata": {},
   "outputs": [],
   "source": []
  },
  {
   "cell_type": "code",
   "execution_count": null,
   "metadata": {},
   "outputs": [],
   "source": []
  }
 ],
 "metadata": {
  "kernelspec": {
   "display_name": "Python 3",
   "language": "python",
   "name": "python3"
  },
  "language_info": {
   "codemirror_mode": {
    "name": "ipython",
    "version": 3
   },
   "file_extension": ".py",
   "mimetype": "text/x-python",
   "name": "python",
   "nbconvert_exporter": "python",
   "pygments_lexer": "ipython3",
   "version": "3.7.6"
  }
 },
 "nbformat": 4,
 "nbformat_minor": 4
}

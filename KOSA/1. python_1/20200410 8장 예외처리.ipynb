{
 "cells": [
  {
   "cell_type": "markdown",
   "metadata": {},
   "source": [
    "## 8장 예외처리\n",
    "### 1절 예외처리\n",
    "\n",
    "- 예외 : 실행중에 발견된 오류\n",
    "- 예외 처리 : 오류 발생에 대한 대처 방법 중의 하나\n",
    "- 예외 처리는 오류 발생 가능성이 있는 부분에 대한 처리를 미리프로그래밍 하는것"
   ]
  },
  {
   "cell_type": "raw",
   "metadata": {},
   "source": [
    "f = open(\"파일명\",\"읽기모드(r) 혹은 쓰기모드(w)\")\n",
    "f = open(\"abc.txt\",\"r\")"
   ]
  },
  {
   "cell_type": "code",
   "execution_count": null,
   "metadata": {},
   "outputs": [],
   "source": [
    "f = open(\"abc.txt\",\"r\")  \n",
    "f"
   ]
  },
  {
   "cell_type": "code",
   "execution_count": null,
   "metadata": {},
   "outputs": [],
   "source": [
    "num1 = int(input(\"num1 :  \"))\n",
    "num2 = int(input(\"num2 :  \"))"
   ]
  },
  {
   "cell_type": "code",
   "execution_count": null,
   "metadata": {},
   "outputs": [],
   "source": [
    "num1/num2  # 오류나는 것은 당연함. 이 오류를 어떻게 처리 할것인가?"
   ]
  },
  {
   "cell_type": "code",
   "execution_count": null,
   "metadata": {},
   "outputs": [],
   "source": [
    "a = [1,2,3]\n",
    "i = int(input(\"출력할 인덱스를 입력하세요. \"))\n",
    "a[i] # 이렇게 사용자가 어떤 값을 넣을지 알수 없고, 0,1,2 다른거 넣으면 오류 - 오류 처리해야함. "
   ]
  },
  {
   "cell_type": "markdown",
   "metadata": {},
   "source": [
    "### 2절 try ~ exept로 예외 처리하기\n",
    "#### 2.1. try ~ except"
   ]
  },
  {
   "cell_type": "raw",
   "metadata": {},
   "source": [
    "try :\n",
    "    # 예외가 발생할 가능성이 있는 문장\n",
    "    \n",
    "except:\n",
    "    # 예외가 발생했을 경우 실행할 문장"
   ]
  },
  {
   "cell_type": "code",
   "execution_count": null,
   "metadata": {},
   "outputs": [],
   "source": [
    "while True:\n",
    "    try:\n",
    "        x = int(input(\"정수를 입력하세요  : \"))\n",
    "        print('입력한 정수는 {}입니다.'.format(x))\n",
    "        print(\"100을 입력한 수로 나누면 {}입니다.\".format(100/x))\n",
    "        break\n",
    "    except:\n",
    "        print(\"유효한 정수가 아닙니다. 다시 시도하세요.\")"
   ]
  },
  {
   "cell_type": "markdown",
   "metadata": {},
   "source": [
    "#### 2.2. 예외를 지정한 처리\n",
    "- 예외가 발생하는 이유가 다 다르기 때문에, 지정해서 처리하기.\n",
    "- except는 여러개 추가 할 수 있다. "
   ]
  },
  {
   "cell_type": "code",
   "execution_count": null,
   "metadata": {},
   "outputs": [],
   "source": [
    "while True:\n",
    "    try:\n",
    "        x = int(input(\"정수를 입력하세요  : \"))\n",
    "        print('입력한 정수는 {}입니다.'.format(x))\n",
    "        print(\"100을 입력한 수로 나누면 {}입니다.\".format(100/x))\n",
    "        break\n",
    "    except ValueError: # 숫자로 발행할때 생기는 에러\n",
    "        print(\"유효한 정수가 아닙니다. 다시 시도하세요.\")"
   ]
  },
  {
   "cell_type": "markdown",
   "metadata": {},
   "source": [
    "#### 2.3. 예외별로 처리하기\n",
    "- try 블록에서 발생할수 있는 예외가 여러개 일경우 각각의 예외를 처리하도록 catch블록을 정의할 수 있다. \n",
    "- except구문의 오류 클래스는 예외 클래스 상속 관계에서 부모의 예외가 나중에 와야 함.\n",
    "- 상위 예외를 먼저 실행하면 이후의 catch블록은 실행되지 않음. \n"
   ]
  },
  {
   "cell_type": "code",
   "execution_count": null,
   "metadata": {},
   "outputs": [],
   "source": [
    "while True:\n",
    "    try:\n",
    "        x = int(input(\"정수를 입력하세요  : \"))\n",
    "        print('입력한 정수는 {}입니다.'.format(x))\n",
    "        print(\"100을 입력한 수로 나누면 {}입니다.\".format(100/x))\n",
    "        break\n",
    "    except ValueError: # 유효하지 않는 숫자로 발행할때 생기는 에러\n",
    "        print(\"유효한 정수가 아닙니다. 다시 시도하세요.\")\n",
    "    except ZeroDivisionError: # 0으로 나누지 못할때 에러\n",
    "        print(\"0으로 나눌 수 없습니다.\")"
   ]
  },
  {
   "cell_type": "markdown",
   "metadata": {},
   "source": [
    "#### 2.4. 다중 예외 처리기\n",
    "- 다른 예외지만, 메시지를 똑같이 쓰고 싶을 때 처리하는 방법\n",
    "- except(error1 , error2....)"
   ]
  },
  {
   "cell_type": "code",
   "execution_count": null,
   "metadata": {},
   "outputs": [],
   "source": [
    "while True:\n",
    "    try:\n",
    "        x = int(input(\"정수를 입력하세요  : \"))\n",
    "        print('입력한 정수는 {}입니다.'.format(x))\n",
    "        print(\"100을 입력한 수로 나누면 {}입니다.\".format(100/x))\n",
    "        break\n",
    "    except ( ValueError, ZeroDivisionError ):\n",
    "        print(\"다시 입력하시오.\")"
   ]
  },
  {
   "cell_type": "markdown",
   "metadata": {},
   "source": [
    "#### 2.5. else\n",
    "- else절은 try 절이 예외를 발생시키지 않을 때 실행해야하는 코드에 사용\n",
    "- else절은 ecept절 다음에 와야합니다.\n",
    "- else절에서 오류다면 죽어버림.\n",
    "- 사실 잘 사용하지 않음. 그냥 , try 아래에 입력하기"
   ]
  },
  {
   "cell_type": "code",
   "execution_count": null,
   "metadata": {},
   "outputs": [],
   "source": [
    "try :\n",
    "    f = open(\"abc.txt\",'r', encoding = 'utf-8-sig') \n",
    "        # 그냥 이렇게 했다가 오류 나면 프로그램이 종료 되지 않아서,\n",
    "        # 다른 곳에서 이 파일을 열지 못하게 된다. \n",
    "except FileNotFoundError :\n",
    "    print(\"파일이 없어요.\")\n",
    "else:\n",
    "    data = f.read()\n",
    "    print(data)"
   ]
  },
  {
   "cell_type": "markdown",
   "metadata": {},
   "source": [
    "#### 2.6. 예외인수\n",
    "- 예외의 인수 :  예외가 발생하면 관련 값을 가짐. \n",
    "- 인수의 유형은 예외 유형에 따라 다름\n",
    "- except절은 예외 이름 뒤에 변수를 지정할 수 있음\n",
    "- 예외 객체 변수는 args 속성을 가짐 : 예외 관련 정보들을 조회할 수 있음\n",
    "- .args 뿐만 아니라, __str__()에도 정의됨\n",
    "- 예외 발생 전 예외를 인스턴스화 하고 원하는 대로 속성을 추가 할 수 있음."
   ]
  },
  {
   "cell_type": "code",
   "execution_count": null,
   "metadata": {},
   "outputs": [],
   "source": [
    "while True:\n",
    "    try:\n",
    "        x = int(input(\"정수를 입력하세요  : \"))\n",
    "        print('입력한 정수는 {}입니다.'.format(x))\n",
    "        print(\"100을 입력한 수로 나누면 {}입니다.\".format(100/x))\n",
    "        break\n",
    "    except ValueError as e:\n",
    "        print(e.args[0])\n",
    "        print(e.__str__()) \n",
    "    except ZeroDivisionError as e:\n",
    "        print(e.args[0])\n",
    "        print(e)"
   ]
  },
  {
   "cell_type": "code",
   "execution_count": null,
   "metadata": {},
   "outputs": [],
   "source": [
    "while True:\n",
    "    try:\n",
    "        x = int(input(\"정수를 입력하세요  : \"))\n",
    "        print('입력한 정수는 {}입니다.'.format(x))\n",
    "        print(\"100을 입력한 수로 나누면 {}입니다.\".format(100/x))\n",
    "        break\n",
    "    except ( ValueError , ZeroDivisionError) as e:\n",
    "        print(e.args[0])\n",
    "        print(e.__str__()) "
   ]
  },
  {
   "cell_type": "markdown",
   "metadata": {},
   "source": [
    "### 3절 raise 로 예외 발생시키기\n",
    "\n",
    "- 강제로 예외를 발생해야 할 필요가있을 때, 사용 \n",
    "- 지정한 예외가 발생하도록 할 수 있음.\n",
    "- raise 뒤에 발생시킬 예외 객체 또는 예외 클래스여야 함. \n",
    "- raise는 예외를 직접 처리하기 위한 것이아님\n",
    "- 예외가 발생한 원인을 제공한 곳으로 예외를 알릴 수 있음. "
   ]
  },
  {
   "cell_type": "code",
   "execution_count": null,
   "metadata": {},
   "outputs": [],
   "source": [
    "# 호출자 \n",
    "def insert(data): #이것이 잘 실행 된다면, 아래  try가 실행됨. \n",
    "    if len(data) == 0 : # 오류가 발생한다면 아래에서 예외를 발생시킴. \n",
    "        raise Exception(\"길이가 0입니다.\")\n",
    "    \n",
    "    print(data, \"을(를) 입력했습니다.\", sep = \" \")"
   ]
  },
  {
   "cell_type": "code",
   "execution_count": null,
   "metadata": {},
   "outputs": [],
   "source": [
    "data = []"
   ]
  },
  {
   "cell_type": "code",
   "execution_count": null,
   "metadata": {},
   "outputs": [],
   "source": [
    "\n",
    "try :\n",
    "    insert(data)\n",
    "except Exception as e :\n",
    "    print(e)\n",
    "else :\n",
    "    print(\"정상 실행되었습니다.\")"
   ]
  },
  {
   "cell_type": "markdown",
   "metadata": {},
   "source": [
    "### 4절 raise 로 추상 클래스 정의하기\n",
    "- 추상 은 구체화와 반대의 의미\n",
    "- 어떤것이 구체화 되어있지 않고 추상적으로만 존재\n",
    "- 추상 클래스는 객체를 생성할 수 없으며 반드시 상속을 통해서만 사용\n",
    "- 추상 매서드는 구현부가 없고 함수 선언부만 존재하는 함수"
   ]
  },
  {
   "cell_type": "markdown",
   "metadata": {},
   "source": [
    "#### 4.1. 추상 클래스\n",
    "\n",
    "- raise 를 이용하면 객체를 생성하지 못하도록 함.\n",
    "- 추상 클래스는 반드시 자식 클래스를 만들어서 사용할 수 있도록 합니다.\n",
    "- 부모 클래스로만 사용할 수 있다. "
   ]
  },
  {
   "cell_type": "code",
   "execution_count": null,
   "metadata": {},
   "outputs": [],
   "source": [
    "# - Circle is a Shape\n",
    "# - Shape는 객체를 만들수 없다.\n",
    "# - Shape 객체들은 calc_area() 기능이 있다. \n",
    "\n",
    "class Shape:\n",
    "    def __init__(self):\n",
    "        raise NotImplementedError(\"객체를 만들수 없어요\")\n",
    "        \n",
    "    def calc_area(self):\n",
    "        raise NotImplementedError(\"구현되어있지 않습니다.\")"
   ]
  },
  {
   "cell_type": "code",
   "execution_count": null,
   "metadata": {},
   "outputs": [],
   "source": [
    "s1 = Shape()\n",
    "\n",
    "# NotImplementedError   : 이 것은 상속받아서, 구현해서 써라 라는 에러이다.   "
   ]
  },
  {
   "cell_type": "code",
   "execution_count": null,
   "metadata": {},
   "outputs": [],
   "source": [
    "class Circle(Shape):\n",
    "    def __init__(self, radius):\n",
    "        self.radius = radius\n",
    "        \n",
    "    def calc_area(self):\n",
    "        return self.radius * self.radius* 3.14"
   ]
  },
  {
   "cell_type": "code",
   "execution_count": null,
   "metadata": {},
   "outputs": [],
   "source": [
    "c1 = Circle(10)"
   ]
  },
  {
   "cell_type": "code",
   "execution_count": null,
   "metadata": {},
   "outputs": [],
   "source": [
    "c1.calc_area()"
   ]
  },
  {
   "cell_type": "code",
   "execution_count": null,
   "metadata": {},
   "outputs": [],
   "source": [
    "isinstance(c1, Circle), isinstance(c1, Shape)"
   ]
  },
  {
   "cell_type": "markdown",
   "metadata": {},
   "source": [
    "#### 4.2. 추상 메소드\n",
    "\n",
    "- 추상 메소드는 자식 클래스에서 메소드를 재정의 해줘야함. \n",
    "- 구체화가 불가능하거나 힘든 경우 추상 함수를 만들어 놓고 자식 클래스에서 구체화 \n",
    "- 부모 클래스에서는 raise를 이용하여 강제로 예외를 발생시킴. \n",
    "- 추상 메소드를 설계도라고 생각하자. \n",
    "- 재정의를 해줄때는 이름 똑같이 해줘야한다. "
   ]
  },
  {
   "cell_type": "code",
   "execution_count": null,
   "metadata": {},
   "outputs": [],
   "source": [
    "class Shape:\n",
    "    def __init__(self):\n",
    "        raise NotImplementedError(\"객체를 만들수 없어요\")\n",
    "        \n",
    "    def calc_area(self):\n",
    "        raise NotImplementedError(\"구현되어있지 않습니다.\")"
   ]
  },
  {
   "cell_type": "code",
   "execution_count": null,
   "metadata": {},
   "outputs": [],
   "source": [
    "class Circle(Shape):\n",
    "    def __init__(self, radius):\n",
    "        self.radius = radius\n",
    "        \n",
    "    def calc_area(self):\n",
    "        return self.radius * self.radius* 3.14"
   ]
  },
  {
   "cell_type": "code",
   "execution_count": null,
   "metadata": {},
   "outputs": [],
   "source": [
    "myCircle = Circle(4.5)\n",
    "myCircle.calc_area()"
   ]
  },
  {
   "cell_type": "markdown",
   "metadata": {},
   "source": [
    "### 5절. 사용자 정의 예외\n",
    "- 새로운 예외 클래스를 생성하여 자신의 예외를 명명할 수 있음.\n",
    "- exception 클래스 또는 그 하위 클래스를 상속받아 구현\n",
    "- 오류에 대한 정보를 추출할 수 있는 몇가지 특성만 제공하도록 구현"
   ]
  },
  {
   "cell_type": "markdown",
   "metadata": {},
   "source": [
    "#### 5.1. 상속을 이용한 사용자 정의 예외"
   ]
  },
  {
   "cell_type": "code",
   "execution_count": null,
   "metadata": {},
   "outputs": [],
   "source": [
    "class Error(Exception):\n",
    "    \"\"\"이 모듈에서 사용하는 기본 예외입니다. \"\"\"\n",
    "    pass"
   ]
  },
  {
   "cell_type": "code",
   "execution_count": null,
   "metadata": {},
   "outputs": [],
   "source": [
    "class InputError(Error):\n",
    "    \"\"\"입력오류를 정의하는 예외입니다.\n",
    "    \n",
    "    속성:\n",
    "        expression -- 예외가 발생하는 입력 표현식\n",
    "        message -- 오류 설명\n",
    "        \n",
    "    \"\"\"\n",
    "\n",
    "    def __init__(self, expression, message):\n",
    "        self.expression = expression\n",
    "        self.message = message"
   ]
  },
  {
   "cell_type": "markdown",
   "metadata": {},
   "source": [
    "#### 5.2. 사용자 정의 예외 클래스 만들고 사용하기\n",
    "- 생성자가 인자를 갖게 할지 여부를 선택할 수 있음. \n",
    "- 상속받는 예외 클래스의 생성자를 호출할때, 예외 메시지 전달해야함."
   ]
  },
  {
   "cell_type": "code",
   "execution_count": null,
   "metadata": {},
   "outputs": [],
   "source": [
    "class ZeroLengthError(Exception):\n",
    "    \"\"\"길이가 0일때 발생하는 예외\"\"\"\n",
    "    def __init__(self):\n",
    "        Exception.__init__(self, \"사용자 정의 예외 : 길이 0\")"
   ]
  },
  {
   "cell_type": "code",
   "execution_count": null,
   "metadata": {},
   "outputs": [],
   "source": [
    "def insert(data):\n",
    "    if len(data) == 0:\n",
    "        raise ZeroLengthError\n",
    "        \n",
    "    print(data, \"을(를) 입력했습니다.\",sep = \"\")\n"
   ]
  },
  {
   "cell_type": "code",
   "execution_count": null,
   "metadata": {
    "scrolled": true
   },
   "outputs": [],
   "source": [
    "data = []\n",
    "try:\n",
    "    insert(data)\n",
    "except ZeroLengthError as e:\n",
    "    print(e)\n",
    "else:\n",
    "    print(\"정상 실행됨\")"
   ]
  },
  {
   "cell_type": "markdown",
   "metadata": {},
   "source": [
    "### 6절. 정리 작업"
   ]
  },
  {
   "cell_type": "markdown",
   "metadata": {},
   "source": [
    "#### 6.1. 정의\n",
    "\n",
    "- 파일을 닫는 것처럼 항상 실행되어야하는 작업."
   ]
  },
  {
   "cell_type": "code",
   "execution_count": null,
   "metadata": {},
   "outputs": [],
   "source": [
    "try :\n",
    "    f = open(\"abc.txt\",'r', encoding = 'utf-8-sig') \n",
    "        # 파일이 열린후 실행되어야 하는 코드\n",
    "except FileNotFoundError as e:\n",
    "    print(e)\n",
    "else:\n",
    "    # 파일을 읽기전에 실행해야하는 코드\n",
    "    data = f.read()\n",
    "    print(data)"
   ]
  },
  {
   "cell_type": "markdown",
   "metadata": {},
   "source": [
    "#### 6.2. 항상 실행되는 예외처리의 finally\n",
    "- 예외와 관련된 정리"
   ]
  },
  {
   "cell_type": "code",
   "execution_count": null,
   "metadata": {},
   "outputs": [],
   "source": [
    "try :\n",
    "    f = open(\"abc.txt\",'r', encoding = 'utf-8-sig') \n",
    "        # 그냥 이렇게 했다가 오류 나면 프로그램이 종료 되지 않아서,\n",
    "        # 다른 곳에서 이 파일을 열지 못하게 된다. \n",
    "except FileNotFoundError as e:\n",
    "    print(e)\n",
    "else:\n",
    "    data = f.read()\n",
    "    print(data)\n",
    "finally : # 예외 발생 상관없이 무조건 실행되게 된다. \n",
    "    print(\"항상 실행됩니다. \")\n",
    "    f.close()"
   ]
  },
  {
   "cell_type": "markdown",
   "metadata": {},
   "source": [
    "#### 6.3. 사전 정의된 정리 작업을 위한 with\n",
    "- 일부 개체는 개체를 사용한 작업이 성공/ 실패 여부의 관계없이 개체가 더이상 필요하지 않을 댸 수행할 표준 정리 작업을 정의함. "
   ]
  },
  {
   "cell_type": "code",
   "execution_count": null,
   "metadata": {},
   "outputs": [],
   "source": [
    "for line in open(\"abc.txt\",'r', encoding = 'utf-8-sig') :\n",
    "    print(line)"
   ]
  },
  {
   "cell_type": "markdown",
   "metadata": {},
   "source": [
    "- 위의 코드를 사용하면, "
   ]
  },
  {
   "cell_type": "code",
   "execution_count": null,
   "metadata": {},
   "outputs": [],
   "source": [
    "# 따로 close를 않아도  with 안에 있는 것을 다 쓰면 자동으로 끝남\n",
    "\n",
    "with open(\"abc.txt\",'r', encoding = 'utf-8-sig') as f:\n",
    "    for line in f:\n",
    "        print(line , end='')"
   ]
  },
  {
   "cell_type": "markdown",
   "metadata": {},
   "source": [
    "### 7절. 연습문제\n",
    "#### 7.1 실습형 "
   ]
  },
  {
   "cell_type": "code",
   "execution_count": null,
   "metadata": {},
   "outputs": [],
   "source": [
    "# 1.\n",
    "\n",
    "while True:\n",
    "    try:\n",
    "        a = float(input(\"첫번째 숫자를 입력하세요 : \"))\n",
    "        b = float(input(\"두번째 숫자를 입력하세요 : \"))\n",
    "        print(\"입력한 수는 {0}와 {1}입니다.\".format(a,b))\n",
    "        print(\"{}를{}로 나누면{}입니다.\".format(a,b,a/b))\n",
    "        break\n",
    "    except Exception as e:\n",
    "        print(\"유효한 숫자가 아닙니다. 다시 시도하세요\")\n"
   ]
  },
  {
   "cell_type": "code",
   "execution_count": null,
   "metadata": {},
   "outputs": [],
   "source": [
    "#2\n",
    "\n",
    "\n",
    "while True:\n",
    "    try:\n",
    "        a = float(input(\"첫번째 숫자를 입력하세요 : \"))\n",
    "        b = float(input(\"두번째 숫자를 입력하세요 : \"))\n",
    "        print(\"입력한 수는 {0}와 {1}입니다.\".format(a,b))\n",
    "        print(\"{}를{}로 나누면{}입니다.\".format(a,b,a/b))\n",
    "        break\n",
    "    except ValueError as e:\n",
    "        print(\"유효한 숫자가 아닙니다. 다시 시도하세요\")\n",
    "    except ZeroDivisionError as e:\n",
    "        print(\"0으로 나눌 수 없습니다. 다시 시도하세요\")"
   ]
  },
  {
   "cell_type": "markdown",
   "metadata": {},
   "source": [
    "## 기타 연습문제\n",
    "\n",
    "#### 고객관리 프로그램\n",
    "- 고객의 정보를 저장할 클래스를 만들어야 합니다.\n",
    "- 고객의 정보는 이름, 전화번호, 주소입니다.\n",
    "- 고객의 정보를 입력받아 고객 클래스에 저장한 후 리스트를 이용해 관리해야합니다."
   ]
  },
  {
   "cell_type": "code",
   "execution_count": 21,
   "metadata": {},
   "outputs": [],
   "source": [
    "class Customer:\n",
    "    def __init__(self, name, phone, address):\n",
    "        self.name = name\n",
    "        self.phone = phone\n",
    "        self.address = address\n",
    "        \n",
    "        \n",
    "    def __str__(self):\n",
    "        return f\"name:{self.name} , phone : {self.phone} , address:{self.address}\"\n",
    "    \n",
    "    \n",
    "    def to_dict(self):\n",
    "        return {\"name\":self.name, \"phone\" : self.phone,\"address\":self.address}\n",
    "      # dict 를 입력해서 나중에 데이터를 json이나 csv파일로 만들때 유용함"
   ]
  },
  {
   "cell_type": "code",
   "execution_count": null,
   "metadata": {},
   "outputs": [],
   "source": [
    "cust = Customer(\"홍\",\"010\",\"서울\")\n",
    "print(cust)"
   ]
  },
  {
   "cell_type": "code",
   "execution_count": 22,
   "metadata": {},
   "outputs": [
    {
     "name": "stdout",
     "output_type": "stream",
     "text": [
      "메뉴를 입력하세요. 1:입력 , 2: 리스트 조회, 0:종료1\n",
      "정보를 입력합니다. \n",
      "이름 : ㅁ\n",
      "전화번호 : ㅁ\n",
      "주소 : ㅁ\n",
      "메뉴를 입력하세요. 1:입력 , 2: 리스트 조회, 0:종료1\n",
      "정보를 입력합니다. \n",
      "이름 : ㅠ\n",
      "전화번호 : ㅠ\n",
      "주소 : ㅠ\n",
      "메뉴를 입력하세요. 1:입력 , 2: 리스트 조회, 0:종료0\n"
     ]
    }
   ],
   "source": [
    "cust_list = []\n",
    "while True:\n",
    "    menu = int(input(\"메뉴를 입력하세요. 1:입력 , 2: 리스트 조회, 0:종료\"))\n",
    "    \n",
    "    if menu == 1 :\n",
    "        print(\"정보를 입력합니다. \")\n",
    "        name = input(\"이름 : \")\n",
    "        phone = input(\"전화번호 : \")\n",
    "        address = input(\"주소 : \")\n",
    "        cust = Customer(name, phone, address)  # 클래스 이용한 것.\n",
    "        cust_list.append(cust)\n",
    "        \n",
    "    elif menu == 2 :\n",
    "        print(\"정보를 조회합니다. \")\n",
    "        for cust in cust_list:\n",
    "            print(cust)        \n",
    "        \n",
    "    elif menu == 0 :\n",
    "        break\n",
    "    else :\n",
    "        print(\"메뉴를 잘못 입력했습니다. 다시 입력해주세요.\")"
   ]
  },
  {
   "cell_type": "code",
   "execution_count": 23,
   "metadata": {},
   "outputs": [
    {
     "name": "stdout",
     "output_type": "stream",
     "text": [
      "name:ㅁ , phone : ㅁ , address:ㅁ\n",
      "name:ㅁ , phone : ㅁ , address:ㅁ\n",
      "name:ㅠ , phone : ㅠ , address:ㅠ\n"
     ]
    }
   ],
   "source": [
    "print(cust_list[0])\n",
    "for cust in cust_list:\n",
    "    print(cust)"
   ]
  },
  {
   "cell_type": "code",
   "execution_count": 34,
   "metadata": {},
   "outputs": [
    {
     "name": "stdout",
     "output_type": "stream",
     "text": [
      "ㅁ\n",
      "ㅠ\n"
     ]
    }
   ],
   "source": [
    "for i, cust in enumerate (cust_list):\n",
    "    print(cust_list[i].phone) # 아마 클래스라서, .phone 로 해서 찾는것같음. "
   ]
  },
  {
   "cell_type": "code",
   "execution_count": 29,
   "metadata": {},
   "outputs": [
    {
     "data": {
      "text/plain": [
       "1"
      ]
     },
     "execution_count": 29,
     "metadata": {},
     "output_type": "execute_result"
    }
   ],
   "source": []
  },
  {
   "cell_type": "markdown",
   "metadata": {},
   "source": [
    "## 연습문제 \n",
    "\n",
    "#### 명함관리 프로그램\n",
    "\n",
    "- 고객관리 프로그램과 다르다.\n",
    "    - 정보를 저장할 클래스가 다르고, 객체의 데이터가 다르다.\n",
    "    - 관리 프로그램 CRUD ( Create(데이터입력), Read(조회), Update(수정), Delete(삭제)\n",
    "    - 명함 관리 프로그램의 주요 객체는 명함\n",
    "    - 명함에 저장할 데이터는 이름, 전화번호, 이메일, 회사명\n",
    "    - 메뉴 : 입력(1), 수정(2), 조회(3), 삭제(4), 종료(0) # 문자도 가능 "
   ]
  },
  {
   "cell_type": "code",
   "execution_count": 1,
   "metadata": {},
   "outputs": [],
   "source": [
    "class NameCard:\n",
    "    def __init__(self,name,phone,email,office):\n",
    "        self.name = name\n",
    "        self.phone = phone\n",
    "        self.email = email\n",
    "        self.office = office\n",
    "    \n",
    "    def __str__(self):\n",
    "        return \"name: {}, phone: {}, email: {}, phone: {}\".format(self.name, self.email, self.phone,self.office)"
   ]
  },
  {
   "cell_type": "code",
   "execution_count": 2,
   "metadata": {},
   "outputs": [
    {
     "name": "stdout",
     "output_type": "stream",
     "text": [
      "name: 홍길동, phone: hon@djof, email: 010, phone: 서울시\n"
     ]
    }
   ],
   "source": [
    "card = NameCard(\"홍길동\",\"010\",\"hon@djof\",\"서울시\")\n",
    "print(card)"
   ]
  },
  {
   "cell_type": "code",
   "execution_count": 3,
   "metadata": {},
   "outputs": [],
   "source": [
    "def get_menu():\n",
    "    while True :\n",
    "        try:\n",
    "            menu = int(input(\"메뉴 :\"))\n",
    "            return menu # break안해도 return 하면 while문이 빠져나간다.\n",
    "        except:\n",
    "            print(\"메뉴를 잘 못 입력했습니다. 다시 입력하세요.\")"
   ]
  },
  {
   "cell_type": "code",
   "execution_count": 5,
   "metadata": {},
   "outputs": [],
   "source": [
    "def get_namecard_info():\n",
    "    name = input(\"이름 : \")\n",
    "    phone = input(\"전화번호 : \")\n",
    "    email = input(\"이메일 : \")\n",
    "    office = input(\"회사명 : \")\n",
    "    card = NameCard(name, phone, email, office)\n",
    "    return card     "
   ]
  },
  {
   "cell_type": "code",
   "execution_count": 35,
   "metadata": {},
   "outputs": [],
   "source": [
    "def find_namecard(namecard_list, phone):\n",
    "    for i, card in enumerate(namecard_list):\n",
    "        if phone == card.phone:\n",
    "                       # 클래스라서, .phone 로 해서 찾는것같음. \n",
    "            return i  # 반환하는 것은 인덱스 \n",
    "#         else : \n",
    "#             pass  -- 안넣어도 됨. \n",
    "    return -1  # 반복문이 다 돌때까지 못찾으면, 이렇게 함"
   ]
  },
  {
   "cell_type": "code",
   "execution_count": 20,
   "metadata": {},
   "outputs": [
    {
     "name": "stdout",
     "output_type": "stream",
     "text": [
      "==============================================================\n",
      "********************* 명함관리 프로그램 **********************\n",
      "==============================================================\n",
      " 1:입력, 2:수정, 3:조회, 4:삭제, 0:종료 \n",
      "메뉴 :1\n",
      "이름 : a\n",
      "전화번호 : a\n",
      "이메일 : a\n",
      "회사명 : a\n",
      " 1:입력, 2:수정, 3:조회, 4:삭제, 0:종료 \n",
      "메뉴 :1\n",
      "이름 : b\n",
      "전화번호 : b\n",
      "이메일 : b\n",
      "회사명 : b\n",
      " 1:입력, 2:수정, 3:조회, 4:삭제, 0:종료 \n",
      "메뉴 :4\n",
      "삭제할 명함의 전화번호  : b\n",
      " 1:입력, 2:수정, 3:조회, 4:삭제, 0:종료 \n",
      "메뉴 :5\n",
      "name: a, phone: a, email: a, phone: a\n",
      " 1:입력, 2:수정, 3:조회, 4:삭제, 0:종료 \n",
      "메뉴 :0\n"
     ]
    }
   ],
   "source": [
    "print(\"==============================================================\")\n",
    "print(\"********************* 명함관리 프로그램 **********************\")\n",
    "print(\"==============================================================\")\n",
    "\n",
    "namecard_list = [] # 전역변수  - 함수안에서 직접 쓰려면, 직접쓰던가, global을 쓰던지...\n",
    "\n",
    "while True:\n",
    "    print(\" 1:입력, 2:수정, 3:조회, 4:삭제, 0:종료 \")\n",
    "    menu = get_menu()\n",
    "    if menu == 1 :\n",
    "        new_card = get_namecard_info()\n",
    "        namecard_list.append(new_card)\n",
    "        \n",
    "    elif menu == 2 :\n",
    "        find_phone = input(\"수정할 명함의 전화번호  : \")\n",
    "        index = find_namecard(namecard_list, find_phone)\n",
    "        if index >= 0 :\n",
    "            update_card = get_namecard_info()\n",
    "            namecard_list[index] = update_card\n",
    "        else : \n",
    "            print(\"수정할 데이터를 찾지 못했습니다. \")\n",
    "            \n",
    "    elif  menu == 3 :\n",
    "        find_phone = input(\"찾을 명함의 전화번호  : \")\n",
    "        index = find_namecard(namecard_list, find_phone)\n",
    "        if index>= 0:\n",
    "            print(namecard_list[index])\n",
    "        else : \n",
    "            print(\"데이터를 찾지 못했습니다. \")\n",
    "            \n",
    "    elif  menu == 4 : \n",
    "        find_phone = input(\"삭제할 명함의 전화번호  : \")\n",
    "        index = find_namecard(namecard_list, find_phone)\n",
    "        if index >= 0 :\n",
    "            #del namecard_list[index]\n",
    "            namecard_list.pop(index)  # 둘다가능 \n",
    "        else : \n",
    "            print(\"삭제할 데이터를 찾지 못했습니다. \")        \n",
    "            \n",
    "    elif menu == 5:\n",
    "        for card in namecard_list:\n",
    "            print(card)\n",
    "    elif menu == 0 :\n",
    "        break"
   ]
  },
  {
   "cell_type": "code",
   "execution_count": null,
   "metadata": {},
   "outputs": [],
   "source": []
  },
  {
   "cell_type": "code",
   "execution_count": null,
   "metadata": {},
   "outputs": [],
   "source": []
  }
 ],
 "metadata": {
  "kernelspec": {
   "display_name": "Python 3",
   "language": "python",
   "name": "python3"
  },
  "language_info": {
   "codemirror_mode": {
    "name": "ipython",
    "version": 3
   },
   "file_extension": ".py",
   "mimetype": "text/x-python",
   "name": "python",
   "nbconvert_exporter": "python",
   "pygments_lexer": "ipython3",
   "version": "3.7.6"
  }
 },
 "nbformat": 4,
 "nbformat_minor": 4
}

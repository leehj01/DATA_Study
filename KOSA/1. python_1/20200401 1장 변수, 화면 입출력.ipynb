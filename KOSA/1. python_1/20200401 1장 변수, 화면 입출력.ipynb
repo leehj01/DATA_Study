{
 "cells": [
  {
   "cell_type": "markdown",
   "metadata": {},
   "source": [
    "### 20200401 1일차 \n",
    "\n",
    "- 아나콘다 설치\n",
    "- 주피터 노트북에서 코드 작성 및 실행\n",
    "- 변수 정의\n",
    "- 화면 입출력\n",
    "- 파이썬 자료형"
   ]
  },
  {
   "cell_type": "code",
   "execution_count": 1,
   "metadata": {},
   "outputs": [
    {
     "name": "stdout",
     "output_type": "stream",
     "text": [
      "hello world\n"
     ]
    }
   ],
   "source": [
    "print(\"hello world\")"
   ]
  },
  {
   "cell_type": "markdown",
   "metadata": {},
   "source": [
    "esc + y : 코드 입력\n",
    "esc + m : 주석 입력"
   ]
  },
  {
   "cell_type": "code",
   "execution_count": 7,
   "metadata": {},
   "outputs": [],
   "source": [
    "a = 10 "
   ]
  },
  {
   "cell_type": "code",
   "execution_count": 5,
   "metadata": {},
   "outputs": [],
   "source": [
    "del a  # 변수를 지우는 것을 의미함 . kernel을 하지 않아도 됨. "
   ]
  },
  {
   "cell_type": "code",
   "execution_count": 10,
   "metadata": {},
   "outputs": [
    {
     "name": "stdout",
     "output_type": "stream",
     "text": [
      "10\n"
     ]
    }
   ],
   "source": [
    "print(a)"
   ]
  },
  {
   "cell_type": "markdown",
   "metadata": {},
   "source": [
    "ctrl + /   : 주석을 달수 있다."
   ]
  },
  {
   "cell_type": "markdown",
   "metadata": {},
   "source": [
    "### 설명서 제목\n",
    "* 목록표시\n",
    "    * 들여쓴 목록"
   ]
  },
  {
   "cell_type": "code",
   "execution_count": 11,
   "metadata": {},
   "outputs": [
    {
     "data": {
      "text/plain": [
       "10"
      ]
     },
     "execution_count": 11,
     "metadata": {},
     "output_type": "execute_result"
    }
   ],
   "source": [
    "a"
   ]
  },
  {
   "cell_type": "code",
   "execution_count": 14,
   "metadata": {},
   "outputs": [
    {
     "data": {
      "text/plain": [
       "8791454163632"
      ]
     },
     "execution_count": 14,
     "metadata": {},
     "output_type": "execute_result"
    }
   ],
   "source": [
    "id(a) # 함수 : 특정기능을 위해서 만들어 진것으로, () 가 있는 것을 의미한다. ex, print, id \n",
    "\n",
    "# id 는 주소를 나타내는 함수이다. 값이 있는 공간을 말하는 것. "
   ]
  },
  {
   "cell_type": "code",
   "execution_count": 15,
   "metadata": {},
   "outputs": [
    {
     "data": {
      "text/plain": [
       "<function print>"
      ]
     },
     "execution_count": 15,
     "metadata": {},
     "output_type": "execute_result"
    }
   ],
   "source": [
    "print"
   ]
  },
  {
   "cell_type": "code",
   "execution_count": 16,
   "metadata": {},
   "outputs": [
    {
     "data": {
      "text/plain": [
       "5644600"
      ]
     },
     "execution_count": 16,
     "metadata": {},
     "output_type": "execute_result"
    }
   ],
   "source": [
    "id(print)"
   ]
  },
  {
   "cell_type": "code",
   "execution_count": 17,
   "metadata": {},
   "outputs": [],
   "source": [
    "a = 10\n",
    "b = 20"
   ]
  },
  {
   "cell_type": "code",
   "execution_count": 19,
   "metadata": {},
   "outputs": [],
   "source": [
    "a, b = 10, 20 # 위 아래 둘다 가능하다. 이렇게 한번에 쓰는 경우 순차적으로 발생하는 것이아니라, 한번에 실행되는 것이다.  "
   ]
  },
  {
   "cell_type": "code",
   "execution_count": 20,
   "metadata": {},
   "outputs": [],
   "source": [
    "c = 30, 40"
   ]
  },
  {
   "cell_type": "code",
   "execution_count": 21,
   "metadata": {},
   "outputs": [
    {
     "data": {
      "text/plain": [
       "(30, 40)"
      ]
     },
     "execution_count": 21,
     "metadata": {},
     "output_type": "execute_result"
    }
   ],
   "source": [
    "c"
   ]
  },
  {
   "cell_type": "code",
   "execution_count": 22,
   "metadata": {},
   "outputs": [],
   "source": [
    "# -*- coding :utf-8 -*-\n",
    "\n",
    "# utf-8문자로 인코딩하겠다는 의미.  한글을 저장할 경우, 하는것. \n",
    "# 파이썬은 기본적으로 utf8로 되어있다."
   ]
  },
  {
   "cell_type": "code",
   "execution_count": 24,
   "metadata": {},
   "outputs": [
    {
     "name": "stdout",
     "output_type": "stream",
     "text": [
      "Help on built-in function print in module builtins:\n",
      "\n",
      "print(...)\n",
      "    print(value, ..., sep=' ', end='\\n', file=sys.stdout, flush=False)\n",
      "    \n",
      "    Prints the values to a stream, or to sys.stdout by default.\n",
      "    Optional keyword arguments:\n",
      "    file:  a file-like object (stream); defaults to the current sys.stdout.\n",
      "    sep:   string inserted between values, default a space.\n",
      "    end:   string appended after the last value, default a newline.\n",
      "    flush: whether to forcibly flush the stream.\n",
      "\n"
     ]
    }
   ],
   "source": [
    "help(print)  # 설명이 나옴. shift + tab 을 누르면 설명이 나옴. "
   ]
  },
  {
   "cell_type": "code",
   "execution_count": null,
   "metadata": {},
   "outputs": [],
   "source": [
    "print()"
   ]
  },
  {
   "cell_type": "code",
   "execution_count": 26,
   "metadata": {},
   "outputs": [
    {
     "name": "stdout",
     "output_type": "stream",
     "text": [
      "aa\n"
     ]
    },
    {
     "data": {
      "text/plain": [
       "'aa'"
      ]
     },
     "execution_count": 26,
     "metadata": {},
     "output_type": "execute_result"
    }
   ],
   "source": [
    "data = input()  # 사용자로부터 값을 입력 받기 위한 함수, 입력 받는 값은 항상 문자열임. \n",
    "data"
   ]
  },
  {
   "cell_type": "code",
   "execution_count": 27,
   "metadata": {},
   "outputs": [
    {
     "data": {
      "text/plain": [
       "'aa'"
      ]
     },
     "execution_count": 27,
     "metadata": {},
     "output_type": "execute_result"
    }
   ],
   "source": [
    "data"
   ]
  },
  {
   "cell_type": "code",
   "execution_count": 29,
   "metadata": {},
   "outputs": [
    {
     "name": "stdout",
     "output_type": "stream",
     "text": [
      "숫자를 입력하세요  :  30\n"
     ]
    }
   ],
   "source": [
    "a = input(\"숫자를 입력하세요  :  \")"
   ]
  },
  {
   "cell_type": "code",
   "execution_count": 31,
   "metadata": {},
   "outputs": [
    {
     "name": "stdout",
     "output_type": "stream",
     "text": [
      "숫자를 입력하세요  :  20\n"
     ]
    }
   ],
   "source": [
    "b = input(\"숫자를 입력하세요  :  \")"
   ]
  },
  {
   "cell_type": "code",
   "execution_count": 33,
   "metadata": {},
   "outputs": [
    {
     "data": {
      "text/plain": [
       "'3020'"
      ]
     },
     "execution_count": 33,
     "metadata": {},
     "output_type": "execute_result"
    }
   ],
   "source": [
    "a + b  # input 으로 넣으면 문자기 때문에 이렇게 이어지게 됨."
   ]
  },
  {
   "cell_type": "code",
   "execution_count": 35,
   "metadata": {},
   "outputs": [
    {
     "data": {
      "text/plain": [
       "50"
      ]
     },
     "execution_count": 35,
     "metadata": {},
     "output_type": "execute_result"
    }
   ],
   "source": [
    "int(a)  + int(b)  # int() 하면 숫자로 만들어줌. "
   ]
  },
  {
   "cell_type": "code",
   "execution_count": 38,
   "metadata": {},
   "outputs": [
    {
     "name": "stdout",
     "output_type": "stream",
     "text": [
      "첫 번째 숫자30\n",
      "두 번째 숫자40\n"
     ]
    }
   ],
   "source": [
    "a1 = int(input(\"첫 번째 숫자\"))\n",
    "a2 = int(input(\"두 번째 숫자\"))"
   ]
  },
  {
   "cell_type": "code",
   "execution_count": 39,
   "metadata": {},
   "outputs": [
    {
     "data": {
      "text/plain": [
       "70"
      ]
     },
     "execution_count": 39,
     "metadata": {},
     "output_type": "execute_result"
    }
   ],
   "source": [
    "a1 + a2 "
   ]
  },
  {
   "cell_type": "code",
   "execution_count": 44,
   "metadata": {},
   "outputs": [
    {
     "name": "stdout",
     "output_type": "stream",
     "text": [
      "HELLO-WORLD-30-20-30-40\n"
     ]
    }
   ],
   "source": [
    "print(\"HELLO\", \"WORLD\", a, b, a1,a2, sep='-')\n",
    "\n",
    "# () 안에 있는 것들을  인수(argument) 라고 함. 이름이 없는 것은 '순서 인자'라고 불린다. \n",
    "# sep : 공백을 - 로 대체함. 이런식으로 이름이 있는 인수를 keyword argument라고 함. \n",
    "# 이렇게 이름이 있는 애들은 이름이 없는 애들보다 뒤에 나와야함. 순서에 상관없이 됨. "
   ]
  },
  {
   "cell_type": "code",
   "execution_count": 48,
   "metadata": {},
   "outputs": [
    {
     "name": "stdout",
     "output_type": "stream",
     "text": [
      "HELLO+WORLD+30 20+30 40+"
     ]
    }
   ],
   "source": [
    "print(\"HELLO\", end='+')\n",
    "print( \"WORLD\", end='+')\n",
    "print(a, b,  end='+')\n",
    "print( a1,a2, end='+')"
   ]
  },
  {
   "cell_type": "code",
   "execution_count": 50,
   "metadata": {},
   "outputs": [
    {
     "name": "stdout",
     "output_type": "stream",
     "text": [
      "HELLO\n",
      "WORLD\n",
      "30 20\n",
      "30 40\n"
     ]
    }
   ],
   "source": [
    "print(\"HELLO\")\n",
    "print( \"WORLD\")\n",
    "print(a, b)\n",
    "print( a1,a2)\n",
    "\n",
    "# end 의 기본값은 \\n 이다. "
   ]
  },
  {
   "cell_type": "markdown",
   "metadata": {},
   "source": [
    "### 03. 기본 자료형\n",
    "\n",
    "* 숫자 : 정수, 실수 (부동소수점) , 허수  - 파이썬3은 연산 중에, type 이 바뀐다. \n",
    "* 문자 : 문자와 문자열 구분 없음 , '' / \"\" 로 구분\n",
    "* 논리 : True , False \n",
    "\n",
    "* data type , 자료형\n"
   ]
  },
  {
   "cell_type": "code",
   "execution_count": 54,
   "metadata": {},
   "outputs": [
    {
     "name": "stdout",
     "output_type": "stream",
     "text": [
      "<class 'int'>\n",
      "<class 'float'>\n"
     ]
    }
   ],
   "source": [
    "a = 10 \n",
    "print(type(a))  # 타입을 알 수 있음. int : 정수\n",
    "print(type(3.5)) # float : 실수 "
   ]
  },
  {
   "cell_type": "code",
   "execution_count": 56,
   "metadata": {},
   "outputs": [
    {
     "data": {
      "text/plain": [
       "123.4567"
      ]
     },
     "execution_count": 56,
     "metadata": {},
     "output_type": "execute_result"
    }
   ],
   "source": [
    "123.4567\n",
    "12.4567 * 10\n",
    "0.1234567 * 10**3  # 부호 , 가수, 및 , 지수 "
   ]
  },
  {
   "cell_type": "code",
   "execution_count": 57,
   "metadata": {},
   "outputs": [
    {
     "data": {
      "text/plain": [
       "(3+2j)"
      ]
     },
     "execution_count": 57,
     "metadata": {},
     "output_type": "execute_result"
    }
   ],
   "source": [
    "3 + 2j # 복소수는 원래 수학은 i 로 표현되지만, 파이썬에서는 i가 안되고 j로 표시됨. "
   ]
  },
  {
   "cell_type": "code",
   "execution_count": 59,
   "metadata": {},
   "outputs": [
    {
     "data": {
      "text/plain": [
       "complex"
      ]
     },
     "execution_count": 59,
     "metadata": {},
     "output_type": "execute_result"
    }
   ],
   "source": [
    "type(3 + 2j) #complex 는 복소수라는 의미. "
   ]
  },
  {
   "cell_type": "code",
   "execution_count": 66,
   "metadata": {},
   "outputs": [],
   "source": [
    "# 여러줄을 하고 싶을 때 \n",
    "\n",
    "data = \"\"\"hello word 2323\n",
    "23\n",
    "23\n",
    "3\n",
    "\"\"\""
   ]
  },
  {
   "cell_type": "code",
   "execution_count": 67,
   "metadata": {},
   "outputs": [
    {
     "name": "stdout",
     "output_type": "stream",
     "text": [
      "hello word 2323\n",
      "23\n",
      "23\n",
      "3\n",
      "\n"
     ]
    }
   ],
   "source": [
    "print(data)"
   ]
  },
  {
   "cell_type": "code",
   "execution_count": 62,
   "metadata": {},
   "outputs": [
    {
     "data": {
      "text/plain": [
       "'hello word 2323 23233'"
      ]
     },
     "execution_count": 62,
     "metadata": {},
     "output_type": "execute_result"
    }
   ],
   "source": [
    "# 여러줄을 하고 싶을 때 \n",
    "\n",
    "\"hello word 2323 \\\n",
    "23\\\n",
    "23\\\n",
    "3\\\n",
    "\""
   ]
  },
  {
   "cell_type": "code",
   "execution_count": 70,
   "metadata": {},
   "outputs": [
    {
     "name": "stdout",
     "output_type": "stream",
     "text": [
      "hello\n",
      "word\n"
     ]
    }
   ],
   "source": [
    "print(\"hello\\nword\")\n",
    "\n",
    "#역슬러시(\\)를 사용하는 것은 escape charater\n",
    "#\\n \\t : 탭  \\r : 리턴 \\0 : 널null \\\\  : \\ 문자 표시 \\' : ' 표시 \\\" : \"표시"
   ]
  },
  {
   "cell_type": "code",
   "execution_count": 73,
   "metadata": {},
   "outputs": [
    {
     "name": "stdout",
     "output_type": "stream",
     "text": [
      "hello \r",
      " word\n"
     ]
    }
   ],
   "source": [
    "print(\"hello \\r word\")"
   ]
  },
  {
   "cell_type": "code",
   "execution_count": 74,
   "metadata": {},
   "outputs": [
    {
     "name": "stdout",
     "output_type": "stream",
     "text": [
      "hello \u0000 word\n"
     ]
    }
   ],
   "source": [
    "print(\"hello \\0 word\")"
   ]
  },
  {
   "cell_type": "code",
   "execution_count": 75,
   "metadata": {},
   "outputs": [
    {
     "data": {
      "text/plain": [
       "'hellohellohellohellohellohellohellohellohellohello'"
      ]
     },
     "execution_count": 75,
     "metadata": {},
     "output_type": "execute_result"
    }
   ],
   "source": [
    "\"hello\"*10"
   ]
  },
  {
   "cell_type": "code",
   "execution_count": 76,
   "metadata": {},
   "outputs": [],
   "source": [
    "data ='adfjklyrhrhe'"
   ]
  },
  {
   "cell_type": "code",
   "execution_count": 77,
   "metadata": {},
   "outputs": [
    {
     "data": {
      "text/plain": [
       "'a'"
      ]
     },
     "execution_count": 77,
     "metadata": {},
     "output_type": "execute_result"
    }
   ],
   "source": [
    "data[0]"
   ]
  },
  {
   "cell_type": "markdown",
   "metadata": {},
   "source": [
    "* 인덱스 슬라이싱 [ start : stop ]  / [ start : stop : step ] 세번째는 얼마씩 뽑아주느냐를 결정\n",
    "    - 음수는 마지막 부터 뽑아냄\n",
    "    - [::-1] : 시작과 끝이 바뀌게 됨\n",
    "    - [:-1] : 맨마지막 빼고 다 뽑아주세요"
   ]
  },
  {
   "cell_type": "code",
   "execution_count": 78,
   "metadata": {},
   "outputs": [
    {
     "name": "stdout",
     "output_type": "stream",
     "text": [
      "\\n \\\\ \\t\n"
     ]
    }
   ],
   "source": [
    "print(r\"\\n \\\\ \\t\")\n",
    "\n",
    "# 이런식으로 r 을 맨 앞에 붙여주면 그대로 출력된다."
   ]
  },
  {
   "cell_type": "code",
   "execution_count": null,
   "metadata": {},
   "outputs": [],
   "source": []
  },
  {
   "cell_type": "code",
   "execution_count": null,
   "metadata": {},
   "outputs": [],
   "source": []
  }
 ],
 "metadata": {
  "kernelspec": {
   "display_name": "Python 3",
   "language": "python",
   "name": "python3"
  },
  "language_info": {
   "codemirror_mode": {
    "name": "ipython",
    "version": 3
   },
   "file_extension": ".py",
   "mimetype": "text/x-python",
   "name": "python",
   "nbconvert_exporter": "python",
   "pygments_lexer": "ipython3",
   "version": "3.7.6"
  }
 },
 "nbformat": 4,
 "nbformat_minor": 4
}

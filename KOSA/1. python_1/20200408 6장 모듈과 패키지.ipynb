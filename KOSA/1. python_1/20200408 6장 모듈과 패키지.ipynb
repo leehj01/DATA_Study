{
 "cells": [
  {
   "cell_type": "markdown",
   "metadata": {},
   "source": [
    "## 6장 . 모듈과 패키지 \n",
    "### 1절. 모듈 사용하기\n",
    "#### 1.1. 모듈\n",
    "#### 1.2. 표준모듈\n",
    "#### 1.3. 모듈 import 방법\n",
    "- import 모듈명 \n",
    "- import 패키지명 as 패키지별칭\n",
    "- import 모듈명 as 모듈 별칭\n",
    "- from 패키지명 import 모듈명 ( as 모듈별칭 )\n",
    "- from 모듈명 import 함수명 ( as 함수 별칭 )"
   ]
  },
  {
   "cell_type": "code",
   "execution_count": null,
   "metadata": {},
   "outputs": [],
   "source": [
    "import time"
   ]
  },
  {
   "cell_type": "code",
   "execution_count": null,
   "metadata": {},
   "outputs": [],
   "source": [
    "time.ctime()"
   ]
  },
  {
   "cell_type": "code",
   "execution_count": null,
   "metadata": {},
   "outputs": [],
   "source": [
    "import time as t"
   ]
  },
  {
   "cell_type": "code",
   "execution_count": null,
   "metadata": {},
   "outputs": [],
   "source": [
    "t.ctime()"
   ]
  },
  {
   "cell_type": "code",
   "execution_count": null,
   "metadata": {},
   "outputs": [],
   "source": [
    "import builtins"
   ]
  },
  {
   "cell_type": "markdown",
   "metadata": {},
   "source": [
    "#### 1.4 . dir() 함수 \n",
    "- 내장 함수 dir() 은 모듈이 정의한 이름을 정렬된 문자열 목록으로 반환한다.\n",
    "- 특정 모듈에 정의되어있는 함수를 찾는데 사용할 수 있다."
   ]
  },
  {
   "cell_type": "code",
   "execution_count": null,
   "metadata": {},
   "outputs": [],
   "source": [
    "print(dir(builtins))\n",
    "\n",
    "# 대문자 로 시작하면 : clss\n",
    "# 소문자면 : 함수\n",
    "# 다 대문자면 : 상수"
   ]
  },
  {
   "cell_type": "markdown",
   "metadata": {},
   "source": [
    "### 2절. 사용자 정의 모듈"
   ]
  },
  {
   "cell_type": "code",
   "execution_count": null,
   "metadata": {},
   "outputs": [],
   "source": [
    "def fibo1(n): # n 까지 피보나치 수열 출력\n",
    "    a,b = 0,1\n",
    "    while b< n :\n",
    "        print(b, end = ' ')\n",
    "        a, b, = b ,a+b\n",
    "    print() "
   ]
  },
  {
   "cell_type": "code",
   "execution_count": null,
   "metadata": {},
   "outputs": [],
   "source": [
    "def fibo2(n): # n 까지 피보나치 수열 반환 \n",
    "    result = []\n",
    "    a,b = 0,1\n",
    "    while b< n:\n",
    "        result.append(b)\n",
    "        a,b = b, a+b\n",
    "    return result"
   ]
  },
  {
   "cell_type": "markdown",
   "metadata": {},
   "source": [
    "- file - Download as - .py 로 하기. \n",
    "- 저장된 파일을 아무대나 넣는 것이 아니라, 정해져있는 곳에 넣어야함.\n",
    "    - 파이썬을 사용하고 있는 작업폴더에 넣어 놓기. \n",
    "    - 없으면, PYTHONPATH (컴퓨터 속성- 고급시스템설정 - 환경변수 - 새로만들기 - PYTHONPATH / C:/ 이런식으로 지정해서 씀 (하지만, 잘안씀)\n",
    "    - 파이썬 라이브러리 디렉토리 EX) C:/Pyrhon/Lib ( 하지만, 아주안좋은 방법)\n",
    "    - 파이썬 코드안에서, sys.path.apped('C:/pylib') 를 함."
   ]
  },
  {
   "cell_type": "code",
   "execution_count": null,
   "metadata": {},
   "outputs": [],
   "source": [
    "import sys\n",
    "sys.path.append(\"C:/pylib\") # C:\\\\pylib"
   ]
  },
  {
   "cell_type": "code",
   "execution_count": null,
   "metadata": {},
   "outputs": [],
   "source": [
    "import fibonacci"
   ]
  },
  {
   "cell_type": "code",
   "execution_count": null,
   "metadata": {},
   "outputs": [],
   "source": [
    "fibonacci.fibo1(200)"
   ]
  },
  {
   "cell_type": "code",
   "execution_count": null,
   "metadata": {},
   "outputs": [],
   "source": [
    "sys.path"
   ]
  },
  {
   "cell_type": "markdown",
   "metadata": {},
   "source": [
    "prompt 에 이걸 입력해서 실행하기\n",
    "python c:/pylib/fibonacci.py\n",
    "\n",
    "파이썬에서는 아래처럼\n"
   ]
  },
  {
   "cell_type": "code",
   "execution_count": null,
   "metadata": {},
   "outputs": [],
   "source": [
    "! python c:/pylib/fibonacci.py"
   ]
  },
  {
   "cell_type": "code",
   "execution_count": null,
   "metadata": {},
   "outputs": [],
   "source": [
    "! python c:/pylib/fibonacci.py <arguments>"
   ]
  },
  {
   "cell_type": "markdown",
   "metadata": {},
   "source": [
    "- 원래는 저거를 입력하면(모듈을 직접 시키면) 결과가 안나옴. 그래서\n",
    "- notepad++ 에서 fibo1(2000) 추가한 후 저장함. \n",
    "- 그러면, 결과가 나옴, 심지어 import fibonacci 를 해도 결과가 나옴.\n",
    "- 그럼 안되니깐, 다른 방법을 사용하기.\n",
    "\n",
    "-> 다르게 구분하기!"
   ]
  },
  {
   "cell_type": "raw",
   "metadata": {},
   "source": [
    "if __name__ == \"__main__\": # import할때와 모듈이 직접 시킬때와 결과가 다르게 하기 위해서 사용 \n",
    "    import sys\n",
    "    num = int(sys.argv[1])  # argv(인수값) 는 명령의 인자를 받기 위해 필요함. \n",
    "    fibo1(num)\n",
    "    \n",
    "# 이 코드를 notepad++에 입력하기. "
   ]
  },
  {
   "cell_type": "raw",
   "metadata": {},
   "source": [
    "! python c:/pylib/fibonacci.py 200\n",
    "\n",
    "argv[0] = [c:/pylib/fibonacci.py ] # 경로가 0번째,  \n",
    "argv[1] = 200 \n",
    "\n",
    "가 의미이다. "
   ]
  },
  {
   "cell_type": "code",
   "execution_count": null,
   "metadata": {},
   "outputs": [],
   "source": [
    "! python c:/pylib/fibonacci.py 200"
   ]
  },
  {
   "cell_type": "markdown",
   "metadata": {},
   "source": [
    "- 이제는 import해도 값이 나오지 않는다. "
   ]
  },
  {
   "cell_type": "code",
   "execution_count": null,
   "metadata": {},
   "outputs": [],
   "source": [
    "import sys\n",
    "sys.path.append(\"C:/pylib\")"
   ]
  },
  {
   "cell_type": "code",
   "execution_count": null,
   "metadata": {},
   "outputs": [],
   "source": [
    "import fibonacci"
   ]
  },
  {
   "cell_type": "raw",
   "metadata": {},
   "source": [
    "fibonacci.cpython-37 . cpy\n",
    "\n",
    ": c pyrhon 이고, 37은 버전 이름 : 주석을 제외한 코드를 모아둔것을 pyc라고 함.\n",
    "파일의 크기가 원본인 .py 이 pyc가 더 크다. \n",
    "import 당시 로드 속도가 조금 빨라질수 있다.\n",
    "cpy를 직접 로드를 할 수 있다. ( p244 )\n",
    "\n",
    "import py_compile"
   ]
  },
  {
   "cell_type": "code",
   "execution_count": null,
   "metadata": {},
   "outputs": [],
   "source": [
    "import py_compile  # 컴파일 하는 방법"
   ]
  },
  {
   "cell_type": "code",
   "execution_count": null,
   "metadata": {},
   "outputs": [],
   "source": [
    "py_compile.compile(\"C:/pylib/fibonacci.py\")"
   ]
  },
  {
   "cell_type": "markdown",
   "metadata": {},
   "source": [
    "### 3절. 패키지"
   ]
  },
  {
   "cell_type": "raw",
   "metadata": {},
   "source": [
    "* __init__.py\n",
    "\n",
    "* __all_ = ['a'] : import * 을해도 a만 로드하도록 지정해놓는 역할.\n",
    "                   패키지를 로드할때의 양을 줄이기 위해 사용한다. "
   ]
  },
  {
   "cell_type": "code",
   "execution_count": null,
   "metadata": {},
   "outputs": [],
   "source": [
    "import sys\n",
    "sys.path.append(\"C:/pylib\")\n",
    "\n",
    "import sample_pac"
   ]
  },
  {
   "cell_type": "code",
   "execution_count": null,
   "metadata": {},
   "outputs": [],
   "source": [
    "sample_pac.ab.a.hello()"
   ]
  },
  {
   "cell_type": "code",
   "execution_count": null,
   "metadata": {},
   "outputs": [],
   "source": [
    "import sample_pac.ab"
   ]
  },
  {
   "cell_type": "code",
   "execution_count": null,
   "metadata": {},
   "outputs": [],
   "source": [
    "ab.a.hello()"
   ]
  },
  {
   "cell_type": "code",
   "execution_count": null,
   "metadata": {},
   "outputs": [],
   "source": [
    "import sample_pac.ab.a"
   ]
  },
  {
   "cell_type": "code",
   "execution_count": null,
   "metadata": {},
   "outputs": [],
   "source": [
    "sample_pac.ab.a.hello()  # 너무 귀찮다."
   ]
  },
  {
   "cell_type": "code",
   "execution_count": null,
   "metadata": {},
   "outputs": [],
   "source": [
    "from sample_pac.ab import a "
   ]
  },
  {
   "cell_type": "code",
   "execution_count": null,
   "metadata": {},
   "outputs": [],
   "source": [
    "a.hello()"
   ]
  },
  {
   "cell_type": "markdown",
   "metadata": {},
   "source": [
    "import 뒤에는 패키지가 올수 없다."
   ]
  },
  {
   "cell_type": "markdown",
   "metadata": {},
   "source": [
    "#### 3.3 내부 패키지 참조"
   ]
  },
  {
   "cell_type": "raw",
   "metadata": {},
   "source": [
    "** 스파이더\n",
    "\n",
    "#from sample_pac.ab import a \n",
    "# 이렇게 해야 아래 a 를 실행시킬 수 있음.\n",
    "# from이 길기 때문에 아래 방법을 쓴다. \n",
    "\n",
    "from ..ab import a \n",
    "\n",
    "def nice():\n",
    "    print(\"Nice\")\n",
    "    a.hello()"
   ]
  },
  {
   "cell_type": "code",
   "execution_count": null,
   "metadata": {},
   "outputs": [],
   "source": [
    "from sample_pac.cd import c"
   ]
  },
  {
   "cell_type": "markdown",
   "metadata": {},
   "source": [
    "#### 3.4. 모듈 디렉터리의 패키지\n",
    "\n",
    "- __path__ 라는 특수 속성 지원 \n",
    " : 파일의 코드가 실행되기 전에 패키지의 __init__.py를 담고 있는 디렉터리의 이름을 포함하는 리스트로 초기화 \n",
    " \n",
    "- abspath : 절대 경로 , 다 적어라 "
   ]
  },
  {
   "cell_type": "raw",
   "metadata": {},
   "source": [
    "*** mypkg의 __init__.py\n",
    "\n",
    "__all__ = [\"bar\"]\n",
    "\n",
    "try:\n",
    "    import os # 기타 운영 체제 인터페이스\n",
    "    import _mypkg_foo\n",
    "    __path__.append(os.path.abspath(os.path.dirname(_mypkg_foo.__file__)))\n",
    "except ImportError:\n",
    "    pass\n",
    "\n",
    "print(\"mypkg loaded\")"
   ]
  },
  {
   "cell_type": "code",
   "execution_count": 1,
   "metadata": {},
   "outputs": [
    {
     "name": "stdout",
     "output_type": "stream",
     "text": [
      "sample_pac 패키지를 import 합니다.\n"
     ]
    }
   ],
   "source": [
    "import sys\n",
    "sys.path.append(\"C:/pylib\")\n",
    "\n",
    "import sample_pac"
   ]
  },
  {
   "cell_type": "code",
   "execution_count": 2,
   "metadata": {},
   "outputs": [
    {
     "name": "stdout",
     "output_type": "stream",
     "text": [
      "_mypkg_foo laaded\n",
      "mypkg loaded\n"
     ]
    }
   ],
   "source": [
    "\n",
    "from mypkg import bar,foo"
   ]
  },
  {
   "cell_type": "code",
   "execution_count": 3,
   "metadata": {},
   "outputs": [
    {
     "name": "stdout",
     "output_type": "stream",
     "text": [
      "bar hello\n"
     ]
    }
   ],
   "source": [
    "bar.bar_hello()"
   ]
  },
  {
   "cell_type": "code",
   "execution_count": 4,
   "metadata": {},
   "outputs": [
    {
     "name": "stdout",
     "output_type": "stream",
     "text": [
      "foo hello\n"
     ]
    }
   ],
   "source": [
    "foo.foo_hello()"
   ]
  }
 ],
 "metadata": {
  "kernelspec": {
   "display_name": "Python 3",
   "language": "python",
   "name": "python3"
  },
  "language_info": {
   "codemirror_mode": {
    "name": "ipython",
    "version": 3
   },
   "file_extension": ".py",
   "mimetype": "text/x-python",
   "name": "python",
   "nbconvert_exporter": "python",
   "pygments_lexer": "ipython3",
   "version": "3.7.6"
  }
 },
 "nbformat": 4,
 "nbformat_minor": 4
}

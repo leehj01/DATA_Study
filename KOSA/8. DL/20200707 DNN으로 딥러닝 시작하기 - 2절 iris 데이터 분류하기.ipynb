{
 "cells": [
  {
   "cell_type": "markdown",
   "metadata": {},
   "source": [
    "### 1. 머신러닝 라이브러리를 이용한 분류"
   ]
  },
  {
   "cell_type": "code",
   "execution_count": 11,
   "metadata": {
    "ExecuteTime": {
     "end_time": "2020-07-07T02:12:45.529675Z",
     "start_time": "2020-07-07T02:12:45.514075Z"
    }
   },
   "outputs": [],
   "source": [
    "import numpy as np\n",
    "import pandas as pd\n",
    "from sklearn import datasets"
   ]
  },
  {
   "cell_type": "code",
   "execution_count": 12,
   "metadata": {
    "ExecuteTime": {
     "end_time": "2020-07-07T02:12:50.332088Z",
     "start_time": "2020-07-07T02:12:50.300888Z"
    }
   },
   "outputs": [],
   "source": [
    "iris = datasets.load_iris()\n",
    "iris_x = iris.data\n",
    "iris_y = pd.get_dummies(iris.target).to_numpy()"
   ]
  },
  {
   "cell_type": "code",
   "execution_count": 13,
   "metadata": {
    "ExecuteTime": {
     "end_time": "2020-07-07T02:12:56.398201Z",
     "start_time": "2020-07-07T02:12:56.362001Z"
    }
   },
   "outputs": [
    {
     "data": {
      "text/plain": [
       "150"
      ]
     },
     "execution_count": 13,
     "metadata": {},
     "output_type": "execute_result"
    }
   ],
   "source": [
    "len(iris_x)"
   ]
  },
  {
   "cell_type": "code",
   "execution_count": 14,
   "metadata": {
    "ExecuteTime": {
     "end_time": "2020-07-07T02:13:26.469007Z",
     "start_time": "2020-07-07T02:13:26.453407Z"
    }
   },
   "outputs": [],
   "source": [
    "from sklearn.model_selection import train_test_split\n",
    "train_x , test_x , train_y, test_y = train_test_split(iris_x, iris_y,\n",
    "                                                       test_size= 0.3 , random_state =1)"
   ]
  },
  {
   "cell_type": "code",
   "execution_count": 17,
   "metadata": {
    "ExecuteTime": {
     "end_time": "2020-07-07T02:14:09.911163Z",
     "start_time": "2020-07-07T02:14:09.895563Z"
    }
   },
   "outputs": [],
   "source": [
    "from sklearn.neural_network import MLPClassifier\n",
    "mlp = MLPClassifier(hidden_layer_sizes=(50,50,30))"
   ]
  },
  {
   "cell_type": "code",
   "execution_count": 20,
   "metadata": {
    "ExecuteTime": {
     "end_time": "2020-07-07T02:14:18.635273Z",
     "start_time": "2020-07-07T02:14:18.366469Z"
    }
   },
   "outputs": [
    {
     "name": "stderr",
     "output_type": "stream",
     "text": [
      "C:\\Users\\COM\\anaconda3\\lib\\site-packages\\sklearn\\neural_network\\_multilayer_perceptron.py:571: ConvergenceWarning: Stochastic Optimizer: Maximum iterations (200) reached and the optimization hasn't converged yet.\n",
      "  % self.max_iter, ConvergenceWarning)\n"
     ]
    },
    {
     "data": {
      "text/plain": [
       "MLPClassifier(activation='relu', alpha=0.0001, batch_size='auto', beta_1=0.9,\n",
       "              beta_2=0.999, early_stopping=False, epsilon=1e-08,\n",
       "              hidden_layer_sizes=(50, 50, 30), learning_rate='constant',\n",
       "              learning_rate_init=0.001, max_fun=15000, max_iter=200,\n",
       "              momentum=0.9, n_iter_no_change=10, nesterovs_momentum=True,\n",
       "              power_t=0.5, random_state=None, shuffle=True, solver='adam',\n",
       "              tol=0.0001, validation_fraction=0.1, verbose=False,\n",
       "              warm_start=False)"
      ]
     },
     "execution_count": 20,
     "metadata": {},
     "output_type": "execute_result"
    }
   ],
   "source": [
    "mlp.fit(train_x, train_y)"
   ]
  },
  {
   "cell_type": "code",
   "execution_count": 24,
   "metadata": {
    "ExecuteTime": {
     "end_time": "2020-07-07T02:17:18.868066Z",
     "start_time": "2020-07-07T02:17:18.836866Z"
    }
   },
   "outputs": [
    {
     "data": {
      "text/plain": [
       "1.0"
      ]
     },
     "execution_count": 24,
     "metadata": {},
     "output_type": "execute_result"
    }
   ],
   "source": [
    "mlp.score(test_x, test_y)"
   ]
  },
  {
   "cell_type": "markdown",
   "metadata": {},
   "source": [
    "### 2.텐선플로우를 이용한 분류"
   ]
  },
  {
   "cell_type": "code",
   "execution_count": 2,
   "metadata": {
    "ExecuteTime": {
     "end_time": "2020-07-07T02:09:34.847028Z",
     "start_time": "2020-07-07T02:09:32.443809Z"
    },
    "collapsed": true
   },
   "outputs": [
    {
     "name": "stderr",
     "output_type": "stream",
     "text": [
      "C:\\Users\\COM\\anaconda3\\lib\\site-packages\\tensorflow\\python\\framework\\dtypes.py:516: FutureWarning: Passing (type, 1) or '1type' as a synonym of type is deprecated; in a future version of numpy, it will be understood as (type, (1,)) / '(1,)type'.\n",
      "  _np_qint8 = np.dtype([(\"qint8\", np.int8, 1)])\n",
      "C:\\Users\\COM\\anaconda3\\lib\\site-packages\\tensorflow\\python\\framework\\dtypes.py:517: FutureWarning: Passing (type, 1) or '1type' as a synonym of type is deprecated; in a future version of numpy, it will be understood as (type, (1,)) / '(1,)type'.\n",
      "  _np_quint8 = np.dtype([(\"quint8\", np.uint8, 1)])\n",
      "C:\\Users\\COM\\anaconda3\\lib\\site-packages\\tensorflow\\python\\framework\\dtypes.py:518: FutureWarning: Passing (type, 1) or '1type' as a synonym of type is deprecated; in a future version of numpy, it will be understood as (type, (1,)) / '(1,)type'.\n",
      "  _np_qint16 = np.dtype([(\"qint16\", np.int16, 1)])\n",
      "C:\\Users\\COM\\anaconda3\\lib\\site-packages\\tensorflow\\python\\framework\\dtypes.py:519: FutureWarning: Passing (type, 1) or '1type' as a synonym of type is deprecated; in a future version of numpy, it will be understood as (type, (1,)) / '(1,)type'.\n",
      "  _np_quint16 = np.dtype([(\"quint16\", np.uint16, 1)])\n",
      "C:\\Users\\COM\\anaconda3\\lib\\site-packages\\tensorflow\\python\\framework\\dtypes.py:520: FutureWarning: Passing (type, 1) or '1type' as a synonym of type is deprecated; in a future version of numpy, it will be understood as (type, (1,)) / '(1,)type'.\n",
      "  _np_qint32 = np.dtype([(\"qint32\", np.int32, 1)])\n",
      "C:\\Users\\COM\\anaconda3\\lib\\site-packages\\tensorflow\\python\\framework\\dtypes.py:525: FutureWarning: Passing (type, 1) or '1type' as a synonym of type is deprecated; in a future version of numpy, it will be understood as (type, (1,)) / '(1,)type'.\n",
      "  np_resource = np.dtype([(\"resource\", np.ubyte, 1)])\n",
      "C:\\Users\\COM\\anaconda3\\lib\\site-packages\\tensorboard\\compat\\tensorflow_stub\\dtypes.py:541: FutureWarning: Passing (type, 1) or '1type' as a synonym of type is deprecated; in a future version of numpy, it will be understood as (type, (1,)) / '(1,)type'.\n",
      "  _np_qint8 = np.dtype([(\"qint8\", np.int8, 1)])\n",
      "C:\\Users\\COM\\anaconda3\\lib\\site-packages\\tensorboard\\compat\\tensorflow_stub\\dtypes.py:542: FutureWarning: Passing (type, 1) or '1type' as a synonym of type is deprecated; in a future version of numpy, it will be understood as (type, (1,)) / '(1,)type'.\n",
      "  _np_quint8 = np.dtype([(\"quint8\", np.uint8, 1)])\n",
      "C:\\Users\\COM\\anaconda3\\lib\\site-packages\\tensorboard\\compat\\tensorflow_stub\\dtypes.py:543: FutureWarning: Passing (type, 1) or '1type' as a synonym of type is deprecated; in a future version of numpy, it will be understood as (type, (1,)) / '(1,)type'.\n",
      "  _np_qint16 = np.dtype([(\"qint16\", np.int16, 1)])\n",
      "C:\\Users\\COM\\anaconda3\\lib\\site-packages\\tensorboard\\compat\\tensorflow_stub\\dtypes.py:544: FutureWarning: Passing (type, 1) or '1type' as a synonym of type is deprecated; in a future version of numpy, it will be understood as (type, (1,)) / '(1,)type'.\n",
      "  _np_quint16 = np.dtype([(\"quint16\", np.uint16, 1)])\n",
      "C:\\Users\\COM\\anaconda3\\lib\\site-packages\\tensorboard\\compat\\tensorflow_stub\\dtypes.py:545: FutureWarning: Passing (type, 1) or '1type' as a synonym of type is deprecated; in a future version of numpy, it will be understood as (type, (1,)) / '(1,)type'.\n",
      "  _np_qint32 = np.dtype([(\"qint32\", np.int32, 1)])\n",
      "C:\\Users\\COM\\anaconda3\\lib\\site-packages\\tensorboard\\compat\\tensorflow_stub\\dtypes.py:550: FutureWarning: Passing (type, 1) or '1type' as a synonym of type is deprecated; in a future version of numpy, it will be understood as (type, (1,)) / '(1,)type'.\n",
      "  np_resource = np.dtype([(\"resource\", np.ubyte, 1)])\n"
     ]
    }
   ],
   "source": [
    "import tensorflow as tf"
   ]
  },
  {
   "cell_type": "code",
   "execution_count": 3,
   "metadata": {
    "ExecuteTime": {
     "end_time": "2020-07-07T02:10:02.161142Z",
     "start_time": "2020-07-07T02:10:02.066938Z"
    }
   },
   "outputs": [],
   "source": [
    "import numpy as np\n",
    "import pandas as pd\n",
    "from sklearn import datasets"
   ]
  },
  {
   "cell_type": "code",
   "execution_count": 4,
   "metadata": {
    "ExecuteTime": {
     "end_time": "2020-07-07T02:10:34.813871Z",
     "start_time": "2020-07-07T02:10:34.778671Z"
    }
   },
   "outputs": [],
   "source": [
    "iris = datasets.load_iris()\n",
    "iris_x = iris.data\n",
    "iris_y = pd.get_dummies(iris.target).to_numpy()"
   ]
  },
  {
   "cell_type": "code",
   "execution_count": 40,
   "metadata": {
    "ExecuteTime": {
     "end_time": "2020-07-07T02:40:56.874263Z",
     "start_time": "2020-07-07T02:40:56.853662Z"
    }
   },
   "outputs": [],
   "source": [
    "from sklearn.model_selection import train_test_split\n",
    "train_x , test_x , train_y, test_y = train_test_split(iris_x, iris_y,\n",
    "                                                       test_size= 0.3 , random_state =1)"
   ]
  },
  {
   "cell_type": "code",
   "execution_count": 41,
   "metadata": {
    "ExecuteTime": {
     "end_time": "2020-07-07T02:40:57.006270Z",
     "start_time": "2020-07-07T02:40:57.001270Z"
    }
   },
   "outputs": [
    {
     "name": "stdout",
     "output_type": "stream",
     "text": [
      "[[0 0 1]\n",
      " [1 0 0]\n",
      " [1 0 0]\n",
      " [1 0 0]\n",
      " [0 1 0]\n",
      " [1 0 0]\n",
      " [1 0 0]\n",
      " [0 0 1]\n",
      " [0 0 1]\n",
      " [0 0 1]]\n"
     ]
    }
   ],
   "source": [
    "print(train_y[0:10])"
   ]
  },
  {
   "cell_type": "code",
   "execution_count": 42,
   "metadata": {
    "ExecuteTime": {
     "end_time": "2020-07-07T02:40:57.171280Z",
     "start_time": "2020-07-07T02:40:57.167279Z"
    }
   },
   "outputs": [],
   "source": [
    "# 텐서플로우가 2.x 이상이 경우만 1이랑 호환하려고 넣는것\n",
    "\n",
    "import tensorflow.compat.v1 as tf\n",
    "tf.disable_v2_behavior()"
   ]
  },
  {
   "cell_type": "code",
   "execution_count": 43,
   "metadata": {
    "ExecuteTime": {
     "end_time": "2020-07-07T02:40:57.334289Z",
     "start_time": "2020-07-07T02:40:57.328289Z"
    }
   },
   "outputs": [],
   "source": [
    "x = tf.placeholder(tf.float32, [None, 4])\n",
    "y = tf.placeholder(tf.float32, [None, 3])"
   ]
  },
  {
   "cell_type": "code",
   "execution_count": 44,
   "metadata": {
    "ExecuteTime": {
     "end_time": "2020-07-07T02:40:57.486298Z",
     "start_time": "2020-07-07T02:40:57.474297Z"
    }
   },
   "outputs": [],
   "source": [
    "# weight와 bias 를 정의해주기 \n",
    "# variable  : 계속 변경시켜주는 것 \n",
    "\n",
    "w = tf.Variable(tf.zeros([4,3]))\n",
    "b = tf.Variable(tf.zeros([3]))\n"
   ]
  },
  {
   "cell_type": "code",
   "execution_count": 45,
   "metadata": {
    "ExecuteTime": {
     "end_time": "2020-07-07T02:40:57.657307Z",
     "start_time": "2020-07-07T02:40:57.644307Z"
    }
   },
   "outputs": [],
   "source": [
    "# tf.matmul 행렬의 곱을 나타냄 @ 은 쓸수없음\n",
    "h = tf.nn.softmax(tf.matmul(x,w)+b)"
   ]
  },
  {
   "cell_type": "code",
   "execution_count": 66,
   "metadata": {
    "ExecuteTime": {
     "end_time": "2020-07-07T02:47:54.870483Z",
     "start_time": "2020-07-07T02:47:54.851482Z"
    }
   },
   "outputs": [],
   "source": [
    "cross_entropy = -tf.reduce_sum(y * tf.log(h),\n",
    "                             reduction_indices=[1])"
   ]
  },
  {
   "cell_type": "code",
   "execution_count": 67,
   "metadata": {
    "ExecuteTime": {
     "end_time": "2020-07-07T02:47:55.427313Z",
     "start_time": "2020-07-07T02:47:55.411713Z"
    }
   },
   "outputs": [],
   "source": [
    "loss = tf.reduce_mean(cross_entropy)"
   ]
  },
  {
   "cell_type": "code",
   "execution_count": 68,
   "metadata": {
    "ExecuteTime": {
     "end_time": "2020-07-07T02:47:56.028545Z",
     "start_time": "2020-07-07T02:47:55.946942Z"
    }
   },
   "outputs": [],
   "source": [
    "train = tf.train.GradientDescentOptimizer(0.001).minimize(loss)"
   ]
  },
  {
   "cell_type": "code",
   "execution_count": 69,
   "metadata": {
    "ExecuteTime": {
     "end_time": "2020-07-07T02:47:56.589974Z",
     "start_time": "2020-07-07T02:47:56.545773Z"
    }
   },
   "outputs": [],
   "source": [
    "# 항상 run 을 해야 결과를 받을 수 있다.\n",
    "init = tf.global_variables_initializer()\n",
    "sess = tf.Session()\n",
    "sess.run(init)"
   ]
  },
  {
   "cell_type": "code",
   "execution_count": 70,
   "metadata": {
    "ExecuteTime": {
     "end_time": "2020-07-07T02:48:20.805808Z",
     "start_time": "2020-07-07T02:47:57.057001Z"
    }
   },
   "outputs": [
    {
     "name": "stdout",
     "output_type": "stream",
     "text": [
      "step 0 , 1.09861\n",
      "step 10000 , 0.34161\n",
      "step 20000 , 0.25734\n",
      "step 30000 , 0.21406\n",
      "step 40000 , 0.18753\n",
      "step 50000 , 0.16957\n",
      "step 60000 , 0.15658\n",
      "step 70000 , 0.14673\n",
      "step 80000 , 0.13899\n",
      "step 90000 , 0.13274\n"
     ]
    }
   ],
   "source": [
    "for i in range(100000):\n",
    "    _, loss_value = sess.run([train,loss], feed_dict= {x:train_x, y:train_y})\n",
    "    if i  % 10000 == 0:\n",
    "        print('step %d , %.5f' %( i,loss_value))"
   ]
  },
  {
   "cell_type": "code",
   "execution_count": 72,
   "metadata": {
    "ExecuteTime": {
     "end_time": "2020-07-07T02:48:25.834104Z",
     "start_time": "2020-07-07T02:48:25.792502Z"
    }
   },
   "outputs": [
    {
     "name": "stdout",
     "output_type": "stream",
     "text": [
      "0.9777778\n"
     ]
    }
   ],
   "source": [
    "correct_prediction = tf.equal(tf.argmax(h,1), tf.argmax(y,1)) # 1 은 축을 의미함\n",
    "accuracy = tf.reduce_mean(tf.cast(correct_prediction, tf.float32))\n",
    "print(sess.run(accuracy, feed_dict={x:test_x,y:test_y}))"
   ]
  },
  {
   "cell_type": "code",
   "execution_count": 73,
   "metadata": {
    "ExecuteTime": {
     "end_time": "2020-07-07T02:48:26.434134Z",
     "start_time": "2020-07-07T02:48:26.407533Z"
    }
   },
   "outputs": [
    {
     "name": "stdout",
     "output_type": "stream",
     "text": [
      "[[9.98785913e-01 1.21414929e-03 1.14390726e-10]\n",
      " [1.21662915e-01 8.65826964e-01 1.25101535e-02]\n",
      " [1.11911949e-02 9.52915430e-01 3.58933881e-02]\n",
      " [9.97843266e-01 2.15667766e-03 1.68635106e-09]\n",
      " [1.24177197e-04 3.19967508e-01 6.79908276e-01]\n",
      " [7.99222011e-03 7.64344692e-01 2.27663085e-01]\n",
      " [4.96170891e-04 2.62598515e-01 7.36905217e-01]\n",
      " [9.86688435e-01 1.33114867e-02 1.60582701e-07]\n",
      " [9.74975944e-01 2.50236727e-02 3.16469425e-07]\n",
      " [2.89412856e-05 5.79529479e-02 9.42018092e-01]]\n"
     ]
    }
   ],
   "source": [
    "print(sess.run(h,feed_dict={x:test_x, y:test_y})[0:10])"
   ]
  },
  {
   "cell_type": "code",
   "execution_count": 74,
   "metadata": {
    "ExecuteTime": {
     "end_time": "2020-07-07T02:48:27.159766Z",
     "start_time": "2020-07-07T02:48:27.118164Z"
    }
   },
   "outputs": [],
   "source": [
    "predict_y = sess.run(tf.argmax(h,1), feed_dict={x:test_x})"
   ]
  },
  {
   "cell_type": "code",
   "execution_count": 75,
   "metadata": {
    "ExecuteTime": {
     "end_time": "2020-07-07T02:48:27.740794Z",
     "start_time": "2020-07-07T02:48:27.709594Z"
    }
   },
   "outputs": [
    {
     "name": "stdout",
     "output_type": "stream",
     "text": [
      "[0 1 1 0 2 1 2 0 0 2 1 0 2 1 1 0 1 1 0 0]\n"
     ]
    }
   ],
   "source": [
    "print(predict_y[0:20])"
   ]
  },
  {
   "cell_type": "code",
   "execution_count": 76,
   "metadata": {
    "ExecuteTime": {
     "end_time": "2020-07-07T02:48:28.278023Z",
     "start_time": "2020-07-07T02:48:28.246823Z"
    }
   },
   "outputs": [
    {
     "name": "stdout",
     "output_type": "stream",
     "text": [
      "[0 1 1 0 2 1 2 0 0 2 1 0 2 1 1 0 1 1 0 0]\n"
     ]
    }
   ],
   "source": [
    "print(test_y.argmax(axis=1 )[0:20])"
   ]
  },
  {
   "cell_type": "code",
   "execution_count": 77,
   "metadata": {
    "ExecuteTime": {
     "end_time": "2020-07-07T02:48:28.736050Z",
     "start_time": "2020-07-07T02:48:28.683047Z"
    }
   },
   "outputs": [
    {
     "data": {
      "text/html": [
       "<div>\n",
       "<style scoped>\n",
       "    .dataframe tbody tr th:only-of-type {\n",
       "        vertical-align: middle;\n",
       "    }\n",
       "\n",
       "    .dataframe tbody tr th {\n",
       "        vertical-align: top;\n",
       "    }\n",
       "\n",
       "    .dataframe thead th {\n",
       "        text-align: right;\n",
       "    }\n",
       "</style>\n",
       "<table border=\"1\" class=\"dataframe\">\n",
       "  <thead>\n",
       "    <tr style=\"text-align: right;\">\n",
       "      <th>col_0</th>\n",
       "      <th>0</th>\n",
       "      <th>1</th>\n",
       "      <th>2</th>\n",
       "      <th>All</th>\n",
       "    </tr>\n",
       "    <tr>\n",
       "      <th>row_0</th>\n",
       "      <th></th>\n",
       "      <th></th>\n",
       "      <th></th>\n",
       "      <th></th>\n",
       "    </tr>\n",
       "  </thead>\n",
       "  <tbody>\n",
       "    <tr>\n",
       "      <th>0</th>\n",
       "      <td>14</td>\n",
       "      <td>0</td>\n",
       "      <td>0</td>\n",
       "      <td>14</td>\n",
       "    </tr>\n",
       "    <tr>\n",
       "      <th>1</th>\n",
       "      <td>0</td>\n",
       "      <td>17</td>\n",
       "      <td>1</td>\n",
       "      <td>18</td>\n",
       "    </tr>\n",
       "    <tr>\n",
       "      <th>2</th>\n",
       "      <td>0</td>\n",
       "      <td>0</td>\n",
       "      <td>13</td>\n",
       "      <td>13</td>\n",
       "    </tr>\n",
       "    <tr>\n",
       "      <th>All</th>\n",
       "      <td>14</td>\n",
       "      <td>17</td>\n",
       "      <td>14</td>\n",
       "      <td>45</td>\n",
       "    </tr>\n",
       "  </tbody>\n",
       "</table>\n",
       "</div>"
      ],
      "text/plain": [
       "col_0   0   1   2  All\n",
       "row_0                 \n",
       "0      14   0   0   14\n",
       "1       0  17   1   18\n",
       "2       0   0  13   13\n",
       "All    14  17  14   45"
      ]
     },
     "execution_count": 77,
     "metadata": {},
     "output_type": "execute_result"
    }
   ],
   "source": [
    "cross_tab= pd.crosstab(test_y.argmax(axis=1),predict_y,margins= True)\n",
    "cross_tab"
   ]
  },
  {
   "cell_type": "markdown",
   "metadata": {},
   "source": [
    "### 케라스를 이용한 방법"
   ]
  },
  {
   "cell_type": "code",
   "execution_count": 78,
   "metadata": {
    "ExecuteTime": {
     "end_time": "2020-07-07T03:16:55.594578Z",
     "start_time": "2020-07-07T03:16:55.578978Z"
    }
   },
   "outputs": [],
   "source": [
    "import numpy as np\n",
    "import pandas as pd\n",
    "from sklearn import datasets"
   ]
  },
  {
   "cell_type": "code",
   "execution_count": 79,
   "metadata": {
    "ExecuteTime": {
     "end_time": "2020-07-07T03:16:55.707584Z",
     "start_time": "2020-07-07T03:16:55.702584Z"
    }
   },
   "outputs": [],
   "source": [
    "iris = datasets.load_iris()\n",
    "iris_x = iris.data\n",
    "iris_y = pd.get_dummies(iris.target).to_numpy()"
   ]
  },
  {
   "cell_type": "code",
   "execution_count": 80,
   "metadata": {
    "ExecuteTime": {
     "end_time": "2020-07-07T03:16:55.856593Z",
     "start_time": "2020-07-07T03:16:55.848592Z"
    }
   },
   "outputs": [],
   "source": [
    "from sklearn.model_selection import train_test_split\n",
    "train_x , test_x , train_y, test_y = train_test_split(iris_x, iris_y,\n",
    "                                                       test_size= 0.3 , random_state =1)"
   ]
  },
  {
   "cell_type": "code",
   "execution_count": 82,
   "metadata": {
    "ExecuteTime": {
     "end_time": "2020-07-07T03:17:18.503932Z",
     "start_time": "2020-07-07T03:17:18.472732Z"
    }
   },
   "outputs": [
    {
     "data": {
      "text/plain": [
       "((105, 4), (105, 3))"
      ]
     },
     "execution_count": 82,
     "metadata": {},
     "output_type": "execute_result"
    }
   ],
   "source": [
    "train_x.shape, train_y.shape"
   ]
  },
  {
   "cell_type": "code",
   "execution_count": 83,
   "metadata": {
    "ExecuteTime": {
     "end_time": "2020-07-07T03:18:21.513742Z",
     "start_time": "2020-07-07T03:18:21.482542Z"
    }
   },
   "outputs": [],
   "source": [
    "from tensorflow.keras.models import Sequential\n",
    "model = Sequential()"
   ]
  },
  {
   "cell_type": "code",
   "execution_count": 86,
   "metadata": {
    "ExecuteTime": {
     "end_time": "2020-07-07T03:22:51.566837Z",
     "start_time": "2020-07-07T03:22:51.461232Z"
    }
   },
   "outputs": [],
   "source": [
    "from tensorflow.keras.layers import Input, Dense\n",
    "model.add(Input(4))\n",
    "model.add(Dense(50, activation=\"relu\"))\n",
    "model.add(Dense(50, activation=\"relu\"))\n",
    "model.add(Dense(30, activation=\"relu\"))\n",
    "model.add(Dense(3, activation=\"softmax\"))"
   ]
  },
  {
   "cell_type": "code",
   "execution_count": 87,
   "metadata": {
    "ExecuteTime": {
     "end_time": "2020-07-07T03:23:38.104691Z",
     "start_time": "2020-07-07T03:23:38.015487Z"
    }
   },
   "outputs": [],
   "source": [
    "model.compile(optimizer =\"adam\", loss=\"categorical_crossentropy\", metrics=[\"accuracy\"])"
   ]
  },
  {
   "cell_type": "code",
   "execution_count": 88,
   "metadata": {
    "ExecuteTime": {
     "end_time": "2020-07-07T03:23:41.088585Z",
     "start_time": "2020-07-07T03:23:39.689721Z"
    }
   },
   "outputs": [
    {
     "name": "stdout",
     "output_type": "stream",
     "text": [
      "Epoch 1/200\n",
      "105/105 [==============================] - 0s 594us/sample - loss: 1.1151 - acc: 0.3429\n",
      "Epoch 2/200\n",
      "105/105 [==============================] - 0s 0s/sample - loss: 1.0256 - acc: 0.5143\n",
      "Epoch 3/200\n",
      "105/105 [==============================] - 0s 0s/sample - loss: 0.9561 - acc: 0.6952\n",
      "Epoch 4/200\n",
      "105/105 [==============================] - 0s 0s/sample - loss: 0.9340 - acc: 0.6762\n",
      "Epoch 5/200\n",
      "105/105 [==============================] - 0s 149us/sample - loss: 0.9080 - acc: 0.6381\n",
      "Epoch 6/200\n",
      "105/105 [==============================] - 0s 0s/sample - loss: 0.8678 - acc: 0.6952\n",
      "Epoch 7/200\n",
      "105/105 [==============================] - 0s 0s/sample - loss: 0.8227 - acc: 0.6952\n",
      "Epoch 8/200\n",
      "105/105 [==============================] - 0s 158us/sample - loss: 0.7739 - acc: 0.6952\n",
      "Epoch 9/200\n",
      "105/105 [==============================] - 0s 29us/sample - loss: 0.7223 - acc: 0.6952\n",
      "Epoch 10/200\n",
      "105/105 [==============================] - 0s 48us/sample - loss: 0.6824 - acc: 0.6952\n",
      "Epoch 11/200\n",
      "105/105 [==============================] - 0s 38us/sample - loss: 0.6440 - acc: 0.6952\n",
      "Epoch 12/200\n",
      "105/105 [==============================] - 0s 38us/sample - loss: 0.6015 - acc: 0.6952\n",
      "Epoch 13/200\n",
      "105/105 [==============================] - 0s 38us/sample - loss: 0.5662 - acc: 0.6952\n",
      "Epoch 14/200\n",
      "105/105 [==============================] - 0s 48us/sample - loss: 0.5293 - acc: 0.6952\n",
      "Epoch 15/200\n",
      "105/105 [==============================] - 0s 29us/sample - loss: 0.4985 - acc: 0.6952\n",
      "Epoch 16/200\n",
      "105/105 [==============================] - 0s 38us/sample - loss: 0.4739 - acc: 0.6952\n",
      "Epoch 17/200\n",
      "105/105 [==============================] - 0s 57us/sample - loss: 0.4463 - acc: 0.6952\n",
      "Epoch 18/200\n",
      "105/105 [==============================] - 0s 38us/sample - loss: 0.4220 - acc: 0.7238\n",
      "Epoch 19/200\n",
      "105/105 [==============================] - 0s 48us/sample - loss: 0.3979 - acc: 0.8667\n",
      "Epoch 20/200\n",
      "105/105 [==============================] - 0s 38us/sample - loss: 0.3790 - acc: 0.8952\n",
      "Epoch 21/200\n",
      "105/105 [==============================] - 0s 38us/sample - loss: 0.3672 - acc: 0.8476\n",
      "Epoch 22/200\n",
      "105/105 [==============================] - 0s 38us/sample - loss: 0.3479 - acc: 0.9238\n",
      "Epoch 23/200\n",
      "105/105 [==============================] - 0s 29us/sample - loss: 0.3361 - acc: 0.9714\n",
      "Epoch 24/200\n",
      "105/105 [==============================] - 0s 48us/sample - loss: 0.3211 - acc: 0.9619\n",
      "Epoch 25/200\n",
      "105/105 [==============================] - 0s 48us/sample - loss: 0.3066 - acc: 0.9619\n",
      "Epoch 26/200\n",
      "105/105 [==============================] - 0s 29us/sample - loss: 0.2949 - acc: 0.9429\n",
      "Epoch 27/200\n",
      "105/105 [==============================] - 0s 38us/sample - loss: 0.2853 - acc: 0.9333\n",
      "Epoch 28/200\n",
      "105/105 [==============================] - 0s 48us/sample - loss: 0.2748 - acc: 0.9524\n",
      "Epoch 29/200\n",
      "105/105 [==============================] - 0s 48us/sample - loss: 0.2587 - acc: 0.9619\n",
      "Epoch 30/200\n",
      "105/105 [==============================] - 0s 48us/sample - loss: 0.2504 - acc: 0.9429\n",
      "Epoch 31/200\n",
      "105/105 [==============================] - 0s 48us/sample - loss: 0.2545 - acc: 0.9333\n",
      "Epoch 32/200\n",
      "105/105 [==============================] - 0s 38us/sample - loss: 0.2478 - acc: 0.9333\n",
      "Epoch 33/200\n",
      "105/105 [==============================] - 0s 48us/sample - loss: 0.2158 - acc: 0.9619\n",
      "Epoch 34/200\n",
      "105/105 [==============================] - 0s 29us/sample - loss: 0.2075 - acc: 0.9619\n",
      "Epoch 35/200\n",
      "105/105 [==============================] - 0s 48us/sample - loss: 0.1939 - acc: 0.9619\n",
      "Epoch 36/200\n",
      "105/105 [==============================] - 0s 48us/sample - loss: 0.1891 - acc: 0.9714\n",
      "Epoch 37/200\n",
      "105/105 [==============================] - 0s 38us/sample - loss: 0.1761 - acc: 0.9619\n",
      "Epoch 38/200\n",
      "105/105 [==============================] - 0s 38us/sample - loss: 0.1795 - acc: 0.9619\n",
      "Epoch 39/200\n",
      "105/105 [==============================] - 0s 48us/sample - loss: 0.1662 - acc: 0.9619\n",
      "Epoch 40/200\n",
      "105/105 [==============================] - 0s 29us/sample - loss: 0.1592 - acc: 0.9619\n",
      "Epoch 41/200\n",
      "105/105 [==============================] - 0s 38us/sample - loss: 0.1631 - acc: 0.9619\n",
      "Epoch 42/200\n",
      "105/105 [==============================] - 0s 38us/sample - loss: 0.1566 - acc: 0.9714\n",
      "Epoch 43/200\n",
      "105/105 [==============================] - 0s 48us/sample - loss: 0.1402 - acc: 0.9619\n",
      "Epoch 44/200\n",
      "105/105 [==============================] - 0s 38us/sample - loss: 0.1748 - acc: 0.9429\n",
      "Epoch 45/200\n",
      "105/105 [==============================] - 0s 38us/sample - loss: 0.1436 - acc: 0.9619\n",
      "Epoch 46/200\n",
      "105/105 [==============================] - 0s 29us/sample - loss: 0.1387 - acc: 0.9619\n",
      "Epoch 47/200\n",
      "105/105 [==============================] - 0s 48us/sample - loss: 0.1302 - acc: 0.9714\n",
      "Epoch 48/200\n",
      "105/105 [==============================] - 0s 48us/sample - loss: 0.1545 - acc: 0.9429\n",
      "Epoch 49/200\n",
      "105/105 [==============================] - 0s 48us/sample - loss: 0.1311 - acc: 0.9714\n",
      "Epoch 50/200\n",
      "105/105 [==============================] - 0s 67us/sample - loss: 0.1654 - acc: 0.9238\n",
      "Epoch 51/200\n",
      "105/105 [==============================] - 0s 57us/sample - loss: 0.2096 - acc: 0.8952\n",
      "Epoch 52/200\n",
      "105/105 [==============================] - 0s 57us/sample - loss: 0.1225 - acc: 0.9714\n",
      "Epoch 53/200\n",
      "105/105 [==============================] - 0s 38us/sample - loss: 0.1169 - acc: 0.9619\n",
      "Epoch 54/200\n",
      "105/105 [==============================] - 0s 38us/sample - loss: 0.1221 - acc: 0.9810\n",
      "Epoch 55/200\n",
      "105/105 [==============================] - 0s 38us/sample - loss: 0.1215 - acc: 0.9714\n",
      "Epoch 56/200\n",
      "105/105 [==============================] - 0s 29us/sample - loss: 0.1085 - acc: 0.9619\n",
      "Epoch 57/200\n",
      "105/105 [==============================] - 0s 38us/sample - loss: 0.1107 - acc: 0.9619\n",
      "Epoch 58/200\n",
      "105/105 [==============================] - 0s 38us/sample - loss: 0.1084 - acc: 0.9619\n",
      "Epoch 59/200\n",
      "105/105 [==============================] - 0s 29us/sample - loss: 0.1135 - acc: 0.9714\n",
      "Epoch 60/200\n",
      "105/105 [==============================] - 0s 38us/sample - loss: 0.1049 - acc: 0.9619\n",
      "Epoch 61/200\n",
      "105/105 [==============================] - 0s 38us/sample - loss: 0.1226 - acc: 0.9429\n",
      "Epoch 62/200\n",
      "105/105 [==============================] - 0s 29us/sample - loss: 0.1431 - acc: 0.9238\n",
      "Epoch 63/200\n",
      "105/105 [==============================] - 0s 48us/sample - loss: 0.0963 - acc: 0.9714\n",
      "Epoch 64/200\n",
      "105/105 [==============================] - 0s 48us/sample - loss: 0.1390 - acc: 0.9619\n",
      "Epoch 65/200\n",
      "105/105 [==============================] - 0s 38us/sample - loss: 0.1066 - acc: 0.9619\n",
      "Epoch 66/200\n",
      "105/105 [==============================] - 0s 38us/sample - loss: 0.1467 - acc: 0.9238\n",
      "Epoch 67/200\n",
      "105/105 [==============================] - 0s 38us/sample - loss: 0.1060 - acc: 0.9619\n",
      "Epoch 68/200\n",
      "105/105 [==============================] - 0s 29us/sample - loss: 0.0972 - acc: 0.9619\n",
      "Epoch 69/200\n",
      "105/105 [==============================] - 0s 38us/sample - loss: 0.0934 - acc: 0.9619\n",
      "Epoch 70/200\n",
      "105/105 [==============================] - 0s 38us/sample - loss: 0.1996 - acc: 0.8952\n",
      "Epoch 71/200\n",
      "105/105 [==============================] - 0s 38us/sample - loss: 0.1565 - acc: 0.9238\n",
      "Epoch 72/200\n",
      "105/105 [==============================] - 0s 29us/sample - loss: 0.1112 - acc: 0.9619\n",
      "Epoch 73/200\n",
      "105/105 [==============================] - 0s 38us/sample - loss: 0.1602 - acc: 0.9429\n",
      "Epoch 74/200\n",
      "105/105 [==============================] - 0s 38us/sample - loss: 0.1282 - acc: 0.9619\n",
      "Epoch 75/200\n",
      "105/105 [==============================] - 0s 29us/sample - loss: 0.0947 - acc: 0.9810\n",
      "Epoch 76/200\n",
      "105/105 [==============================] - 0s 29us/sample - loss: 0.1610 - acc: 0.9143\n",
      "Epoch 77/200\n",
      "105/105 [==============================] - 0s 29us/sample - loss: 0.0979 - acc: 0.9524\n",
      "Epoch 78/200\n",
      "105/105 [==============================] - 0s 38us/sample - loss: 0.2085 - acc: 0.9143\n",
      "Epoch 79/200\n",
      "105/105 [==============================] - 0s 29us/sample - loss: 0.2128 - acc: 0.9333\n",
      "Epoch 80/200\n",
      "105/105 [==============================] - 0s 38us/sample - loss: 0.1138 - acc: 0.9619\n",
      "Epoch 81/200\n",
      "105/105 [==============================] - 0s 38us/sample - loss: 0.0953 - acc: 0.9714\n",
      "Epoch 82/200\n",
      "105/105 [==============================] - 0s 29us/sample - loss: 0.1277 - acc: 0.9238\n",
      "Epoch 83/200\n"
     ]
    },
    {
     "name": "stdout",
     "output_type": "stream",
     "text": [
      "105/105 [==============================] - 0s 38us/sample - loss: 0.0988 - acc: 0.9619\n",
      "Epoch 84/200\n",
      "105/105 [==============================] - 0s 38us/sample - loss: 0.0972 - acc: 0.9714\n",
      "Epoch 85/200\n",
      "105/105 [==============================] - 0s 29us/sample - loss: 0.0963 - acc: 0.9619\n",
      "Epoch 86/200\n",
      "105/105 [==============================] - 0s 29us/sample - loss: 0.0849 - acc: 0.9619\n",
      "Epoch 87/200\n",
      "105/105 [==============================] - 0s 38us/sample - loss: 0.0980 - acc: 0.9714\n",
      "Epoch 88/200\n",
      "105/105 [==============================] - 0s 38us/sample - loss: 0.0970 - acc: 0.9714\n",
      "Epoch 89/200\n",
      "105/105 [==============================] - 0s 38us/sample - loss: 0.0881 - acc: 0.9714\n",
      "Epoch 90/200\n",
      "105/105 [==============================] - 0s 38us/sample - loss: 0.0876 - acc: 0.9714\n",
      "Epoch 91/200\n",
      "105/105 [==============================] - 0s 29us/sample - loss: 0.0860 - acc: 0.9714\n",
      "Epoch 92/200\n",
      "105/105 [==============================] - 0s 19us/sample - loss: 0.0850 - acc: 0.9714\n",
      "Epoch 93/200\n",
      "105/105 [==============================] - 0s 29us/sample - loss: 0.0838 - acc: 0.9714\n",
      "Epoch 94/200\n",
      "105/105 [==============================] - 0s 38us/sample - loss: 0.0871 - acc: 0.9619\n",
      "Epoch 95/200\n",
      "105/105 [==============================] - 0s 29us/sample - loss: 0.0870 - acc: 0.9619\n",
      "Epoch 96/200\n",
      "105/105 [==============================] - 0s 29us/sample - loss: 0.1129 - acc: 0.9619\n",
      "Epoch 97/200\n",
      "105/105 [==============================] - 0s 38us/sample - loss: 0.0992 - acc: 0.9619\n",
      "Epoch 98/200\n",
      "105/105 [==============================] - 0s 29us/sample - loss: 0.0907 - acc: 0.9619\n",
      "Epoch 99/200\n",
      "105/105 [==============================] - 0s 38us/sample - loss: 0.0896 - acc: 0.9714\n",
      "Epoch 100/200\n",
      "105/105 [==============================] - 0s 29us/sample - loss: 0.0797 - acc: 0.9714\n",
      "Epoch 101/200\n",
      "105/105 [==============================] - 0s 38us/sample - loss: 0.0983 - acc: 0.9619\n",
      "Epoch 102/200\n",
      "105/105 [==============================] - 0s 38us/sample - loss: 0.0801 - acc: 0.9619\n",
      "Epoch 103/200\n",
      "105/105 [==============================] - 0s 29us/sample - loss: 0.0974 - acc: 0.9619\n",
      "Epoch 104/200\n",
      "105/105 [==============================] - 0s 38us/sample - loss: 0.1046 - acc: 0.9429\n",
      "Epoch 105/200\n",
      "105/105 [==============================] - 0s 38us/sample - loss: 0.0851 - acc: 0.9714\n",
      "Epoch 106/200\n",
      "105/105 [==============================] - 0s 29us/sample - loss: 0.0854 - acc: 0.9714\n",
      "Epoch 107/200\n",
      "105/105 [==============================] - 0s 38us/sample - loss: 0.0941 - acc: 0.9619\n",
      "Epoch 108/200\n",
      "105/105 [==============================] - 0s 38us/sample - loss: 0.0846 - acc: 0.9714\n",
      "Epoch 109/200\n",
      "105/105 [==============================] - 0s 29us/sample - loss: 0.1025 - acc: 0.9524\n",
      "Epoch 110/200\n",
      "105/105 [==============================] - 0s 29us/sample - loss: 0.1022 - acc: 0.9333\n",
      "Epoch 111/200\n",
      "105/105 [==============================] - 0s 38us/sample - loss: 0.0983 - acc: 0.9524\n",
      "Epoch 112/200\n",
      "105/105 [==============================] - 0s 29us/sample - loss: 0.0774 - acc: 0.9619\n",
      "Epoch 113/200\n",
      "105/105 [==============================] - 0s 29us/sample - loss: 0.1049 - acc: 0.9619\n",
      "Epoch 114/200\n",
      "105/105 [==============================] - 0s 29us/sample - loss: 0.0772 - acc: 0.9714\n",
      "Epoch 115/200\n",
      "105/105 [==============================] - 0s 38us/sample - loss: 0.1417 - acc: 0.9238\n",
      "Epoch 116/200\n",
      "105/105 [==============================] - 0s 29us/sample - loss: 0.0876 - acc: 0.9619\n",
      "Epoch 117/200\n",
      "105/105 [==============================] - 0s 29us/sample - loss: 0.1262 - acc: 0.9619\n",
      "Epoch 118/200\n",
      "105/105 [==============================] - 0s 38us/sample - loss: 0.1594 - acc: 0.9429\n",
      "Epoch 119/200\n",
      "105/105 [==============================] - 0s 29us/sample - loss: 0.1140 - acc: 0.9619\n",
      "Epoch 120/200\n",
      "105/105 [==============================] - 0s 29us/sample - loss: 0.0797 - acc: 0.9810\n",
      "Epoch 121/200\n",
      "105/105 [==============================] - 0s 29us/sample - loss: 0.0899 - acc: 0.9714\n",
      "Epoch 122/200\n",
      "105/105 [==============================] - 0s 38us/sample - loss: 0.0812 - acc: 0.9714\n",
      "Epoch 123/200\n",
      "105/105 [==============================] - 0s 29us/sample - loss: 0.0866 - acc: 0.9714\n",
      "Epoch 124/200\n",
      "105/105 [==============================] - 0s 29us/sample - loss: 0.0828 - acc: 0.9714\n",
      "Epoch 125/200\n",
      "105/105 [==============================] - 0s 29us/sample - loss: 0.1562 - acc: 0.9238\n",
      "Epoch 126/200\n",
      "105/105 [==============================] - 0s 38us/sample - loss: 0.0963 - acc: 0.9524\n",
      "Epoch 127/200\n",
      "105/105 [==============================] - 0s 38us/sample - loss: 0.0933 - acc: 0.9619\n",
      "Epoch 128/200\n",
      "105/105 [==============================] - 0s 29us/sample - loss: 0.1348 - acc: 0.9619\n",
      "Epoch 129/200\n",
      "105/105 [==============================] - 0s 29us/sample - loss: 0.1203 - acc: 0.9619\n",
      "Epoch 130/200\n",
      "105/105 [==============================] - 0s 29us/sample - loss: 0.0839 - acc: 0.9619\n",
      "Epoch 131/200\n",
      "105/105 [==============================] - 0s 38us/sample - loss: 0.0778 - acc: 0.9714\n",
      "Epoch 132/200\n",
      "105/105 [==============================] - 0s 29us/sample - loss: 0.0787 - acc: 0.9714\n",
      "Epoch 133/200\n",
      "105/105 [==============================] - 0s 29us/sample - loss: 0.0824 - acc: 0.9619\n",
      "Epoch 134/200\n",
      "105/105 [==============================] - 0s 29us/sample - loss: 0.0792 - acc: 0.9714\n",
      "Epoch 135/200\n",
      "105/105 [==============================] - 0s 29us/sample - loss: 0.0763 - acc: 0.9714\n",
      "Epoch 136/200\n",
      "105/105 [==============================] - 0s 38us/sample - loss: 0.0782 - acc: 0.9619\n",
      "Epoch 137/200\n",
      "105/105 [==============================] - 0s 29us/sample - loss: 0.0806 - acc: 0.9714\n",
      "Epoch 138/200\n",
      "105/105 [==============================] - 0s 29us/sample - loss: 0.0975 - acc: 0.9619\n",
      "Epoch 139/200\n",
      "105/105 [==============================] - 0s 29us/sample - loss: 0.1100 - acc: 0.9619\n",
      "Epoch 140/200\n",
      "105/105 [==============================] - 0s 48us/sample - loss: 0.0920 - acc: 0.9619\n",
      "Epoch 141/200\n",
      "105/105 [==============================] - 0s 38us/sample - loss: 0.0809 - acc: 0.9619\n",
      "Epoch 142/200\n",
      "105/105 [==============================] - 0s 29us/sample - loss: 0.0915 - acc: 0.9619\n",
      "Epoch 143/200\n",
      "105/105 [==============================] - 0s 38us/sample - loss: 0.0907 - acc: 0.9714\n",
      "Epoch 144/200\n",
      "105/105 [==============================] - 0s 29us/sample - loss: 0.0787 - acc: 0.9714\n",
      "Epoch 145/200\n",
      "105/105 [==============================] - 0s 29us/sample - loss: 0.0803 - acc: 0.9619\n",
      "Epoch 146/200\n",
      "105/105 [==============================] - 0s 38us/sample - loss: 0.0808 - acc: 0.9619\n",
      "Epoch 147/200\n",
      "105/105 [==============================] - 0s 38us/sample - loss: 0.0762 - acc: 0.9714\n",
      "Epoch 148/200\n",
      "105/105 [==============================] - 0s 38us/sample - loss: 0.0745 - acc: 0.9714\n",
      "Epoch 149/200\n",
      "105/105 [==============================] - 0s 38us/sample - loss: 0.0789 - acc: 0.9714\n",
      "Epoch 150/200\n",
      "105/105 [==============================] - 0s 38us/sample - loss: 0.0794 - acc: 0.9714\n",
      "Epoch 151/200\n",
      "105/105 [==============================] - 0s 29us/sample - loss: 0.0795 - acc: 0.9714\n",
      "Epoch 152/200\n",
      "105/105 [==============================] - 0s 29us/sample - loss: 0.0743 - acc: 0.9714\n",
      "Epoch 153/200\n",
      "105/105 [==============================] - 0s 29us/sample - loss: 0.0761 - acc: 0.9619\n",
      "Epoch 154/200\n",
      "105/105 [==============================] - 0s 29us/sample - loss: 0.0787 - acc: 0.9714\n",
      "Epoch 155/200\n",
      "105/105 [==============================] - 0s 29us/sample - loss: 0.0757 - acc: 0.9619\n",
      "Epoch 156/200\n",
      "105/105 [==============================] - 0s 29us/sample - loss: 0.1099 - acc: 0.9619\n",
      "Epoch 157/200\n",
      "105/105 [==============================] - 0s 29us/sample - loss: 0.1046 - acc: 0.9619\n",
      "Epoch 158/200\n",
      "105/105 [==============================] - 0s 29us/sample - loss: 0.0830 - acc: 0.9619\n",
      "Epoch 159/200\n",
      "105/105 [==============================] - 0s 38us/sample - loss: 0.0800 - acc: 0.9714\n",
      "Epoch 160/200\n",
      "105/105 [==============================] - 0s 29us/sample - loss: 0.0794 - acc: 0.9714\n",
      "Epoch 161/200\n",
      "105/105 [==============================] - 0s 29us/sample - loss: 0.0746 - acc: 0.9810\n",
      "Epoch 162/200\n",
      "105/105 [==============================] - 0s 29us/sample - loss: 0.0756 - acc: 0.9714\n",
      "Epoch 163/200\n",
      "105/105 [==============================] - 0s 38us/sample - loss: 0.0701 - acc: 0.9810\n",
      "Epoch 164/200\n",
      "105/105 [==============================] - 0s 29us/sample - loss: 0.0984 - acc: 0.9333\n",
      "Epoch 165/200\n",
      "105/105 [==============================] - 0s 38us/sample - loss: 0.0852 - acc: 0.9619\n",
      "Epoch 166/200\n",
      "105/105 [==============================] - 0s 29us/sample - loss: 0.0820 - acc: 0.9714\n",
      "Epoch 167/200\n",
      "105/105 [==============================] - 0s 38us/sample - loss: 0.0836 - acc: 0.9714\n",
      "Epoch 168/200\n",
      "105/105 [==============================] - 0s 38us/sample - loss: 0.0755 - acc: 0.9810\n",
      "Epoch 169/200\n",
      "105/105 [==============================] - 0s 29us/sample - loss: 0.0731 - acc: 0.9714\n",
      "Epoch 170/200\n",
      "105/105 [==============================] - 0s 38us/sample - loss: 0.0738 - acc: 0.9714\n",
      "Epoch 171/200\n",
      "105/105 [==============================] - 0s 38us/sample - loss: 0.0725 - acc: 0.9714\n",
      "Epoch 172/200\n",
      "105/105 [==============================] - 0s 29us/sample - loss: 0.0872 - acc: 0.9619\n",
      "Epoch 173/200\n",
      "105/105 [==============================] - 0s 29us/sample - loss: 0.0746 - acc: 0.9810\n",
      "Epoch 174/200\n",
      "105/105 [==============================] - 0s 29us/sample - loss: 0.0871 - acc: 0.9619\n",
      "Epoch 175/200\n",
      "105/105 [==============================] - 0s 38us/sample - loss: 0.1324 - acc: 0.9619\n",
      "Epoch 176/200\n",
      "105/105 [==============================] - 0s 29us/sample - loss: 0.1183 - acc: 0.9619\n",
      "Epoch 177/200\n",
      "105/105 [==============================] - 0s 29us/sample - loss: 0.0811 - acc: 0.9714\n",
      "Epoch 178/200\n",
      "105/105 [==============================] - 0s 38us/sample - loss: 0.0847 - acc: 0.9619\n",
      "Epoch 179/200\n",
      "105/105 [==============================] - 0s 29us/sample - loss: 0.1242 - acc: 0.9238\n",
      "Epoch 180/200\n",
      "105/105 [==============================] - 0s 29us/sample - loss: 0.0904 - acc: 0.9619\n",
      "Epoch 181/200\n",
      "105/105 [==============================] - 0s 29us/sample - loss: 0.0789 - acc: 0.9714\n",
      "Epoch 182/200\n",
      "105/105 [==============================] - 0s 29us/sample - loss: 0.0958 - acc: 0.9619\n",
      "Epoch 183/200\n",
      "105/105 [==============================] - 0s 29us/sample - loss: 0.0897 - acc: 0.9619\n",
      "Epoch 184/200\n",
      "105/105 [==============================] - 0s 38us/sample - loss: 0.0784 - acc: 0.9714\n",
      "Epoch 185/200\n",
      "105/105 [==============================] - 0s 38us/sample - loss: 0.0717 - acc: 0.9714\n",
      "Epoch 186/200\n",
      "105/105 [==============================] - 0s 29us/sample - loss: 0.0716 - acc: 0.9714\n",
      "Epoch 187/200\n",
      "105/105 [==============================] - 0s 29us/sample - loss: 0.0714 - acc: 0.9714\n",
      "Epoch 188/200\n",
      "105/105 [==============================] - 0s 29us/sample - loss: 0.0720 - acc: 0.9619\n",
      "Epoch 189/200\n",
      "105/105 [==============================] - 0s 29us/sample - loss: 0.0713 - acc: 0.9714\n",
      "Epoch 190/200\n",
      "105/105 [==============================] - 0s 29us/sample - loss: 0.0725 - acc: 0.9714\n",
      "Epoch 191/200\n",
      "105/105 [==============================] - 0s 29us/sample - loss: 0.0747 - acc: 0.9714\n",
      "Epoch 192/200\n",
      "105/105 [==============================] - 0s 38us/sample - loss: 0.1168 - acc: 0.9333\n",
      "Epoch 193/200\n",
      "105/105 [==============================] - 0s 38us/sample - loss: 0.0922 - acc: 0.9619\n",
      "Epoch 194/200\n",
      "105/105 [==============================] - 0s 29us/sample - loss: 0.0799 - acc: 0.9714\n",
      "Epoch 195/200\n",
      "105/105 [==============================] - 0s 38us/sample - loss: 0.0763 - acc: 0.9714\n",
      "Epoch 196/200\n",
      "105/105 [==============================] - 0s 29us/sample - loss: 0.0798 - acc: 0.9714\n",
      "Epoch 197/200\n",
      "105/105 [==============================] - 0s 29us/sample - loss: 0.0810 - acc: 0.9714\n",
      "Epoch 198/200\n",
      "105/105 [==============================] - 0s 38us/sample - loss: 0.0714 - acc: 0.9905\n",
      "Epoch 199/200\n",
      "105/105 [==============================] - 0s 38us/sample - loss: 0.0740 - acc: 0.9714\n",
      "Epoch 200/200\n",
      "105/105 [==============================] - 0s 29us/sample - loss: 0.0857 - acc: 0.9619\n"
     ]
    },
    {
     "data": {
      "text/plain": [
       "<tensorflow.python.keras.callbacks.History at 0x2ea4b9c8>"
      ]
     },
     "execution_count": 88,
     "metadata": {},
     "output_type": "execute_result"
    }
   ],
   "source": [
    "model.fit(train_x, train_y, batch_size=50, epochs=200, verbose=1)\n",
    "\n",
    "# 1 epoch 당 여러번의 weight 조정이 됨 "
   ]
  },
  {
   "cell_type": "code",
   "execution_count": 89,
   "metadata": {
    "ExecuteTime": {
     "end_time": "2020-07-07T03:25:27.786134Z",
     "start_time": "2020-07-07T03:25:27.731932Z"
    }
   },
   "outputs": [
    {
     "data": {
      "text/plain": [
       "array([0, 1, 1, 0, 2, 1, 2, 0, 0, 2, 1, 0, 2, 1, 1, 0, 1, 1, 0, 0, 1, 2,\n",
       "       2, 0, 2, 1, 0, 0, 1, 2, 1, 2, 1, 2, 2, 0, 1, 0, 1, 2, 2, 0, 2, 2,\n",
       "       1], dtype=int64)"
      ]
     },
     "execution_count": 89,
     "metadata": {},
     "output_type": "execute_result"
    }
   ],
   "source": [
    "import numpy as np\n",
    "pred = np.argmax(model.predict(test_x), axis=1)\n",
    "pred"
   ]
  },
  {
   "cell_type": "code",
   "execution_count": 90,
   "metadata": {
    "ExecuteTime": {
     "end_time": "2020-07-07T03:39:16.666665Z",
     "start_time": "2020-07-07T03:39:16.628663Z"
    }
   },
   "outputs": [
    {
     "data": {
      "text/html": [
       "<div>\n",
       "<style scoped>\n",
       "    .dataframe tbody tr th:only-of-type {\n",
       "        vertical-align: middle;\n",
       "    }\n",
       "\n",
       "    .dataframe tbody tr th {\n",
       "        vertical-align: top;\n",
       "    }\n",
       "\n",
       "    .dataframe thead th {\n",
       "        text-align: right;\n",
       "    }\n",
       "</style>\n",
       "<table border=\"1\" class=\"dataframe\">\n",
       "  <thead>\n",
       "    <tr style=\"text-align: right;\">\n",
       "      <th>col_0</th>\n",
       "      <th>0</th>\n",
       "      <th>1</th>\n",
       "      <th>2</th>\n",
       "    </tr>\n",
       "    <tr>\n",
       "      <th>row_0</th>\n",
       "      <th></th>\n",
       "      <th></th>\n",
       "      <th></th>\n",
       "    </tr>\n",
       "  </thead>\n",
       "  <tbody>\n",
       "    <tr>\n",
       "      <th>0</th>\n",
       "      <td>14</td>\n",
       "      <td>0</td>\n",
       "      <td>0</td>\n",
       "    </tr>\n",
       "    <tr>\n",
       "      <th>1</th>\n",
       "      <td>0</td>\n",
       "      <td>16</td>\n",
       "      <td>2</td>\n",
       "    </tr>\n",
       "    <tr>\n",
       "      <th>2</th>\n",
       "      <td>0</td>\n",
       "      <td>0</td>\n",
       "      <td>13</td>\n",
       "    </tr>\n",
       "  </tbody>\n",
       "</table>\n",
       "</div>"
      ],
      "text/plain": [
       "col_0   0   1   2\n",
       "row_0            \n",
       "0      14   0   0\n",
       "1       0  16   2\n",
       "2       0   0  13"
      ]
     },
     "execution_count": 90,
     "metadata": {},
     "output_type": "execute_result"
    }
   ],
   "source": [
    "pd.crosstab(np.argmax(test_y, axis =1), pred)"
   ]
  },
  {
   "cell_type": "code",
   "execution_count": 91,
   "metadata": {
    "ExecuteTime": {
     "end_time": "2020-07-07T03:39:29.539016Z",
     "start_time": "2020-07-07T03:39:29.464813Z"
    }
   },
   "outputs": [
    {
     "name": "stdout",
     "output_type": "stream",
     "text": [
      "45/45 [==============================] - 0s 622us/sample - loss: 0.0666 - acc: 0.9556\n"
     ]
    },
    {
     "data": {
      "text/plain": [
       "[0.06659174429045783, 0.95555556]"
      ]
     },
     "execution_count": 91,
     "metadata": {},
     "output_type": "execute_result"
    }
   ],
   "source": [
    "model.evaluate(test_x, test_y)"
   ]
  },
  {
   "cell_type": "markdown",
   "metadata": {},
   "source": [
    "## 와인데이터 "
   ]
  },
  {
   "cell_type": "code",
   "execution_count": 92,
   "metadata": {
    "ExecuteTime": {
     "end_time": "2020-07-07T05:20:22.017983Z",
     "start_time": "2020-07-07T05:20:22.002383Z"
    }
   },
   "outputs": [],
   "source": [
    "import numpy as np\n",
    "import pandas as pd"
   ]
  },
  {
   "cell_type": "code",
   "execution_count": 94,
   "metadata": {
    "ExecuteTime": {
     "end_time": "2020-07-07T05:22:18.202990Z",
     "start_time": "2020-07-07T05:22:18.175390Z"
    }
   },
   "outputs": [],
   "source": [
    "redwine = pd.read_csv(\"winequality-red.csv\", sep= \";\")\n",
    "redwine_x = redwine.iloc[: , :-1].to_numpy()\n",
    "redwine_y = pd.get_dummies(redwine.iloc[:,-1].to_numpy())"
   ]
  },
  {
   "cell_type": "code",
   "execution_count": 109,
   "metadata": {
    "ExecuteTime": {
     "end_time": "2020-07-07T05:28:21.920357Z",
     "start_time": "2020-07-07T05:28:21.904757Z"
    }
   },
   "outputs": [],
   "source": [
    "from sklearn.model_selection import train_test_split\n",
    "train_x , test_x , train_y, test_y = train_test_split(redwine_x, redwine_y,\n",
    "                                                       test_size= 0.3 , random_state =1)"
   ]
  },
  {
   "cell_type": "code",
   "execution_count": 110,
   "metadata": {
    "ExecuteTime": {
     "end_time": "2020-07-07T05:28:22.065365Z",
     "start_time": "2020-07-07T05:28:22.061365Z"
    }
   },
   "outputs": [
    {
     "data": {
      "text/plain": [
       "((1119, 11), (1119, 6))"
      ]
     },
     "execution_count": 110,
     "metadata": {},
     "output_type": "execute_result"
    }
   ],
   "source": [
    "train_x.shape, train_y.shape"
   ]
  },
  {
   "cell_type": "code",
   "execution_count": 120,
   "metadata": {
    "ExecuteTime": {
     "end_time": "2020-07-07T05:29:05.663097Z",
     "start_time": "2020-07-07T05:29:05.631897Z"
    }
   },
   "outputs": [],
   "source": [
    "x = tf.placeholder(tf.float32, [None, 11])\n",
    "y = tf.placeholder(tf.float32, [None, 6])"
   ]
  },
  {
   "cell_type": "code",
   "execution_count": 121,
   "metadata": {
    "ExecuteTime": {
     "end_time": "2020-07-07T05:29:05.795104Z",
     "start_time": "2020-07-07T05:29:05.787104Z"
    }
   },
   "outputs": [],
   "source": [
    "w = tf.Variable(tf.zeros([11,6]))\n",
    "b = tf.Variable(tf.zeros([6]))"
   ]
  },
  {
   "cell_type": "code",
   "execution_count": 122,
   "metadata": {
    "ExecuteTime": {
     "end_time": "2020-07-07T05:29:06.180126Z",
     "start_time": "2020-07-07T05:29:06.160125Z"
    }
   },
   "outputs": [],
   "source": [
    "h = tf.nn.softmax(tf.matmul(x,w)+b)\n",
    "cross_entropy = -tf.reduce_sum(y * tf.log(h), reduction_indices=[1])"
   ]
  },
  {
   "cell_type": "code",
   "execution_count": 123,
   "metadata": {
    "ExecuteTime": {
     "end_time": "2020-07-07T05:29:06.308134Z",
     "start_time": "2020-07-07T05:29:06.304133Z"
    }
   },
   "outputs": [],
   "source": [
    "loss = tf.reduce_mean(cross_entropy)"
   ]
  },
  {
   "cell_type": "code",
   "execution_count": 124,
   "metadata": {
    "ExecuteTime": {
     "end_time": "2020-07-07T05:29:06.507145Z",
     "start_time": "2020-07-07T05:29:06.462143Z"
    }
   },
   "outputs": [],
   "source": [
    "train = tf.train.GradientDescentOptimizer(0.001).minimize(loss)"
   ]
  },
  {
   "cell_type": "code",
   "execution_count": 125,
   "metadata": {
    "ExecuteTime": {
     "end_time": "2020-07-07T05:29:06.670154Z",
     "start_time": "2020-07-07T05:29:06.614151Z"
    }
   },
   "outputs": [],
   "source": [
    "# 항상 run 을 해야 결과를 받을 수 있다.\n",
    "init = tf.global_variables_initializer()\n",
    "sess = tf.Session()\n",
    "sess.run(init)"
   ]
  },
  {
   "cell_type": "code",
   "execution_count": 126,
   "metadata": {
    "ExecuteTime": {
     "end_time": "2020-07-07T05:30:01.078520Z",
     "start_time": "2020-07-07T05:29:06.769160Z"
    }
   },
   "outputs": [
    {
     "name": "stdout",
     "output_type": "stream",
     "text": [
      "step 0 , 1.79176\n",
      "step 10000 , 1.08176\n",
      "step 20000 , 1.05125\n",
      "step 30000 , 1.03211\n",
      "step 40000 , 1.01921\n",
      "step 50000 , 1.01002\n",
      "step 60000 , 1.00318\n",
      "step 70000 , 0.99788\n",
      "step 80000 , 0.99364\n",
      "step 90000 , 0.99014\n"
     ]
    }
   ],
   "source": [
    "for i in range(100000):\n",
    "    _, loss_value = sess.run([train,loss], feed_dict= {x:train_x, y:train_y})\n",
    "    if i  % 10000 == 0:\n",
    "        print('step %d , %.5f' %( i,loss_value))"
   ]
  },
  {
   "cell_type": "code",
   "execution_count": 127,
   "metadata": {
    "ExecuteTime": {
     "end_time": "2020-07-07T05:30:01.202725Z",
     "start_time": "2020-07-07T05:30:01.164723Z"
    }
   },
   "outputs": [
    {
     "name": "stdout",
     "output_type": "stream",
     "text": [
      "0.57708335\n"
     ]
    }
   ],
   "source": [
    "correct_prediction = tf.equal(tf.argmax(h,1), tf.argmax(y,1)) # 1 은 축을 의미함\n",
    "accuracy = tf.reduce_mean(tf.cast(correct_prediction, tf.float32))\n",
    "print(sess.run(accuracy, feed_dict={x:test_x,y:test_y}))"
   ]
  },
  {
   "cell_type": "code",
   "execution_count": 128,
   "metadata": {
    "ExecuteTime": {
     "end_time": "2020-07-07T05:30:01.298731Z",
     "start_time": "2020-07-07T05:30:01.271729Z"
    }
   },
   "outputs": [],
   "source": [
    "predict_y = sess.run(tf.argmax(h,1), feed_dict={x:test_x})"
   ]
  },
  {
   "cell_type": "code",
   "execution_count": 129,
   "metadata": {
    "ExecuteTime": {
     "end_time": "2020-07-07T05:30:01.387736Z",
     "start_time": "2020-07-07T05:30:01.370735Z"
    },
    "collapsed": true
   },
   "outputs": [
    {
     "ename": "AttributeError",
     "evalue": "'DataFrame' object has no attribute 'argmax'",
     "output_type": "error",
     "traceback": [
      "\u001b[1;31m---------------------------------------------------------------------------\u001b[0m",
      "\u001b[1;31mAttributeError\u001b[0m                            Traceback (most recent call last)",
      "\u001b[1;32m<ipython-input-129-768c7b47084d>\u001b[0m in \u001b[0;36m<module>\u001b[1;34m\u001b[0m\n\u001b[1;32m----> 1\u001b[1;33m \u001b[0mcross_tab\u001b[0m\u001b[1;33m=\u001b[0m \u001b[0mpd\u001b[0m\u001b[1;33m.\u001b[0m\u001b[0mcrosstab\u001b[0m\u001b[1;33m(\u001b[0m\u001b[0mtest_y\u001b[0m\u001b[1;33m.\u001b[0m\u001b[0margmax\u001b[0m\u001b[1;33m(\u001b[0m\u001b[0maxis\u001b[0m\u001b[1;33m=\u001b[0m\u001b[1;36m1\u001b[0m\u001b[1;33m)\u001b[0m\u001b[1;33m,\u001b[0m\u001b[0mpredict_y\u001b[0m\u001b[1;33m,\u001b[0m\u001b[0mmargins\u001b[0m\u001b[1;33m=\u001b[0m \u001b[1;32mTrue\u001b[0m\u001b[1;33m)\u001b[0m\u001b[1;33m\u001b[0m\u001b[1;33m\u001b[0m\u001b[0m\n\u001b[0m\u001b[0;32m      2\u001b[0m \u001b[0mcross_tab\u001b[0m\u001b[1;33m\u001b[0m\u001b[1;33m\u001b[0m\u001b[0m\n",
      "\u001b[1;32m~\\anaconda3\\lib\\site-packages\\pandas\\core\\generic.py\u001b[0m in \u001b[0;36m__getattr__\u001b[1;34m(self, name)\u001b[0m\n\u001b[0;32m   5272\u001b[0m             \u001b[1;32mif\u001b[0m \u001b[0mself\u001b[0m\u001b[1;33m.\u001b[0m\u001b[0m_info_axis\u001b[0m\u001b[1;33m.\u001b[0m\u001b[0m_can_hold_identifiers_and_holds_name\u001b[0m\u001b[1;33m(\u001b[0m\u001b[0mname\u001b[0m\u001b[1;33m)\u001b[0m\u001b[1;33m:\u001b[0m\u001b[1;33m\u001b[0m\u001b[1;33m\u001b[0m\u001b[0m\n\u001b[0;32m   5273\u001b[0m                 \u001b[1;32mreturn\u001b[0m \u001b[0mself\u001b[0m\u001b[1;33m[\u001b[0m\u001b[0mname\u001b[0m\u001b[1;33m]\u001b[0m\u001b[1;33m\u001b[0m\u001b[1;33m\u001b[0m\u001b[0m\n\u001b[1;32m-> 5274\u001b[1;33m             \u001b[1;32mreturn\u001b[0m \u001b[0mobject\u001b[0m\u001b[1;33m.\u001b[0m\u001b[0m__getattribute__\u001b[0m\u001b[1;33m(\u001b[0m\u001b[0mself\u001b[0m\u001b[1;33m,\u001b[0m \u001b[0mname\u001b[0m\u001b[1;33m)\u001b[0m\u001b[1;33m\u001b[0m\u001b[1;33m\u001b[0m\u001b[0m\n\u001b[0m\u001b[0;32m   5275\u001b[0m \u001b[1;33m\u001b[0m\u001b[0m\n\u001b[0;32m   5276\u001b[0m     \u001b[1;32mdef\u001b[0m \u001b[0m__setattr__\u001b[0m\u001b[1;33m(\u001b[0m\u001b[0mself\u001b[0m\u001b[1;33m,\u001b[0m \u001b[0mname\u001b[0m\u001b[1;33m:\u001b[0m \u001b[0mstr\u001b[0m\u001b[1;33m,\u001b[0m \u001b[0mvalue\u001b[0m\u001b[1;33m)\u001b[0m \u001b[1;33m->\u001b[0m \u001b[1;32mNone\u001b[0m\u001b[1;33m:\u001b[0m\u001b[1;33m\u001b[0m\u001b[1;33m\u001b[0m\u001b[0m\n",
      "\u001b[1;31mAttributeError\u001b[0m: 'DataFrame' object has no attribute 'argmax'"
     ]
    }
   ],
   "source": [
    "predict_y = sess.run(tf.argmax(h,1), feed_dict={x:test_x})\n",
    "cross_tab= pd.crosstab(test_y.argmax(axis=1),predict_y,margins= True)\n",
    "cross_tab"
   ]
  },
  {
   "cell_type": "markdown",
   "metadata": {},
   "source": [
    "### 케라스 이용"
   ]
  },
  {
   "cell_type": "code",
   "execution_count": null,
   "metadata": {},
   "outputs": [],
   "source": [
    "import numpy as np\n",
    "import pandas as pd\n",
    "from sklearn import datasets"
   ]
  },
  {
   "cell_type": "markdown",
   "metadata": {},
   "source": [
    "- 무슨 모델을 쓰던, 데이터를 불러오는 것은 다 같음 "
   ]
  },
  {
   "cell_type": "code",
   "execution_count": null,
   "metadata": {},
   "outputs": [],
   "source": [
    "redwine = pd.read_csv(\"winequality-red.csv\", sep= \";\")\n",
    "redwine_x = redwine.iloc[: , :-1].to_numpy()\n",
    "redwine_y = pd.get_dummies(redwine.iloc[:,-1].to_numpy())\n",
    "from sklearn.model_selection import train_test_split\n",
    "train_x , test_x , train_y, test_y = train_test_split(redwine_x, redwine_y,\n",
    "                                                       test_size= 0.3 , random_state =1)\n",
    "train_x.shape, train_y.shape"
   ]
  },
  {
   "cell_type": "code",
   "execution_count": 131,
   "metadata": {
    "ExecuteTime": {
     "end_time": "2020-07-07T06:17:58.770455Z",
     "start_time": "2020-07-07T06:17:54.176016Z"
    }
   },
   "outputs": [
    {
     "name": "stdout",
     "output_type": "stream",
     "text": [
      "Epoch 1/200\n",
      "1119/1119 [==============================] - 0s 56us/sample - loss: 1.8006 - acc: 0.3878\n",
      "Epoch 2/200\n",
      "1119/1119 [==============================] - 0s 28us/sample - loss: 1.2062 - acc: 0.4933\n",
      "Epoch 3/200\n",
      "1119/1119 [==============================] - 0s 17us/sample - loss: 1.1609 - acc: 0.5013\n",
      "Epoch 4/200\n",
      "1119/1119 [==============================] - 0s 18us/sample - loss: 1.1533 - acc: 0.4790\n",
      "Epoch 5/200\n",
      "1119/1119 [==============================] - 0s 17us/sample - loss: 1.1459 - acc: 0.4969\n",
      "Epoch 6/200\n",
      "1119/1119 [==============================] - 0s 18us/sample - loss: 1.1383 - acc: 0.4826\n",
      "Epoch 7/200\n",
      "1119/1119 [==============================] - 0s 18us/sample - loss: 1.1206 - acc: 0.4978\n",
      "Epoch 8/200\n",
      "1119/1119 [==============================] - 0s 17us/sample - loss: 1.1167 - acc: 0.5147\n",
      "Epoch 9/200\n",
      "1119/1119 [==============================] - 0s 17us/sample - loss: 1.1311 - acc: 0.4879\n",
      "Epoch 10/200\n",
      "1119/1119 [==============================] - 0s 20us/sample - loss: 1.1141 - acc: 0.5040\n",
      "Epoch 11/200\n",
      "1119/1119 [==============================] - 0s 17us/sample - loss: 1.1128 - acc: 0.4942\n",
      "Epoch 12/200\n",
      "1119/1119 [==============================] - 0s 17us/sample - loss: 1.1055 - acc: 0.5031\n",
      "Epoch 13/200\n",
      "1119/1119 [==============================] - 0s 19us/sample - loss: 1.0965 - acc: 0.5139\n",
      "Epoch 14/200\n",
      "1119/1119 [==============================] - 0s 19us/sample - loss: 1.1169 - acc: 0.5004\n",
      "Epoch 15/200\n",
      "1119/1119 [==============================] - 0s 17us/sample - loss: 1.1287 - acc: 0.4942\n",
      "Epoch 16/200\n",
      "1119/1119 [==============================] - 0s 18us/sample - loss: 1.1161 - acc: 0.4969\n",
      "Epoch 17/200\n",
      "1119/1119 [==============================] - 0s 20us/sample - loss: 1.0842 - acc: 0.5040\n",
      "Epoch 18/200\n",
      "1119/1119 [==============================] - 0s 18us/sample - loss: 1.0904 - acc: 0.4942\n",
      "Epoch 19/200\n",
      "1119/1119 [==============================] - 0s 20us/sample - loss: 1.0981 - acc: 0.5094\n",
      "Epoch 20/200\n",
      "1119/1119 [==============================] - 0s 20us/sample - loss: 1.1075 - acc: 0.5282\n",
      "Epoch 21/200\n",
      "1119/1119 [==============================] - 0s 18us/sample - loss: 1.0847 - acc: 0.5264\n",
      "Epoch 22/200\n",
      "1119/1119 [==============================] - 0s 17us/sample - loss: 1.0677 - acc: 0.5219\n",
      "Epoch 23/200\n",
      "1119/1119 [==============================] - 0s 19us/sample - loss: 1.0705 - acc: 0.5103\n",
      "Epoch 24/200\n",
      "1119/1119 [==============================] - 0s 17us/sample - loss: 1.0498 - acc: 0.5255\n",
      "Epoch 25/200\n",
      "1119/1119 [==============================] - 0s 19us/sample - loss: 1.0502 - acc: 0.5290\n",
      "Epoch 26/200\n",
      "1119/1119 [==============================] - 0s 20us/sample - loss: 1.0584 - acc: 0.5219\n",
      "Epoch 27/200\n",
      "1119/1119 [==============================] - 0s 18us/sample - loss: 1.0357 - acc: 0.5335\n",
      "Epoch 28/200\n",
      "1119/1119 [==============================] - 0s 20us/sample - loss: 1.0330 - acc: 0.5442\n",
      "Epoch 29/200\n",
      "1119/1119 [==============================] - 0s 17us/sample - loss: 1.0516 - acc: 0.5299\n",
      "Epoch 30/200\n",
      "1119/1119 [==============================] - 0s 18us/sample - loss: 1.0672 - acc: 0.5264\n",
      "Epoch 31/200\n",
      "1119/1119 [==============================] - 0s 18us/sample - loss: 1.0491 - acc: 0.5407\n",
      "Epoch 32/200\n",
      "1119/1119 [==============================] - 0s 19us/sample - loss: 1.0275 - acc: 0.5416\n",
      "Epoch 33/200\n",
      "1119/1119 [==============================] - 0s 18us/sample - loss: 1.0397 - acc: 0.5362\n",
      "Epoch 34/200\n",
      "1119/1119 [==============================] - 0s 19us/sample - loss: 1.0036 - acc: 0.5559\n",
      "Epoch 35/200\n",
      "1119/1119 [==============================] - 0s 19us/sample - loss: 1.0103 - acc: 0.5550\n",
      "Epoch 36/200\n",
      "1119/1119 [==============================] - 0s 18us/sample - loss: 1.0405 - acc: 0.5416\n",
      "Epoch 37/200\n",
      "1119/1119 [==============================] - 0s 19us/sample - loss: 1.0254 - acc: 0.5380\n",
      "Epoch 38/200\n",
      "1119/1119 [==============================] - 0s 17us/sample - loss: 1.0032 - acc: 0.5728\n",
      "Epoch 39/200\n",
      "1119/1119 [==============================] - 0s 17us/sample - loss: 0.9982 - acc: 0.5693\n",
      "Epoch 40/200\n",
      "1119/1119 [==============================] - 0s 21us/sample - loss: 0.9857 - acc: 0.5746\n",
      "Epoch 41/200\n",
      "1119/1119 [==============================] - 0s 18us/sample - loss: 0.9927 - acc: 0.5666\n",
      "Epoch 42/200\n",
      "1119/1119 [==============================] - 0s 18us/sample - loss: 0.9819 - acc: 0.5621\n",
      "Epoch 43/200\n",
      "1119/1119 [==============================] - 0s 21us/sample - loss: 0.9838 - acc: 0.5550\n",
      "Epoch 44/200\n",
      "1119/1119 [==============================] - 0s 18us/sample - loss: 0.9883 - acc: 0.5719\n",
      "Epoch 45/200\n",
      "1119/1119 [==============================] - 0s 19us/sample - loss: 0.9783 - acc: 0.5818\n",
      "Epoch 46/200\n",
      "1119/1119 [==============================] - 0s 19us/sample - loss: 1.0127 - acc: 0.5532\n",
      "Epoch 47/200\n",
      "1119/1119 [==============================] - 0s 18us/sample - loss: 0.9981 - acc: 0.5657\n",
      "Epoch 48/200\n",
      "1119/1119 [==============================] - 0s 19us/sample - loss: 0.9617 - acc: 0.5818\n",
      "Epoch 49/200\n",
      "1119/1119 [==============================] - 0s 18us/sample - loss: 0.9716 - acc: 0.5889\n",
      "Epoch 50/200\n",
      "1119/1119 [==============================] - 0s 19us/sample - loss: 0.9731 - acc: 0.5845\n",
      "Epoch 51/200\n",
      "1119/1119 [==============================] - 0s 20us/sample - loss: 0.9719 - acc: 0.5800\n",
      "Epoch 52/200\n",
      "1119/1119 [==============================] - 0s 17us/sample - loss: 1.0092 - acc: 0.5684\n",
      "Epoch 53/200\n",
      "1119/1119 [==============================] - 0s 18us/sample - loss: 1.0033 - acc: 0.5693\n",
      "Epoch 54/200\n",
      "1119/1119 [==============================] - 0s 18us/sample - loss: 0.9729 - acc: 0.5871\n",
      "Epoch 55/200\n",
      "1119/1119 [==============================] - 0s 19us/sample - loss: 0.9604 - acc: 0.5809\n",
      "Epoch 56/200\n",
      "1119/1119 [==============================] - 0s 18us/sample - loss: 0.9649 - acc: 0.5880\n",
      "Epoch 57/200\n",
      "1119/1119 [==============================] - 0s 18us/sample - loss: 0.9594 - acc: 0.5871\n",
      "Epoch 58/200\n",
      "1119/1119 [==============================] - 0s 15us/sample - loss: 0.9734 - acc: 0.5719\n",
      "Epoch 59/200\n",
      "1119/1119 [==============================] - 0s 16us/sample - loss: 0.9719 - acc: 0.5782\n",
      "Epoch 60/200\n",
      "1119/1119 [==============================] - 0s 15us/sample - loss: 0.9514 - acc: 0.5907\n",
      "Epoch 61/200\n",
      "1119/1119 [==============================] - 0s 16us/sample - loss: 0.9515 - acc: 0.5845\n",
      "Epoch 62/200\n",
      "1119/1119 [==============================] - 0s 16us/sample - loss: 0.9584 - acc: 0.5916\n",
      "Epoch 63/200\n",
      "1119/1119 [==============================] - 0s 16us/sample - loss: 0.9466 - acc: 0.5952\n",
      "Epoch 64/200\n",
      "1119/1119 [==============================] - 0s 16us/sample - loss: 0.9652 - acc: 0.5737\n",
      "Epoch 65/200\n",
      "1119/1119 [==============================] - 0s 17us/sample - loss: 0.9509 - acc: 0.5693\n",
      "Epoch 66/200\n",
      "1119/1119 [==============================] - 0s 16us/sample - loss: 0.9328 - acc: 0.5934\n",
      "Epoch 67/200\n",
      "1119/1119 [==============================] - 0s 17us/sample - loss: 0.9378 - acc: 0.6157\n",
      "Epoch 68/200\n",
      "1119/1119 [==============================] - 0s 15us/sample - loss: 0.9293 - acc: 0.6023\n",
      "Epoch 69/200\n",
      "1119/1119 [==============================] - 0s 16us/sample - loss: 0.9336 - acc: 0.6095\n",
      "Epoch 70/200\n",
      "1119/1119 [==============================] - 0s 16us/sample - loss: 0.9361 - acc: 0.5952\n",
      "Epoch 71/200\n",
      "1119/1119 [==============================] - 0s 16us/sample - loss: 0.9620 - acc: 0.5925\n",
      "Epoch 72/200\n",
      "1119/1119 [==============================] - 0s 16us/sample - loss: 0.9447 - acc: 0.5862\n",
      "Epoch 73/200\n",
      "1119/1119 [==============================] - 0s 16us/sample - loss: 0.9304 - acc: 0.5996\n",
      "Epoch 74/200\n",
      "1119/1119 [==============================] - 0s 16us/sample - loss: 0.9495 - acc: 0.5809\n",
      "Epoch 75/200\n",
      "1119/1119 [==============================] - 0s 16us/sample - loss: 0.9512 - acc: 0.5737\n",
      "Epoch 76/200\n",
      "1119/1119 [==============================] - 0s 16us/sample - loss: 0.9399 - acc: 0.5898\n",
      "Epoch 77/200\n",
      "1119/1119 [==============================] - 0s 16us/sample - loss: 0.9415 - acc: 0.5862\n",
      "Epoch 78/200\n",
      "1119/1119 [==============================] - 0s 16us/sample - loss: 0.9554 - acc: 0.5827\n",
      "Epoch 79/200\n",
      "1119/1119 [==============================] - 0s 15us/sample - loss: 0.9227 - acc: 0.6041\n",
      "Epoch 80/200\n",
      "1119/1119 [==============================] - 0s 16us/sample - loss: 0.9159 - acc: 0.6050\n",
      "Epoch 81/200\n",
      "1119/1119 [==============================] - 0s 17us/sample - loss: 0.9262 - acc: 0.6113\n",
      "Epoch 82/200\n",
      "1119/1119 [==============================] - 0s 16us/sample - loss: 0.9216 - acc: 0.6023\n",
      "Epoch 83/200\n",
      "1119/1119 [==============================] - 0s 16us/sample - loss: 0.9296 - acc: 0.6059\n",
      "Epoch 84/200\n",
      "1119/1119 [==============================] - 0s 16us/sample - loss: 0.9137 - acc: 0.6184\n",
      "Epoch 85/200\n",
      "1119/1119 [==============================] - 0s 16us/sample - loss: 0.9203 - acc: 0.6077\n",
      "Epoch 86/200\n",
      "1119/1119 [==============================] - 0s 16us/sample - loss: 0.9345 - acc: 0.5970\n",
      "Epoch 87/200\n",
      "1119/1119 [==============================] - 0s 16us/sample - loss: 0.9324 - acc: 0.5961\n",
      "Epoch 88/200\n",
      "1119/1119 [==============================] - 0s 15us/sample - loss: 0.9271 - acc: 0.6157\n",
      "Epoch 89/200\n",
      "1119/1119 [==============================] - 0s 16us/sample - loss: 0.9122 - acc: 0.5889\n",
      "Epoch 90/200\n",
      "1119/1119 [==============================] - 0s 16us/sample - loss: 0.9196 - acc: 0.6068\n",
      "Epoch 91/200\n",
      "1119/1119 [==============================] - 0s 16us/sample - loss: 0.9088 - acc: 0.6059\n",
      "Epoch 92/200\n",
      "1119/1119 [==============================] - 0s 15us/sample - loss: 0.9128 - acc: 0.6130\n",
      "Epoch 93/200\n",
      "1119/1119 [==============================] - 0s 16us/sample - loss: 0.9102 - acc: 0.6175\n",
      "Epoch 94/200\n",
      "1119/1119 [==============================] - 0s 16us/sample - loss: 0.9135 - acc: 0.6175\n",
      "Epoch 95/200\n",
      "1119/1119 [==============================] - 0s 16us/sample - loss: 0.9222 - acc: 0.5773\n",
      "Epoch 96/200\n",
      "1119/1119 [==============================] - 0s 15us/sample - loss: 0.9049 - acc: 0.6175\n",
      "Epoch 97/200\n",
      "1119/1119 [==============================] - 0s 15us/sample - loss: 0.9221 - acc: 0.5952\n",
      "Epoch 98/200\n",
      "1119/1119 [==============================] - 0s 15us/sample - loss: 0.9152 - acc: 0.6014\n",
      "Epoch 99/200\n",
      "1119/1119 [==============================] - 0s 15us/sample - loss: 0.9071 - acc: 0.5996\n",
      "Epoch 100/200\n",
      "1119/1119 [==============================] - 0s 15us/sample - loss: 0.9066 - acc: 0.6193\n",
      "Epoch 101/200\n",
      "1119/1119 [==============================] - 0s 15us/sample - loss: 0.9176 - acc: 0.6050\n",
      "Epoch 102/200\n",
      "1119/1119 [==============================] - 0s 16us/sample - loss: 0.9160 - acc: 0.6104\n",
      "Epoch 103/200\n",
      "1119/1119 [==============================] - 0s 16us/sample - loss: 0.8985 - acc: 0.6157\n",
      "Epoch 104/200\n",
      "1119/1119 [==============================] - 0s 15us/sample - loss: 0.9036 - acc: 0.6202\n",
      "Epoch 105/200\n",
      "1119/1119 [==============================] - 0s 15us/sample - loss: 0.8965 - acc: 0.6139\n",
      "Epoch 106/200\n",
      "1119/1119 [==============================] - 0s 15us/sample - loss: 0.8907 - acc: 0.6273\n",
      "Epoch 107/200\n",
      "1119/1119 [==============================] - 0s 16us/sample - loss: 0.9044 - acc: 0.6256\n",
      "Epoch 108/200\n",
      "1119/1119 [==============================] - 0s 16us/sample - loss: 0.9166 - acc: 0.6095\n",
      "Epoch 109/200\n",
      "1119/1119 [==============================] - 0s 16us/sample - loss: 0.9106 - acc: 0.6184\n",
      "Epoch 110/200\n",
      "1119/1119 [==============================] - 0s 15us/sample - loss: 0.8911 - acc: 0.6184\n",
      "Epoch 111/200\n",
      "1119/1119 [==============================] - 0s 15us/sample - loss: 0.8877 - acc: 0.6265\n",
      "Epoch 112/200\n",
      "1119/1119 [==============================] - 0s 15us/sample - loss: 0.8939 - acc: 0.6184\n",
      "Epoch 113/200\n",
      "1119/1119 [==============================] - 0s 16us/sample - loss: 0.9208 - acc: 0.5889\n",
      "Epoch 114/200\n",
      "1119/1119 [==============================] - 0s 17us/sample - loss: 0.9102 - acc: 0.6023\n",
      "Epoch 115/200\n",
      "1119/1119 [==============================] - 0s 16us/sample - loss: 0.8812 - acc: 0.6282\n",
      "Epoch 116/200\n",
      "1119/1119 [==============================] - 0s 15us/sample - loss: 0.8833 - acc: 0.6202\n",
      "Epoch 117/200\n",
      "1119/1119 [==============================] - 0s 15us/sample - loss: 0.8972 - acc: 0.6211\n",
      "Epoch 118/200\n",
      "1119/1119 [==============================] - 0s 15us/sample - loss: 0.8903 - acc: 0.6220\n",
      "Epoch 119/200\n",
      "1119/1119 [==============================] - 0s 15us/sample - loss: 0.8802 - acc: 0.6229\n",
      "Epoch 120/200\n",
      "1119/1119 [==============================] - 0s 16us/sample - loss: 0.8875 - acc: 0.6175\n",
      "Epoch 121/200\n",
      "1119/1119 [==============================] - 0s 16us/sample - loss: 0.8836 - acc: 0.6247\n",
      "Epoch 122/200\n",
      "1119/1119 [==============================] - 0s 16us/sample - loss: 0.8957 - acc: 0.6113\n",
      "Epoch 123/200\n",
      "1119/1119 [==============================] - 0s 15us/sample - loss: 0.8982 - acc: 0.6059\n",
      "Epoch 124/200\n",
      "1119/1119 [==============================] - 0s 15us/sample - loss: 0.8970 - acc: 0.6265\n",
      "Epoch 125/200\n",
      "1119/1119 [==============================] - 0s 15us/sample - loss: 0.8874 - acc: 0.6256\n",
      "Epoch 126/200\n",
      "1119/1119 [==============================] - 0s 16us/sample - loss: 0.9104 - acc: 0.5809\n",
      "Epoch 127/200\n",
      "1119/1119 [==============================] - 0s 16us/sample - loss: 0.8968 - acc: 0.6229\n",
      "Epoch 128/200\n",
      "1119/1119 [==============================] - 0s 15us/sample - loss: 0.8899 - acc: 0.6175\n",
      "Epoch 129/200\n",
      "1119/1119 [==============================] - 0s 16us/sample - loss: 0.8760 - acc: 0.6390\n",
      "Epoch 130/200\n",
      "1119/1119 [==============================] - 0s 15us/sample - loss: 0.8806 - acc: 0.6211\n",
      "Epoch 131/200\n",
      "1119/1119 [==============================] - 0s 15us/sample - loss: 0.8964 - acc: 0.6068\n",
      "Epoch 132/200\n",
      "1119/1119 [==============================] - 0s 16us/sample - loss: 0.8852 - acc: 0.6238\n",
      "Epoch 133/200\n",
      "1119/1119 [==============================] - 0s 16us/sample - loss: 0.8701 - acc: 0.6381\n",
      "Epoch 134/200\n",
      "1119/1119 [==============================] - 0s 17us/sample - loss: 0.8880 - acc: 0.6291\n",
      "Epoch 135/200\n",
      "1119/1119 [==============================] - 0s 15us/sample - loss: 0.8707 - acc: 0.6211\n",
      "Epoch 136/200\n",
      "1119/1119 [==============================] - 0s 15us/sample - loss: 0.9136 - acc: 0.6050\n",
      "Epoch 137/200\n",
      "1119/1119 [==============================] - 0s 16us/sample - loss: 0.9137 - acc: 0.6202\n",
      "Epoch 138/200\n",
      "1119/1119 [==============================] - 0s 15us/sample - loss: 0.8613 - acc: 0.6372\n",
      "Epoch 139/200\n",
      "1119/1119 [==============================] - 0s 16us/sample - loss: 0.8701 - acc: 0.6318\n",
      "Epoch 140/200\n",
      "1119/1119 [==============================] - 0s 15us/sample - loss: 0.8644 - acc: 0.6443\n",
      "Epoch 141/200\n",
      "1119/1119 [==============================] - 0s 15us/sample - loss: 0.8757 - acc: 0.6265\n",
      "Epoch 142/200\n",
      "1119/1119 [==============================] - 0s 15us/sample - loss: 0.8786 - acc: 0.6336\n",
      "Epoch 143/200\n",
      "1119/1119 [==============================] - 0s 15us/sample - loss: 0.8938 - acc: 0.6273\n",
      "Epoch 144/200\n",
      "1119/1119 [==============================] - 0s 16us/sample - loss: 0.8692 - acc: 0.6202\n",
      "Epoch 145/200\n",
      "1119/1119 [==============================] - 0s 16us/sample - loss: 0.8687 - acc: 0.6318\n",
      "Epoch 146/200\n",
      "1119/1119 [==============================] - 0s 15us/sample - loss: 0.8830 - acc: 0.6157\n",
      "Epoch 147/200\n",
      "1119/1119 [==============================] - 0s 16us/sample - loss: 0.8804 - acc: 0.6247\n",
      "Epoch 148/200\n",
      "1119/1119 [==============================] - 0s 16us/sample - loss: 0.8590 - acc: 0.6318\n",
      "Epoch 149/200\n",
      "1119/1119 [==============================] - 0s 16us/sample - loss: 0.8615 - acc: 0.6300\n",
      "Epoch 150/200\n",
      "1119/1119 [==============================] - 0s 16us/sample - loss: 0.8609 - acc: 0.6336\n",
      "Epoch 151/200\n",
      "1119/1119 [==============================] - 0s 15us/sample - loss: 0.8670 - acc: 0.6309\n",
      "Epoch 152/200\n",
      "1119/1119 [==============================] - 0s 16us/sample - loss: 0.8540 - acc: 0.6425\n",
      "Epoch 153/200\n",
      "1119/1119 [==============================] - 0s 17us/sample - loss: 0.8591 - acc: 0.6336\n",
      "Epoch 154/200\n",
      "1119/1119 [==============================] - 0s 15us/sample - loss: 0.8616 - acc: 0.6497\n",
      "Epoch 155/200\n",
      "1119/1119 [==============================] - 0s 14us/sample - loss: 0.8475 - acc: 0.6479\n",
      "Epoch 156/200\n",
      "1119/1119 [==============================] - 0s 15us/sample - loss: 0.8621 - acc: 0.6381\n",
      "Epoch 157/200\n",
      "1119/1119 [==============================] - 0s 15us/sample - loss: 0.8555 - acc: 0.6434\n",
      "Epoch 158/200\n",
      "1119/1119 [==============================] - 0s 16us/sample - loss: 0.8663 - acc: 0.6229\n",
      "Epoch 159/200\n",
      "1119/1119 [==============================] - 0s 16us/sample - loss: 0.8571 - acc: 0.6408\n",
      "Epoch 160/200\n"
     ]
    },
    {
     "name": "stdout",
     "output_type": "stream",
     "text": [
      "1119/1119 [==============================] - 0s 16us/sample - loss: 0.8797 - acc: 0.6220\n",
      "Epoch 161/200\n",
      "1119/1119 [==============================] - 0s 16us/sample - loss: 0.8641 - acc: 0.6318\n",
      "Epoch 162/200\n",
      "1119/1119 [==============================] - 0s 16us/sample - loss: 0.8689 - acc: 0.6381\n",
      "Epoch 163/200\n",
      "1119/1119 [==============================] - 0s 15us/sample - loss: 0.8578 - acc: 0.6273\n",
      "Epoch 164/200\n",
      "1119/1119 [==============================] - 0s 16us/sample - loss: 0.8608 - acc: 0.6399\n",
      "Epoch 165/200\n",
      "1119/1119 [==============================] - 0s 16us/sample - loss: 0.8501 - acc: 0.6336\n",
      "Epoch 166/200\n",
      "1119/1119 [==============================] - 0s 15us/sample - loss: 0.8545 - acc: 0.6425\n",
      "Epoch 167/200\n",
      "1119/1119 [==============================] - 0s 15us/sample - loss: 0.8606 - acc: 0.6443\n",
      "Epoch 168/200\n",
      "1119/1119 [==============================] - 0s 15us/sample - loss: 0.8554 - acc: 0.6515\n",
      "Epoch 169/200\n",
      "1119/1119 [==============================] - 0s 15us/sample - loss: 0.8944 - acc: 0.6265\n",
      "Epoch 170/200\n",
      "1119/1119 [==============================] - 0s 15us/sample - loss: 0.8795 - acc: 0.6184\n",
      "Epoch 171/200\n",
      "1119/1119 [==============================] - 0s 16us/sample - loss: 0.8663 - acc: 0.6372\n",
      "Epoch 172/200\n",
      "1119/1119 [==============================] - 0s 16us/sample - loss: 0.8743 - acc: 0.6452\n",
      "Epoch 173/200\n",
      "1119/1119 [==============================] - 0s 16us/sample - loss: 0.8442 - acc: 0.6542\n",
      "Epoch 174/200\n",
      "1119/1119 [==============================] - 0s 15us/sample - loss: 0.8545 - acc: 0.6336\n",
      "Epoch 175/200\n",
      "1119/1119 [==============================] - 0s 15us/sample - loss: 0.8474 - acc: 0.6336\n",
      "Epoch 176/200\n",
      "1119/1119 [==============================] - 0s 15us/sample - loss: 0.8499 - acc: 0.6604\n",
      "Epoch 177/200\n",
      "1119/1119 [==============================] - 0s 15us/sample - loss: 0.8517 - acc: 0.6470\n",
      "Epoch 178/200\n",
      "1119/1119 [==============================] - 0s 15us/sample - loss: 0.8686 - acc: 0.6497\n",
      "Epoch 179/200\n",
      "1119/1119 [==============================] - 0s 16us/sample - loss: 0.8469 - acc: 0.6425\n",
      "Epoch 180/200\n",
      "1119/1119 [==============================] - 0s 17us/sample - loss: 0.8524 - acc: 0.6559\n",
      "Epoch 181/200\n",
      "1119/1119 [==============================] - 0s 15us/sample - loss: 0.8660 - acc: 0.6318\n",
      "Epoch 182/200\n",
      "1119/1119 [==============================] - 0s 16us/sample - loss: 0.8607 - acc: 0.6211\n",
      "Epoch 183/200\n",
      "1119/1119 [==============================] - 0s 16us/sample - loss: 0.8459 - acc: 0.6595\n",
      "Epoch 184/200\n",
      "1119/1119 [==============================] - 0s 15us/sample - loss: 0.8494 - acc: 0.6515\n",
      "Epoch 185/200\n",
      "1119/1119 [==============================] - 0s 16us/sample - loss: 0.8373 - acc: 0.6425\n",
      "Epoch 186/200\n",
      "1119/1119 [==============================] - 0s 15us/sample - loss: 0.8395 - acc: 0.6488\n",
      "Epoch 187/200\n",
      "1119/1119 [==============================] - 0s 16us/sample - loss: 0.8540 - acc: 0.6390\n",
      "Epoch 188/200\n",
      "1119/1119 [==============================] - 0s 15us/sample - loss: 0.8338 - acc: 0.6515\n",
      "Epoch 189/200\n",
      "1119/1119 [==============================] - 0s 15us/sample - loss: 0.8409 - acc: 0.6425\n",
      "Epoch 190/200\n",
      "1119/1119 [==============================] - 0s 15us/sample - loss: 0.8632 - acc: 0.6345\n",
      "Epoch 191/200\n",
      "1119/1119 [==============================] - 0s 16us/sample - loss: 0.8632 - acc: 0.6327\n",
      "Epoch 192/200\n",
      "1119/1119 [==============================] - 0s 16us/sample - loss: 0.8677 - acc: 0.6247\n",
      "Epoch 193/200\n",
      "1119/1119 [==============================] - 0s 16us/sample - loss: 0.8408 - acc: 0.6452\n",
      "Epoch 194/200\n",
      "1119/1119 [==============================] - 0s 15us/sample - loss: 0.8382 - acc: 0.6408\n",
      "Epoch 195/200\n",
      "1119/1119 [==============================] - 0s 15us/sample - loss: 0.8390 - acc: 0.6542\n",
      "Epoch 196/200\n",
      "1119/1119 [==============================] - 0s 15us/sample - loss: 0.8412 - acc: 0.6488\n",
      "Epoch 197/200\n",
      "1119/1119 [==============================] - 0s 15us/sample - loss: 0.8538 - acc: 0.6399\n",
      "Epoch 198/200\n",
      "1119/1119 [==============================] - 0s 15us/sample - loss: 0.8437 - acc: 0.6399\n",
      "Epoch 199/200\n",
      "1119/1119 [==============================] - 0s 16us/sample - loss: 0.8761 - acc: 0.6175\n",
      "Epoch 200/200\n",
      "1119/1119 [==============================] - 0s 17us/sample - loss: 0.8507 - acc: 0.6497\n"
     ]
    },
    {
     "ename": "ValueError",
     "evalue": "Shape of passed values is (480, 1), indices imply (480, 6)",
     "output_type": "error",
     "traceback": [
      "\u001b[1;31m---------------------------------------------------------------------------\u001b[0m",
      "\u001b[1;31mValueError\u001b[0m                                Traceback (most recent call last)",
      "\u001b[1;32m~\\anaconda3\\lib\\site-packages\\pandas\\core\\internals\\managers.py\u001b[0m in \u001b[0;36mcreate_block_manager_from_blocks\u001b[1;34m(blocks, axes)\u001b[0m\n\u001b[0;32m   1653\u001b[0m                 blocks = [\n\u001b[1;32m-> 1654\u001b[1;33m                     \u001b[0mmake_block\u001b[0m\u001b[1;33m(\u001b[0m\u001b[0mvalues\u001b[0m\u001b[1;33m=\u001b[0m\u001b[0mblocks\u001b[0m\u001b[1;33m[\u001b[0m\u001b[1;36m0\u001b[0m\u001b[1;33m]\u001b[0m\u001b[1;33m,\u001b[0m \u001b[0mplacement\u001b[0m\u001b[1;33m=\u001b[0m\u001b[0mslice\u001b[0m\u001b[1;33m(\u001b[0m\u001b[1;36m0\u001b[0m\u001b[1;33m,\u001b[0m \u001b[0mlen\u001b[0m\u001b[1;33m(\u001b[0m\u001b[0maxes\u001b[0m\u001b[1;33m[\u001b[0m\u001b[1;36m0\u001b[0m\u001b[1;33m]\u001b[0m\u001b[1;33m)\u001b[0m\u001b[1;33m)\u001b[0m\u001b[1;33m)\u001b[0m\u001b[1;33m\u001b[0m\u001b[1;33m\u001b[0m\u001b[0m\n\u001b[0m\u001b[0;32m   1655\u001b[0m                 ]\n",
      "\u001b[1;32m~\\anaconda3\\lib\\site-packages\\pandas\\core\\internals\\blocks.py\u001b[0m in \u001b[0;36mmake_block\u001b[1;34m(values, placement, klass, ndim, dtype)\u001b[0m\n\u001b[0;32m   3046\u001b[0m \u001b[1;33m\u001b[0m\u001b[0m\n\u001b[1;32m-> 3047\u001b[1;33m     \u001b[1;32mreturn\u001b[0m \u001b[0mklass\u001b[0m\u001b[1;33m(\u001b[0m\u001b[0mvalues\u001b[0m\u001b[1;33m,\u001b[0m \u001b[0mndim\u001b[0m\u001b[1;33m=\u001b[0m\u001b[0mndim\u001b[0m\u001b[1;33m,\u001b[0m \u001b[0mplacement\u001b[0m\u001b[1;33m=\u001b[0m\u001b[0mplacement\u001b[0m\u001b[1;33m)\u001b[0m\u001b[1;33m\u001b[0m\u001b[1;33m\u001b[0m\u001b[0m\n\u001b[0m\u001b[0;32m   3048\u001b[0m \u001b[1;33m\u001b[0m\u001b[0m\n",
      "\u001b[1;32m~\\anaconda3\\lib\\site-packages\\pandas\\core\\internals\\blocks.py\u001b[0m in \u001b[0;36m__init__\u001b[1;34m(self, values, placement, ndim)\u001b[0m\n\u001b[0;32m    124\u001b[0m             raise ValueError(\n\u001b[1;32m--> 125\u001b[1;33m                 \u001b[1;34mf\"Wrong number of items passed {len(self.values)}, \"\u001b[0m\u001b[1;33m\u001b[0m\u001b[1;33m\u001b[0m\u001b[0m\n\u001b[0m\u001b[0;32m    126\u001b[0m                 \u001b[1;34mf\"placement implies {len(self.mgr_locs)}\"\u001b[0m\u001b[1;33m\u001b[0m\u001b[1;33m\u001b[0m\u001b[0m\n",
      "\u001b[1;31mValueError\u001b[0m: Wrong number of items passed 1, placement implies 6",
      "\nDuring handling of the above exception, another exception occurred:\n",
      "\u001b[1;31mValueError\u001b[0m                                Traceback (most recent call last)",
      "\u001b[1;32m<ipython-input-131-cca15d31742b>\u001b[0m in \u001b[0;36m<module>\u001b[1;34m\u001b[0m\n\u001b[0;32m     18\u001b[0m \u001b[1;32mimport\u001b[0m \u001b[0mnumpy\u001b[0m \u001b[1;32mas\u001b[0m \u001b[0mnp\u001b[0m\u001b[1;33m\u001b[0m\u001b[1;33m\u001b[0m\u001b[0m\n\u001b[0;32m     19\u001b[0m \u001b[0mpred\u001b[0m \u001b[1;33m=\u001b[0m \u001b[0mnp\u001b[0m\u001b[1;33m.\u001b[0m\u001b[0margmax\u001b[0m\u001b[1;33m(\u001b[0m\u001b[0mmodel\u001b[0m\u001b[1;33m.\u001b[0m\u001b[0mpredict\u001b[0m\u001b[1;33m(\u001b[0m\u001b[0mtest_x\u001b[0m\u001b[1;33m)\u001b[0m\u001b[1;33m,\u001b[0m \u001b[0maxis\u001b[0m\u001b[1;33m=\u001b[0m\u001b[1;36m1\u001b[0m\u001b[1;33m)\u001b[0m\u001b[1;33m\u001b[0m\u001b[1;33m\u001b[0m\u001b[0m\n\u001b[1;32m---> 20\u001b[1;33m \u001b[0mpd\u001b[0m\u001b[1;33m.\u001b[0m\u001b[0mcrosstab\u001b[0m\u001b[1;33m(\u001b[0m\u001b[0mnp\u001b[0m\u001b[1;33m.\u001b[0m\u001b[0margmax\u001b[0m\u001b[1;33m(\u001b[0m\u001b[0mtest_y\u001b[0m\u001b[1;33m,\u001b[0m \u001b[0maxis\u001b[0m \u001b[1;33m=\u001b[0m\u001b[1;36m1\u001b[0m\u001b[1;33m)\u001b[0m\u001b[1;33m,\u001b[0m \u001b[0mpred\u001b[0m\u001b[1;33m)\u001b[0m\u001b[1;33m\u001b[0m\u001b[1;33m\u001b[0m\u001b[0m\n\u001b[0m\u001b[0;32m     21\u001b[0m \u001b[0mmodel\u001b[0m\u001b[1;33m.\u001b[0m\u001b[0mevaluate\u001b[0m\u001b[1;33m(\u001b[0m\u001b[0mtest_x\u001b[0m\u001b[1;33m,\u001b[0m \u001b[0mtest_y\u001b[0m\u001b[1;33m)\u001b[0m\u001b[1;33m\u001b[0m\u001b[1;33m\u001b[0m\u001b[0m\n",
      "\u001b[1;32m<__array_function__ internals>\u001b[0m in \u001b[0;36margmax\u001b[1;34m(*args, **kwargs)\u001b[0m\n",
      "\u001b[1;32m~\\anaconda3\\lib\\site-packages\\numpy\\core\\fromnumeric.py\u001b[0m in \u001b[0;36margmax\u001b[1;34m(a, axis, out)\u001b[0m\n\u001b[0;32m   1184\u001b[0m \u001b[1;33m\u001b[0m\u001b[0m\n\u001b[0;32m   1185\u001b[0m     \"\"\"\n\u001b[1;32m-> 1186\u001b[1;33m     \u001b[1;32mreturn\u001b[0m \u001b[0m_wrapfunc\u001b[0m\u001b[1;33m(\u001b[0m\u001b[0ma\u001b[0m\u001b[1;33m,\u001b[0m \u001b[1;34m'argmax'\u001b[0m\u001b[1;33m,\u001b[0m \u001b[0maxis\u001b[0m\u001b[1;33m=\u001b[0m\u001b[0maxis\u001b[0m\u001b[1;33m,\u001b[0m \u001b[0mout\u001b[0m\u001b[1;33m=\u001b[0m\u001b[0mout\u001b[0m\u001b[1;33m)\u001b[0m\u001b[1;33m\u001b[0m\u001b[1;33m\u001b[0m\u001b[0m\n\u001b[0m\u001b[0;32m   1187\u001b[0m \u001b[1;33m\u001b[0m\u001b[0m\n\u001b[0;32m   1188\u001b[0m \u001b[1;33m\u001b[0m\u001b[0m\n",
      "\u001b[1;32m~\\anaconda3\\lib\\site-packages\\numpy\\core\\fromnumeric.py\u001b[0m in \u001b[0;36m_wrapfunc\u001b[1;34m(obj, method, *args, **kwds)\u001b[0m\n\u001b[0;32m     56\u001b[0m     \u001b[0mbound\u001b[0m \u001b[1;33m=\u001b[0m \u001b[0mgetattr\u001b[0m\u001b[1;33m(\u001b[0m\u001b[0mobj\u001b[0m\u001b[1;33m,\u001b[0m \u001b[0mmethod\u001b[0m\u001b[1;33m,\u001b[0m \u001b[1;32mNone\u001b[0m\u001b[1;33m)\u001b[0m\u001b[1;33m\u001b[0m\u001b[1;33m\u001b[0m\u001b[0m\n\u001b[0;32m     57\u001b[0m     \u001b[1;32mif\u001b[0m \u001b[0mbound\u001b[0m \u001b[1;32mis\u001b[0m \u001b[1;32mNone\u001b[0m\u001b[1;33m:\u001b[0m\u001b[1;33m\u001b[0m\u001b[1;33m\u001b[0m\u001b[0m\n\u001b[1;32m---> 58\u001b[1;33m         \u001b[1;32mreturn\u001b[0m \u001b[0m_wrapit\u001b[0m\u001b[1;33m(\u001b[0m\u001b[0mobj\u001b[0m\u001b[1;33m,\u001b[0m \u001b[0mmethod\u001b[0m\u001b[1;33m,\u001b[0m \u001b[1;33m*\u001b[0m\u001b[0margs\u001b[0m\u001b[1;33m,\u001b[0m \u001b[1;33m**\u001b[0m\u001b[0mkwds\u001b[0m\u001b[1;33m)\u001b[0m\u001b[1;33m\u001b[0m\u001b[1;33m\u001b[0m\u001b[0m\n\u001b[0m\u001b[0;32m     59\u001b[0m \u001b[1;33m\u001b[0m\u001b[0m\n\u001b[0;32m     60\u001b[0m     \u001b[1;32mtry\u001b[0m\u001b[1;33m:\u001b[0m\u001b[1;33m\u001b[0m\u001b[1;33m\u001b[0m\u001b[0m\n",
      "\u001b[1;32m~\\anaconda3\\lib\\site-packages\\numpy\\core\\fromnumeric.py\u001b[0m in \u001b[0;36m_wrapit\u001b[1;34m(obj, method, *args, **kwds)\u001b[0m\n\u001b[0;32m     49\u001b[0m         \u001b[1;32mif\u001b[0m \u001b[1;32mnot\u001b[0m \u001b[0misinstance\u001b[0m\u001b[1;33m(\u001b[0m\u001b[0mresult\u001b[0m\u001b[1;33m,\u001b[0m \u001b[0mmu\u001b[0m\u001b[1;33m.\u001b[0m\u001b[0mndarray\u001b[0m\u001b[1;33m)\u001b[0m\u001b[1;33m:\u001b[0m\u001b[1;33m\u001b[0m\u001b[1;33m\u001b[0m\u001b[0m\n\u001b[0;32m     50\u001b[0m             \u001b[0mresult\u001b[0m \u001b[1;33m=\u001b[0m \u001b[0masarray\u001b[0m\u001b[1;33m(\u001b[0m\u001b[0mresult\u001b[0m\u001b[1;33m)\u001b[0m\u001b[1;33m\u001b[0m\u001b[1;33m\u001b[0m\u001b[0m\n\u001b[1;32m---> 51\u001b[1;33m         \u001b[0mresult\u001b[0m \u001b[1;33m=\u001b[0m \u001b[0mwrap\u001b[0m\u001b[1;33m(\u001b[0m\u001b[0mresult\u001b[0m\u001b[1;33m)\u001b[0m\u001b[1;33m\u001b[0m\u001b[1;33m\u001b[0m\u001b[0m\n\u001b[0m\u001b[0;32m     52\u001b[0m     \u001b[1;32mreturn\u001b[0m \u001b[0mresult\u001b[0m\u001b[1;33m\u001b[0m\u001b[1;33m\u001b[0m\u001b[0m\n\u001b[0;32m     53\u001b[0m \u001b[1;33m\u001b[0m\u001b[0m\n",
      "\u001b[1;32m~\\anaconda3\\lib\\site-packages\\pandas\\core\\generic.py\u001b[0m in \u001b[0;36m__array_wrap__\u001b[1;34m(self, result, context)\u001b[0m\n\u001b[0;32m   1916\u001b[0m             \u001b[1;32mreturn\u001b[0m \u001b[0mresult\u001b[0m\u001b[1;33m\u001b[0m\u001b[1;33m\u001b[0m\u001b[0m\n\u001b[0;32m   1917\u001b[0m         \u001b[0md\u001b[0m \u001b[1;33m=\u001b[0m \u001b[0mself\u001b[0m\u001b[1;33m.\u001b[0m\u001b[0m_construct_axes_dict\u001b[0m\u001b[1;33m(\u001b[0m\u001b[0mself\u001b[0m\u001b[1;33m.\u001b[0m\u001b[0m_AXIS_ORDERS\u001b[0m\u001b[1;33m,\u001b[0m \u001b[0mcopy\u001b[0m\u001b[1;33m=\u001b[0m\u001b[1;32mFalse\u001b[0m\u001b[1;33m)\u001b[0m\u001b[1;33m\u001b[0m\u001b[1;33m\u001b[0m\u001b[0m\n\u001b[1;32m-> 1918\u001b[1;33m         \u001b[1;32mreturn\u001b[0m \u001b[0mself\u001b[0m\u001b[1;33m.\u001b[0m\u001b[0m_constructor\u001b[0m\u001b[1;33m(\u001b[0m\u001b[0mresult\u001b[0m\u001b[1;33m,\u001b[0m \u001b[1;33m**\u001b[0m\u001b[0md\u001b[0m\u001b[1;33m)\u001b[0m\u001b[1;33m.\u001b[0m\u001b[0m__finalize__\u001b[0m\u001b[1;33m(\u001b[0m\u001b[0mself\u001b[0m\u001b[1;33m)\u001b[0m\u001b[1;33m\u001b[0m\u001b[1;33m\u001b[0m\u001b[0m\n\u001b[0m\u001b[0;32m   1919\u001b[0m \u001b[1;33m\u001b[0m\u001b[0m\n\u001b[0;32m   1920\u001b[0m     \u001b[1;31m# ideally we would define this to avoid the getattr checks, but\u001b[0m\u001b[1;33m\u001b[0m\u001b[1;33m\u001b[0m\u001b[1;33m\u001b[0m\u001b[0m\n",
      "\u001b[1;32m~\\anaconda3\\lib\\site-packages\\pandas\\core\\frame.py\u001b[0m in \u001b[0;36m__init__\u001b[1;34m(self, data, index, columns, dtype, copy)\u001b[0m\n\u001b[0;32m    462\u001b[0m                 \u001b[0mmgr\u001b[0m \u001b[1;33m=\u001b[0m \u001b[0minit_dict\u001b[0m\u001b[1;33m(\u001b[0m\u001b[1;33m{\u001b[0m\u001b[0mdata\u001b[0m\u001b[1;33m.\u001b[0m\u001b[0mname\u001b[0m\u001b[1;33m:\u001b[0m \u001b[0mdata\u001b[0m\u001b[1;33m}\u001b[0m\u001b[1;33m,\u001b[0m \u001b[0mindex\u001b[0m\u001b[1;33m,\u001b[0m \u001b[0mcolumns\u001b[0m\u001b[1;33m,\u001b[0m \u001b[0mdtype\u001b[0m\u001b[1;33m=\u001b[0m\u001b[0mdtype\u001b[0m\u001b[1;33m)\u001b[0m\u001b[1;33m\u001b[0m\u001b[1;33m\u001b[0m\u001b[0m\n\u001b[0;32m    463\u001b[0m             \u001b[1;32melse\u001b[0m\u001b[1;33m:\u001b[0m\u001b[1;33m\u001b[0m\u001b[1;33m\u001b[0m\u001b[0m\n\u001b[1;32m--> 464\u001b[1;33m                 \u001b[0mmgr\u001b[0m \u001b[1;33m=\u001b[0m \u001b[0minit_ndarray\u001b[0m\u001b[1;33m(\u001b[0m\u001b[0mdata\u001b[0m\u001b[1;33m,\u001b[0m \u001b[0mindex\u001b[0m\u001b[1;33m,\u001b[0m \u001b[0mcolumns\u001b[0m\u001b[1;33m,\u001b[0m \u001b[0mdtype\u001b[0m\u001b[1;33m=\u001b[0m\u001b[0mdtype\u001b[0m\u001b[1;33m,\u001b[0m \u001b[0mcopy\u001b[0m\u001b[1;33m=\u001b[0m\u001b[0mcopy\u001b[0m\u001b[1;33m)\u001b[0m\u001b[1;33m\u001b[0m\u001b[1;33m\u001b[0m\u001b[0m\n\u001b[0m\u001b[0;32m    465\u001b[0m \u001b[1;33m\u001b[0m\u001b[0m\n\u001b[0;32m    466\u001b[0m         \u001b[1;31m# For data is list-like, or Iterable (will consume into list)\u001b[0m\u001b[1;33m\u001b[0m\u001b[1;33m\u001b[0m\u001b[1;33m\u001b[0m\u001b[0m\n",
      "\u001b[1;32m~\\anaconda3\\lib\\site-packages\\pandas\\core\\internals\\construction.py\u001b[0m in \u001b[0;36minit_ndarray\u001b[1;34m(values, index, columns, dtype, copy)\u001b[0m\n\u001b[0;32m    208\u001b[0m         \u001b[0mblock_values\u001b[0m \u001b[1;33m=\u001b[0m \u001b[1;33m[\u001b[0m\u001b[0mvalues\u001b[0m\u001b[1;33m]\u001b[0m\u001b[1;33m\u001b[0m\u001b[1;33m\u001b[0m\u001b[0m\n\u001b[0;32m    209\u001b[0m \u001b[1;33m\u001b[0m\u001b[0m\n\u001b[1;32m--> 210\u001b[1;33m     \u001b[1;32mreturn\u001b[0m \u001b[0mcreate_block_manager_from_blocks\u001b[0m\u001b[1;33m(\u001b[0m\u001b[0mblock_values\u001b[0m\u001b[1;33m,\u001b[0m \u001b[1;33m[\u001b[0m\u001b[0mcolumns\u001b[0m\u001b[1;33m,\u001b[0m \u001b[0mindex\u001b[0m\u001b[1;33m]\u001b[0m\u001b[1;33m)\u001b[0m\u001b[1;33m\u001b[0m\u001b[1;33m\u001b[0m\u001b[0m\n\u001b[0m\u001b[0;32m    211\u001b[0m \u001b[1;33m\u001b[0m\u001b[0m\n\u001b[0;32m    212\u001b[0m \u001b[1;33m\u001b[0m\u001b[0m\n",
      "\u001b[1;32m~\\anaconda3\\lib\\site-packages\\pandas\\core\\internals\\managers.py\u001b[0m in \u001b[0;36mcreate_block_manager_from_blocks\u001b[1;34m(blocks, axes)\u001b[0m\n\u001b[0;32m   1662\u001b[0m         \u001b[0mblocks\u001b[0m \u001b[1;33m=\u001b[0m \u001b[1;33m[\u001b[0m\u001b[0mgetattr\u001b[0m\u001b[1;33m(\u001b[0m\u001b[0mb\u001b[0m\u001b[1;33m,\u001b[0m \u001b[1;34m\"values\"\u001b[0m\u001b[1;33m,\u001b[0m \u001b[0mb\u001b[0m\u001b[1;33m)\u001b[0m \u001b[1;32mfor\u001b[0m \u001b[0mb\u001b[0m \u001b[1;32min\u001b[0m \u001b[0mblocks\u001b[0m\u001b[1;33m]\u001b[0m\u001b[1;33m\u001b[0m\u001b[1;33m\u001b[0m\u001b[0m\n\u001b[0;32m   1663\u001b[0m         \u001b[0mtot_items\u001b[0m \u001b[1;33m=\u001b[0m \u001b[0msum\u001b[0m\u001b[1;33m(\u001b[0m\u001b[0mb\u001b[0m\u001b[1;33m.\u001b[0m\u001b[0mshape\u001b[0m\u001b[1;33m[\u001b[0m\u001b[1;36m0\u001b[0m\u001b[1;33m]\u001b[0m \u001b[1;32mfor\u001b[0m \u001b[0mb\u001b[0m \u001b[1;32min\u001b[0m \u001b[0mblocks\u001b[0m\u001b[1;33m)\u001b[0m\u001b[1;33m\u001b[0m\u001b[1;33m\u001b[0m\u001b[0m\n\u001b[1;32m-> 1664\u001b[1;33m         \u001b[0mconstruction_error\u001b[0m\u001b[1;33m(\u001b[0m\u001b[0mtot_items\u001b[0m\u001b[1;33m,\u001b[0m \u001b[0mblocks\u001b[0m\u001b[1;33m[\u001b[0m\u001b[1;36m0\u001b[0m\u001b[1;33m]\u001b[0m\u001b[1;33m.\u001b[0m\u001b[0mshape\u001b[0m\u001b[1;33m[\u001b[0m\u001b[1;36m1\u001b[0m\u001b[1;33m:\u001b[0m\u001b[1;33m]\u001b[0m\u001b[1;33m,\u001b[0m \u001b[0maxes\u001b[0m\u001b[1;33m,\u001b[0m \u001b[0me\u001b[0m\u001b[1;33m)\u001b[0m\u001b[1;33m\u001b[0m\u001b[1;33m\u001b[0m\u001b[0m\n\u001b[0m\u001b[0;32m   1665\u001b[0m \u001b[1;33m\u001b[0m\u001b[0m\n\u001b[0;32m   1666\u001b[0m \u001b[1;33m\u001b[0m\u001b[0m\n",
      "\u001b[1;32m~\\anaconda3\\lib\\site-packages\\pandas\\core\\internals\\managers.py\u001b[0m in \u001b[0;36mconstruction_error\u001b[1;34m(tot_items, block_shape, axes, e)\u001b[0m\n\u001b[0;32m   1692\u001b[0m     \u001b[1;32mif\u001b[0m \u001b[0mblock_shape\u001b[0m\u001b[1;33m[\u001b[0m\u001b[1;36m0\u001b[0m\u001b[1;33m]\u001b[0m \u001b[1;33m==\u001b[0m \u001b[1;36m0\u001b[0m\u001b[1;33m:\u001b[0m\u001b[1;33m\u001b[0m\u001b[1;33m\u001b[0m\u001b[0m\n\u001b[0;32m   1693\u001b[0m         \u001b[1;32mraise\u001b[0m \u001b[0mValueError\u001b[0m\u001b[1;33m(\u001b[0m\u001b[1;34m\"Empty data passed with indices specified.\"\u001b[0m\u001b[1;33m)\u001b[0m\u001b[1;33m\u001b[0m\u001b[1;33m\u001b[0m\u001b[0m\n\u001b[1;32m-> 1694\u001b[1;33m     \u001b[1;32mraise\u001b[0m \u001b[0mValueError\u001b[0m\u001b[1;33m(\u001b[0m\u001b[1;34mf\"Shape of passed values is {passed}, indices imply {implied}\"\u001b[0m\u001b[1;33m)\u001b[0m\u001b[1;33m\u001b[0m\u001b[1;33m\u001b[0m\u001b[0m\n\u001b[0m\u001b[0;32m   1695\u001b[0m \u001b[1;33m\u001b[0m\u001b[0m\n\u001b[0;32m   1696\u001b[0m \u001b[1;33m\u001b[0m\u001b[0m\n",
      "\u001b[1;31mValueError\u001b[0m: Shape of passed values is (480, 1), indices imply (480, 6)"
     ]
    }
   ],
   "source": [
    "from tensorflow.keras.models import Sequential\n",
    "model = Sequential()\n",
    "from tensorflow.keras.layers import Input, Dense\n",
    "model.add(Input(11))\n",
    "model.add(Dense(50, activation=\"relu\"))\n",
    "model.add(Dense(50, activation=\"relu\"))\n",
    "model.add(Dense(30, activation=\"relu\"))\n",
    "model.add(Dense(6, activation=\"softmax\"))\n",
    "model.compile(optimizer =\"adam\", loss=\"categorical_crossentropy\", metrics=[\"accuracy\"]) # 평가항목 \n",
    "model.fit(train_x, train_y, batch_size=50, epochs=200, verbose=1)\n",
    "import numpy as np\n",
    "pred = np.argmax(model.predict(test_x), axis=1)\n",
    "pd.crosstab(np.argmax(test_y, axis =1), pred)\n",
    "model.evaluate(test_x, test_y)"
   ]
  },
  {
   "cell_type": "markdown",
   "metadata": {},
   "source": [
    "## 필기체 숫자이미지 분류 (mnist) "
   ]
  },
  {
   "cell_type": "code",
   "execution_count": 133,
   "metadata": {
    "ExecuteTime": {
     "end_time": "2020-07-07T06:45:11.376280Z",
     "start_time": "2020-07-07T06:45:11.304077Z"
    }
   },
   "outputs": [
    {
     "name": "stdout",
     "output_type": "stream",
     "text": [
      "(1000, 2000)\n"
     ]
    }
   ],
   "source": [
    "import cv2\n",
    "import numpy as np\n",
    "\n",
    "img = cv2.imread(\"digits.png\", cv2.IMREAD_GRAYSCALE)\n",
    "print(img.shape)"
   ]
  },
  {
   "cell_type": "code",
   "execution_count": 134,
   "metadata": {
    "ExecuteTime": {
     "end_time": "2020-07-07T06:45:19.906206Z",
     "start_time": "2020-07-07T06:45:12.106709Z"
    }
   },
   "outputs": [
    {
     "data": {
      "text/plain": [
       "-1"
      ]
     },
     "execution_count": 134,
     "metadata": {},
     "output_type": "execute_result"
    }
   ],
   "source": [
    "cv2.imshow(\"number\", img)\n",
    "cv2.waitKey(0)\n"
   ]
  },
  {
   "cell_type": "markdown",
   "metadata": {},
   "source": [
    "### 텐서플로우를 이용한 분류"
   ]
  },
  {
   "cell_type": "code",
   "execution_count": 159,
   "metadata": {
    "ExecuteTime": {
     "end_time": "2020-07-07T07:03:56.916318Z",
     "start_time": "2020-07-07T07:03:56.897718Z"
    }
   },
   "outputs": [
    {
     "name": "stdout",
     "output_type": "stream",
     "text": [
      "(1000, 2000)\n"
     ]
    }
   ],
   "source": [
    "import tensorflow as tf\n",
    "import numpy as np\n",
    "import pandas as pd\n",
    "\n",
    "img = cv2.imread(\"digits.png\", cv2.IMREAD_GRAYSCALE)\n",
    "print(img.shape)"
   ]
  },
  {
   "cell_type": "code",
   "execution_count": 160,
   "metadata": {
    "ExecuteTime": {
     "end_time": "2020-07-07T07:04:03.406628Z",
     "start_time": "2020-07-07T07:04:03.384627Z"
    }
   },
   "outputs": [],
   "source": [
    "cells = [np.hsplit(row , 100) for row in np.vsplit(img,50)]\n",
    "x = np.array(cells)\n",
    "X = x[:,:].reshape(-1,400).astype(np.float32)\n",
    "y= pd.get_dummies(np.repeat(np.arange(10),500)).to_numpy()"
   ]
  },
  {
   "cell_type": "code",
   "execution_count": 161,
   "metadata": {
    "ExecuteTime": {
     "end_time": "2020-07-07T07:04:09.895701Z",
     "start_time": "2020-07-07T07:04:09.880101Z"
    }
   },
   "outputs": [],
   "source": [
    "from sklearn.model_selection import train_test_split\n",
    "train_x , test_x , train_y, test_y = train_test_split(X, y,test_size= 0.3)"
   ]
  },
  {
   "cell_type": "code",
   "execution_count": 162,
   "metadata": {
    "ExecuteTime": {
     "end_time": "2020-07-07T07:04:16.436820Z",
     "start_time": "2020-07-07T07:04:16.421220Z"
    }
   },
   "outputs": [],
   "source": [
    "x = tf.placeholder(tf.float32, [None, 400])\n",
    "y = tf.placeholder(tf.float32, [None, 10])"
   ]
  },
  {
   "cell_type": "code",
   "execution_count": 163,
   "metadata": {
    "ExecuteTime": {
     "end_time": "2020-07-07T07:04:23.013596Z",
     "start_time": "2020-07-07T07:04:22.997996Z"
    }
   },
   "outputs": [],
   "source": [
    "w1 = tf.Variable(tf.zeros([400,512]))  # 어제는 0으로 웨이트를 초기화해줌 \n",
    "b1 = tf.Variable(tf.zeros([512]))\n",
    "h1 = tf.nn.relu(tf.matmul(x,w1)+b1)"
   ]
  },
  {
   "cell_type": "code",
   "execution_count": 164,
   "metadata": {
    "ExecuteTime": {
     "end_time": "2020-07-07T07:04:29.474478Z",
     "start_time": "2020-07-07T07:04:29.458878Z"
    }
   },
   "outputs": [],
   "source": [
    "w2 = tf.Variable(tf.zeros([512,256]))\n",
    "b2 = tf.Variable(tf.zeros([256]))\n",
    "h2 = tf.nn.relu(tf.matmul(h1,w2)+b2)"
   ]
  },
  {
   "cell_type": "code",
   "execution_count": 165,
   "metadata": {
    "ExecuteTime": {
     "end_time": "2020-07-07T07:04:35.903750Z",
     "start_time": "2020-07-07T07:04:35.888150Z"
    }
   },
   "outputs": [],
   "source": [
    "w3 = tf.Variable(tf.zeros([256,128]))\n",
    "b3 = tf.Variable(tf.zeros([128]))\n",
    "h3 = tf.nn.relu(tf.matmul(h2,w3)+b3)"
   ]
  },
  {
   "cell_type": "code",
   "execution_count": 166,
   "metadata": {
    "ExecuteTime": {
     "end_time": "2020-07-07T07:04:42.331824Z",
     "start_time": "2020-07-07T07:04:42.316224Z"
    }
   },
   "outputs": [],
   "source": [
    "w = tf.Variable(tf.zeros([128,10]))\n",
    "b = tf.Variable(tf.zeros([10]))"
   ]
  },
  {
   "cell_type": "code",
   "execution_count": 167,
   "metadata": {
    "ExecuteTime": {
     "end_time": "2020-07-07T07:04:48.757526Z",
     "start_time": "2020-07-07T07:04:48.741926Z"
    }
   },
   "outputs": [],
   "source": [
    "h = tf.nn.softmax(tf.matmul(h3,w)+b)"
   ]
  },
  {
   "cell_type": "code",
   "execution_count": 168,
   "metadata": {
    "ExecuteTime": {
     "end_time": "2020-07-07T07:04:55.196234Z",
     "start_time": "2020-07-07T07:04:55.180634Z"
    }
   },
   "outputs": [],
   "source": [
    "cross_entropy =-tf.reduce_sum(y*tf.log(h), reduction_indices=[1])"
   ]
  },
  {
   "cell_type": "code",
   "execution_count": 169,
   "metadata": {
    "ExecuteTime": {
     "end_time": "2020-07-07T07:05:01.636524Z",
     "start_time": "2020-07-07T07:05:01.620924Z"
    }
   },
   "outputs": [],
   "source": [
    "loss = tf.reduce_mean(cross_entropy)  # 손실 함수 "
   ]
  },
  {
   "cell_type": "code",
   "execution_count": 170,
   "metadata": {
    "ExecuteTime": {
     "end_time": "2020-07-07T07:05:08.152801Z",
     "start_time": "2020-07-07T07:05:08.073999Z"
    }
   },
   "outputs": [],
   "source": [
    "train = tf.train.GradientDescentOptimizer(0.001).minimize(loss)"
   ]
  },
  {
   "cell_type": "code",
   "execution_count": 171,
   "metadata": {
    "ExecuteTime": {
     "end_time": "2020-07-07T07:05:14.704283Z",
     "start_time": "2020-07-07T07:05:14.588880Z"
    }
   },
   "outputs": [],
   "source": [
    "init = tf.global_variables_initializer()\n",
    "sess = tf.Session()\n",
    "sess.run(init)"
   ]
  },
  {
   "cell_type": "code",
   "execution_count": 172,
   "metadata": {
    "ExecuteTime": {
     "end_time": "2020-07-07T07:21:56.814541Z",
     "start_time": "2020-07-07T07:05:21.121166Z"
    }
   },
   "outputs": [
    {
     "name": "stdout",
     "output_type": "stream",
     "text": [
      "step 0, 2.30260\n",
      "step 10000, 2.30233\n",
      "step 20000, 2.30227\n",
      "step 30000, 2.30228\n"
     ]
    }
   ],
   "source": [
    "for i in range(30001):\n",
    "    _, loss_value = sess.run([train, loss], feed_dict={x:train_x, y:train_y})\n",
    "    if i % 10000 ==0 :\n",
    "        print(\"step %d, %.5f\" %(i, loss_value))\n"
   ]
  },
  {
   "cell_type": "code",
   "execution_count": 179,
   "metadata": {
    "ExecuteTime": {
     "end_time": "2020-07-07T08:33:23.539166Z",
     "start_time": "2020-07-07T08:33:23.448562Z"
    }
   },
   "outputs": [
    {
     "name": "stdout",
     "output_type": "stream",
     "text": [
      "0.08533333\n"
     ]
    }
   ],
   "source": [
    "correct_prediction = tf.equal(tf.argmax(h,1), tf.argmax(y,1)) # 1 은 축을 의미함\n",
    "accuracy = tf.reduce_mean(tf.cast(correct_prediction, tf.float32))\n",
    "print(sess.run(accuracy, feed_dict={x:test_x,y:test_y}))"
   ]
  },
  {
   "cell_type": "code",
   "execution_count": 180,
   "metadata": {
    "ExecuteTime": {
     "end_time": "2020-07-07T08:33:46.622365Z",
     "start_time": "2020-07-07T08:33:46.506759Z"
    }
   },
   "outputs": [
    {
     "data": {
      "text/html": [
       "<div>\n",
       "<style scoped>\n",
       "    .dataframe tbody tr th:only-of-type {\n",
       "        vertical-align: middle;\n",
       "    }\n",
       "\n",
       "    .dataframe tbody tr th {\n",
       "        vertical-align: top;\n",
       "    }\n",
       "\n",
       "    .dataframe thead th {\n",
       "        text-align: right;\n",
       "    }\n",
       "</style>\n",
       "<table border=\"1\" class=\"dataframe\">\n",
       "  <thead>\n",
       "    <tr style=\"text-align: right;\">\n",
       "      <th>col_0</th>\n",
       "      <th>1</th>\n",
       "      <th>All</th>\n",
       "    </tr>\n",
       "    <tr>\n",
       "      <th>row_0</th>\n",
       "      <th></th>\n",
       "      <th></th>\n",
       "    </tr>\n",
       "  </thead>\n",
       "  <tbody>\n",
       "    <tr>\n",
       "      <th>0</th>\n",
       "      <td>149</td>\n",
       "      <td>149</td>\n",
       "    </tr>\n",
       "    <tr>\n",
       "      <th>1</th>\n",
       "      <td>128</td>\n",
       "      <td>128</td>\n",
       "    </tr>\n",
       "    <tr>\n",
       "      <th>2</th>\n",
       "      <td>155</td>\n",
       "      <td>155</td>\n",
       "    </tr>\n",
       "    <tr>\n",
       "      <th>3</th>\n",
       "      <td>160</td>\n",
       "      <td>160</td>\n",
       "    </tr>\n",
       "    <tr>\n",
       "      <th>4</th>\n",
       "      <td>156</td>\n",
       "      <td>156</td>\n",
       "    </tr>\n",
       "    <tr>\n",
       "      <th>5</th>\n",
       "      <td>148</td>\n",
       "      <td>148</td>\n",
       "    </tr>\n",
       "    <tr>\n",
       "      <th>6</th>\n",
       "      <td>144</td>\n",
       "      <td>144</td>\n",
       "    </tr>\n",
       "    <tr>\n",
       "      <th>7</th>\n",
       "      <td>158</td>\n",
       "      <td>158</td>\n",
       "    </tr>\n",
       "    <tr>\n",
       "      <th>8</th>\n",
       "      <td>149</td>\n",
       "      <td>149</td>\n",
       "    </tr>\n",
       "    <tr>\n",
       "      <th>9</th>\n",
       "      <td>153</td>\n",
       "      <td>153</td>\n",
       "    </tr>\n",
       "    <tr>\n",
       "      <th>All</th>\n",
       "      <td>1500</td>\n",
       "      <td>1500</td>\n",
       "    </tr>\n",
       "  </tbody>\n",
       "</table>\n",
       "</div>"
      ],
      "text/plain": [
       "col_0     1   All\n",
       "row_0            \n",
       "0       149   149\n",
       "1       128   128\n",
       "2       155   155\n",
       "3       160   160\n",
       "4       156   156\n",
       "5       148   148\n",
       "6       144   144\n",
       "7       158   158\n",
       "8       149   149\n",
       "9       153   153\n",
       "All    1500  1500"
      ]
     },
     "execution_count": 180,
     "metadata": {},
     "output_type": "execute_result"
    }
   ],
   "source": [
    "predict_y = sess.run(tf.argmax(h,1), feed_dict={x:test_x})\n",
    "cross_tab= pd.crosstab(test_y.argmax(axis=1),predict_y,margins= True)\n",
    "cross_tab"
   ]
  },
  {
   "cell_type": "markdown",
   "metadata": {},
   "source": [
    "## 케라스"
   ]
  },
  {
   "cell_type": "code",
   "execution_count": 178,
   "metadata": {
    "ExecuteTime": {
     "end_time": "2020-07-07T08:32:20.289326Z",
     "start_time": "2020-07-07T08:31:10.013989Z"
    }
   },
   "outputs": [
    {
     "name": "stdout",
     "output_type": "stream",
     "text": [
      "step 999, train loss 2.387463640283655\n"
     ]
    }
   ],
   "source": [
    "tot_cnt = len(train_x)\n",
    "\n",
    "for epoch in range(1000):\n",
    "    avg_loss = 0\n",
    "    batch_size = 128\n",
    "    tot_iter = int(tot_cnt / batch_size)\n",
    "    for step in range(tot_iter):\n",
    "        batch_X = train_x[int(step*batch_size):int((step+1)*batch_size)]\n",
    "        batch_y = train_y[int(step*batch_size):int((step+1)*batch_size)]\n",
    "        _, loss_ = sess.run([train, loss], feed_dict={x:batch_X, y:batch_y})\n",
    "        avg_loss += (loss_ / tot_iter)\n",
    "        print(\"{:03d} - {:f}\".format(step, loss_), end=\"\\r\")\n",
    "    if len(train_x)//tot_iter != 0:\n",
    "        batch_X = train_x[int(tot_iter*batch_size):]\n",
    "        batch_y = train_y[int(tot_iter*batch_size):]\n",
    "        _, loss_ = sess.run([train, loss], feed_dict={x:batch_X, y:batch_y})\n",
    "        avg_loss += (loss_ / tot_iter)\n",
    "        print(\"{:03d} - {:f}\".format(step, loss_), end=\"\\r\")\n",
    "    if epoch%100 ==0:\n",
    "        print(\"step {}, train loss {}\".format(epoch, avg_loss))\n",
    "\n"
   ]
  },
  {
   "cell_type": "code",
   "execution_count": 181,
   "metadata": {
    "ExecuteTime": {
     "end_time": "2020-07-07T08:33:53.331821Z",
     "start_time": "2020-07-07T08:33:53.248817Z"
    }
   },
   "outputs": [
    {
     "data": {
      "text/html": [
       "<div>\n",
       "<style scoped>\n",
       "    .dataframe tbody tr th:only-of-type {\n",
       "        vertical-align: middle;\n",
       "    }\n",
       "\n",
       "    .dataframe tbody tr th {\n",
       "        vertical-align: top;\n",
       "    }\n",
       "\n",
       "    .dataframe thead th {\n",
       "        text-align: right;\n",
       "    }\n",
       "</style>\n",
       "<table border=\"1\" class=\"dataframe\">\n",
       "  <thead>\n",
       "    <tr style=\"text-align: right;\">\n",
       "      <th>col_0</th>\n",
       "      <th>1</th>\n",
       "      <th>All</th>\n",
       "    </tr>\n",
       "    <tr>\n",
       "      <th>row_0</th>\n",
       "      <th></th>\n",
       "      <th></th>\n",
       "    </tr>\n",
       "  </thead>\n",
       "  <tbody>\n",
       "    <tr>\n",
       "      <th>0</th>\n",
       "      <td>149</td>\n",
       "      <td>149</td>\n",
       "    </tr>\n",
       "    <tr>\n",
       "      <th>1</th>\n",
       "      <td>128</td>\n",
       "      <td>128</td>\n",
       "    </tr>\n",
       "    <tr>\n",
       "      <th>2</th>\n",
       "      <td>155</td>\n",
       "      <td>155</td>\n",
       "    </tr>\n",
       "    <tr>\n",
       "      <th>3</th>\n",
       "      <td>160</td>\n",
       "      <td>160</td>\n",
       "    </tr>\n",
       "    <tr>\n",
       "      <th>4</th>\n",
       "      <td>156</td>\n",
       "      <td>156</td>\n",
       "    </tr>\n",
       "    <tr>\n",
       "      <th>5</th>\n",
       "      <td>148</td>\n",
       "      <td>148</td>\n",
       "    </tr>\n",
       "    <tr>\n",
       "      <th>6</th>\n",
       "      <td>144</td>\n",
       "      <td>144</td>\n",
       "    </tr>\n",
       "    <tr>\n",
       "      <th>7</th>\n",
       "      <td>158</td>\n",
       "      <td>158</td>\n",
       "    </tr>\n",
       "    <tr>\n",
       "      <th>8</th>\n",
       "      <td>149</td>\n",
       "      <td>149</td>\n",
       "    </tr>\n",
       "    <tr>\n",
       "      <th>9</th>\n",
       "      <td>153</td>\n",
       "      <td>153</td>\n",
       "    </tr>\n",
       "    <tr>\n",
       "      <th>All</th>\n",
       "      <td>1500</td>\n",
       "      <td>1500</td>\n",
       "    </tr>\n",
       "  </tbody>\n",
       "</table>\n",
       "</div>"
      ],
      "text/plain": [
       "col_0     1   All\n",
       "row_0            \n",
       "0       149   149\n",
       "1       128   128\n",
       "2       155   155\n",
       "3       160   160\n",
       "4       156   156\n",
       "5       148   148\n",
       "6       144   144\n",
       "7       158   158\n",
       "8       149   149\n",
       "9       153   153\n",
       "All    1500  1500"
      ]
     },
     "execution_count": 181,
     "metadata": {},
     "output_type": "execute_result"
    }
   ],
   "source": [
    "predict_y = sess.run(tf.argmax(h,1), feed_dict={x:test_x})\n",
    "cross_tab= pd.crosstab(test_y.argmax(axis=1),predict_y,margins= True)\n",
    "cross_tab"
   ]
  },
  {
   "cell_type": "code",
   "execution_count": null,
   "metadata": {},
   "outputs": [],
   "source": []
  }
 ],
 "metadata": {
  "kernelspec": {
   "display_name": "Python 3",
   "language": "python",
   "name": "python3"
  },
  "language_info": {
   "codemirror_mode": {
    "name": "ipython",
    "version": 3
   },
   "file_extension": ".py",
   "mimetype": "text/x-python",
   "name": "python",
   "nbconvert_exporter": "python",
   "pygments_lexer": "ipython3",
   "version": "3.7.6"
  },
  "toc": {
   "base_numbering": 1,
   "nav_menu": {},
   "number_sections": true,
   "sideBar": true,
   "skip_h1_title": false,
   "title_cell": "Table of Contents",
   "title_sidebar": "Contents",
   "toc_cell": false,
   "toc_position": {},
   "toc_section_display": true,
   "toc_window_display": false
  },
  "varInspector": {
   "cols": {
    "lenName": 16,
    "lenType": 16,
    "lenVar": 40
   },
   "kernels_config": {
    "python": {
     "delete_cmd_postfix": "",
     "delete_cmd_prefix": "del ",
     "library": "var_list.py",
     "varRefreshCmd": "print(var_dic_list())"
    },
    "r": {
     "delete_cmd_postfix": ") ",
     "delete_cmd_prefix": "rm(",
     "library": "var_list.r",
     "varRefreshCmd": "cat(var_dic_list()) "
    }
   },
   "types_to_exclude": [
    "module",
    "function",
    "builtin_function_or_method",
    "instance",
    "_Feature"
   ],
   "window_display": false
  }
 },
 "nbformat": 4,
 "nbformat_minor": 4
}

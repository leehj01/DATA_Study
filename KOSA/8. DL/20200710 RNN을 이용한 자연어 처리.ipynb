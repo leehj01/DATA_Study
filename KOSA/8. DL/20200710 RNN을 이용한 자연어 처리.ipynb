{
 "cells": [
  {
   "cell_type": "markdown",
   "metadata": {},
   "source": [
    "### 문맥을 예측해서 다음 단어 예측해보기"
   ]
  },
  {
   "cell_type": "code",
   "execution_count": 19,
   "metadata": {
    "ExecuteTime": {
     "end_time": "2020-07-10T02:59:46.296902Z",
     "start_time": "2020-07-10T02:59:46.281302Z"
    }
   },
   "outputs": [],
   "source": [
    "text = \"\"\"경마장에 있는 말이 뛰고 있다\\n\n",
    "그의 말이 법이다\\n\n",
    "가는 말이 고와야 오는 말이 곱다\\n\"\"\""
   ]
  },
  {
   "cell_type": "code",
   "execution_count": 20,
   "metadata": {
    "ExecuteTime": {
     "end_time": "2020-07-10T02:59:46.428909Z",
     "start_time": "2020-07-10T02:59:46.424909Z"
    }
   },
   "outputs": [],
   "source": [
    "from keras_preprocessing.text import Tokenizer\n",
    "t = Tokenizer()\n",
    "t.fit_on_texts([text])\n",
    "encoded = t.texts_to_sequences([text])[0]"
   ]
  },
  {
   "cell_type": "code",
   "execution_count": 21,
   "metadata": {
    "ExecuteTime": {
     "end_time": "2020-07-10T02:59:46.567917Z",
     "start_time": "2020-07-10T02:59:46.560917Z"
    }
   },
   "outputs": [
    {
     "name": "stdout",
     "output_type": "stream",
     "text": [
      "단어 집합의 크기 : 12\n"
     ]
    }
   ],
   "source": [
    "vocab_size = len(t.word_index) + 1 \n",
    "\n",
    "# 케라스 토크나이저의 정수 인코딩은 인덱스가 1부터 시작하지만\n",
    "# 케라스 원-핫 인코팅에서 배열의 인덱스가 0 부터 시작하기 떄문에\n",
    "# 배열의 크기를 실제 단어 집합의 크기보다 +1 로 생성해야 하므로 미리 +1 서언\n",
    "print(\"단어 집합의 크기 : %d\" % vocab_size)"
   ]
  },
  {
   "cell_type": "code",
   "execution_count": 22,
   "metadata": {
    "ExecuteTime": {
     "end_time": "2020-07-10T02:59:46.724926Z",
     "start_time": "2020-07-10T02:59:46.715926Z"
    }
   },
   "outputs": [
    {
     "name": "stdout",
     "output_type": "stream",
     "text": [
      "{'말이': 1, '경마장에': 2, '있는': 3, '뛰고': 4, '있다': 5, '그의': 6, '법이다': 7, '가는': 8, '고와야': 9, '오는': 10, '곱다': 11}\n"
     ]
    }
   ],
   "source": [
    "print(t.word_index)"
   ]
  },
  {
   "cell_type": "code",
   "execution_count": 25,
   "metadata": {
    "ExecuteTime": {
     "end_time": "2020-07-10T02:59:52.890498Z",
     "start_time": "2020-07-10T02:59:52.859298Z"
    }
   },
   "outputs": [
    {
     "name": "stdout",
     "output_type": "stream",
     "text": [
      "훈련데이터개수 : 11\n"
     ]
    }
   ],
   "source": [
    "sequences = list()\n",
    "for line in text.split('\\n') : # \\n 을 기준으로 문장 토큰화\n",
    "    encoded = t.texts_to_sequences([line])[0]\n",
    "    for i in range(1, len(encoded)):\n",
    "        sequence = encoded[:i+1]\n",
    "        sequences.append(sequence)\n",
    "        \n",
    "print(\"훈련데이터개수 : %d\" % len(sequences))"
   ]
  },
  {
   "cell_type": "code",
   "execution_count": 26,
   "metadata": {
    "ExecuteTime": {
     "end_time": "2020-07-10T02:59:53.214517Z",
     "start_time": "2020-07-10T02:59:53.207516Z"
    }
   },
   "outputs": [
    {
     "name": "stdout",
     "output_type": "stream",
     "text": [
      "[[2, 3], [2, 3, 1], [2, 3, 1, 4], [2, 3, 1, 4, 5], [6, 1], [6, 1, 7], [8, 1], [8, 1, 9], [8, 1, 9, 10], [8, 1, 9, 10, 1], [8, 1, 9, 10, 1, 11]]\n"
     ]
    }
   ],
   "source": [
    "print(sequences)"
   ]
  },
  {
   "cell_type": "code",
   "execution_count": 27,
   "metadata": {
    "ExecuteTime": {
     "end_time": "2020-07-10T03:00:10.545117Z",
     "start_time": "2020-07-10T03:00:10.529517Z"
    }
   },
   "outputs": [
    {
     "name": "stdout",
     "output_type": "stream",
     "text": [
      "6\n"
     ]
    }
   ],
   "source": [
    "print(max(len(i) for i in sequences))"
   ]
  },
  {
   "cell_type": "code",
   "execution_count": 28,
   "metadata": {
    "ExecuteTime": {
     "end_time": "2020-07-10T03:01:06.485265Z",
     "start_time": "2020-07-10T03:01:06.454065Z"
    }
   },
   "outputs": [],
   "source": [
    "from tensorflow.keras.preprocessing.sequence import pad_sequences\n",
    "sequences = pad_sequences(sequences, maxlen=6, padding = \"pre\")"
   ]
  },
  {
   "cell_type": "code",
   "execution_count": 29,
   "metadata": {
    "ExecuteTime": {
     "end_time": "2020-07-10T03:01:11.923537Z",
     "start_time": "2020-07-10T03:01:11.907937Z"
    }
   },
   "outputs": [
    {
     "name": "stdout",
     "output_type": "stream",
     "text": [
      "[[ 0  0  0  0  2  3]\n",
      " [ 0  0  0  2  3  1]\n",
      " [ 0  0  2  3  1  4]\n",
      " [ 0  2  3  1  4  5]\n",
      " [ 0  0  0  0  6  1]\n",
      " [ 0  0  0  6  1  7]\n",
      " [ 0  0  0  0  8  1]\n",
      " [ 0  0  0  8  1  9]\n",
      " [ 0  0  8  1  9 10]\n",
      " [ 0  8  1  9 10  1]\n",
      " [ 8  1  9 10  1 11]]\n"
     ]
    }
   ],
   "source": [
    "print(sequences)"
   ]
  },
  {
   "cell_type": "code",
   "execution_count": 30,
   "metadata": {
    "ExecuteTime": {
     "end_time": "2020-07-10T03:02:19.174309Z",
     "start_time": "2020-07-10T03:02:19.158709Z"
    }
   },
   "outputs": [],
   "source": [
    "import numpy as np\n",
    "sequences = np.array(sequences)\n",
    "x = sequences[:,:-1]\n",
    "y = sequences[:,-1]\n",
    "\n",
    "# 리스트의 마지막 열을 제외하고 저장한 것은 x\n",
    "# 리스트의 마지막 열만 저장한 것은 y"
   ]
  },
  {
   "cell_type": "code",
   "execution_count": 31,
   "metadata": {
    "ExecuteTime": {
     "end_time": "2020-07-10T03:02:55.293310Z",
     "start_time": "2020-07-10T03:02:55.277710Z"
    }
   },
   "outputs": [],
   "source": [
    "from tensorflow.keras.utils import to_categorical\n",
    "y = to_categorical(y, num_classes = vocab_size)"
   ]
  },
  {
   "cell_type": "code",
   "execution_count": 32,
   "metadata": {
    "ExecuteTime": {
     "end_time": "2020-07-10T03:02:59.574571Z",
     "start_time": "2020-07-10T03:02:59.558971Z"
    }
   },
   "outputs": [
    {
     "name": "stdout",
     "output_type": "stream",
     "text": [
      "[[0. 0. 0. 1. 0. 0. 0. 0. 0. 0. 0. 0.]\n",
      " [0. 1. 0. 0. 0. 0. 0. 0. 0. 0. 0. 0.]\n",
      " [0. 0. 0. 0. 1. 0. 0. 0. 0. 0. 0. 0.]\n",
      " [0. 0. 0. 0. 0. 1. 0. 0. 0. 0. 0. 0.]\n",
      " [0. 1. 0. 0. 0. 0. 0. 0. 0. 0. 0. 0.]\n",
      " [0. 0. 0. 0. 0. 0. 0. 1. 0. 0. 0. 0.]\n",
      " [0. 1. 0. 0. 0. 0. 0. 0. 0. 0. 0. 0.]\n",
      " [0. 0. 0. 0. 0. 0. 0. 0. 0. 1. 0. 0.]\n",
      " [0. 0. 0. 0. 0. 0. 0. 0. 0. 0. 1. 0.]\n",
      " [0. 1. 0. 0. 0. 0. 0. 0. 0. 0. 0. 0.]\n",
      " [0. 0. 0. 0. 0. 0. 0. 0. 0. 0. 0. 1.]]\n"
     ]
    }
   ],
   "source": [
    "print(y)"
   ]
  },
  {
   "cell_type": "code",
   "execution_count": 34,
   "metadata": {
    "ExecuteTime": {
     "end_time": "2020-07-10T03:06:21.161209Z",
     "start_time": "2020-07-10T03:06:19.758569Z"
    }
   },
   "outputs": [
    {
     "name": "stdout",
     "output_type": "stream",
     "text": [
      "WARNING:tensorflow:From C:\\Users\\COM\\anaconda3\\lib\\site-packages\\tensorflow\\python\\keras\\initializers.py:119: calling RandomUniform.__init__ (from tensorflow.python.ops.init_ops) with dtype is deprecated and will be removed in a future version.\n",
      "Instructions for updating:\n",
      "Call initializer instance with the dtype argument instead of passing it to the constructor\n",
      "WARNING:tensorflow:From C:\\Users\\COM\\anaconda3\\lib\\site-packages\\tensorflow\\python\\ops\\init_ops.py:1251: calling VarianceScaling.__init__ (from tensorflow.python.ops.init_ops) with dtype is deprecated and will be removed in a future version.\n",
      "Instructions for updating:\n",
      "Call initializer instance with the dtype argument instead of passing it to the constructor\n",
      "Epoch 1/200\n",
      "11/11 - 0s - loss: 2.4797 - acc: 0.1818\n",
      "Epoch 2/200\n",
      "11/11 - 0s - loss: 2.4674 - acc: 0.2727\n",
      "Epoch 3/200\n",
      "11/11 - 0s - loss: 2.4552 - acc: 0.3636\n",
      "Epoch 4/200\n",
      "11/11 - 0s - loss: 2.4429 - acc: 0.3636\n",
      "Epoch 5/200\n",
      "11/11 - 0s - loss: 2.4304 - acc: 0.4545\n",
      "Epoch 6/200\n",
      "11/11 - 0s - loss: 2.4177 - acc: 0.4545\n",
      "Epoch 7/200\n",
      "11/11 - 0s - loss: 2.4046 - acc: 0.4545\n",
      "Epoch 8/200\n",
      "11/11 - 0s - loss: 2.3911 - acc: 0.4545\n",
      "Epoch 9/200\n",
      "11/11 - 0s - loss: 2.3771 - acc: 0.4545\n",
      "Epoch 10/200\n",
      "11/11 - 0s - loss: 2.3625 - acc: 0.4545\n",
      "Epoch 11/200\n",
      "11/11 - 0s - loss: 2.3473 - acc: 0.4545\n",
      "Epoch 12/200\n",
      "11/11 - 0s - loss: 2.3314 - acc: 0.4545\n",
      "Epoch 13/200\n",
      "11/11 - 0s - loss: 2.3148 - acc: 0.3636\n",
      "Epoch 14/200\n",
      "11/11 - 0s - loss: 2.2973 - acc: 0.3636\n",
      "Epoch 15/200\n",
      "11/11 - 0s - loss: 2.2789 - acc: 0.4545\n",
      "Epoch 16/200\n",
      "11/11 - 0s - loss: 2.2597 - acc: 0.4545\n",
      "Epoch 17/200\n",
      "11/11 - 0s - loss: 2.2394 - acc: 0.4545\n",
      "Epoch 18/200\n",
      "11/11 - 0s - loss: 2.2182 - acc: 0.4545\n",
      "Epoch 19/200\n",
      "11/11 - 0s - loss: 2.1961 - acc: 0.4545\n",
      "Epoch 20/200\n",
      "11/11 - 0s - loss: 2.1730 - acc: 0.4545\n",
      "Epoch 21/200\n",
      "11/11 - 0s - loss: 2.1489 - acc: 0.4545\n",
      "Epoch 22/200\n",
      "11/11 - 0s - loss: 2.1240 - acc: 0.4545\n",
      "Epoch 23/200\n",
      "11/11 - 0s - loss: 2.0984 - acc: 0.4545\n",
      "Epoch 24/200\n",
      "11/11 - 0s - loss: 2.0722 - acc: 0.4545\n",
      "Epoch 25/200\n",
      "11/11 - 0s - loss: 2.0456 - acc: 0.4545\n",
      "Epoch 26/200\n",
      "11/11 - 0s - loss: 2.0187 - acc: 0.4545\n",
      "Epoch 27/200\n",
      "11/11 - 0s - loss: 1.9919 - acc: 0.4545\n",
      "Epoch 28/200\n",
      "11/11 - 0s - loss: 1.9653 - acc: 0.4545\n",
      "Epoch 29/200\n",
      "11/11 - 0s - loss: 1.9392 - acc: 0.4545\n",
      "Epoch 30/200\n",
      "11/11 - 0s - loss: 1.9139 - acc: 0.4545\n",
      "Epoch 31/200\n",
      "11/11 - 0s - loss: 1.8893 - acc: 0.4545\n",
      "Epoch 32/200\n",
      "11/11 - 0s - loss: 1.8656 - acc: 0.4545\n",
      "Epoch 33/200\n",
      "11/11 - 0s - loss: 1.8426 - acc: 0.4545\n",
      "Epoch 34/200\n",
      "11/11 - 0s - loss: 1.8203 - acc: 0.4545\n",
      "Epoch 35/200\n",
      "11/11 - 0s - loss: 1.7985 - acc: 0.4545\n",
      "Epoch 36/200\n",
      "11/11 - 0s - loss: 1.7769 - acc: 0.4545\n",
      "Epoch 37/200\n",
      "11/11 - 0s - loss: 1.7554 - acc: 0.4545\n",
      "Epoch 38/200\n",
      "11/11 - 0s - loss: 1.7339 - acc: 0.4545\n",
      "Epoch 39/200\n",
      "11/11 - 0s - loss: 1.7122 - acc: 0.4545\n",
      "Epoch 40/200\n",
      "11/11 - 0s - loss: 1.6902 - acc: 0.4545\n",
      "Epoch 41/200\n",
      "11/11 - 0s - loss: 1.6682 - acc: 0.4545\n",
      "Epoch 42/200\n",
      "11/11 - 0s - loss: 1.6460 - acc: 0.4545\n",
      "Epoch 43/200\n",
      "11/11 - 0s - loss: 1.6238 - acc: 0.4545\n",
      "Epoch 44/200\n",
      "11/11 - 0s - loss: 1.6019 - acc: 0.4545\n",
      "Epoch 45/200\n",
      "11/11 - 0s - loss: 1.5802 - acc: 0.4545\n",
      "Epoch 46/200\n",
      "11/11 - 0s - loss: 1.5589 - acc: 0.4545\n",
      "Epoch 47/200\n",
      "11/11 - 0s - loss: 1.5381 - acc: 0.4545\n",
      "Epoch 48/200\n",
      "11/11 - 0s - loss: 1.5178 - acc: 0.4545\n",
      "Epoch 49/200\n",
      "11/11 - 0s - loss: 1.4979 - acc: 0.4545\n",
      "Epoch 50/200\n",
      "11/11 - 0s - loss: 1.4784 - acc: 0.5455\n",
      "Epoch 51/200\n",
      "11/11 - 0s - loss: 1.4593 - acc: 0.5455\n",
      "Epoch 52/200\n",
      "11/11 - 0s - loss: 1.4404 - acc: 0.5455\n",
      "Epoch 53/200\n",
      "11/11 - 0s - loss: 1.4218 - acc: 0.5455\n",
      "Epoch 54/200\n",
      "11/11 - 0s - loss: 1.4034 - acc: 0.5455\n",
      "Epoch 55/200\n",
      "11/11 - 0s - loss: 1.3851 - acc: 0.5455\n",
      "Epoch 56/200\n",
      "11/11 - 0s - loss: 1.3670 - acc: 0.5455\n",
      "Epoch 57/200\n",
      "11/11 - 0s - loss: 1.3489 - acc: 0.5455\n",
      "Epoch 58/200\n",
      "11/11 - 0s - loss: 1.3310 - acc: 0.5455\n",
      "Epoch 59/200\n",
      "11/11 - 0s - loss: 1.3131 - acc: 0.5455\n",
      "Epoch 60/200\n",
      "11/11 - 0s - loss: 1.2953 - acc: 0.5455\n",
      "Epoch 61/200\n",
      "11/11 - 0s - loss: 1.2776 - acc: 0.5455\n",
      "Epoch 62/200\n",
      "11/11 - 0s - loss: 1.2600 - acc: 0.5455\n",
      "Epoch 63/200\n",
      "11/11 - 0s - loss: 1.2424 - acc: 0.5455\n",
      "Epoch 64/200\n",
      "11/11 - 0s - loss: 1.2248 - acc: 0.6364\n",
      "Epoch 65/200\n",
      "11/11 - 0s - loss: 1.2073 - acc: 0.6364\n",
      "Epoch 66/200\n",
      "11/11 - 0s - loss: 1.1898 - acc: 0.6364\n",
      "Epoch 67/200\n",
      "11/11 - 0s - loss: 1.1723 - acc: 0.7273\n",
      "Epoch 68/200\n",
      "11/11 - 0s - loss: 1.1548 - acc: 0.7273\n",
      "Epoch 69/200\n",
      "11/11 - 0s - loss: 1.1373 - acc: 0.7273\n",
      "Epoch 70/200\n",
      "11/11 - 0s - loss: 1.1198 - acc: 0.7273\n",
      "Epoch 71/200\n",
      "11/11 - 0s - loss: 1.1024 - acc: 0.7273\n",
      "Epoch 72/200\n",
      "11/11 - 0s - loss: 1.0850 - acc: 0.7273\n",
      "Epoch 73/200\n",
      "11/11 - 0s - loss: 1.0677 - acc: 0.7273\n",
      "Epoch 74/200\n",
      "11/11 - 0s - loss: 1.0504 - acc: 0.7273\n",
      "Epoch 75/200\n",
      "11/11 - 0s - loss: 1.0332 - acc: 0.7273\n",
      "Epoch 76/200\n",
      "11/11 - 0s - loss: 1.0160 - acc: 0.7273\n",
      "Epoch 77/200\n",
      "11/11 - 0s - loss: 0.9989 - acc: 0.7273\n",
      "Epoch 78/200\n",
      "11/11 - 0s - loss: 0.9819 - acc: 0.7273\n",
      "Epoch 79/200\n",
      "11/11 - 0s - loss: 0.9650 - acc: 0.7273\n",
      "Epoch 80/200\n",
      "11/11 - 0s - loss: 0.9481 - acc: 0.7273\n",
      "Epoch 81/200\n",
      "11/11 - 0s - loss: 0.9312 - acc: 0.7273\n",
      "Epoch 82/200\n",
      "11/11 - 0s - loss: 0.9145 - acc: 0.7273\n",
      "Epoch 83/200\n",
      "11/11 - 0s - loss: 0.8978 - acc: 0.7273\n",
      "Epoch 84/200\n",
      "11/11 - 0s - loss: 0.8813 - acc: 0.7273\n",
      "Epoch 85/200\n",
      "11/11 - 0s - loss: 0.8648 - acc: 0.7273\n",
      "Epoch 86/200\n",
      "11/11 - 0s - loss: 0.8485 - acc: 0.7273\n",
      "Epoch 87/200\n",
      "11/11 - 0s - loss: 0.8323 - acc: 0.7273\n",
      "Epoch 88/200\n",
      "11/11 - 0s - loss: 0.8162 - acc: 0.7273\n",
      "Epoch 89/200\n",
      "11/11 - 0s - loss: 0.8002 - acc: 0.7273\n",
      "Epoch 90/200\n",
      "11/11 - 0s - loss: 0.7844 - acc: 0.7273\n",
      "Epoch 91/200\n",
      "11/11 - 0s - loss: 0.7688 - acc: 0.7273\n",
      "Epoch 92/200\n",
      "11/11 - 0s - loss: 0.7534 - acc: 0.7273\n",
      "Epoch 93/200\n",
      "11/11 - 0s - loss: 0.7381 - acc: 0.8182\n",
      "Epoch 94/200\n",
      "11/11 - 0s - loss: 0.7231 - acc: 0.8182\n",
      "Epoch 95/200\n",
      "11/11 - 0s - loss: 0.7082 - acc: 0.8182\n",
      "Epoch 96/200\n",
      "11/11 - 0s - loss: 0.6935 - acc: 0.8182\n",
      "Epoch 97/200\n",
      "11/11 - 0s - loss: 0.6791 - acc: 0.8182\n",
      "Epoch 98/200\n",
      "11/11 - 0s - loss: 0.6649 - acc: 0.8182\n",
      "Epoch 99/200\n",
      "11/11 - 0s - loss: 0.6509 - acc: 0.8182\n",
      "Epoch 100/200\n",
      "11/11 - 0s - loss: 0.6372 - acc: 0.8182\n",
      "Epoch 101/200\n",
      "11/11 - 0s - loss: 0.6237 - acc: 0.8182\n",
      "Epoch 102/200\n",
      "11/11 - 0s - loss: 0.6105 - acc: 0.8182\n",
      "Epoch 103/200\n",
      "11/11 - 0s - loss: 0.5975 - acc: 0.8182\n",
      "Epoch 104/200\n",
      "11/11 - 0s - loss: 0.5848 - acc: 0.9091\n",
      "Epoch 105/200\n",
      "11/11 - 0s - loss: 0.5723 - acc: 0.9091\n",
      "Epoch 106/200\n",
      "11/11 - 0s - loss: 0.5600 - acc: 0.9091\n",
      "Epoch 107/200\n",
      "11/11 - 0s - loss: 0.5480 - acc: 0.9091\n",
      "Epoch 108/200\n",
      "11/11 - 0s - loss: 0.5362 - acc: 0.9091\n",
      "Epoch 109/200\n",
      "11/11 - 0s - loss: 0.5247 - acc: 0.9091\n",
      "Epoch 110/200\n",
      "11/11 - 0s - loss: 0.5134 - acc: 0.9091\n",
      "Epoch 111/200\n",
      "11/11 - 0s - loss: 0.5023 - acc: 0.9091\n",
      "Epoch 112/200\n",
      "11/11 - 0s - loss: 0.4914 - acc: 0.9091\n",
      "Epoch 113/200\n",
      "11/11 - 0s - loss: 0.4808 - acc: 0.9091\n",
      "Epoch 114/200\n",
      "11/11 - 0s - loss: 0.4703 - acc: 0.9091\n",
      "Epoch 115/200\n",
      "11/11 - 0s - loss: 0.4601 - acc: 0.9091\n",
      "Epoch 116/200\n",
      "11/11 - 0s - loss: 0.4501 - acc: 0.9091\n",
      "Epoch 117/200\n",
      "11/11 - 0s - loss: 0.4403 - acc: 0.9091\n",
      "Epoch 118/200\n",
      "11/11 - 0s - loss: 0.4306 - acc: 0.9091\n",
      "Epoch 119/200\n",
      "11/11 - 0s - loss: 0.4212 - acc: 0.9091\n",
      "Epoch 120/200\n",
      "11/11 - 0s - loss: 0.4120 - acc: 0.9091\n",
      "Epoch 121/200\n",
      "11/11 - 0s - loss: 0.4030 - acc: 0.9091\n",
      "Epoch 122/200\n",
      "11/11 - 0s - loss: 0.3941 - acc: 0.9091\n",
      "Epoch 123/200\n",
      "11/11 - 0s - loss: 0.3855 - acc: 0.9091\n",
      "Epoch 124/200\n",
      "11/11 - 0s - loss: 0.3770 - acc: 1.0000\n",
      "Epoch 125/200\n",
      "11/11 - 0s - loss: 0.3687 - acc: 1.0000\n",
      "Epoch 126/200\n",
      "11/11 - 0s - loss: 0.3606 - acc: 1.0000\n",
      "Epoch 127/200\n",
      "11/11 - 0s - loss: 0.3527 - acc: 1.0000\n",
      "Epoch 128/200\n",
      "11/11 - 0s - loss: 0.3449 - acc: 1.0000\n",
      "Epoch 129/200\n",
      "11/11 - 0s - loss: 0.3373 - acc: 1.0000\n",
      "Epoch 130/200\n",
      "11/11 - 0s - loss: 0.3299 - acc: 1.0000\n",
      "Epoch 131/200\n",
      "11/11 - 0s - loss: 0.3226 - acc: 1.0000\n",
      "Epoch 132/200\n",
      "11/11 - 0s - loss: 0.3155 - acc: 1.0000\n",
      "Epoch 133/200\n",
      "11/11 - 0s - loss: 0.3086 - acc: 1.0000\n",
      "Epoch 134/200\n",
      "11/11 - 0s - loss: 0.3018 - acc: 1.0000\n",
      "Epoch 135/200\n",
      "11/11 - 0s - loss: 0.2952 - acc: 1.0000\n",
      "Epoch 136/200\n",
      "11/11 - 0s - loss: 0.2887 - acc: 1.0000\n",
      "Epoch 137/200\n",
      "11/11 - 0s - loss: 0.2824 - acc: 1.0000\n",
      "Epoch 138/200\n",
      "11/11 - 0s - loss: 0.2762 - acc: 1.0000\n",
      "Epoch 139/200\n",
      "11/11 - 0s - loss: 0.2702 - acc: 1.0000\n",
      "Epoch 140/200\n",
      "11/11 - 0s - loss: 0.2643 - acc: 1.0000\n",
      "Epoch 141/200\n",
      "11/11 - 0s - loss: 0.2586 - acc: 1.0000\n"
     ]
    },
    {
     "name": "stdout",
     "output_type": "stream",
     "text": [
      "Epoch 142/200\n",
      "11/11 - 0s - loss: 0.2530 - acc: 1.0000\n",
      "Epoch 143/200\n",
      "11/11 - 0s - loss: 0.2476 - acc: 1.0000\n",
      "Epoch 144/200\n",
      "11/11 - 0s - loss: 0.2422 - acc: 1.0000\n",
      "Epoch 145/200\n",
      "11/11 - 0s - loss: 0.2371 - acc: 1.0000\n",
      "Epoch 146/200\n",
      "11/11 - 0s - loss: 0.2320 - acc: 1.0000\n",
      "Epoch 147/200\n",
      "11/11 - 0s - loss: 0.2271 - acc: 1.0000\n",
      "Epoch 148/200\n",
      "11/11 - 0s - loss: 0.2223 - acc: 1.0000\n",
      "Epoch 149/200\n",
      "11/11 - 0s - loss: 0.2176 - acc: 1.0000\n",
      "Epoch 150/200\n",
      "11/11 - 0s - loss: 0.2130 - acc: 1.0000\n",
      "Epoch 151/200\n",
      "11/11 - 0s - loss: 0.2086 - acc: 1.0000\n",
      "Epoch 152/200\n",
      "11/11 - 0s - loss: 0.2043 - acc: 1.0000\n",
      "Epoch 153/200\n",
      "11/11 - 0s - loss: 0.2001 - acc: 1.0000\n",
      "Epoch 154/200\n",
      "11/11 - 0s - loss: 0.1960 - acc: 1.0000\n",
      "Epoch 155/200\n",
      "11/11 - 0s - loss: 0.1920 - acc: 1.0000\n",
      "Epoch 156/200\n",
      "11/11 - 0s - loss: 0.1881 - acc: 1.0000\n",
      "Epoch 157/200\n",
      "11/11 - 0s - loss: 0.1843 - acc: 1.0000\n",
      "Epoch 158/200\n",
      "11/11 - 0s - loss: 0.1806 - acc: 1.0000\n",
      "Epoch 159/200\n",
      "11/11 - 0s - loss: 0.1771 - acc: 1.0000\n",
      "Epoch 160/200\n",
      "11/11 - 0s - loss: 0.1736 - acc: 1.0000\n",
      "Epoch 161/200\n",
      "11/11 - 0s - loss: 0.1702 - acc: 1.0000\n",
      "Epoch 162/200\n",
      "11/11 - 0s - loss: 0.1669 - acc: 1.0000\n",
      "Epoch 163/200\n",
      "11/11 - 0s - loss: 0.1636 - acc: 1.0000\n",
      "Epoch 164/200\n",
      "11/11 - 0s - loss: 0.1605 - acc: 1.0000\n",
      "Epoch 165/200\n",
      "11/11 - 0s - loss: 0.1575 - acc: 1.0000\n",
      "Epoch 166/200\n",
      "11/11 - 0s - loss: 0.1545 - acc: 1.0000\n",
      "Epoch 167/200\n",
      "11/11 - 0s - loss: 0.1516 - acc: 1.0000\n",
      "Epoch 168/200\n",
      "11/11 - 0s - loss: 0.1488 - acc: 1.0000\n",
      "Epoch 169/200\n",
      "11/11 - 0s - loss: 0.1460 - acc: 1.0000\n",
      "Epoch 170/200\n",
      "11/11 - 0s - loss: 0.1434 - acc: 1.0000\n",
      "Epoch 171/200\n",
      "11/11 - 0s - loss: 0.1408 - acc: 1.0000\n",
      "Epoch 172/200\n",
      "11/11 - 0s - loss: 0.1382 - acc: 1.0000\n",
      "Epoch 173/200\n",
      "11/11 - 0s - loss: 0.1357 - acc: 1.0000\n",
      "Epoch 174/200\n",
      "11/11 - 0s - loss: 0.1333 - acc: 1.0000\n",
      "Epoch 175/200\n",
      "11/11 - 0s - loss: 0.1310 - acc: 1.0000\n",
      "Epoch 176/200\n",
      "11/11 - 0s - loss: 0.1287 - acc: 1.0000\n",
      "Epoch 177/200\n",
      "11/11 - 0s - loss: 0.1265 - acc: 1.0000\n",
      "Epoch 178/200\n",
      "11/11 - 0s - loss: 0.1243 - acc: 1.0000\n",
      "Epoch 179/200\n",
      "11/11 - 0s - loss: 0.1222 - acc: 1.0000\n",
      "Epoch 180/200\n",
      "11/11 - 0s - loss: 0.1201 - acc: 1.0000\n",
      "Epoch 181/200\n",
      "11/11 - 0s - loss: 0.1181 - acc: 1.0000\n",
      "Epoch 182/200\n",
      "11/11 - 0s - loss: 0.1161 - acc: 1.0000\n",
      "Epoch 183/200\n",
      "11/11 - 0s - loss: 0.1142 - acc: 1.0000\n",
      "Epoch 184/200\n",
      "11/11 - 0s - loss: 0.1123 - acc: 1.0000\n",
      "Epoch 185/200\n",
      "11/11 - 0s - loss: 0.1104 - acc: 1.0000\n",
      "Epoch 186/200\n",
      "11/11 - 0s - loss: 0.1086 - acc: 1.0000\n",
      "Epoch 187/200\n",
      "11/11 - 0s - loss: 0.1069 - acc: 1.0000\n",
      "Epoch 188/200\n",
      "11/11 - 0s - loss: 0.1052 - acc: 1.0000\n",
      "Epoch 189/200\n",
      "11/11 - 0s - loss: 0.1035 - acc: 1.0000\n",
      "Epoch 190/200\n",
      "11/11 - 0s - loss: 0.1019 - acc: 1.0000\n",
      "Epoch 191/200\n",
      "11/11 - 0s - loss: 0.1003 - acc: 1.0000\n",
      "Epoch 192/200\n",
      "11/11 - 0s - loss: 0.0987 - acc: 1.0000\n",
      "Epoch 193/200\n",
      "11/11 - 0s - loss: 0.0972 - acc: 1.0000\n",
      "Epoch 194/200\n",
      "11/11 - 0s - loss: 0.0957 - acc: 1.0000\n",
      "Epoch 195/200\n",
      "11/11 - 0s - loss: 0.0942 - acc: 1.0000\n",
      "Epoch 196/200\n",
      "11/11 - 0s - loss: 0.0928 - acc: 1.0000\n",
      "Epoch 197/200\n",
      "11/11 - 0s - loss: 0.0914 - acc: 1.0000\n",
      "Epoch 198/200\n",
      "11/11 - 0s - loss: 0.0900 - acc: 1.0000\n",
      "Epoch 199/200\n",
      "11/11 - 0s - loss: 0.0887 - acc: 1.0000\n",
      "Epoch 200/200\n",
      "11/11 - 0s - loss: 0.0874 - acc: 1.0000\n"
     ]
    },
    {
     "data": {
      "text/plain": [
       "<tensorflow.python.keras.callbacks.History at 0x20326708>"
      ]
     },
     "execution_count": 34,
     "metadata": {},
     "output_type": "execute_result"
    }
   ],
   "source": [
    "from tensorflow.keras.layers import Embedding, Dense , SimpleRNN\n",
    "from tensorflow.keras.models import Sequential\n",
    "\n",
    "model = Sequential()\n",
    "# Y를 제거하였으므로 이제는 X 길이는 5\n",
    "model.add(Embedding(vocab_size, 10, input_length=5))\n",
    "model.add(SimpleRNN(32))\n",
    "model.add(Dense(vocab_size, activation=\"softmax\"))\n",
    "model.compile(loss = \"categorical_crossentropy\", optimizer =\"adam\",\n",
    "             metrics = [\"accuracy\"])\n",
    "model.fit(x,y,epochs=200, verbose =2)"
   ]
  },
  {
   "cell_type": "code",
   "execution_count": 37,
   "metadata": {
    "ExecuteTime": {
     "end_time": "2020-07-10T03:11:37.643175Z",
     "start_time": "2020-07-10T03:11:37.622575Z"
    }
   },
   "outputs": [],
   "source": [
    "def sentence_generation(model, t, current_word, n): # 모델 토크나이저, 현재 단어, 반복획수\n",
    "    init_word = current_word  # 처음 들어온 단어도 마지막에 같이 출력하기 위해 저장\n",
    "    sentence = ''\n",
    "    for _ in range(n):\n",
    "        encoded = t.texts_to_sequences([current_word])[0]\n",
    "        encoded = pad_sequences([encoded], maxlen=5, padding=\"pre\")\n",
    "        result = model.predict_classes(encoded, verbose=0)\n",
    "        \n",
    "        for word, index in t.word_index.items():\n",
    "            if index == result: # 만약 예측한 단어와 인덱스가 동일한 단어가 있다면\n",
    "                break\n",
    "        current_word = current_word + ' ' + word \n",
    "        sentence = sentence + ' ' + word # 예측단어를 문장에 저장\n",
    "        \n",
    "    sentence = init_word + sentence\n",
    "    return sentence\n",
    "                \n",
    "    "
   ]
  },
  {
   "cell_type": "code",
   "execution_count": 38,
   "metadata": {
    "ExecuteTime": {
     "end_time": "2020-07-10T03:11:37.974194Z",
     "start_time": "2020-07-10T03:11:37.950193Z"
    }
   },
   "outputs": [
    {
     "name": "stdout",
     "output_type": "stream",
     "text": [
      "경마장에 있는 말이 뛰고 있다\n"
     ]
    }
   ],
   "source": [
    "print(sentence_generation(model,t,\"경마장에\",4))"
   ]
  },
  {
   "cell_type": "code",
   "execution_count": 39,
   "metadata": {
    "ExecuteTime": {
     "end_time": "2020-07-10T03:11:53.126399Z",
     "start_time": "2020-07-10T03:11:53.106799Z"
    }
   },
   "outputs": [
    {
     "name": "stdout",
     "output_type": "stream",
     "text": [
      "그의 말이 법이다\n"
     ]
    }
   ],
   "source": [
    "print(sentence_generation(model, t, \"그의\", 2))"
   ]
  },
  {
   "cell_type": "code",
   "execution_count": null,
   "metadata": {},
   "outputs": [],
   "source": []
  },
  {
   "cell_type": "code",
   "execution_count": null,
   "metadata": {},
   "outputs": [],
   "source": []
  },
  {
   "cell_type": "code",
   "execution_count": null,
   "metadata": {},
   "outputs": [],
   "source": []
  },
  {
   "cell_type": "code",
   "execution_count": null,
   "metadata": {},
   "outputs": [],
   "source": []
  },
  {
   "cell_type": "code",
   "execution_count": null,
   "metadata": {},
   "outputs": [],
   "source": []
  }
 ],
 "metadata": {
  "kernelspec": {
   "display_name": "Python 3",
   "language": "python",
   "name": "python3"
  },
  "language_info": {
   "codemirror_mode": {
    "name": "ipython",
    "version": 3
   },
   "file_extension": ".py",
   "mimetype": "text/x-python",
   "name": "python",
   "nbconvert_exporter": "python",
   "pygments_lexer": "ipython3",
   "version": "3.7.6"
  },
  "toc": {
   "base_numbering": 1,
   "nav_menu": {},
   "number_sections": true,
   "sideBar": true,
   "skip_h1_title": false,
   "title_cell": "Table of Contents",
   "title_sidebar": "Contents",
   "toc_cell": false,
   "toc_position": {},
   "toc_section_display": true,
   "toc_window_display": false
  },
  "varInspector": {
   "cols": {
    "lenName": 16,
    "lenType": 16,
    "lenVar": 40
   },
   "kernels_config": {
    "python": {
     "delete_cmd_postfix": "",
     "delete_cmd_prefix": "del ",
     "library": "var_list.py",
     "varRefreshCmd": "print(var_dic_list())"
    },
    "r": {
     "delete_cmd_postfix": ") ",
     "delete_cmd_prefix": "rm(",
     "library": "var_list.r",
     "varRefreshCmd": "cat(var_dic_list()) "
    }
   },
   "types_to_exclude": [
    "module",
    "function",
    "builtin_function_or_method",
    "instance",
    "_Feature"
   ],
   "window_display": false
  }
 },
 "nbformat": 4,
 "nbformat_minor": 4
}

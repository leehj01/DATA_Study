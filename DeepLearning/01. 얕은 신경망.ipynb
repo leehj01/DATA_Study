{
 "cells": [
  {
   "cell_type": "markdown",
   "metadata": {},
   "source": [
    "## 얕은 신경망을 이용한 다중분류문제"
   ]
  },
  {
   "cell_type": "code",
   "execution_count": 4,
   "metadata": {},
   "outputs": [],
   "source": [
    "import numpy as np\n",
    "import matplotlib.pyplot as plt"
   ]
  },
  {
   "cell_type": "markdown",
   "metadata": {},
   "source": [
    "## 함수 구현\n",
    "### sigmoid 함수 \n",
    "- sigmoid(x) = 1/(1 + e^-x)"
   ]
  },
  {
   "cell_type": "code",
   "execution_count": 5,
   "metadata": {},
   "outputs": [],
   "source": [
    "def sigmoid(x):\n",
    "    return 1 / ( 1 + np.exp(-x))"
   ]
  },
  {
   "attachments": {},
   "cell_type": "markdown",
   "metadata": {},
   "source": [
    "### softmax 함수\n",
    "- softmax(x) "
   ]
  },
  {
   "cell_type": "code",
   "execution_count": 8,
   "metadata": {},
   "outputs": [],
   "source": [
    "def softmax(x):\n",
    "    e_x = exp(x)\n",
    "    return e_x / np.sum(x)"
   ]
  },
  {
   "cell_type": "markdown",
   "metadata": {},
   "source": [
    "## 네트워크 구조 정의"
   ]
  },
  {
   "cell_type": "code",
   "execution_count": 9,
   "metadata": {},
   "outputs": [],
   "source": [
    "# define network architecture\n",
    "\n",
    "class ShallowNN:\n",
    "    def __init__(self, num_input,  num_hidden, num_output): # input , hidden, output의 뉴런의 갯수\n",
    "        self.W_h = np.zeros((num_hidden, num_input), dtype = np.float32) # 곱하기 하려고, 히든레이어가 앞에 옴\n",
    "        self.b_h = np.zeros((num_hidden) , dtype = np.float32 )\n",
    "        self.W_o = np.zeros((num_output, num_hidden), dtype = np.float32)\n",
    "        self.b_o = np.zeros(num_output, dtype = np.float32)\n",
    "        \n",
    "        # 여기서 적절한 값이 아닌 zeros를 넣어준 후, 아래서 weights를 넣어줌\n",
    "    \n",
    "    def __call__(self, x): \n",
    "        h = sigmoid(np.matmul(self.W_h,x + self.b_h ))\n",
    "        # 히든 레이어를 쌓기 [히든레이어 공식]\n",
    "        # : 시그모이드 활성화함수를 주고, 매트릭스 연산으로 해서 w_h 히든 레이어의 (weight)매트릭스 곱해주고, bias를 더해주는 공식을 이용.\n",
    "        \n",
    "        return softmax(np.matmul(self.W_o, h) + self.b_o)\n",
    "         # 출력 output은 바로 return 에 적어준다. softmax를 해야 다중 분류를 할 수 있음. "
   ]
  },
  {
   "cell_type": "markdown",
   "metadata": {},
   "source": [
    "## 데이터셋 가져오기, 정리하기"
   ]
  },
  {
   "cell_type": "code",
   "execution_count": 10,
   "metadata": {},
   "outputs": [],
   "source": [
    "# import and organize dataset\n",
    "\n",
    "dataset = np.load('ch2_dataset.npz')\n",
    "inputs = dataset['inputs']\n",
    "labels = dataset['labels']"
   ]
  },
  {
   "cell_type": "markdown",
   "metadata": {},
   "source": [
    "## 모델만들기"
   ]
  },
  {
   "cell_type": "code",
   "execution_count": 11,
   "metadata": {},
   "outputs": [],
   "source": [
    "#cresate model\n",
    "\n",
    "model = ShallowNN(2, 128, 10 ) # 인풋갯수, 히든 갯수 ,출력갯수 "
   ]
  },
  {
   "cell_type": "markdown",
   "metadata": {},
   "source": [
    "## 사전에 학습된 파라미터 불러오기"
   ]
  },
  {
   "cell_type": "code",
   "execution_count": null,
   "metadata": {},
   "outputs": [],
   "source": []
  }
 ],
 "metadata": {
  "kernelspec": {
   "display_name": "Python 3",
   "language": "python",
   "name": "python3"
  },
  "language_info": {
   "codemirror_mode": {
    "name": "ipython",
    "version": 3
   },
   "file_extension": ".py",
   "mimetype": "text/x-python",
   "name": "python",
   "nbconvert_exporter": "python",
   "pygments_lexer": "ipython3",
   "version": "3.7.6"
  }
 },
 "nbformat": 4,
 "nbformat_minor": 4
}

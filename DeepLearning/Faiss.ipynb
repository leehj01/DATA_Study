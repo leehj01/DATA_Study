{
 "cells": [
  {
   "cell_type": "markdown",
   "metadata": {},
   "source": [
    "## Faiss \n",
    ": Faiss is a library for efficient similarity search and clustering of dense vectors. It contains algorithms that search in sets of vectors of any size, up to ones that possibly do not fit in RAM. It also contains supporting code for evaluation and parameter tuning. Faiss is written in C++ with complete wrappers for Python/numpy. Some of the most useful algorithms are implemented on the GPU. It is developed by Facebook AI Research.\n",
    "\n",
    ": Faiss는 dense vector들의 유사도와 클러시터링을 효과적으로하는 라이브러리이다. 평가하고 파라미터를 튜닝하는 코드를 포함하고있다. Faiss는 C++를 작성되었으며, 파이썬 인터페이스를 가지고 있다. \n",
    "\n",
    "- 설치하는 방법\n",
    ": https://github.com/facebookresearch/faiss/blob/main/INSTALL.md\n",
    "\n",
    "- cpu와 gpu에 따라 다르다."
   ]
  },
  {
   "cell_type": "markdown",
   "metadata": {},
   "source": [
    "!conda install -c pytorch faiss-cpu --y"
   ]
  },
  {
   "cell_type": "markdown",
   "metadata": {},
   "source": [
    "## 사용법"
   ]
  },
  {
   "cell_type": "code",
   "execution_count": 20,
   "metadata": {},
   "outputs": [],
   "source": [
    "# import \n",
    "import faiss\n",
    "import pandas as pd\n",
    "import numpy as np"
   ]
  },
  {
   "cell_type": "markdown",
   "metadata": {},
   "source": [
    "#### faiss 사용\n",
    "- input data : ( a, b )\n",
    "    - a : 유사도를 찾고 싶은 이미지 / 텍스트\n",
    "    - b : 기존의 저장된 모든 item에 대한 embedding vector"
   ]
  },
  {
   "cell_type": "code",
   "execution_count": 40,
   "metadata": {},
   "outputs": [
    {
     "name": "stdout",
     "output_type": "stream",
     "text": [
      "text_vector shape :  (100, 1024)\n",
      "True\n",
      "100\n",
      "[[1.0000001  0.76358855 0.7622145  0.7599109  0.7596993  0.75937784\n",
      "  0.7589336  0.758888   0.75888    0.75854146 0.7576566  0.7575613\n",
      "  0.75684404 0.7568104  0.7568047  0.7564365  0.756219   0.7559742\n",
      "  0.75565505 0.755398   0.75538635 0.75529265 0.7552351  0.7550036\n",
      "  0.7548517  0.7545134  0.75445575 0.7543615  0.75425774 0.7539754\n",
      "  0.7539154  0.75383043 0.75378954 0.7528512  0.75283146 0.75239354\n",
      "  0.7515775  0.75157666 0.75144184 0.75092167 0.75032836 0.7501446\n",
      "  0.7501217  0.7494577  0.7491888  0.74900985 0.7489486  0.74857074\n",
      "  0.74817574 0.7480401  0.7478156 ]]\n",
      "[[ 2 28 37 91 31 80 54 56  9 15 89  8 92 35 94 47 25 55 76 72 33 38 34 36\n",
      "  51 69 74  5 49 40 57 30 14 73 84 52 78 29 16 11  3 60  0 44 68 23 41 59\n",
      "  82 86  7]]\n"
     ]
    }
   ],
   "source": [
    "# 1. 모든 아이템에 대한 임베딩 백터 모음 : random 으로 임시 데이터 넣기.\n",
    "# 1024백터를 가진 100개의 값을 만들어줌 \n",
    "text_vector = np.random.rand(100,1024).astype('float32') \n",
    "print('text_vector shape : ', text_vector.shape)\n",
    "\n",
    "\n",
    "# 값을 코사인 유사도를 해주기 위해서 normalize 해줌 \n",
    "faiss.normalize_L2(text_vector)\n",
    "\n",
    "# 백터의 차원을 알려주는 역할을 함 # build the index\n",
    "# IP : inner product, L2 : euclidean (이게 디폴트)\n",
    "cos_index = faiss.IndexFlatIP(text_vector.shape[1])\n",
    "print(cos_index.is_trained)\n",
    "\n",
    "# add 함수로 vector 값을 넣어주기  add vectors to the index\n",
    "cos_index.add(text_vector) \n",
    "print(cos_index.ntotal)\n",
    "\n",
    "# search 함수로 유사한 인덱스를 찾아오기\n",
    "k  = 51 # knn 에서 가져올 갯수 - shoppe 에서는 51개를 찾아오기 ( 1개는 자기 자신 )\n",
    "distances, indices = cos_index.search(text_vector[2].reshape(1,-1), k)\n",
    "print(distances)\n",
    "print(indices)\n",
    "\n",
    "# 1. threshold 0.5이상\n",
    "# 2. min 도 설정 "
   ]
  },
  {
   "cell_type": "code",
   "execution_count": null,
   "metadata": {},
   "outputs": [],
   "source": []
  }
 ],
 "metadata": {
  "kernelspec": {
   "display_name": "Python 3",
   "language": "python",
   "name": "python3"
  },
  "language_info": {
   "codemirror_mode": {
    "name": "ipython",
    "version": 3
   },
   "file_extension": ".py",
   "mimetype": "text/x-python",
   "name": "python",
   "nbconvert_exporter": "python",
   "pygments_lexer": "ipython3",
   "version": "3.8.5"
  }
 },
 "nbformat": 4,
 "nbformat_minor": 4
}
